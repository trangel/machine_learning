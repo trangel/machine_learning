{
  "nbformat": 4,
  "nbformat_minor": 0,
  "metadata": {
    "colab": {
      "provenance": []
    },
    "kernelspec": {
      "name": "python3",
      "display_name": "Python 3"
    },
    "accelerator": "GPU",
    "widgets": {
      "application/vnd.jupyter.widget-state+json": {
        "98a6ea393511401d92ff90f99b21f58a": {
          "model_module": "@jupyter-widgets/controls",
          "model_name": "HBoxModel",
          "model_module_version": "1.5.0",
          "state": {
            "_dom_classes": [],
            "_model_module": "@jupyter-widgets/controls",
            "_model_module_version": "1.5.0",
            "_model_name": "HBoxModel",
            "_view_count": null,
            "_view_module": "@jupyter-widgets/controls",
            "_view_module_version": "1.5.0",
            "_view_name": "HBoxView",
            "box_style": "",
            "children": [
              "IPY_MODEL_8c830e774cd84dd380fece29ea186ee2",
              "IPY_MODEL_65a14559905747f69d80eeb6da11f1bf",
              "IPY_MODEL_88d22b1462ef4401b93caaf42583ad11"
            ],
            "layout": "IPY_MODEL_ece310bb35e14a12af86777aaab0414e"
          }
        },
        "8c830e774cd84dd380fece29ea186ee2": {
          "model_module": "@jupyter-widgets/controls",
          "model_name": "HTMLModel",
          "model_module_version": "1.5.0",
          "state": {
            "_dom_classes": [],
            "_model_module": "@jupyter-widgets/controls",
            "_model_module_version": "1.5.0",
            "_model_name": "HTMLModel",
            "_view_count": null,
            "_view_module": "@jupyter-widgets/controls",
            "_view_module_version": "1.5.0",
            "_view_name": "HTMLView",
            "description": "",
            "description_tooltip": null,
            "layout": "IPY_MODEL_33f1fcef84d54fa88a06d5afc838d449",
            "placeholder": "​",
            "style": "IPY_MODEL_314673ad8edc4831acbd9e801275ea0b",
            "value": "Downloading: 100%"
          }
        },
        "65a14559905747f69d80eeb6da11f1bf": {
          "model_module": "@jupyter-widgets/controls",
          "model_name": "FloatProgressModel",
          "model_module_version": "1.5.0",
          "state": {
            "_dom_classes": [],
            "_model_module": "@jupyter-widgets/controls",
            "_model_module_version": "1.5.0",
            "_model_name": "FloatProgressModel",
            "_view_count": null,
            "_view_module": "@jupyter-widgets/controls",
            "_view_module_version": "1.5.0",
            "_view_name": "ProgressView",
            "bar_style": "success",
            "description": "",
            "description_tooltip": null,
            "layout": "IPY_MODEL_daaba27961fa4a95813bd5d773223c9e",
            "max": 665,
            "min": 0,
            "orientation": "horizontal",
            "style": "IPY_MODEL_23dc7a27a19341a28bf2399c8f2458d5",
            "value": 665
          }
        },
        "88d22b1462ef4401b93caaf42583ad11": {
          "model_module": "@jupyter-widgets/controls",
          "model_name": "HTMLModel",
          "model_module_version": "1.5.0",
          "state": {
            "_dom_classes": [],
            "_model_module": "@jupyter-widgets/controls",
            "_model_module_version": "1.5.0",
            "_model_name": "HTMLModel",
            "_view_count": null,
            "_view_module": "@jupyter-widgets/controls",
            "_view_module_version": "1.5.0",
            "_view_name": "HTMLView",
            "description": "",
            "description_tooltip": null,
            "layout": "IPY_MODEL_5f910315d7524654a00327ab7dc7f65f",
            "placeholder": "​",
            "style": "IPY_MODEL_349d1c1b146d482c872eb33eb5565600",
            "value": " 665/665 [00:00&lt;00:00, 26.8kB/s]"
          }
        },
        "ece310bb35e14a12af86777aaab0414e": {
          "model_module": "@jupyter-widgets/base",
          "model_name": "LayoutModel",
          "model_module_version": "1.2.0",
          "state": {
            "_model_module": "@jupyter-widgets/base",
            "_model_module_version": "1.2.0",
            "_model_name": "LayoutModel",
            "_view_count": null,
            "_view_module": "@jupyter-widgets/base",
            "_view_module_version": "1.2.0",
            "_view_name": "LayoutView",
            "align_content": null,
            "align_items": null,
            "align_self": null,
            "border": null,
            "bottom": null,
            "display": null,
            "flex": null,
            "flex_flow": null,
            "grid_area": null,
            "grid_auto_columns": null,
            "grid_auto_flow": null,
            "grid_auto_rows": null,
            "grid_column": null,
            "grid_gap": null,
            "grid_row": null,
            "grid_template_areas": null,
            "grid_template_columns": null,
            "grid_template_rows": null,
            "height": null,
            "justify_content": null,
            "justify_items": null,
            "left": null,
            "margin": null,
            "max_height": null,
            "max_width": null,
            "min_height": null,
            "min_width": null,
            "object_fit": null,
            "object_position": null,
            "order": null,
            "overflow": null,
            "overflow_x": null,
            "overflow_y": null,
            "padding": null,
            "right": null,
            "top": null,
            "visibility": null,
            "width": null
          }
        },
        "33f1fcef84d54fa88a06d5afc838d449": {
          "model_module": "@jupyter-widgets/base",
          "model_name": "LayoutModel",
          "model_module_version": "1.2.0",
          "state": {
            "_model_module": "@jupyter-widgets/base",
            "_model_module_version": "1.2.0",
            "_model_name": "LayoutModel",
            "_view_count": null,
            "_view_module": "@jupyter-widgets/base",
            "_view_module_version": "1.2.0",
            "_view_name": "LayoutView",
            "align_content": null,
            "align_items": null,
            "align_self": null,
            "border": null,
            "bottom": null,
            "display": null,
            "flex": null,
            "flex_flow": null,
            "grid_area": null,
            "grid_auto_columns": null,
            "grid_auto_flow": null,
            "grid_auto_rows": null,
            "grid_column": null,
            "grid_gap": null,
            "grid_row": null,
            "grid_template_areas": null,
            "grid_template_columns": null,
            "grid_template_rows": null,
            "height": null,
            "justify_content": null,
            "justify_items": null,
            "left": null,
            "margin": null,
            "max_height": null,
            "max_width": null,
            "min_height": null,
            "min_width": null,
            "object_fit": null,
            "object_position": null,
            "order": null,
            "overflow": null,
            "overflow_x": null,
            "overflow_y": null,
            "padding": null,
            "right": null,
            "top": null,
            "visibility": null,
            "width": null
          }
        },
        "314673ad8edc4831acbd9e801275ea0b": {
          "model_module": "@jupyter-widgets/controls",
          "model_name": "DescriptionStyleModel",
          "model_module_version": "1.5.0",
          "state": {
            "_model_module": "@jupyter-widgets/controls",
            "_model_module_version": "1.5.0",
            "_model_name": "DescriptionStyleModel",
            "_view_count": null,
            "_view_module": "@jupyter-widgets/base",
            "_view_module_version": "1.2.0",
            "_view_name": "StyleView",
            "description_width": ""
          }
        },
        "daaba27961fa4a95813bd5d773223c9e": {
          "model_module": "@jupyter-widgets/base",
          "model_name": "LayoutModel",
          "model_module_version": "1.2.0",
          "state": {
            "_model_module": "@jupyter-widgets/base",
            "_model_module_version": "1.2.0",
            "_model_name": "LayoutModel",
            "_view_count": null,
            "_view_module": "@jupyter-widgets/base",
            "_view_module_version": "1.2.0",
            "_view_name": "LayoutView",
            "align_content": null,
            "align_items": null,
            "align_self": null,
            "border": null,
            "bottom": null,
            "display": null,
            "flex": null,
            "flex_flow": null,
            "grid_area": null,
            "grid_auto_columns": null,
            "grid_auto_flow": null,
            "grid_auto_rows": null,
            "grid_column": null,
            "grid_gap": null,
            "grid_row": null,
            "grid_template_areas": null,
            "grid_template_columns": null,
            "grid_template_rows": null,
            "height": null,
            "justify_content": null,
            "justify_items": null,
            "left": null,
            "margin": null,
            "max_height": null,
            "max_width": null,
            "min_height": null,
            "min_width": null,
            "object_fit": null,
            "object_position": null,
            "order": null,
            "overflow": null,
            "overflow_x": null,
            "overflow_y": null,
            "padding": null,
            "right": null,
            "top": null,
            "visibility": null,
            "width": null
          }
        },
        "23dc7a27a19341a28bf2399c8f2458d5": {
          "model_module": "@jupyter-widgets/controls",
          "model_name": "ProgressStyleModel",
          "model_module_version": "1.5.0",
          "state": {
            "_model_module": "@jupyter-widgets/controls",
            "_model_module_version": "1.5.0",
            "_model_name": "ProgressStyleModel",
            "_view_count": null,
            "_view_module": "@jupyter-widgets/base",
            "_view_module_version": "1.2.0",
            "_view_name": "StyleView",
            "bar_color": null,
            "description_width": ""
          }
        },
        "5f910315d7524654a00327ab7dc7f65f": {
          "model_module": "@jupyter-widgets/base",
          "model_name": "LayoutModel",
          "model_module_version": "1.2.0",
          "state": {
            "_model_module": "@jupyter-widgets/base",
            "_model_module_version": "1.2.0",
            "_model_name": "LayoutModel",
            "_view_count": null,
            "_view_module": "@jupyter-widgets/base",
            "_view_module_version": "1.2.0",
            "_view_name": "LayoutView",
            "align_content": null,
            "align_items": null,
            "align_self": null,
            "border": null,
            "bottom": null,
            "display": null,
            "flex": null,
            "flex_flow": null,
            "grid_area": null,
            "grid_auto_columns": null,
            "grid_auto_flow": null,
            "grid_auto_rows": null,
            "grid_column": null,
            "grid_gap": null,
            "grid_row": null,
            "grid_template_areas": null,
            "grid_template_columns": null,
            "grid_template_rows": null,
            "height": null,
            "justify_content": null,
            "justify_items": null,
            "left": null,
            "margin": null,
            "max_height": null,
            "max_width": null,
            "min_height": null,
            "min_width": null,
            "object_fit": null,
            "object_position": null,
            "order": null,
            "overflow": null,
            "overflow_x": null,
            "overflow_y": null,
            "padding": null,
            "right": null,
            "top": null,
            "visibility": null,
            "width": null
          }
        },
        "349d1c1b146d482c872eb33eb5565600": {
          "model_module": "@jupyter-widgets/controls",
          "model_name": "DescriptionStyleModel",
          "model_module_version": "1.5.0",
          "state": {
            "_model_module": "@jupyter-widgets/controls",
            "_model_module_version": "1.5.0",
            "_model_name": "DescriptionStyleModel",
            "_view_count": null,
            "_view_module": "@jupyter-widgets/base",
            "_view_module_version": "1.2.0",
            "_view_name": "StyleView",
            "description_width": ""
          }
        },
        "9f329be186c0469fa423ceac3467e33a": {
          "model_module": "@jupyter-widgets/controls",
          "model_name": "HBoxModel",
          "model_module_version": "1.5.0",
          "state": {
            "_dom_classes": [],
            "_model_module": "@jupyter-widgets/controls",
            "_model_module_version": "1.5.0",
            "_model_name": "HBoxModel",
            "_view_count": null,
            "_view_module": "@jupyter-widgets/controls",
            "_view_module_version": "1.5.0",
            "_view_name": "HBoxView",
            "box_style": "",
            "children": [
              "IPY_MODEL_6eff01bb8bd440a9b90324799fdc5b6e",
              "IPY_MODEL_546697b80185462898f37fe93695cc07",
              "IPY_MODEL_9f2fd631a780427c945d72217b6a185a"
            ],
            "layout": "IPY_MODEL_0d1ca4389d7b444ab128a9a165c82245"
          }
        },
        "6eff01bb8bd440a9b90324799fdc5b6e": {
          "model_module": "@jupyter-widgets/controls",
          "model_name": "HTMLModel",
          "model_module_version": "1.5.0",
          "state": {
            "_dom_classes": [],
            "_model_module": "@jupyter-widgets/controls",
            "_model_module_version": "1.5.0",
            "_model_name": "HTMLModel",
            "_view_count": null,
            "_view_module": "@jupyter-widgets/controls",
            "_view_module_version": "1.5.0",
            "_view_name": "HTMLView",
            "description": "",
            "description_tooltip": null,
            "layout": "IPY_MODEL_d004c4bad9ea4926a4a19da28ce20fa1",
            "placeholder": "​",
            "style": "IPY_MODEL_5695db58c223434f91bc251ab08f2940",
            "value": "Downloading: 100%"
          }
        },
        "546697b80185462898f37fe93695cc07": {
          "model_module": "@jupyter-widgets/controls",
          "model_name": "FloatProgressModel",
          "model_module_version": "1.5.0",
          "state": {
            "_dom_classes": [],
            "_model_module": "@jupyter-widgets/controls",
            "_model_module_version": "1.5.0",
            "_model_name": "FloatProgressModel",
            "_view_count": null,
            "_view_module": "@jupyter-widgets/controls",
            "_view_module_version": "1.5.0",
            "_view_name": "ProgressView",
            "bar_style": "success",
            "description": "",
            "description_tooltip": null,
            "layout": "IPY_MODEL_18d4f32746944ba8ae22d4611dcc8ba6",
            "max": 1042301,
            "min": 0,
            "orientation": "horizontal",
            "style": "IPY_MODEL_9d3102978a88465cab9c330910de25b0",
            "value": 1042301
          }
        },
        "9f2fd631a780427c945d72217b6a185a": {
          "model_module": "@jupyter-widgets/controls",
          "model_name": "HTMLModel",
          "model_module_version": "1.5.0",
          "state": {
            "_dom_classes": [],
            "_model_module": "@jupyter-widgets/controls",
            "_model_module_version": "1.5.0",
            "_model_name": "HTMLModel",
            "_view_count": null,
            "_view_module": "@jupyter-widgets/controls",
            "_view_module_version": "1.5.0",
            "_view_name": "HTMLView",
            "description": "",
            "description_tooltip": null,
            "layout": "IPY_MODEL_436f140ec45c4a1a9a6e545eca6ef4c4",
            "placeholder": "​",
            "style": "IPY_MODEL_45e1c1ddb8cd47ecae2ab75684d06c67",
            "value": " 1.04M/1.04M [00:00&lt;00:00, 2.90MB/s]"
          }
        },
        "0d1ca4389d7b444ab128a9a165c82245": {
          "model_module": "@jupyter-widgets/base",
          "model_name": "LayoutModel",
          "model_module_version": "1.2.0",
          "state": {
            "_model_module": "@jupyter-widgets/base",
            "_model_module_version": "1.2.0",
            "_model_name": "LayoutModel",
            "_view_count": null,
            "_view_module": "@jupyter-widgets/base",
            "_view_module_version": "1.2.0",
            "_view_name": "LayoutView",
            "align_content": null,
            "align_items": null,
            "align_self": null,
            "border": null,
            "bottom": null,
            "display": null,
            "flex": null,
            "flex_flow": null,
            "grid_area": null,
            "grid_auto_columns": null,
            "grid_auto_flow": null,
            "grid_auto_rows": null,
            "grid_column": null,
            "grid_gap": null,
            "grid_row": null,
            "grid_template_areas": null,
            "grid_template_columns": null,
            "grid_template_rows": null,
            "height": null,
            "justify_content": null,
            "justify_items": null,
            "left": null,
            "margin": null,
            "max_height": null,
            "max_width": null,
            "min_height": null,
            "min_width": null,
            "object_fit": null,
            "object_position": null,
            "order": null,
            "overflow": null,
            "overflow_x": null,
            "overflow_y": null,
            "padding": null,
            "right": null,
            "top": null,
            "visibility": null,
            "width": null
          }
        },
        "d004c4bad9ea4926a4a19da28ce20fa1": {
          "model_module": "@jupyter-widgets/base",
          "model_name": "LayoutModel",
          "model_module_version": "1.2.0",
          "state": {
            "_model_module": "@jupyter-widgets/base",
            "_model_module_version": "1.2.0",
            "_model_name": "LayoutModel",
            "_view_count": null,
            "_view_module": "@jupyter-widgets/base",
            "_view_module_version": "1.2.0",
            "_view_name": "LayoutView",
            "align_content": null,
            "align_items": null,
            "align_self": null,
            "border": null,
            "bottom": null,
            "display": null,
            "flex": null,
            "flex_flow": null,
            "grid_area": null,
            "grid_auto_columns": null,
            "grid_auto_flow": null,
            "grid_auto_rows": null,
            "grid_column": null,
            "grid_gap": null,
            "grid_row": null,
            "grid_template_areas": null,
            "grid_template_columns": null,
            "grid_template_rows": null,
            "height": null,
            "justify_content": null,
            "justify_items": null,
            "left": null,
            "margin": null,
            "max_height": null,
            "max_width": null,
            "min_height": null,
            "min_width": null,
            "object_fit": null,
            "object_position": null,
            "order": null,
            "overflow": null,
            "overflow_x": null,
            "overflow_y": null,
            "padding": null,
            "right": null,
            "top": null,
            "visibility": null,
            "width": null
          }
        },
        "5695db58c223434f91bc251ab08f2940": {
          "model_module": "@jupyter-widgets/controls",
          "model_name": "DescriptionStyleModel",
          "model_module_version": "1.5.0",
          "state": {
            "_model_module": "@jupyter-widgets/controls",
            "_model_module_version": "1.5.0",
            "_model_name": "DescriptionStyleModel",
            "_view_count": null,
            "_view_module": "@jupyter-widgets/base",
            "_view_module_version": "1.2.0",
            "_view_name": "StyleView",
            "description_width": ""
          }
        },
        "18d4f32746944ba8ae22d4611dcc8ba6": {
          "model_module": "@jupyter-widgets/base",
          "model_name": "LayoutModel",
          "model_module_version": "1.2.0",
          "state": {
            "_model_module": "@jupyter-widgets/base",
            "_model_module_version": "1.2.0",
            "_model_name": "LayoutModel",
            "_view_count": null,
            "_view_module": "@jupyter-widgets/base",
            "_view_module_version": "1.2.0",
            "_view_name": "LayoutView",
            "align_content": null,
            "align_items": null,
            "align_self": null,
            "border": null,
            "bottom": null,
            "display": null,
            "flex": null,
            "flex_flow": null,
            "grid_area": null,
            "grid_auto_columns": null,
            "grid_auto_flow": null,
            "grid_auto_rows": null,
            "grid_column": null,
            "grid_gap": null,
            "grid_row": null,
            "grid_template_areas": null,
            "grid_template_columns": null,
            "grid_template_rows": null,
            "height": null,
            "justify_content": null,
            "justify_items": null,
            "left": null,
            "margin": null,
            "max_height": null,
            "max_width": null,
            "min_height": null,
            "min_width": null,
            "object_fit": null,
            "object_position": null,
            "order": null,
            "overflow": null,
            "overflow_x": null,
            "overflow_y": null,
            "padding": null,
            "right": null,
            "top": null,
            "visibility": null,
            "width": null
          }
        },
        "9d3102978a88465cab9c330910de25b0": {
          "model_module": "@jupyter-widgets/controls",
          "model_name": "ProgressStyleModel",
          "model_module_version": "1.5.0",
          "state": {
            "_model_module": "@jupyter-widgets/controls",
            "_model_module_version": "1.5.0",
            "_model_name": "ProgressStyleModel",
            "_view_count": null,
            "_view_module": "@jupyter-widgets/base",
            "_view_module_version": "1.2.0",
            "_view_name": "StyleView",
            "bar_color": null,
            "description_width": ""
          }
        },
        "436f140ec45c4a1a9a6e545eca6ef4c4": {
          "model_module": "@jupyter-widgets/base",
          "model_name": "LayoutModel",
          "model_module_version": "1.2.0",
          "state": {
            "_model_module": "@jupyter-widgets/base",
            "_model_module_version": "1.2.0",
            "_model_name": "LayoutModel",
            "_view_count": null,
            "_view_module": "@jupyter-widgets/base",
            "_view_module_version": "1.2.0",
            "_view_name": "LayoutView",
            "align_content": null,
            "align_items": null,
            "align_self": null,
            "border": null,
            "bottom": null,
            "display": null,
            "flex": null,
            "flex_flow": null,
            "grid_area": null,
            "grid_auto_columns": null,
            "grid_auto_flow": null,
            "grid_auto_rows": null,
            "grid_column": null,
            "grid_gap": null,
            "grid_row": null,
            "grid_template_areas": null,
            "grid_template_columns": null,
            "grid_template_rows": null,
            "height": null,
            "justify_content": null,
            "justify_items": null,
            "left": null,
            "margin": null,
            "max_height": null,
            "max_width": null,
            "min_height": null,
            "min_width": null,
            "object_fit": null,
            "object_position": null,
            "order": null,
            "overflow": null,
            "overflow_x": null,
            "overflow_y": null,
            "padding": null,
            "right": null,
            "top": null,
            "visibility": null,
            "width": null
          }
        },
        "45e1c1ddb8cd47ecae2ab75684d06c67": {
          "model_module": "@jupyter-widgets/controls",
          "model_name": "DescriptionStyleModel",
          "model_module_version": "1.5.0",
          "state": {
            "_model_module": "@jupyter-widgets/controls",
            "_model_module_version": "1.5.0",
            "_model_name": "DescriptionStyleModel",
            "_view_count": null,
            "_view_module": "@jupyter-widgets/base",
            "_view_module_version": "1.2.0",
            "_view_name": "StyleView",
            "description_width": ""
          }
        },
        "9872bacb9ac944cb8cbe8a4b4e1d2ba7": {
          "model_module": "@jupyter-widgets/controls",
          "model_name": "HBoxModel",
          "model_module_version": "1.5.0",
          "state": {
            "_dom_classes": [],
            "_model_module": "@jupyter-widgets/controls",
            "_model_module_version": "1.5.0",
            "_model_name": "HBoxModel",
            "_view_count": null,
            "_view_module": "@jupyter-widgets/controls",
            "_view_module_version": "1.5.0",
            "_view_name": "HBoxView",
            "box_style": "",
            "children": [
              "IPY_MODEL_822f7d9003a64979bad221d680bf5deb",
              "IPY_MODEL_b832f636b7934ce49d38bb6073495d98",
              "IPY_MODEL_1ce3639a00c84619a20ea34ff2808d51"
            ],
            "layout": "IPY_MODEL_a801f5aa250042ae99a53d5236ecfc11"
          }
        },
        "822f7d9003a64979bad221d680bf5deb": {
          "model_module": "@jupyter-widgets/controls",
          "model_name": "HTMLModel",
          "model_module_version": "1.5.0",
          "state": {
            "_dom_classes": [],
            "_model_module": "@jupyter-widgets/controls",
            "_model_module_version": "1.5.0",
            "_model_name": "HTMLModel",
            "_view_count": null,
            "_view_module": "@jupyter-widgets/controls",
            "_view_module_version": "1.5.0",
            "_view_name": "HTMLView",
            "description": "",
            "description_tooltip": null,
            "layout": "IPY_MODEL_d271874db3b54fed8806573405fbf9f3",
            "placeholder": "​",
            "style": "IPY_MODEL_6039a65b25a449368fd7f49726054d0f",
            "value": "Downloading: 100%"
          }
        },
        "b832f636b7934ce49d38bb6073495d98": {
          "model_module": "@jupyter-widgets/controls",
          "model_name": "FloatProgressModel",
          "model_module_version": "1.5.0",
          "state": {
            "_dom_classes": [],
            "_model_module": "@jupyter-widgets/controls",
            "_model_module_version": "1.5.0",
            "_model_name": "FloatProgressModel",
            "_view_count": null,
            "_view_module": "@jupyter-widgets/controls",
            "_view_module_version": "1.5.0",
            "_view_name": "ProgressView",
            "bar_style": "success",
            "description": "",
            "description_tooltip": null,
            "layout": "IPY_MODEL_d7f1f82d546c43bc8be7f4921b5cf581",
            "max": 456318,
            "min": 0,
            "orientation": "horizontal",
            "style": "IPY_MODEL_0596b39826104ef7a4ab7e1f54760992",
            "value": 456318
          }
        },
        "1ce3639a00c84619a20ea34ff2808d51": {
          "model_module": "@jupyter-widgets/controls",
          "model_name": "HTMLModel",
          "model_module_version": "1.5.0",
          "state": {
            "_dom_classes": [],
            "_model_module": "@jupyter-widgets/controls",
            "_model_module_version": "1.5.0",
            "_model_name": "HTMLModel",
            "_view_count": null,
            "_view_module": "@jupyter-widgets/controls",
            "_view_module_version": "1.5.0",
            "_view_name": "HTMLView",
            "description": "",
            "description_tooltip": null,
            "layout": "IPY_MODEL_4771d5d70ca94a8ea1d50e814c1d8c0c",
            "placeholder": "​",
            "style": "IPY_MODEL_9f3c0b88f20c4208b9bafde1de903f30",
            "value": " 456k/456k [00:00&lt;00:00, 6.94MB/s]"
          }
        },
        "a801f5aa250042ae99a53d5236ecfc11": {
          "model_module": "@jupyter-widgets/base",
          "model_name": "LayoutModel",
          "model_module_version": "1.2.0",
          "state": {
            "_model_module": "@jupyter-widgets/base",
            "_model_module_version": "1.2.0",
            "_model_name": "LayoutModel",
            "_view_count": null,
            "_view_module": "@jupyter-widgets/base",
            "_view_module_version": "1.2.0",
            "_view_name": "LayoutView",
            "align_content": null,
            "align_items": null,
            "align_self": null,
            "border": null,
            "bottom": null,
            "display": null,
            "flex": null,
            "flex_flow": null,
            "grid_area": null,
            "grid_auto_columns": null,
            "grid_auto_flow": null,
            "grid_auto_rows": null,
            "grid_column": null,
            "grid_gap": null,
            "grid_row": null,
            "grid_template_areas": null,
            "grid_template_columns": null,
            "grid_template_rows": null,
            "height": null,
            "justify_content": null,
            "justify_items": null,
            "left": null,
            "margin": null,
            "max_height": null,
            "max_width": null,
            "min_height": null,
            "min_width": null,
            "object_fit": null,
            "object_position": null,
            "order": null,
            "overflow": null,
            "overflow_x": null,
            "overflow_y": null,
            "padding": null,
            "right": null,
            "top": null,
            "visibility": null,
            "width": null
          }
        },
        "d271874db3b54fed8806573405fbf9f3": {
          "model_module": "@jupyter-widgets/base",
          "model_name": "LayoutModel",
          "model_module_version": "1.2.0",
          "state": {
            "_model_module": "@jupyter-widgets/base",
            "_model_module_version": "1.2.0",
            "_model_name": "LayoutModel",
            "_view_count": null,
            "_view_module": "@jupyter-widgets/base",
            "_view_module_version": "1.2.0",
            "_view_name": "LayoutView",
            "align_content": null,
            "align_items": null,
            "align_self": null,
            "border": null,
            "bottom": null,
            "display": null,
            "flex": null,
            "flex_flow": null,
            "grid_area": null,
            "grid_auto_columns": null,
            "grid_auto_flow": null,
            "grid_auto_rows": null,
            "grid_column": null,
            "grid_gap": null,
            "grid_row": null,
            "grid_template_areas": null,
            "grid_template_columns": null,
            "grid_template_rows": null,
            "height": null,
            "justify_content": null,
            "justify_items": null,
            "left": null,
            "margin": null,
            "max_height": null,
            "max_width": null,
            "min_height": null,
            "min_width": null,
            "object_fit": null,
            "object_position": null,
            "order": null,
            "overflow": null,
            "overflow_x": null,
            "overflow_y": null,
            "padding": null,
            "right": null,
            "top": null,
            "visibility": null,
            "width": null
          }
        },
        "6039a65b25a449368fd7f49726054d0f": {
          "model_module": "@jupyter-widgets/controls",
          "model_name": "DescriptionStyleModel",
          "model_module_version": "1.5.0",
          "state": {
            "_model_module": "@jupyter-widgets/controls",
            "_model_module_version": "1.5.0",
            "_model_name": "DescriptionStyleModel",
            "_view_count": null,
            "_view_module": "@jupyter-widgets/base",
            "_view_module_version": "1.2.0",
            "_view_name": "StyleView",
            "description_width": ""
          }
        },
        "d7f1f82d546c43bc8be7f4921b5cf581": {
          "model_module": "@jupyter-widgets/base",
          "model_name": "LayoutModel",
          "model_module_version": "1.2.0",
          "state": {
            "_model_module": "@jupyter-widgets/base",
            "_model_module_version": "1.2.0",
            "_model_name": "LayoutModel",
            "_view_count": null,
            "_view_module": "@jupyter-widgets/base",
            "_view_module_version": "1.2.0",
            "_view_name": "LayoutView",
            "align_content": null,
            "align_items": null,
            "align_self": null,
            "border": null,
            "bottom": null,
            "display": null,
            "flex": null,
            "flex_flow": null,
            "grid_area": null,
            "grid_auto_columns": null,
            "grid_auto_flow": null,
            "grid_auto_rows": null,
            "grid_column": null,
            "grid_gap": null,
            "grid_row": null,
            "grid_template_areas": null,
            "grid_template_columns": null,
            "grid_template_rows": null,
            "height": null,
            "justify_content": null,
            "justify_items": null,
            "left": null,
            "margin": null,
            "max_height": null,
            "max_width": null,
            "min_height": null,
            "min_width": null,
            "object_fit": null,
            "object_position": null,
            "order": null,
            "overflow": null,
            "overflow_x": null,
            "overflow_y": null,
            "padding": null,
            "right": null,
            "top": null,
            "visibility": null,
            "width": null
          }
        },
        "0596b39826104ef7a4ab7e1f54760992": {
          "model_module": "@jupyter-widgets/controls",
          "model_name": "ProgressStyleModel",
          "model_module_version": "1.5.0",
          "state": {
            "_model_module": "@jupyter-widgets/controls",
            "_model_module_version": "1.5.0",
            "_model_name": "ProgressStyleModel",
            "_view_count": null,
            "_view_module": "@jupyter-widgets/base",
            "_view_module_version": "1.2.0",
            "_view_name": "StyleView",
            "bar_color": null,
            "description_width": ""
          }
        },
        "4771d5d70ca94a8ea1d50e814c1d8c0c": {
          "model_module": "@jupyter-widgets/base",
          "model_name": "LayoutModel",
          "model_module_version": "1.2.0",
          "state": {
            "_model_module": "@jupyter-widgets/base",
            "_model_module_version": "1.2.0",
            "_model_name": "LayoutModel",
            "_view_count": null,
            "_view_module": "@jupyter-widgets/base",
            "_view_module_version": "1.2.0",
            "_view_name": "LayoutView",
            "align_content": null,
            "align_items": null,
            "align_self": null,
            "border": null,
            "bottom": null,
            "display": null,
            "flex": null,
            "flex_flow": null,
            "grid_area": null,
            "grid_auto_columns": null,
            "grid_auto_flow": null,
            "grid_auto_rows": null,
            "grid_column": null,
            "grid_gap": null,
            "grid_row": null,
            "grid_template_areas": null,
            "grid_template_columns": null,
            "grid_template_rows": null,
            "height": null,
            "justify_content": null,
            "justify_items": null,
            "left": null,
            "margin": null,
            "max_height": null,
            "max_width": null,
            "min_height": null,
            "min_width": null,
            "object_fit": null,
            "object_position": null,
            "order": null,
            "overflow": null,
            "overflow_x": null,
            "overflow_y": null,
            "padding": null,
            "right": null,
            "top": null,
            "visibility": null,
            "width": null
          }
        },
        "9f3c0b88f20c4208b9bafde1de903f30": {
          "model_module": "@jupyter-widgets/controls",
          "model_name": "DescriptionStyleModel",
          "model_module_version": "1.5.0",
          "state": {
            "_model_module": "@jupyter-widgets/controls",
            "_model_module_version": "1.5.0",
            "_model_name": "DescriptionStyleModel",
            "_view_count": null,
            "_view_module": "@jupyter-widgets/base",
            "_view_module_version": "1.2.0",
            "_view_name": "StyleView",
            "description_width": ""
          }
        },
        "54bb329d3a2149f2838af98a1d708a31": {
          "model_module": "@jupyter-widgets/controls",
          "model_name": "HBoxModel",
          "model_module_version": "1.5.0",
          "state": {
            "_dom_classes": [],
            "_model_module": "@jupyter-widgets/controls",
            "_model_module_version": "1.5.0",
            "_model_name": "HBoxModel",
            "_view_count": null,
            "_view_module": "@jupyter-widgets/controls",
            "_view_module_version": "1.5.0",
            "_view_name": "HBoxView",
            "box_style": "",
            "children": [
              "IPY_MODEL_88c15c9aa449403a987b5251b5771be5",
              "IPY_MODEL_b9af8a2cec8d47ff98989bf2b65143f7",
              "IPY_MODEL_84a4a7ae4d754afc8230d8626fec289e"
            ],
            "layout": "IPY_MODEL_991b6f47fc304f0390a03f72ca2e7592"
          }
        },
        "88c15c9aa449403a987b5251b5771be5": {
          "model_module": "@jupyter-widgets/controls",
          "model_name": "HTMLModel",
          "model_module_version": "1.5.0",
          "state": {
            "_dom_classes": [],
            "_model_module": "@jupyter-widgets/controls",
            "_model_module_version": "1.5.0",
            "_model_name": "HTMLModel",
            "_view_count": null,
            "_view_module": "@jupyter-widgets/controls",
            "_view_module_version": "1.5.0",
            "_view_name": "HTMLView",
            "description": "",
            "description_tooltip": null,
            "layout": "IPY_MODEL_5542323d7ef04fd3aa6cf5cf4d18199d",
            "placeholder": "​",
            "style": "IPY_MODEL_dea8e393977448ad962e3a9306f88f2b",
            "value": "Downloading: 100%"
          }
        },
        "b9af8a2cec8d47ff98989bf2b65143f7": {
          "model_module": "@jupyter-widgets/controls",
          "model_name": "FloatProgressModel",
          "model_module_version": "1.5.0",
          "state": {
            "_dom_classes": [],
            "_model_module": "@jupyter-widgets/controls",
            "_model_module_version": "1.5.0",
            "_model_name": "FloatProgressModel",
            "_view_count": null,
            "_view_module": "@jupyter-widgets/controls",
            "_view_module_version": "1.5.0",
            "_view_name": "ProgressView",
            "bar_style": "success",
            "description": "",
            "description_tooltip": null,
            "layout": "IPY_MODEL_e6760d768ba441618729ade02d6f5bd2",
            "max": 1355256,
            "min": 0,
            "orientation": "horizontal",
            "style": "IPY_MODEL_3df67b8b742b4824a6966f3cb4a04a83",
            "value": 1355256
          }
        },
        "84a4a7ae4d754afc8230d8626fec289e": {
          "model_module": "@jupyter-widgets/controls",
          "model_name": "HTMLModel",
          "model_module_version": "1.5.0",
          "state": {
            "_dom_classes": [],
            "_model_module": "@jupyter-widgets/controls",
            "_model_module_version": "1.5.0",
            "_model_name": "HTMLModel",
            "_view_count": null,
            "_view_module": "@jupyter-widgets/controls",
            "_view_module_version": "1.5.0",
            "_view_name": "HTMLView",
            "description": "",
            "description_tooltip": null,
            "layout": "IPY_MODEL_ed2f8e919fc143e58030c94747437baf",
            "placeholder": "​",
            "style": "IPY_MODEL_f0104a5180304902b402ea3c92d1db34",
            "value": " 1.36M/1.36M [00:00&lt;00:00, 13.9MB/s]"
          }
        },
        "991b6f47fc304f0390a03f72ca2e7592": {
          "model_module": "@jupyter-widgets/base",
          "model_name": "LayoutModel",
          "model_module_version": "1.2.0",
          "state": {
            "_model_module": "@jupyter-widgets/base",
            "_model_module_version": "1.2.0",
            "_model_name": "LayoutModel",
            "_view_count": null,
            "_view_module": "@jupyter-widgets/base",
            "_view_module_version": "1.2.0",
            "_view_name": "LayoutView",
            "align_content": null,
            "align_items": null,
            "align_self": null,
            "border": null,
            "bottom": null,
            "display": null,
            "flex": null,
            "flex_flow": null,
            "grid_area": null,
            "grid_auto_columns": null,
            "grid_auto_flow": null,
            "grid_auto_rows": null,
            "grid_column": null,
            "grid_gap": null,
            "grid_row": null,
            "grid_template_areas": null,
            "grid_template_columns": null,
            "grid_template_rows": null,
            "height": null,
            "justify_content": null,
            "justify_items": null,
            "left": null,
            "margin": null,
            "max_height": null,
            "max_width": null,
            "min_height": null,
            "min_width": null,
            "object_fit": null,
            "object_position": null,
            "order": null,
            "overflow": null,
            "overflow_x": null,
            "overflow_y": null,
            "padding": null,
            "right": null,
            "top": null,
            "visibility": null,
            "width": null
          }
        },
        "5542323d7ef04fd3aa6cf5cf4d18199d": {
          "model_module": "@jupyter-widgets/base",
          "model_name": "LayoutModel",
          "model_module_version": "1.2.0",
          "state": {
            "_model_module": "@jupyter-widgets/base",
            "_model_module_version": "1.2.0",
            "_model_name": "LayoutModel",
            "_view_count": null,
            "_view_module": "@jupyter-widgets/base",
            "_view_module_version": "1.2.0",
            "_view_name": "LayoutView",
            "align_content": null,
            "align_items": null,
            "align_self": null,
            "border": null,
            "bottom": null,
            "display": null,
            "flex": null,
            "flex_flow": null,
            "grid_area": null,
            "grid_auto_columns": null,
            "grid_auto_flow": null,
            "grid_auto_rows": null,
            "grid_column": null,
            "grid_gap": null,
            "grid_row": null,
            "grid_template_areas": null,
            "grid_template_columns": null,
            "grid_template_rows": null,
            "height": null,
            "justify_content": null,
            "justify_items": null,
            "left": null,
            "margin": null,
            "max_height": null,
            "max_width": null,
            "min_height": null,
            "min_width": null,
            "object_fit": null,
            "object_position": null,
            "order": null,
            "overflow": null,
            "overflow_x": null,
            "overflow_y": null,
            "padding": null,
            "right": null,
            "top": null,
            "visibility": null,
            "width": null
          }
        },
        "dea8e393977448ad962e3a9306f88f2b": {
          "model_module": "@jupyter-widgets/controls",
          "model_name": "DescriptionStyleModel",
          "model_module_version": "1.5.0",
          "state": {
            "_model_module": "@jupyter-widgets/controls",
            "_model_module_version": "1.5.0",
            "_model_name": "DescriptionStyleModel",
            "_view_count": null,
            "_view_module": "@jupyter-widgets/base",
            "_view_module_version": "1.2.0",
            "_view_name": "StyleView",
            "description_width": ""
          }
        },
        "e6760d768ba441618729ade02d6f5bd2": {
          "model_module": "@jupyter-widgets/base",
          "model_name": "LayoutModel",
          "model_module_version": "1.2.0",
          "state": {
            "_model_module": "@jupyter-widgets/base",
            "_model_module_version": "1.2.0",
            "_model_name": "LayoutModel",
            "_view_count": null,
            "_view_module": "@jupyter-widgets/base",
            "_view_module_version": "1.2.0",
            "_view_name": "LayoutView",
            "align_content": null,
            "align_items": null,
            "align_self": null,
            "border": null,
            "bottom": null,
            "display": null,
            "flex": null,
            "flex_flow": null,
            "grid_area": null,
            "grid_auto_columns": null,
            "grid_auto_flow": null,
            "grid_auto_rows": null,
            "grid_column": null,
            "grid_gap": null,
            "grid_row": null,
            "grid_template_areas": null,
            "grid_template_columns": null,
            "grid_template_rows": null,
            "height": null,
            "justify_content": null,
            "justify_items": null,
            "left": null,
            "margin": null,
            "max_height": null,
            "max_width": null,
            "min_height": null,
            "min_width": null,
            "object_fit": null,
            "object_position": null,
            "order": null,
            "overflow": null,
            "overflow_x": null,
            "overflow_y": null,
            "padding": null,
            "right": null,
            "top": null,
            "visibility": null,
            "width": null
          }
        },
        "3df67b8b742b4824a6966f3cb4a04a83": {
          "model_module": "@jupyter-widgets/controls",
          "model_name": "ProgressStyleModel",
          "model_module_version": "1.5.0",
          "state": {
            "_model_module": "@jupyter-widgets/controls",
            "_model_module_version": "1.5.0",
            "_model_name": "ProgressStyleModel",
            "_view_count": null,
            "_view_module": "@jupyter-widgets/base",
            "_view_module_version": "1.2.0",
            "_view_name": "StyleView",
            "bar_color": null,
            "description_width": ""
          }
        },
        "ed2f8e919fc143e58030c94747437baf": {
          "model_module": "@jupyter-widgets/base",
          "model_name": "LayoutModel",
          "model_module_version": "1.2.0",
          "state": {
            "_model_module": "@jupyter-widgets/base",
            "_model_module_version": "1.2.0",
            "_model_name": "LayoutModel",
            "_view_count": null,
            "_view_module": "@jupyter-widgets/base",
            "_view_module_version": "1.2.0",
            "_view_name": "LayoutView",
            "align_content": null,
            "align_items": null,
            "align_self": null,
            "border": null,
            "bottom": null,
            "display": null,
            "flex": null,
            "flex_flow": null,
            "grid_area": null,
            "grid_auto_columns": null,
            "grid_auto_flow": null,
            "grid_auto_rows": null,
            "grid_column": null,
            "grid_gap": null,
            "grid_row": null,
            "grid_template_areas": null,
            "grid_template_columns": null,
            "grid_template_rows": null,
            "height": null,
            "justify_content": null,
            "justify_items": null,
            "left": null,
            "margin": null,
            "max_height": null,
            "max_width": null,
            "min_height": null,
            "min_width": null,
            "object_fit": null,
            "object_position": null,
            "order": null,
            "overflow": null,
            "overflow_x": null,
            "overflow_y": null,
            "padding": null,
            "right": null,
            "top": null,
            "visibility": null,
            "width": null
          }
        },
        "f0104a5180304902b402ea3c92d1db34": {
          "model_module": "@jupyter-widgets/controls",
          "model_name": "DescriptionStyleModel",
          "model_module_version": "1.5.0",
          "state": {
            "_model_module": "@jupyter-widgets/controls",
            "_model_module_version": "1.5.0",
            "_model_name": "DescriptionStyleModel",
            "_view_count": null,
            "_view_module": "@jupyter-widgets/base",
            "_view_module_version": "1.2.0",
            "_view_name": "StyleView",
            "description_width": ""
          }
        }
      }
    }
  },
  "cells": [
    {
      "cell_type": "markdown",
      "source": [
        "# Fine-tune GPT-2 with British literature.     \n",
        "In this colab, I fine tune GPT-2 to write British-literature-like sentences.    \n",
        "This follows the spirit of the tutorial to fine-tune a Germal-recipe GPT-2.      "
      ],
      "metadata": {
        "id": "oxeP_D6r9J9U"
      }
    },
    {
      "cell_type": "markdown",
      "metadata": {
        "id": "DRHEjKRJbNjY"
      },
      "source": [
        "## **What are we going to do:**\n",
        "\n",
        "- load the dataset from kaggle\n",
        "- prepare the dataset and build a ``TextDataset``\n",
        "- load the pre-trained GPT-2 model and tokenizer\n",
        "- initialize ``Trainer`` with ``TrainingArguments``\n",
        "- train and save the model\n",
        "- test the model"
      ]
    },
    {
      "cell_type": "code",
      "metadata": {
        "id": "S7_e3GBMPX_M",
        "colab": {
          "base_uri": "https://localhost:8080/"
        },
        "outputId": "5c4c5f1e-2364-4104-cfb2-6fe9956cd581"
      },
      "source": [
        "!pip install transformers==4.2.2"
      ],
      "execution_count": null,
      "outputs": [
        {
          "output_type": "stream",
          "name": "stdout",
          "text": [
            "Looking in indexes: https://pypi.org/simple, https://us-python.pkg.dev/colab-wheels/public/simple/\n",
            "Collecting transformers==4.2.2\n",
            "  Downloading transformers-4.2.2-py3-none-any.whl (1.8 MB)\n",
            "\u001b[2K     \u001b[90m━━━━━━━━━━━━━━━━━━━━━━━━━━━━━━━━━━━━━━━━\u001b[0m \u001b[32m1.8/1.8 MB\u001b[0m \u001b[31m20.9 MB/s\u001b[0m eta \u001b[36m0:00:00\u001b[0m\n",
            "\u001b[?25hRequirement already satisfied: numpy in /usr/local/lib/python3.9/dist-packages (from transformers==4.2.2) (1.22.4)\n",
            "Collecting sacremoses\n",
            "  Downloading sacremoses-0.0.53.tar.gz (880 kB)\n",
            "\u001b[2K     \u001b[90m━━━━━━━━━━━━━━━━━━━━━━━━━━━━━━━━━━━━━━\u001b[0m \u001b[32m880.6/880.6 kB\u001b[0m \u001b[31m34.6 MB/s\u001b[0m eta \u001b[36m0:00:00\u001b[0m\n",
            "\u001b[?25h  Preparing metadata (setup.py) ... \u001b[?25l\u001b[?25hdone\n",
            "Requirement already satisfied: packaging in /usr/local/lib/python3.9/dist-packages (from transformers==4.2.2) (23.0)\n",
            "Collecting tokenizers==0.9.4\n",
            "  Downloading tokenizers-0.9.4-cp39-cp39-manylinux2010_x86_64.whl (2.9 MB)\n",
            "\u001b[2K     \u001b[90m━━━━━━━━━━━━━━━━━━━━━━━━━━━━━━━━━━━━━━━━\u001b[0m \u001b[32m2.9/2.9 MB\u001b[0m \u001b[31m23.1 MB/s\u001b[0m eta \u001b[36m0:00:00\u001b[0m\n",
            "\u001b[?25hRequirement already satisfied: regex!=2019.12.17 in /usr/local/lib/python3.9/dist-packages (from transformers==4.2.2) (2022.10.31)\n",
            "Requirement already satisfied: tqdm>=4.27 in /usr/local/lib/python3.9/dist-packages (from transformers==4.2.2) (4.65.0)\n",
            "Requirement already satisfied: requests in /usr/local/lib/python3.9/dist-packages (from transformers==4.2.2) (2.27.1)\n",
            "Requirement already satisfied: filelock in /usr/local/lib/python3.9/dist-packages (from transformers==4.2.2) (3.11.0)\n",
            "Requirement already satisfied: idna<4,>=2.5 in /usr/local/lib/python3.9/dist-packages (from requests->transformers==4.2.2) (3.4)\n",
            "Requirement already satisfied: urllib3<1.27,>=1.21.1 in /usr/local/lib/python3.9/dist-packages (from requests->transformers==4.2.2) (1.26.15)\n",
            "Requirement already satisfied: charset-normalizer~=2.0.0 in /usr/local/lib/python3.9/dist-packages (from requests->transformers==4.2.2) (2.0.12)\n",
            "Requirement already satisfied: certifi>=2017.4.17 in /usr/local/lib/python3.9/dist-packages (from requests->transformers==4.2.2) (2022.12.7)\n",
            "Requirement already satisfied: six in /usr/local/lib/python3.9/dist-packages (from sacremoses->transformers==4.2.2) (1.16.0)\n",
            "Requirement already satisfied: click in /usr/local/lib/python3.9/dist-packages (from sacremoses->transformers==4.2.2) (8.1.3)\n",
            "Requirement already satisfied: joblib in /usr/local/lib/python3.9/dist-packages (from sacremoses->transformers==4.2.2) (1.2.0)\n",
            "Building wheels for collected packages: sacremoses\n",
            "  Building wheel for sacremoses (setup.py) ... \u001b[?25l\u001b[?25hdone\n",
            "  Created wheel for sacremoses: filename=sacremoses-0.0.53-py3-none-any.whl size=895259 sha256=8a349b7c137e7459885c9f45cc3590f93b983266328d1add64a495c9ef327875\n",
            "  Stored in directory: /root/.cache/pip/wheels/12/1c/3d/46cf06718d63a32ff798a89594b61e7f345ab6b36d909ce033\n",
            "Successfully built sacremoses\n",
            "Installing collected packages: tokenizers, sacremoses, transformers\n",
            "Successfully installed sacremoses-0.0.53 tokenizers-0.9.4 transformers-4.2.2\n"
          ]
        }
      ]
    },
    {
      "cell_type": "code",
      "metadata": {
        "id": "JH0JtdCeE1n2",
        "colab": {
          "base_uri": "https://localhost:8080/"
        },
        "outputId": "75ce528a-4cad-4a0c-ff27-7f067560c669"
      },
      "source": [
        "!nvidia-smi"
      ],
      "execution_count": null,
      "outputs": [
        {
          "output_type": "stream",
          "name": "stdout",
          "text": [
            "Sun Apr 16 17:09:03 2023       \n",
            "+-----------------------------------------------------------------------------+\n",
            "| NVIDIA-SMI 525.85.12    Driver Version: 525.85.12    CUDA Version: 12.0     |\n",
            "|-------------------------------+----------------------+----------------------+\n",
            "| GPU  Name        Persistence-M| Bus-Id        Disp.A | Volatile Uncorr. ECC |\n",
            "| Fan  Temp  Perf  Pwr:Usage/Cap|         Memory-Usage | GPU-Util  Compute M. |\n",
            "|                               |                      |               MIG M. |\n",
            "|===============================+======================+======================|\n",
            "|   0  Tesla T4            Off  | 00000000:00:04.0 Off |                    0 |\n",
            "| N/A   43C    P8     9W /  70W |      0MiB / 15360MiB |      0%      Default |\n",
            "|                               |                      |                  N/A |\n",
            "+-------------------------------+----------------------+----------------------+\n",
            "                                                                               \n",
            "+-----------------------------------------------------------------------------+\n",
            "| Processes:                                                                  |\n",
            "|  GPU   GI   CI        PID   Type   Process name                  GPU Memory |\n",
            "|        ID   ID                                                   Usage      |\n",
            "|=============================================================================|\n",
            "|  No running processes found                                                 |\n",
            "+-----------------------------------------------------------------------------+\n"
          ]
        }
      ]
    },
    {
      "cell_type": "markdown",
      "metadata": {
        "id": "OyUDoMGSe6si"
      },
      "source": [
        "# Load the dataset from Kaggle\n",
        "\n",
        "We will download the [British_literature_NLP_Labelled_Phrase](https://www.kaggle.com/datasets/ahmadalijamali/british-literature-nlp-labeld-phrase?resource=download) from Kaggle.   \n",
        "Please download it to your local disk first from Kaggle as shown in the image.   \n"
      ]
    },
    {
      "cell_type": "markdown",
      "source": [
        "![image.png](data:image/png;base64,iVBORw0KGgoAAAANSUhEUgAABOsAAADuCAYAAABoHoPkAAABU2lDQ1BJQ0MgUHJvZmlsZQAAGJVtkL1LQmEUxn+aIVRYQaODQ0SBRWohjSYRQR9i3xHE9WoqqF2utyJqC6K/oKm5taDBthpaWyoK2hqipS1wKbudq5VaHXg4Px6e9+XhgB1F0zIOIJsz9OjosGdhccnjfMZBKy58+BQ1r4UikXGJ8L3rp3iHzdo3vdZfhfOXldPHkeWN0lPQfTy1/TdfN03xRF6V/S7qUjXdAFuncGTT0CwW0aFLKeF9i5MVPrQ4VuGTcmYmGha+FG5TU0pc+FbYG6vxkzWczayrXx2s9i2J3Oy01UfkZo5J/AQZkrv8nxso58KsobGFTpokKQw8hMTRyJAQHiOHSh9eYT/9ooB13993q3rpPRgU2a+rXvwKznak8kTV696F9g+4cGmKrvxc01Z05FcD/go3F6DxwDRf58HZA6V703wrmGbpCBoe5G3xE/0GY4dyFMSgAAAAVmVYSWZNTQAqAAAACAABh2kABAAAAAEAAAAaAAAAAAADkoYABwAAABIAAABEoAIABAAAAAEAAATroAMABAAAAAEAAADuAAAAAEFTQ0lJAAAAU2NyZWVuc2hvdIii9JkAAAHXaVRYdFhNTDpjb20uYWRvYmUueG1wAAAAAAA8eDp4bXBtZXRhIHhtbG5zOng9ImFkb2JlOm5zOm1ldGEvIiB4OnhtcHRrPSJYTVAgQ29yZSA2LjAuMCI+CiAgIDxyZGY6UkRGIHhtbG5zOnJkZj0iaHR0cDovL3d3dy53My5vcmcvMTk5OS8wMi8yMi1yZGYtc3ludGF4LW5zIyI+CiAgICAgIDxyZGY6RGVzY3JpcHRpb24gcmRmOmFib3V0PSIiCiAgICAgICAgICAgIHhtbG5zOmV4aWY9Imh0dHA6Ly9ucy5hZG9iZS5jb20vZXhpZi8xLjAvIj4KICAgICAgICAgPGV4aWY6UGl4ZWxZRGltZW5zaW9uPjIzODwvZXhpZjpQaXhlbFlEaW1lbnNpb24+CiAgICAgICAgIDxleGlmOlBpeGVsWERpbWVuc2lvbj4xMjU5PC9leGlmOlBpeGVsWERpbWVuc2lvbj4KICAgICAgICAgPGV4aWY6VXNlckNvbW1lbnQ+U2NyZWVuc2hvdDwvZXhpZjpVc2VyQ29tbWVudD4KICAgICAgPC9yZGY6RGVzY3JpcHRpb24+CiAgIDwvcmRmOlJERj4KPC94OnhtcG1ldGE+CphWtEoAAEAASURBVHgB7J0FYFxV2oa/mczEPalL6u4tDqW4y+KLu8uiiyxui8sCy8LCsvDjLCy2aFtoS1ta6i6ppU2bNK4zGfvf90zuMA1pGpk0SflOO5k795575LnnJjPvfGILoIgWJaAElIASUAJKQAkoASWgBJSAElACSkAJKAEloATanIC9zUegA1ACSkAJKAEloASUgBJQAkpACSgBJaAElIASUAJKwBBQsU4XghJQAkpACSgBJaAElIASUAJKQAkoASWgBJSAEmgnBFSsaycXQoehBJSAElACSkAJKAEloASUgBJQAkpACSgBJaAEVKzTNaAElIASUAJKQAkoASWgBJSAElACSkAJKAEloATaCQEV69rJhdBhKAEloASUgBJQAkpACSgBJaAElIASUAJKQAkoARXrdA0oASWgBJSAElACSkAJKAEloASUgBJQAkpACSiBdkJAxbp2ciF0GEpACSgBJaAElIASUAJKQAkoASWgBJSAElACSkDFOl0DSkAJKAEloASUgBJQAkpACSgBJaAElIASUAJKoJ0QULGunVwIHYYSUAJKQAkoASWgBJSAElACSkAJKAEloASUgBJQsU7XgBJQAkpACSgBJaAElIASUAJKQAkoASWgBJSAEmgnBFSsaycXQoehBJSAElACSkAJKAEloASUgBJQAkpACSgBJaAEVKzTNaAElIASUAJKQAkoASWgBJSAElACSkAJKAEloATaCQEV69rJhdBhKAEloASUgBJQAkpACSgBJaAElIASUAJKQAkoARXrdA0oASWgBJSAElACSkAJKAEloASUgBJQAkpACSiBdkJAxbp2ciF0GEpACSgBJaAElIASUAJKQAkoASWgBJSAElACSkDFOl0DSkAJKAEloASUgBJQAkpACSgBJaAElIASUAJKoJ0QULGunVwIHYYSUAJKQAkoASWgBJSAElACSkAJKAEloASUgBJQsU7XgBJQAkpACSgBJaAElIASUAJKQAkoASWgBJSAEmgnBFSsaycXQoehBJSAElACSkAJKAEloASUgBJQAkpACSgBJaAEVKzTNaAElIASUAJKQAkoASWgBJSAElACSkAJKAEloATaCQEV69rJhdBhKAEloASUgBJQAkpACSgBJaAElIASUAJKQAkoARXrdA0oASWgBJSAElACSkAJKAEloASUgBJQAkpACSiBdkJAxbp2ciF0GEpACSgBJaAElIASUAJKIJIE/IFAJJvTtpSAElACSkAJKIHdRMCxm/rRbpSAElACSkAJKAEloASUQIcmUFFZJQWFRVJcUiblFZXicrnE6/VKpCSxjLQ0KSwujhgjm9jE4YiSuNhYSUxMkNSUZMnMSJMkbGtRAkpACSgBJaAE2i8BWwCl/Q5PR6YElIASUAJKQAkoASWgBNqWwObcbZKzOVeqIM51zsyQtNQUSU5KNCKYw+EQmy0y4/vy26ly3JGHRKax2lZ8Pp9UVbukrLxCiopLJH97ocTHxUrPHt2kFx7tsbS2KNoe5/x7GhNvF943sRCRKRynpVJETpfEhPh2jSE7O1umTZsu8+bPl9Wr18jW3FyI9hXi9/vb9bh1cB2LgN1ux32RKN26d5dBgwbK+HHjZOLEg6R///4dayI62hYTULGuxQi1ASWgBJSAElACSkAJKIE9kcC2/O2yeu0GiArRktWzh3TpnNmq02wNsa6+AVOw25CzWdyuGhnQP0u6delcX7Xdvm93iaK7fWLa4Q4EaCpCi9RqiN8UkYtLSiW/ACIyxLtePbtLz+5dd6jf1i8+/Ogjee+992Xu3F/aeija/++YwF57TZCzzjpTTj/ttN8xhd/X1PdYsY4Ggx78EfB6feLDtx38xoP7rhwcI4P3xrcf+AqU3+r84Sa7jDqI34hG6CvR39f60dkqASWgBJSAElACSmCPJLBk+SopgogwZEC/VhfpLIC7S6yz+qNot3JNtrEUHD5kkNjtbfN+eHeLotb89bl9EcjLL5CNm7fAvbxGBg3oI107d2rTAX799Tfy9DPPysqVK9t0HNq5EggnMGTIELnpxj/J0UcfFb5bt/dAAnucWEdhzu2ukRqPp97LRbGuvjJkn4CcdotDRhwYVd9h3acElIASUAJKQAkoASXwOyDgcrtlwaJlJsbbiKGDI+bi2hh0u1uss8ZEYbICMfjGjBwmcXCR3Z2lLUTR3Tk/7avpBCjarVy7TtLhbj5y2OCmNxCBM+648y55++13ItCSNqEEWofAOeecLY8+8nDrNK6ttgsCe5RYV+1yi7umJgSWsRCcCKobFYUHfL8t67llP8HSLoCHzy8fPxOQVT//+i3iSTcE5I+31y/ohRrWDSWgBJSAElACSkAJKIE9jgCFuqnTZ8vAflkyoF+f3T6/thLrONG16zfK1q35MmHsyN0i2LWlKLrbL6x22GQCdJVduiIoIo8dPVxiY3bP57O8vDy5+ppr1eW1yVdMT2gLAnSNfenFF6RLly5t0b322coE9gixjtZ0DJzLALosMdFOPKJhym9vFL6lM3yyZIZXPn0uKNoNhpXd6Wpl1yh2WkkJKAEloASUgBJQAnsKgVlz5kunzPQ2EerIsC3FOvZPwW47XGP3mTC2VV1iKdTNmbdYunft1GasOV8t7Z/A2nUbJHfbdtl7/KhWF+wo1J13/oXq9tr+l4WOMIwA3WLfevMNFezCmOwpmx1erPNCoKusqjbx6GhBFxcbIw48s1SW5UvuhsWyfdNCqSzdLu6odCh5ieKIS5OE5K6SmdkDAUx7htLXU7D76ElfyNLurg/tMvJAx55yrXUeSkAJKAEloASUgBJQAjshQHdMlrZyu2PfbS3WcQy7g0Nbi6Kcp5aOQ4CC3faCItlv73GtOuhTTztdLepalbA23loEaGH3n48+bK3mtd02IhB1H0ob9d3ibmlRZwl1TqdDEuPjjTVdRdl2mf/D+/Lpv16UyZ/9KAvmrpUNm4qkrKhYHLaA2GFGXVHjkbyCYslelyMVVRWSkpQkvQbEyiFnOUy8O7rG5m/0ycQz7WLX5BMtvlbagBJQAkpACSgBJaAE2isBJjhgJtK9xo7erTHq6vJYk71BBvXvW3f3bn3dpVOmrFqzTqLhqZKUmBDxvikGRsMDZuigARFvWxvcMwmkp6VKSWmZMCEK12drFMaoY0IJLUqgIxLIzc3F/bFdDj/ssI44fB3zTgg0zk90Jye39W66vjLDK4W6hLg4M5wNa+bIx6/dJ1999LmsWVcp/rgEiHNx4nDES2WhW1bMXiLbVq0Qv6sa9ZkV1ic5yDr07Q8/yPqNm0wbZ98RK0w4sWqOXR44pf5EFW09d+1fCSgBJaAElIASUAJKIDIEVq/dYLK+6vezQZ5DBvaXtdkbIwM3rBWKosywy8QdWpRAUwhwzXDtcA1FulCk02QSkaaq7e1uAlzDKjjvbuqt21+HtaxjMgmP12uSR9CijmX10qky6/t3ZO3ybWKXOOmd1VliIeRF+V0S5XGLL8ou1S6/5G/Jl5g4WOKlpcESL0ZsqC0SkNy8fGOZl5mRLpNgYUe3WFrYsR91hzWI9YcSUAJKQAkoASWgBPYoArSoq3a5ZPCAfm0+r/ZgWUcICQnxkgcrJj+8WFKSkyLGZf6i5UYUTUwMvnePWMPa0B5PgEJ6HLyjKKxn9eoR0flefc11UlBQENE2tTEl0BYE1qxdK+edd26rdO3zeqQ4N0fWL5oji6Z8Lou++1RWzpoquauXi7uyQqKcyBsQnyi2RuYNaJVB7mGNdsiAbHR/tbK+MkYdy8Y1P8uSnz+XbRsLJTe3VCaMzpBeQ4eKJy5TAp5S8eQsk9x1m2RjhU8KSqpl3cLlEpecIim9nLCuS8TDJgjgJ0tWrJCYmGjp27u3DN/fDrEuYBJPnHGb32SU3cOuv05HCSgBJaAElIASUAK/awI5m3OlX5/ev2sG9U2+DwSRbCSc6NWjW32Hm7yPomhsbLR06dw6boxNHpCe0OEIcO1shEcU11LP7l0jMv4PP/pIE0pEhKQ20h4IrFy5UrimTz/ttIgOp3T7Nvnx7b/LhsW/IBdAkfFuDO+AAl1iaob0G7ufHHzOFWY7/Hh73P755zly/wMPmqHde8/dss8+e7e7YXZIN1i3u8aAZNZXJpOoQCKJhbM/Ehes7XLzqqWkpEai4qLFm9hJPI4EcThTpGu3rjK4V4rE2rxSVumWzZtghr9xnfiryyRg8xihzka3WJR5i5ZIRUWlnHGbU066AXnDUT54TN1hDQj9oQSUgBJQAkpACSiBPYRARWWVVMGqTgWk317Qzp0yhCFnyvGeOBKFomhWz8haREViXNpGxyLANcS1FKny3nvvR6op2H7AX0utiiLGszENvf7aP+WD99+Tww/vuLHaOHbO4Z+vvtKYKe+yTiTXNL0P89avlg8eukmWTvtGbN4qxFXtKkdMGinnnH6AnH3afnLYwSNkQFYn8bvLZdHkz+SjR2+Vws0bdjnOtq5AoW7p0qXmYYl2bT2muv13OMs6xqir8QSFsxgEp2VZvugb8ftqpKa8XPK3lkoJxDhPVZXEeUvFFuXHc77EuovEjX8Bf41Uur1cd5K3KV+6DiiRuDia91Oog3Zpc0Iptsuy1atln3Fj5UwIdp8+55VPn7fJWbcHzC9h9qlFCSgBJaAElIASUAJKoGMTKCgsks6ZGR1yEnxP/NNPM6WyslL69OkjgwcPkiIkU5s7d+5O53PUUUfu9Fh9ByjYFRQWtzjRxO4QRRctWizbtm0Dh8HgkRWaDt0b582bb0SUI444PLS/tTamIg52DQwL9t13H0lJSQl1sxqfLdav3yCZWG/jx48P7Y/0RgXWw08zfjLNHnroIYjtDS+iVijl+Nw1c+Ys0zLFhigYUOyOQmF96crVwjWVCHftlpTs7OyIZn+97tpr5MYb/yR9+7U8ecr1112Lz6jBmOx0R1+8ZIlMnjxFvAjP1Nbl5ptvMgYzH3/yX1mzZk2rDGfvvfeSQyZNksKiIvnnP1+rt4+rr77KiHRkcvEll4bqDBw4UE488QTJyuotCxYslLfe+r8QN7qIdu9Wv7Xw7J9/lpycnAat0h57/IlQP9zgfX7wxIkmucO//vXGDsf4onPnznLRhRfssJ9zmjJliqxbt97sX7BggXC+FHovueRiee2113eo39QXc+f+Ilzb/fv3b+qpv6m/ZdUS+eix26W6tFhGDOklY0d0l+REhBGDW3qwREl6UroM6ZsuxWUu+XLyCslds1zefeAGOeOup6RzVsvvBaun3+Ozo6NNmvHjWBwOh1nQ5aX5kpP9i/irKmGSWYoMr+Xi8QWkuBgZgzZvk3JPoXR1lEvAWylbCkWqa+wSZYsSL37pFWwvxcIrlMTMruJ38A9MwAh1NptdNm3OkWGDBuLNSaIMZrIJxK774HGPnPnnoEBoBqE/lIASUAJKQAkoASWgBDosgeKSMumUmd7hxk/Rh9krZ86cacZ++WWXyV/+cqcsX75cLrv8ip3OZ+OGdU364plZOJmBs6Vld4ii/3jlFfniiy+lN0LZfPP1VybuHse9ePHiEJNNG4Mfjls6n4bOv+bqayEkVcrJJ50kzz//bKjqfz7+RP7+95fl0EMPlTf+Vb/4EKpcuzEDotv/vvpKevXsKVdddWXdw/W+3gI3UWsNLF60QFJTU+ut19KdFBqsflatRHihWmGppe025nwK7FxTLRXrpk2b3pju2qQOBTFa6oUXCvTr1q+XY489XqqrmSyxbcoN119nOi4pKWk1se6cc86WP5x8srjd7nrFOorD1ji++upreMVVmDE9/NCDO8Rs43146623yKmnniYrVqyUO++4I/S7oS69ESNG4AuQn+Saa66ueyj0+oknnzKxPK0dl116qfBLAN7z9Yl1Y8aMrre9e+7+i8ycNUvOPvtcKcRa/va77+Too46SW2+52bRDgbYlhWu7pWKdq7Jcpn/wL6ksKZLhg3vIAXtlidNRv2OmC8ZQPy/YJKWl5WbYZQV5MuOD1+X46+6W6Nig6NyS+bTGuXR9tSzquN0eS/202+NIa8fk9frMltOIayJb1s+XgKtCXFVlYsdNGxcTJVkZMeIIeGUN1PF5uHnXz58vS5dvlM9+zJZVuVVixyIL4JdfZWWNVBSWiLemEm6wsLoTtG3jjQHRDmknNm/davoaul/wF6XfH6gdhT4pASWgBJSAElACSkAJdHQCdPFMTkLs4g5U+MHu4EmHhIS68KF3695Nrrzi8h0eo0ePCq/SpG2yYWiYlhaKommpv1qZtbS9hs7ftGmTPPrXvzZUZbcc+++nn8qXX/6vRX0x/tT//d/b8s0337aonT3tZK4lrqmWlnn4jNjeC0WgLVu2iAeeZRTv+vfrJ1OnTEaM9WDc9vY+/tYa3/nnnxcSiJ//299MN8cdd2xIqCMz3jfUDhITEoTusiw//vij0ArXeizDFxxWqYTxzwrcc9Yx67kKHnuRKCtXrjJt19QEQ3rtv99+wjGzvPHGm+Y5HokzzzrzDLPdkh+RWNtbYSG3cek8iYcF637j++xUqPN4/TJ1Vras25C3w5CzF8ySgpzW/4Jkh06b8IIx6v735efm0R7j1XEqHU6sY3IJFsvUelvOEvFWlIg9JhEiXLykJcVIt8xYyUyNh+lrigzojSQSCEBa7UzCmw18A+HziR83rQ/PVVCAi7dsluqCdRJwl0Cn443jh5AHzQ7/ttdmBRp+QBATXWG1KAEloASUgBJQAkpACewZBFyIVxcXG9viydD649LLLpcffvixxW3tqgEvMvLxw+dTTz5hrLTC6/OD/J133hF63HbbbfA2KTFVroWLXl1LnfBz69uOj4s1mXLrO9aUfbtbFH3zzbekIaspCp7PPPOsnHLq6XLscSfIAw8+hJjXQU6fffa5nHzyKfKnG28yU6RIwnrcZ4lmX3/zjXl9+eUNW7vdeuttkpe34wfYcG609KFlx1FHHyMXXHCR/OOVV40lEet8+OFHZlzcng83OfZvuRzyvHvvu18OO/xIOe30M4zbnGXQwPpWmQ8x6qw/nmPm+PgTTyK+t8s6ZFymn3n2OXM+26Z7X25u0FDBqtTQ+Kw61jMFiOuv/5MZ52233f6bAPRWvUg8U0SORCzF1atbx4UzEnO02njv3fdkv/0PlP4DBsnL/3jF7O4OUf6Kyy+zqhjX2xnTf5Tstatl1swZcv/995lj/Ly8ZPFCWbF8mVx4wflm35NPPG5eL1zwq1C5aOF8s4+/Iz797ydm+/777pVPPvmPrFm9UhbM/0UuOD94fqjTOht0/61vDFY1uuBzbGvXrBJaYn75xWfSr19f67Acc/TRcN+eZuYwdepkyUhvODzB2LFjzLl0gV21arXZPvWUU8xzJVykyYyWn/ff/4DZ16NHDxk+bJhcedXVcsKJJ4UeC+YvMMf544knnoKYNy10jPV4f0VHBz3r5s2bt4NVXejEsI3x48bJ0iWLDMOXXnwh7IjIjTfdbNqedMhhof0Tal3iaSVt3cPj0EZLSyTW9pIf/ic+T40cMKG/xMIgqr5SUeWRL6asNEIdLT/Di8dVLctnfBe+S7ebSKDDucFaJqFRtcE7C3JWSSA6VmLwpqWsCMp5Ypz4kM2Vmt6grEzp2yVdJClD/CtyZVBmjBS5/JIHcZyusoEanxQVFEol2oi2ucWZ2V9szC7Ltm0+KSsPmtOOOICLMygSNpHvTqtv314g8xcukj7wpR8Md1urMHnGDzBbHTNqpHTp0tns3gxz9uVQ4o847BDzJmv5ilUIrLpZ9t1nL0lJTrZORSyDZbIVsTomHngAvmn49Y3nylVrZCO+ZRw3djRcPTJD9fPykJhj8RLzOgGK+dAhg/GLEbzqlF2dP2niQSaDbvhpKzBexk05YP99w3f/Znv9ho3GnPuwQybtcGzm7J+lHPwPP3RSSJhlhabOfWecrbm3ZOw7DLj2xU8zZ0t6epphyV3FxcUy55f5cuAB+0kCvikhl005m01tvtEmc9Znsa49t51w8x4woD/cHnr85o11fXNivJoZ6LtuychIlwmIvWjNN/z4QLTfr2+fHY41tA7Cz+WaXIBvpTiHvfcaD3PyhPDDoW3yqMYbQ17H8PLDtBmQwwUxHg4M7eb8lyEb86ZNcEEfOkQ4PutDhcUm/L7IwRjI88jDDzVtsE1+WAovPJ/H6zu/7n3F8yy2/MM/euQI6Qn+DZWd3RvWOQsWLjbxadJxHfbDtzfMNB1eSsvKZNHipSbeEOfWDYlwtCgBJaAElMDuI8Df9wyt0pJiCXX8kEexjkHCJ006uCVNNnhuRkaGTJ8+Tfg3/quvv26w7meffYa/q5tMnUsvuaTBuvUd5Id9L77gbmmJlCjalHHc8KcbYYH0/W9OobvceedfYIKKWwcZZJwxpOg+27NXTyOOUSB7+KGHhLHmfvnlF1OVrmoUHaZMnmrqnHXmmVYT9T7TKurPt98p/3o9aNUTXolWNnTNYx0WCmOMdzfvl3ny0ksvCmPthReOpxoJPyhMWOfxfRgFvDlz5pr9jz/+1/BT5MKLfr3mnCPXwgt/ex7vscvl3PPO34EB2//88y/kk48/kk6dOiFDasPj26EjvLjrrruF1oQc0wsvPB96D1e3XiReU2APFx6b2+bW3Nzmnho6jxZut8B18fnng9Zd1gG6X5aUlkRUwH/kkUeN1RVdmw/A573n//YC1uiObp8UpRgjrUf37uYLBH525vv7448/Xt7495uI8Xa4ec19jLdGgSgtLfhZ5Gd4pV1y8UXm+AUQ96xkGZzjgw/eb9b8EsTOq1t2NYb9999fXn3lH+Y0CjoUv0aOHAnB7gsZOmy4jMJ74L///cVQf/zSgY+GyoDaeGxFiP9mldRa610PBCarbN++3dqUcePHSbglHV23zzoreA/zHs/Ozg7VtTbuu/ee0N+Im2+51dpd73PXrl3l/fffNfPj75nb/ny77L//fqG6PXp0F4ratH62Cu8Zq1RWVpg4lwMGDrB2Nfs5Emt70/KF4sS16tu7flf6knK3TJ6xBvrDr9eg7oA3Lf9VDK17rK1fd4RssC17d9IGhC3F1voQ76mpEkdiitgRZ84G11i6txaVe2X95iLp5KgWj9cu5bllsmF9nlTjvUa1xy9uCHW0naP+VoEvmMoKyyTauV4S7Pjl0SlW/NGJ+AMD8aTGY2Zo9RXJ6X70yacyZeqPCDrZSV587qlQ04w/8M/X/y3XXXNlSKxbsmy5vP7GW3LIwQeZILHfT5kq02fMNIEszzv7LHMu32z+9YmnjYn0iGFDhb8MrPLcCy/hD36hEfsuv/Qia7esWrPW9EVzW77RpLXhJIgn11z16y8QVt7V+fvsNeE3IsR3eBOzGCLErsS6OXN/kU8+/ULCxToKGM8896IZZyoC8+6z94TQmJs6951xtubekrGHBhW28a9//x/+4IwIiXXMVsXrSUE2AcIsufDaURQtQYxFMr/7zj/LqJHDTewJ1rUCAfObXIo3jz38wA7ia31zoovKfz4O/rIvxjfDbINvlgYO7G/EOmu+FHetP7wnHn+sEeusY7taB9Y0lyxdJg88/JgJkFxaWiZvv/uBvPj8U/Wa45MHr2cXrPORI4abJtat3yAv/v0VM0ZLrCvHH7Sbb70TLg3BsXPu48eNkT/fcqN5s2fdF7xfnn/6cSPgLoRY+Ob/vRsS6z7/4ivz5rMMb0DJNa02RgtFbuv8hu4rCm/3PfhIaB5vvPm23Hbzn2SvCTv/dmtn9wbfGN334KNGTIytfUNJFk8/8UhIEF+bvU7+cu+DZqz8MPQ6xnzxhefJMUcdYaHWZyWgBJSAEmhlAuYdIb89amYJF+rYBD+I0cKuNQU7iosU6nZV+N7waViPsTC2k/Xl4K7Oq3vceu9dd39TXkdCFG1sfxTQVqxcYdzN7rnnPlh6nbjDqR8jdhyFK8an+uCD94QGAGeceZapz5h3J0Fk4XsoimgUJsLFiSl4D87CWFMsB0Iw2Vm5/c+3QbR60YiA79aTcfS55583fey3777yxhuvG3HspJP/ILTamz17tolRx/dztPobN3as/Pe/H5uurrr6GnMe3QAfgAXVZnyBf+BBB8t7778vDLgfXi666EK57dZb5c233pJHH/2r0Grw7r/cZSwEyYDz/O67b/A+M16OOfZYI+YxGP9NN90ouxpfUlJSqKuXX/6HvP/BB+b1O++8jS87e4aOtcYG7wGuqZYWvv9saeE6uhic991nn1Byl1NPPcVYvk6d+kNExTqOdePGTSYO4RAkUuH7x3PPPcdMgW6PZ575RyOUMvbZkUceYX5PUMilwDwEBgIU3cJ/D5x04omh2HfkycQEVmH4p/Mh2NFSjFZzLCeddMIO9wP3NWYMw/DZlCIzjRjO+uPZwi8OGGOTgiGTQVx37bWhzydXXnm1MUr5FOu9oS9SunTpwu6lDJ8zrDIFvCdMmGD4MLvqLNynV155hXUYhhA7imCMU2b1cQusYOsWinln1rqkks26devrVgm9tkM8oEslhUiyPPa440Nx9KxKdbO9vvjiSyYBhnW8FJ8NmZRmZwkwrHqNeY7E2i4v2i5JCbFSX5i6sooa+W76ahh9FDc4HLbRXgutmvl7kIXbvH7trdjb24CaOh5HfLLY7A5jah1lt5lv/7ZsK5flm0pl2eYy2ZxXJmtW5MjiVdtkdUGN5FZ4xYNfPg6uOtxU5ZV+Kav0SWVZtbgLt4ivCt+wBKDg0Re2lQo/yFOwoXCSn78dcQia963Ot99NMR/0OUxaVVHgqFtoxUWhjn1N/2lWvSbpzz31mLz71uty5eUXw6pvhkz5YVqomcacH6ocoQ2yYWFyj8n4pVtfaczcI8W5vv5bso/X4uUXn5W3/vWKEZT+A+E2vFx5+SXyzpuvyV8fvt+sj5dfeS10eGdzohXmK39/3jz4xu7oIw8327fedEPoXG48+djDoXrHH3f0DscaWgfhFWf/PNdYvf39b8+YMVKMo8VjQ+UzCGlW+fzLX7etfa+8+i9YspbLs1iLnPsN110l8+YvxPX/0apinnm/UBysrzz1eHBuFAV79+oVmmdjxXYKwWT3+isvyr9fe1n2x7eN2Q38UW7o3vj2+ylGqLseojuv80vPP20E8Xff/yg09AcfedyI9TzO++/QQw42ojytILUoASWgBJRA+ydQV6izRmwJdrvDJdbqs77nT5Cp0bKqu/jiX7+sra/unrQvGlbszz7ztJkSrVY++k9Q5LLmSAsyFn5IuwoucZdfcSXebwX/9tK6zYEv/ydOnGjq0I10FoQzFiauKCwsNNZFFtf99tvXHKvvR1ZWljwEqyeW22+/I+TCatWdDS8SFgbSpyhAtz4KDSwLFy40z/X9sOLg0dX3ggsvkrv+cneo2tq1a0Pb3LgUmSUpiPDZKpwj58Vy8h9Oxhf8PYyAc9ZZQQMAfpHO0pTx0Z2WhWIhA+r/ngpdIy+77AoZOnSI8D6jeEUXdSYHobAa6ZKYlGiaZBw1isXW+9x7773PfFlw661/DnV5LARY/h5gScbnD4qILJbQuR9ipllrePWaNeaY9WMlBO9p8PbitbU+Y/bs8VsRtjFjYDZXCsZOp0N+nj0Tbvq3W90YQZFiHgvvKyZUoUDOTNcNFf6eZeGX4lZhAhfLOo5WgxQZLSMF1gm3NuM9d8YZwdhwOxPi7r//3pCYd/Mtt1jd1PtMo4fMzExz7KabbpEN8B6rW5YtW2buK8tqloksKKhbhWuHxZqbtb+tnp0xcdBWGM1/x7KtoFI++27JLoU6nhWNNrQ0nwAUq45VrF9I1rd8sfGpEKBs4nF5pLoMGWErvVJUXCU5eZWyYF2VbCn2SFGpWyo8ASl1ecWHTLBJ8VCIo2ziwuorhipcUBKQKpjduasqINYVBMU6hPOLhTLOYvUVKVKLlyw1v/QoSPCmDBfHrD5Wr14jFEX4WLM229odeuYvBJp//zwn+AeVVkUUgeqWqRDe2Mf1115l6i9ZurxuFfOaXGndxnTyixb/at7c2PPrbbSZO2lxSBfII484TOhGWNfMvbFzbwzn5gyRVluRKBSGYuGuvLNfyP0Rx4HWlLRks0pL5/QL4jJY66qsrNxqNvS8s3UQqoCNyy65UB558F6zi1ZyLLSc21nhuqQVXEkJsi/DcnTW7Dm/WavLlq+QiQcdAJP9bqaZA2EyTuvDJXDtDi99+2QJxb7VsAptTmnovhqON1lca8/+7SVzX1195WVy1hmn7rSbhu6N+UgTz/EfdOD+5vxOnTIhAP5DLrv4QvOasXL4JuvM004xbzLI/dw/Bt8wLMObaC1KQAkoASWwewjY0E2g7ieRRnS9M6HOOrWtBTt+uH7yqaDnxp9uuD7k5maNrynPjOPc0hIpS6jGjoNZEOm2x0JrufASbonD92J8DB8+HO6Bh0nXrkFrnYkHB8U6CnWzZ802Qp0V8+ull/5umqM4Q3fRhsopp/xBjj3mGFPl++8nh6ryvSSFP5bwRAEU1lgs11jzIuxH3feg1vg5dj7ChQuexuMs4YKFy+0yX5Byf3j9WFhdsVRW4vNQM8f33Xff/yYkiWk0wj8oNlkWUS1pmoYBkShTpk41FrWWqDV9+gy55NLLfvMZpqV9UWDiF9IsCxFOKS01LdQk47Sx8L22Vegu+82334Y+y/J3Acv77we/+KYA3a/W3ZTXLrxUVf3ajjWv8OPWdmPG8Nxzzxh33fGIz8YxWeK41YZ1D4T3w9+xDZVNOTnmMEVIq3BNnHra6cKYiRTqn4Nr8p13/cU6jC/Sf32P/cAD9xlhngfrE+J4L54GN3UWWifWJ76Zg/X8uP76a+vZK3ILhFRa8Y4bvxdC7wQtzq64/PJQXctaldaTLS2RWNtd+gw0n1dKyn81CMovrJIpP63G57rKRg2xc58drRkbddJuqkTLyhEjRpiHZoONEHTrj42VaCI5vSv8VT1SVVIOCzvE1YBrq8fnRbKIgFRU1ciqPLesKXFLQXUNxDkvhCubJMQ6hedX4LxiBEXMLXAbCztPDRJPuMrF73NhtH58AxE07176U1CcGbxPM97N1TPvyVN+FApOtAAaM3ok4lNM+02t76f8IM+/+LJ5zJwV/OYtvBLHNg7fwH36+ZeIgZZjHscec2R4FbNNIXA86o0cMcz8QZ6MdhsqdB1k3C6rNPV867zmPtNyirHIJkGkmlgrdMyEuBNeGjv3xnAOb7cx2xSdzjr3ItnQgl+itER75LEn5ZobbpatW7fJUbCC21lJTUtFAN2K0OGWzolutta62tJAnI666yA0gLCN5RCV6M56/LFHCwPd7qwwph3fDH717XfC8bMcdFBQxOI2xXDOMQ1zDS8pKcmhJC/W/uOOOUqGDB4ojz/5rLhdDf8Rt84Jf27ovuKao5tsTs5mefKZ5+WCS64wcSDDzw/fbujeYLxFjp9lKdzYuWbY3j33P2T2WclrrBgh3JlY+4bROmYq6g8loASUgBJoVQLNFZHo6vSv11+Xddlrd/pYuWI5/t4d2Krj31njH3/yiXmPweMXt8CqjqINLc1aWvg+gDFsd2c579xz6+VPl1KWQw89VF7756smS+T5551n3AZpjcPCLI0sjENI4eywww6VAw44wOz7Fu9nWHh+Y8rDDz9k3E3D6/KLdGttTJ48xRyitQ3j1bHUtU6rgfjKwvMY/4uFboTMcMkH3RwZoJ/xjsOLJcBMmz49tHvI4CHGtZE7GKePwjI9N76rFRNp3dfU8T377DOmfcbPs1yvQx22wgbXUrjQ2NwuuiGuW3PL/XBBZjwzq9CSlgId40jy2RKbmNSALpkUBZpTeC0oHFH0nTL5u5AAS5fm7yf/KgBfUnufXxJmRfn1198Y4TWnVthiTDWWN/79b1hF5Zl7mwIgCxNZNKc0ZgxHHBEM8UJrw4GDhgiTnYQXrhuWrKw+8DrpbITY/Q/49bNCeF1re23tF/cUuCzhlsl1mDiDsRvfe+8D+Rti+l191ZXmFK5z9s9CnqeeEvxCnhak9Qlx99/3q5h3080NW9WZRvGDMR9Z6G5rCaNmR50fvL8pWrJY8az5N8USHletWlXnjKa/bMnatnobesBhZvOnXzaY501by+V/k5chLv1vDT6sc+o+D91/559z69bd3a81G2wrELcSS1jfLHXqMhCJImIQcy5NbDVO/MHxS3yMU7pnJsio3rGSHoM/bgGvOKNgKed0wF4OwkAVvlGCSFcDyzpa1xWWemRLXg2+SfJLTXUZssUWQarzSCcE8GVZ9hMUQJQhwb/fZru5P/iNwWyo87SqOf2P5xtXPwoVdS2FaNVDd0A+Ljjv7Hq7OwFujLRs+gdcCGkRx2QF4WXlqtWmnzn4w3/G2ReYb3eYuMEyfQ6vy22OjSLUoIEDzKGmnl+3vZ29Zj/WNyd1v82eijdFLK++9obccPOfzXZdN1Hu3NXcG8vZdNCEH33g0nDs0Ufim9TMes9yRjtNYgzrIAP4ssTUWmla+7vgD9FB+CP04H1/MXECrf11n1euXBWyNovEnF5+4dnQuqq7Xqy+2U/4OrD2hz9TgLr3gUeM5djO1qdVn28yjoKV5NfffC+fffE/k1QiJjr47S3r0KqMFnWrVwf/UHOfx+M1oi0tLMOLDXFlbvrTdbCErRbG7mtqaei+4j1Iyz264r76978Z8fCNN/+v3i52dW9w3BSdOY++ffvIfXffYd6oW28s2Q9LuMuBJQDXnbOpqD+UgBJQAkqgVQg0V0Ti3y6KWLt68G/g7i78UPr000HxhG5g1ofC5oyjCgkNIpEtNykRieDwRdbuLPyC/4nHH/+NUHbMsceYfRSqTj3tDOOqeP4FiO0GaxzGAGbpg7/T4UmfJh50kAwePGiHtg6CC2JjCuML/g1JHeoWK9YYY80x6+QRRx5thEFmyLTEQrrSstBll1lraZF0ztl/NPseeugRxOO62mSrpOvjvffeZ9xpzcHaH3SRtTLNchcFo169espxxx1n5sIYXIcedoTp20qicSqsAVkaMz5TET+OOfoouefuoAUTXRHnzv3FOtQqz1xLXFMtLYMGDWx2ExThhta6b1qNTJs2Xa644qodvGaSYGBBEdgSYqy6jX2mmySzub788kvGZZnn0a2UoiCTGNC1koXXi1lI77g9+PmJmX0tESzcJZ8iIuPHhbuZUpBu6Et808FOfjRmDKW1mZYpjjD24uOPPbZDa+/UCoX8fTp3zmxZvWrlDvfaDpVrX1jJdfi7+A9w52Z5HnEgKTyzvPfu2ybzLK1sWf7xj1dC4aMefOAB87ub++uLVccv0E+pzSxL61rL7Z31d1bI8JprrwslhvnTn27YIdstz2NMtI0b1slnn/43JLpaGaaPP/64UNPW3EI7mrHRkrVtdTdwwoGS3r035r9Nps3ZJJOnrcDvqGrr8C6fu/QdJL2G/r7c4ncJpYkV7E2s3+bVeROzeOhAjZLVdx8s9r6wiEuUqlIvrOJs0rVzKn6ZdUbsgN6yVx+njOnmkKz0WEmNj8Z5ASlAfLpKuM0GGLsOb6JojVdUiuyvJT7xVMCEuBqWZYEa6dGtm+ljxaygRd2wA1qOa87c4DdmF5x7tjz8wD1y/z13mj7qxuYyO3fxY8TwYcadkCLDCbBuqlss99r777nL9HXu2WeaKnORnTS80AWRseoY7J6/4GhhxNLY8+mmy+D8fDAr6a7Kk8/8Ta64+gYjCNFdMFz4mvrDdPNNGdnwQetDWtvRGi287GrujeXc1LEzy9BFF5xrMruGj8faZkZPWt999c13Roh96+33zHzC3/DRLfSSi843LpZD8Mavblm/YYNxw6QF3NJlK+S42mvb2DnVbS/8dfh861pw7WwdhJ/PbWYvvf+hvxpXkSPhcrEKIhsDojZUjjn6CCMcM4EELfHqlsMPPcTMlYlUKC4/9OjjRtC13EjD69Pq7xqI2ZZgH36sJdsUhe+8+35jTbcZcSRp/m9Zx9Vtd1f3Bl16KXo++MhjJnbdIri+cw3vAytDFpr7j0Yikvc++I9ZKzMQT/LRx54yFrdDETBYixJQAkpACeweAm0hIkVyZpbHSXibn/z3v79a1eGDfksKRZHECIgiaanJSCLV8HuFlowz/FwGercKLf8fffQR66V5ZpZJJkGgBRkFKsaAY4ZdWodZlnWsaFkDcXvvvfcyrqQU+qwyttZCz3rd0DMt886uFdnsiLHNQks4xtZjgP1FeO9It9hDJk2Sd95+OyTsMB6Y9SGegh2/xD3hhONNTDSKeozvRRc9inDvvvuOCU4fPg66djFGHQvn8PprrxqrOYqRzFpJBhQiKOqMHj3KCByWBVhjxmf1RcGEohLbY7n2uut2cMe06kXqmWuJa6qlhckTmlsq4C7cq2dPExeNovjOHqefdprpgu7FLSkU4Xn9H374EZN0xGrrhBNPNi6x/AxHQZAeK4xdePgRv3pchSc44Tpi+eCDD60mYI22MLRtbfj8wc/a1uv6ni1Pt12N4Y477zLvi+mWTctWS2Bkmxw3LdJeefVVGJT4zJf4gYD/N4ks6vZPKznLIo4JPlgYZuYPsJgrqRUHuY9GKsya+8STT/GleQ9+8slBcW9nQlwwA2xQc7jlltvMeY39cc6555lrwN/Nb//fWzucxvuEDxa647/99jty+x1BLeDyyy8z+3ntIiF2t2Rtm4HgR3JmFxl/1CkYs12WLN8olTB4amyhgcVex54uielB46fGnrc76zEbLL8E4YPb7bE42uOgGhqT0xEcMm883twJ6ZnSN2uw/G/+XMndXizRyOgaExuA6THiNKRkSddAlVRXbpXtFRDpkFzCVYOHh78IcBxtObD4aG3nQUw7FxJNiNuLYA0FkjWim/nGZukMn6z6OXhTjTqo5bimwESaLrDhwf0nII00kypcednFoakHewy93OkG2+EH/kMmHQzxa2OoHn9RUwCgC+KwocEP/7TY+QgZQyk07Lfv3qG6jNHFb34ZI+2eu26XPsha2pTzH3/q2VBbVvZM/iKq7w0kKzIO2IPIJnrr7X8xQtYdt91kzt+4KUcKkX77CmSstaz7Lr/kQrnuxlvNXOgCGV52NnfWaSznpo49vP/6tmllVoA/FBSdWBi37IF77wpVbYiLVemLL78WPnr17CGXXnyByeLLY7uak/XL32qnvufw+TLrKLOPWqW+dWAdC3/+8quvzctt2/Lk7vseNNvnnHWGnHzS8eHVdtgmBwqv/PaN86pbeC35jdSXX31jxCvW51oa0L/fDlWt+4JZhmklagmY4ZVq/waG7wptW+eHdoRtXHrRBcY9mQIbCzPPXnzh+WE1gpuNuTc47ltuvF6YAfaxJ54x355xjseGrWFmun0aWY///dY7Rnjkfcdz4uJif9On7lACSkAJKIHWIWCJSD27d22dDlq51brZBdndmQiazkckSlFxiaTWhnVoSXuZsC7L3rCpJU3s8tyXXnxB+KhbTjrpRGSxPHGH3XRD+/g/HxpBiSIIMzDWLQ89+IDwEV6YOICPhsry5UExpG6dv0I05CO8MKYdH/zSk58PrBhzVh26KHJO7JNfAlrWWaeffprwwfPoPme5MvI8WgBu2rjeakIuuIDeNdWhcBvWgZEjR4YYMPMnXQPrlobGR3EvvB+eS6a7o+QjeV7frF4t7mrixIOa3cYrr/xTnnn6KbkRFlQNFUuMoiDblJLVZ8f3wDs7l5+JTzwpKD7Rimz9+vUh6zLrHIpjvbP6Wi/NMzMa193HA2PHTdihHl8MGTp8h311z9vVGGjZ13/AIKFITJGqqKh4h/b4gpaifPSEAMoMx40pjDX3n48+NDEn99prghG5FkB4HDV6rFnP6RCKcnJydmiKloX9+g/YYV/dF7S2q8/irm49vqbLc3ihOF732tXlFV6f2xTShw0danY31uW2bht1X7dkbVttUXAbD8GtaNsWWTT5c/HWNE6si0Z26b1P+KOMPPT4kDhptdmenjtCNlgbPngGzcbaE7ldjIUm+YzdEAOXQ5rmV+CGf/rmq8WFZBHbsF3uqpHUjGT8Auolo/onSt7KRbJgTZms3uaRwgo3xDoGJXVCTIKghL4SnHZJT3TKiJ6x0rd/lMT36ionXf4PSUpKk/v+4JaVs21y0vUB+eMdMbsYmR5uCgEGQA1/c9GUc9t7XVp91dR4VHhpxoVikgfLXbQZp7f4FLe7BmK1P2Jj2NV8+CaO7rJWzIoWT0AbUAJKQAkogUYTqEBQ9p/nLZTDJjYcH6nRDbaw4pffTpXjjjykha1E7vTJP86UvcePjojL4aw586Vfn95ISpUZuQFqS787Ann5BbIOwu9+ezffKi4cGhMStMSSaVeu7vyozfd6WlqHAK1PkxKT4KGz7DfCXOv0GPlWmeiDbtX0wpk5c2aLO6BwSREzUsWPz7XLpn8jU958QSpLihpsNjmjixx+8Q0yeJ9JyCdApaX9FlrUWZamtCimm3J7Ky03FWuDGfFDLcU6N8QQfgOVmJ4mp15xrbxw/91ij0YQTkesREGGi01IlxJHZ0kZnSlDEreId0m2IJuEVCGxRBTcaV043wdzWwfEungknXA4o5ErOSD7HHapEeqWzPAaoY5THBkBq7o2QNWuu9xThTpC5x/uuLiods2/vQ6uLYU6Mom0aLar+dACNdJ9ttdrq+NSAkpACbQ3AomwJorHF78UAFRE2vHq5G8vlHhYe0ciNhhb7tWzu2xEPFflvCNnfdU0AlxDXEuRKmeddWaLxLpIh2WJ1Lx+L+1YSSM68nzpit6YuHiNnSPXdCSLHZ9rR046VvqMmCBzvnhfNixB/P3SkqClHVyanNGxkpCaJv3G7S8TYImXkJIWye5brS2GCaB1HUt7zQbbIcU6JplgwH43zNarkREyCW+0hu97gJx08WXy4pPPSwzcW53OGKnO3yplyHRTlpkk8WldpHu3CrHBYmZzfqGUwR3WjayxUfiiI9ZhFwf2O2OiZPzJF8jAMUEf/4+e9OHSwaruhoCMOFCFF7OS9YcSUAJKQAkoASWgBPYgAioi1X8xN+Rslp49gvGb66/RtL10NV63IUeF0aZh09phBCiqu+BBFUm3dcaUe/XV1xAPbmVYT7qpBDomgSFDhgjXdGuUpMzOctgF14qrqkKqy0rFA7dYROETR0ysxCenSgzcX02ssdbovBXatLLBtkLTEWuyfdsmNjDNuNgYY73EbzMq4U7JcvTpf5SLb7xZNheWStn2MukWnSydRu0lid2yxOPySRqs8XrEO5At1oEYFV6xeQSusAjwiDgOnhqbHH/pzTL+yPNMW/edjEw5iFU3eB+4v96u7q8Giv5QAkpACSgBJaAElMAeRoAf/CkAUAjQEiRAqzo3mPSKoFjHlgcN6CMr165DuAklrQSaRoBrhmuHayjS5SYkiNCiBPYEAq2+lmFJF5uQJGndekrnrAHSKau/pHXtITHxCR1KqOso17rDinUETNN8BtVnvCdLsPvDWafJe//7VEZNnCjF1aXirsgXZ3ExkklESQqCTCakpUki1F8WOMFKl7QYueyCP8pLn/9Hxh0WzPD0zqMuWVmbVOL0Wzqk8aGZn/5QAkpACSgBJaAElIAS2DUBFZF2ZLRyTTaSPGXtuDMCr7oieVN6aoosXbEqAq1pE78nAlwzXDtcQ5EuRx99lJxzztmRblbbUwK7lQDXMNeylj2HQIdMMBGO30vLuqpqk730yxecEOkcMvLAoMBWABfYrdnrpHDZcslDumz/1gLxusrFnxQnm6r90mvQADkK2Rm7IagjC2PU0fXVyv5614f2UFvhfeq2ElACSkAJKAEloASUwJ5FYMnyoIA0ctjgNptYe0gwsTs4MNlEp8x0GdCvT5ux1o47DoG16zbI9oKiiCWV2NnMW5psYmft6n4l0NoEIp1UorXHq+03jkCHF+s4TR8y7Cz4wS1PnhOMKzdk34CcdrOj0XHmPnzCKxT9Pn3OZqjR9fWej53C2HhalIASUAJKQAkoASWgBH4fBNpaRGprsW7t+o2yHS6w+0wYi1AxwffFrXHlXW63zJm3WLp37aSCXWsA3oPapFCXu207shKPktiY1g1NlAdDj/POv1Dj1+1B6+f3MBXGqXvrzTekS5cuv4fp/q7muEeIddYVe/ev7pDgxn0U3U650Sb2KLuMOCDKuMxyP1NoU6Dz43nFrEDIko7HmExCY9SRhBYloASUgBJQAkpACfy+CFBEmjp9tgzsl9UmIlJbinUU6rZuzZcJY0cio30wZExrXn2yXrBomSQmJsiIoYM7Ulzy1sSibdcSYIw6ur5WVFTK2NHDW12os8BTsLv6mmtblCHWakuflUBrE6BF3UsvvqBCXWuDbqP29yixjgxpZffgKZ5QzLnGcj3p+oCc8We1pmssL62nBJSAElACSkAJKIE9kUBbikhtJdbR9ZWiyJiRw3aLUBe+bth3UUmpDBnQT7p0zgw/pNu/UwJM9sJkEoxR11Zu6XfceZe8/fY7v9MroNPuCAQYo+7RRx7uCEPVMTaTwB4n1lkcaD23eLpXPnnaX69wR6u7IfswG6xNzrjNGbK6s87XZyWgBJSAElACSkAJKIHfL4G2EJF2t1jHrK9MJpEGUWT40EFiR+K2tijb8rfL6rUbJDY2WrJ69lDRri0uQjvokyLdxs1bTHZmJn1pjWQSTZnm119/I08/86y6xTYFmtZtdQJ0e2XWV00m0eqo27yDPVasa3OyOgAloASUgBJQAkpACSiBDk1gd4tIu0uso0i3IWezuF01Jutrty6d28V12py7TXI250qVyyWdMzOMiJiclChxsbHicDjUVbZdXKWWD4Iurl6vV6pxncvKK6QYlpX5BYUSj+vcq2d36dm9a8s7iWALH370kbz33vvqGhtBptpU0wnQ5fWss86U0087rekn6xkdkoCKdR3ysumglYASUAJKQAkoASWgBHYXgd0lIrWGWOdDErWq6qAoUlRcIhTq4hGTrmePbtILj/ZYKiqrpKCwCCJOmZTDPdcFUYfiDjQeLXsAAdpvUnyNhTiXhJiFaanJkpmRLokJ8e16dtnZ2TJt2nSZN3++rF69Rrbm5mJ9VogfYZi0KIFIEbAjyWVSYqJ0695dBg0aKOPHjZOJEw+S/v37R6oLbaeDEFCxroNcKB2mElACSkAJKAEloASUQNsSaG0RKSMtTQqLiyM2SZvYIIpEGcs0JnJITaEokmYEkoh1og0pASWgBJSAElACESegYl3EkWqDSkAJKAEloASUgBJQAkpACSgBJaAElIASUAJKoHkE7M07Tc9SAkpACSgBJaAElIASUAJKQAkoASWgBJSAElACSiDSBFSsizRRbU8JKAEloASUgBJQAkpACSgBJaAElIASUAJKQAk0k4CKdc0Ep6cpASWgBJSAElACSkAJKAEloASUgBJQAkpACSiBSBNQsS7SRLU9JaAElIASUAJKQAkoASWgBJSAElACSkAJKAEl0EwCKtY1E5yepgSUgBJQAkpACSgBJaAElIASUAJKQAkoASWgBCJNQMW6SBPV9pSAElACSkAJKAEloASUgBJQAkpACSgBJaAElEAzCahY10xwepoSUAJKQAkoASWgBJSAElACSkAJKAEloASUgBKINAEV6yJNVNtTAkpACSgBJaAElIASUAJKQAkoASWgBJSAElACzSSgYl0zwelpSkAJKAEloASUgBJQAkpACSgBJaAElIASUAJKINIEVKyLNFFtTwkoASWgBJSAElACSkAJKAEloASUgBJQAkpACTSTgIp1zQSnpykBJaAElIASUAJKQAkoASWgBJSAElACSkAJKIFIE1CxLtJEtT0loASUgBJQAkpACSgBJaAElIASUAJKQAkoASXQTAKS4LvFAABAAElEQVQq1jUTnJ6mBJSAElACSkAJKAEloASUgBJQAkpACSgBJaAEIk1AxbpIE9X2lIASUAJKQAkoASWgBJSAElACSkAJKAEloASUQDMJqFjXTHB6mhJQAkpACSgBJaAElIASUAJKQAkoASWgBJSAEog0ARXrIk1U21MCSkAJKAEloASUgBJQAkpACSgBJaAElIASUALNJKBiXTPB6WlKQAkoASWgBJSAElACSkAJKAEloASUgBJQAkog0gRUrIs0UW1PCSgBJaAElIASUAJKQAkoASWgBJSAElACSkAJNJOAinXNBKenKQEloASUgBJQAkpACSgBJaAElIASUAJKQAkogUgTULEu0kS1PSWgBJSAElACSkAJKAEloASUgBJQAkpACSgBJdBMAirWNROcnqYElIASUAJKQAkoASWgBJSAElACSkAJKAEloAQiTUDFukgT1faUgBJQAkpACSgBJaAElIASUAJKQAkoASWgBJRAMwmoWNdMcHqaElACSkAJKAEloASUgBJQAkpACSgBJaAElIASiDQBFesiTVTbUwJKQAkoASWgBJSAElACSkAJKAEloASUgBJQAs0koGJdM8HpaUpACSgBJaAElIASUAJKQAkoASWgBJSAElACSiDSBFSsizRRbU8JKAEloASUgBJQAkpACSgBJaAElIASUAJKQAk0k4CKdc0Ep6cpASWgBJSAElACSkAJKAEloASUgBJQAkpACSiBSBNQsS7SRLU9JaAElIASUAJKQAkoASWgBJSAElACSkAJKAEl0EwCjmaep6cpASWgBJSAElACSkAJKAEloASUgBLYIwlUFW+S4nWTpWLrfCkvyJaKilKJsXklCuYuvoCIX2zi8tjF57dh/jZxRvklzuHD8YBU1dikxmdDPZu4vdHixXG/X8TrDYjLlyCV9u6SU9FJaiQe54vklHikBsecdps4ogQPPNvtEu2wS3KcXaJs6IPd+L0S4y6XQCAgfluUYBgi9iix4xGw2dGPXQLYTnCVSkZ1kfhwkg/1fGjLH3bch3oOR7n0jZkjknGwVCQMkZiYGCkvKZCksrlid62RbN/eUhzoLegM7XOKAYl2RktcbJzYMJ4BScvlhJ7TxINxezA5G/sCGA6TP8xz7TbHGcA8gwMOHuchFkwZ7fFhM4f9/oB55n47D6D4MQYHtiu9Tvks9xQprMmQqupK8PSI0wlJAx3wbHsUWKCew+HAdcCI+MBr7ovCMR9g45KYa2jHpGxgE4ULGkCfUWAurmrptfwbcfpAEhfCD05RUU607ZOCTgNknrOfrMmvkso1M6Viy4rQeB1oA12gHXAwsMywxe/zSY27Gv1iBaCvaD+uiAGButGxEoiKDlZkS+Y/SVklOHe+smFsAS4602PwOOe101I7Z+s4z4zCuHwYT3Cg4f1YtdA6OJuCJ14Fc02wzzDkwge8AMYfqmedyqGEN1n3de1hXgMyMufXUyer3wCZdPRJWG/BuXE1sW6wP1xHcz2xLnDnOD35WNtxuDLgaAdHG9YB1jjXD+9OPrMZv3At4JnrqnbsvOd4BDvMsDltP66Ny+2T6hrcHTiR64OT4rpi/2yWyLk3MTFRunXtJAP6ZcnI4UMkMzOdDUa8qFgXcaTaoBJQAkpACSgBJaAElIASUAJKQAl0RAJlhVvEtfgp2br4U6msCUiswya90u1iT/51NpQDLK2BH/S5TWEgtD8eH/7xogZ6QF6xT0qqApIYZ5Mil0/6ZHaW/Njhsi0bAh3qeFFxWW6lbK/wGPGAmpERC/CcHOeUo0dkQAisFQpqXNJj+RSJriwVP4UPCHM+R4zpmNvlmVmS33uspFYXy4j85WKnOIGxGckBAwxAbTDbeN6YmiaBGIhg3gJxV1dJXFycOJwxEEASJcbhhLBUHRQqODvUp/gVExNrxkbhw+vxQCzzS0UgXcoDmea4D+MUiQ6KZBQQfW6AcEOgcQulr2iHB2IHpUI8IP4FIJB4AjEQEmONaCkQr+wQsShyQj4LcqXIhH7Sbdmo65dCsMyrcokLcGOcTumZmiq9OqdA0BRJSIrH+BwQ6yCy4TyKdxRY8F+cEPA8EPf8EL1iYyCDYHzkgxPMtaKgRyHJObir2KJjIKQ5MA+Ch5hXVSGJEO0youJlVHGVxBzcXyrKyyQuxmmuXzyefZ4aI/iQI9cEZaDqykqZ8d1/JXv1MsnI7CcTKrdKfFm+uc6VEw4QV9ZIw7jG4zNCGnmiO8wcVThujNfurTH8KTTZMCZxkBEFRIyXF5dXFHW5TYHJgWsXBaExmmIjdhqhF7U8XJBoIwpz8lK0w/l+zh+Fc+dhXlMjaGK/n8KjaTcodMbGYp2xLsZHTh4zX9TDeRThKH55PeCHsXEbVTAmHGQ/eGFEN7wKrm9Mg+NDHR8a4FwoCEZDMDZCHfqF/Blcrxw2m8FrcwxbMd5C6eqeyp1Yr7HitSeJx5Ys1bZUcdtSIFpTxEsyInUggLmiAbKonW7tHANSg/sJXbF3LAfKcEFR04a1yYnZILwHBUsy4lG0g/3lFZVSvrZKstdtlOk/zZEDx3aRffY9UBLSerFSxIqKdRFDqQ0pASWgBJSAElACSkAJKAEloASUQEclMHvOL5I75Q7xl66WVZu9MrCXQzZu9cikEXGSALEtHjpEQoz51F77IR+f6YMvaadjrG7MAXzWN6IE9q3J9cnovk6ZvtwlY/tRaHFApKOgUWPEAy/MfDwQkPiw+7HPtMRGKbT4IWZQWKF0AYsxCDcU6mKrS8UG0YAWYQGoJzajZkBAgxDj6T4KCobHWHBRIEMzOJN1g4IMRQcb2rT7UiFa2CF8FEPccGEbQhbaKYf1WhpEE1s19qEe5wXlA2IjhDoIKm43REW0Ybd5IADZpDphpLjiDkB/sBrDeIPKCjoNoJ6vDH2VS5wvV5IDuZBQqiUmqgZ92cQbcEDockgiBBHIUVIEK76aqEzx2+PQPi0FaS0FsY1WU/Z48VYWSVlZgXy5uEC2lKFdnNOna6qkdo6RzIwU9A9ruOg4SU5KMPONonUdRBc75woBkEIWxSmyoIBFQzUH4eDBfTaIXHzlT4qF2OXAlIMCEgU/Wsb5PF5JgvVWjy5pqARhyus1FnzuGo8RyGi1ZsQpqm0oHrz2uF2oe4Tk5+VBY4uVDJ9TEivJPyAlsM6qSElD2xBMsQYoaHGMkAZxdnBMqSumS/KK2RKA9aCfyhnEUm8yGKV1kspuQ8Sd1g19UkyDoIk243CNoiGWRcfAAhICIk9hoSUZx8aXQTGOr3llgwIYVocRzriPa4AiGgUrWpuxTjRZog9aKlJk80HUKyuvFLcLAiWZouGgMIchRsOS1AvxEY3YjKUb13BwPmjMtMs2oqFAc+5cuhTA2AjXJsXAYIO4KtjP4yTCwXPsQSEbomPADVYeiMpYC75trGGo4YjU2OJlreMEXIMk07YPY4ymcEu+aN/Gmxb7NqxaKvlbc4A1DsziJKVTD0nv2tvMiZ3aA0Z9rh2PGUVwLBgUWcXiekRD2M1bM01WZt8nSxJulQsvutSMJRI/VKyLBEVtQwkoASWgBJSAElACSkAJKAEloAQ6LIEfv58in333gwyO8oi7OCDH7hUnVS6/5OR5paDCL0s2QciAuDCmv0O+mOuW4ycELdqS4oNCCT/FV7gCkhxvk0QIepRCKG7RomnJJo9sL4NFWKlfeqXAggkmaLQcg3qA/0ERgIKbHYKX3U8xjGICzoeYhRdGPAlAPIn1wkINohrVF3MW1A3LrZLgvRifu8ZrhCQ2QKGD7dJKi9sUgigU8QW8/dC+UxIgurE7VoqC5VYpxDooEOIMlMM114szYK0FoYZWedXuGmomqA+xLWhGxxPRJvbTGomdGFWlQgIQAaO92yXVv0GSowrh4gsBB0MvzakWVwkEHAiLjkT039kJ0aNCuspyqfJnSGkgS1ywjsLg0BQENIpfcP81lmXo3A3rM1qN9eueKsP7dZH+PdIkOTkRFpCU1yB8wWou6IpaK7bhShj3WLCisMXC+dKt1mzjHEpJFJY4dDJgoWbEuVFAo7CEH2g3aKlnjnCqOO4PxOKZQhN7DwTFMLyuwXWohsjWd/BYOeioaslevkJky2ZzPXimB+KfBxZ1FMeMFIvxBYXZWoyA5SjOF4erUgI16J9sy8slunC7yHq44A6skJoJx4IPRC9c08T4WAiCsKrDeLt37ySFlV7JLSiXJFhnllbUSEmFC5aFXsOOLr/xsdGwWPSZuVXB/bMSwluli+7YuDZYX2mJ0bCwhLUm9nVOjTfHkxJiZO+h3WTrxmzMwwsrOoiacPPFtA2bKFg6GhaYiz9gl9Iqj6zaWgErSK6j4NqIgaXquH6p6NdhhDOuWZyM84Jr2g8hzRL6jDUe5m2s24xwhzpYFl4IgcTBtQ8Jll2aYq4j+nEGMCbsp2A6f0OpbC1xSwbmM3FoprlOFOxY1485lJUUY32UYwfagfVkcnontIfr53GZPmhRysL+omPiTVccI0VRWjEakRLt+LFGr7/uSsndmi933nmnOaelP1SsaylBPV8JKAEloASUgBJQAkpACSgBJaAEOiyBLd/+V6Z++zPcQOHWCPGgotovv2R7JL8IQl2ZX7pnwKWRPq0oWwr9UgZXzLVbfZJf6pPkRLvk5MO9tasDgohf4uktCFEoARrOgUNheQNxIiM5Cm1CSKI+hw/2HrcbQgFFFghPEIKS46MhikDQgIkZxQcKCVQygvIPxYqg9VGUr0aiIApwRwCWQpQ/oiioGaEIGh5euyACGbdDCCABWLrZMBaKHVBxjHUW3SDZfHRKpgQSHRIXD4ssWIw5GPsNLqzOWFgj8dlWhTnDCk4gpkWjjWqKesFYenaIPRTN2E7Qoi5ogcUdAQolniJxerdJRmCdJEXBChB9V5TaZNX3xVK0ooRqS1DkwP603vHSc/9MSe0TI8k2iFNeuATbh8E6CoIdZ+iHsgLXVsoykMYMP847BuPt3TkZbOG+S0stWpKhHosLfJ2Ir+fE9cQQEYquWuIT4oCUIhosAsGIgk0sXFbJknWIiONHB7UCDEQ0zhcPI9hgrIYjq7GgqgfipReCG497cV4cLK3YMPVQD+LfcYw+WLmNGDNG4pyw7tu2xFwr0xnatcQoWqfxHM7XSI7YtmFt2ODO60hNQXw7uOXiuuHKgZ0H66Sm9nph7OgvLi5G4iHWUbTj9WVb383NlumLNsohY7JkzZZiKa/2Svf0BFw3r3EbdrthTwkOiViwv6zcaoTYRLRTUU3Rrkb2HtJDMiHSrckpkEG9YcmHfT8u3CTnHOmS/nFlqO+VNFj4uTxVcMnGtYNgmpScJPn5heALVRaFQt/MNUVSirUdnJ9ISpxDhvRIhrgaXD/QC4GSVnhc47UiHF7wNYux6EMNWqCSF9eBG/PfWuSWyqpqY8EaB3E8Bqx4L0U7cb1wzxn5D11sLXbLZoh1cXDj7dI5XVw4pwrrgSvWjnuE93x6ZqbpqwZWq8vn/CiZvXvL6o2La91kOZCApOJ+GT78EAyWgijEOtwzHLvTgTFxbBQAwf2uu+6STp06yWWXXWbabMkPFetaQk/PVQJKQAkoASWgBJSAElACSkAJKIEOS6Biy0ZZ8fJj4u87CQKBQzqn2GWfbrGyeKMHFkBwW4Xl28zlNdI5zS79uzvx4R9WR8l2SU2ACJfilC1FcLyDOFCB8GyThsXAYi0gkxe7jFUSZYhYGBtlwNquBu2OynJKMVSLAKznAvh0Hw8BISUlWUb542TCULhIxlKQgWADkYGxv2LwGNAlwQgQjNsWW5kuyWkQ/SBO+WD9ZmdMMyN1QNCDUJCc3AWx0QZKRk1PSYnaSxxon3HObPHxCAcHFRHxzgIQtDwQO0ZEw7UUfdk8JWJ3x0OkcUEHckp8EuJ+lcdKvKMMQghcOyHWOWhtRmEDIh1FFFqEMc4at43rKyQUWjLRsVT8cP30IcYbXF8TnaVGvKIV3uaF1VK8tByJMyB2RMMaEVZPbohFeavKpTS3Woac2EO6DgEDByyx3OulRAbC+o72WHRfRNsQtGxgRksyF8wCq+GOW1jmktL8pRILV8ijjjxEVq5cKpWVVRDuYpAAoJt069EdseVKZeniZTLp0IPhwgvhJmeL5OTkmBh2++67txk3Bbz4eIh5FEAhGK1cvlJWrVorCRD4Ro8aLl26dDHCalwsXGQh2rnAioLRpk2bpaCwCCIQXFNx3uCB/aFD+nDdYmTGTzNl5OjRcLelNZ5NunXvLP70NPHkb0KfFIAgOELoYgw7Wg/6cV1obYhBQFS1S6UzTmIzOklsZiI8ipGggqIrxwdRShBj0J3aGVWDYlMc5ssmaVUX7UT6BViybdhaAis5WHtCfKMlYqdUh+w7srd8OHmxJGGu81ZtMSLc1qIKSYFYHI2us7qny4bcIojObsRarDSWeBnJ8bJ03TY5cFQfiFM+2bStTLJ6MfafD+vQIdHxSeY60pXViX4qqiuksrwC7JLMvAOwBrUjNhxdvLlGbdHJxnKPrrIU1ChOozEcg/KF+ItBC8cgH4qrwTWGuWGCRsSmYIe+PUa8o6UlkrbgEXThxf0ABolxSPKSActGuC9XI44ehWWue4qvFDSDFo1YT2Ddu28/GTl2PMabIGtWLJfZM6ZJEq5nRUUJlzx6DYqqfL2poFrmbSkDTzssFqONtd4BgzLEnxgU1DlWlquuukoOP/xw6du3b3BHM3+qWNdMcHqaElACSkAJKAEloASUgBJQAkpACXRsAqvfexVCQTBWFxMe4LO+JCBMWjms51LwoZ+Wdp3SEQsOz2tyYU0ES7r8Eq90SY8xQtzqLR4Z08cpy3O8ED1o2WaDgEf3QrrZMRYdPvCjTSNnUawgLggTjHkWHRclXREDLTkzQ1IS4yQN8dKgT0g8hIBouBgaV0Gegf+MjRbj6COO8WOgXDCJACKuQXigYEMxiIH0TVZYVKYoYRILIG6c2+WCwBS0tmJ8LQpD0RAxYiB4+CEAuWvSJRWDjIeQVVhQAGuuaEQCi0dsOY/JbmtDrDWKdRQi2C7nRLdYeFdSPwuKLLAW5CAxW8QPq0IMtlKE9y/AGMCVkgyElZjKKOnVtbPJcsvx0qrQBQbbi8vEVVEh638olLSenSUxGS6d9hKpQhsuJHQIsG3Mja1juigYP8QSunH27Z4iW9fmQIDbLIWFpbJo0VJJhyDWO6u3EZZmz5xlOG/btk22bs2TRQsXSllpmSQmJUkCxTnAnj17vhHe2N7EiQfSlAuWVy4ZMKCP9OndS5KSEuWDDz+Rzp0yjTg1dPBAWbN2rRQWFSELKEQ6CGlMWEGX0hk/zYJA5jHnFeTnI7HEKghZiFk4ZqzEQXit7NZDSlcswjWgIIvsuojB1z9ngRFomd0XE+UEpQZWeEsHHCC2ynJ4AJcjuUkqhCy6XMKVuKIMChyENFsCxDmsFVjUBeO44bpDTHVCrKOYi8sFXn6IblWyZGOBnHrgYFghxko6xDe6N3swXopva3NLIFDHy0C4E2emxsqSbGRaBd+c/FLp16OvzFm+GbEbM2Tlxu3m2qcnxUAQhZDL9Yc+nFhTdlgxskPOacasryRnS47sv/fhYo/tIVGeSol2QxBmshGsHWc8rDgx76T1qySKIh6TPHjc5lE+4WjxIA4fx27mRPGSd47BwjuIc8ILrB2uBY6TYrET86asy/VPsS4pwSllOEaNlyc7cJ1joEbyXN53HAddWaOQ0ITXLiOzkxE6aWVnzsBxtpOOJCy8d5h1uBqiJ86SCljY+uEeX1DhlaJyt+zdP92cy3vcKhSin3/+eXnmmWesXc16VrGuWdj0JCWgBJSAElACSkAJKAEloASUgBLoyATKN2+UzVP+J/EQUqg8Mb4cM5EuhfBmhyCwuQAWOVAOJo2KlS3bkXCih8O4hB48AhZA+OhOUeHU/eCGiee9+/GDPuLK4enM/eMhAlATCEhhOSyuurM2j6JAqKLbnxeCmbuyWrZtK5QUuuH5XLJy6SpkXI2RMWOQLTY3z1jdde/aBaKXXaZOmSLjRo+Qvlm9jNiyeNES4+6ZjmyoI0cMhVADSzsqBhCCKDTQVc9TAzFq1mwZO3a0LFu2Ug6euL8RnCha5OcVyKYNm2TosGFw9YVggnHRcswE/Y9KgRssXFSj3eKhdV6tSGeSIGD0fA2pEUIGCEAgoSWYne65sKoLUKyDpVssMr8aBQd1KerFUQCBiGSUSx7B+BLx2p+eKlsgFLpKEFOtDHHaUqMgBNZAPMyHK2wGmMFVlQUXAk3gmewozQSkDBZgtHSj2LJ2bbakwA2TQlxJcYlUu9xGmJkwboz8OH2G/PDDj+AKSzcIhzk5m4ywVFpWKWuy10mfPlmydPlqGQ0LK1rYuardsnDBIljNFcu+e0+QvO0FcvhhB8vnX35r3CYpeEYxKytEzGq4hxYXlxrrsm152yHqZZjMumxn4oH7ytQfIeBhfjFgGxg0TCrn/4R5QnAzhXaDkDPJBvOxGyGJVmB8BY/Xou1SXZhr1hFf0zUW9mAmi60vPgPXMrjmgmDYIN1FIQLCHTQjFWIehDiKzDgJwpJLXvtsnnTPTOYShMCF5CIQtOjmy+saDTGLSUSG98V6w7VhfMKtBWUQMhGbDtd5/upc034nuNL6y/KMYMZYdEysa1nD0b24pBRur2XFELfgehwDF2FkAqZQZ2LrgZkPbqSO4m2SuHi6OY8aVxTG64cY7fZi/WBcVmKKoFss5sx54940D7Biopc+nWJg8xm8l3iPmvXBtYZ9fljIbsE2jOqkDBmYaVln1gzETt6FdKklFl7H/LwtsnDeHOO6m791K3aSNIVABwRdJCvBtcjdthn3FhJ3gBfj+PXpmmIE66KiYmOlamMiFEINK5999pk8/vjjxhU7bHeTNlWsaxIurawElIASUAJKQAkoASWgBJSAElACewKB3J++hxDGj+/G+MtYwflgcTOmt0MOgkuml+Y7/A/xIimWGTFrK+MD/aZCn+TiMXEIs5WiAeyjAMAqg7vzY3bQnXXS8GipdOMARDQj2cF6j1ZllGdYKiAMBSqqJHvFKhk+ZIBx1Zw162fjepmAmGpbNgfdNpcuXY7jA9E+xAaIP7m522T82FEQp+IhFhXLL/MWGCuwcRDmtm7Lk+zs9XABrZDS8jIZM3oURMBoY2U3be48SUxIRPudZfGSpVIAwaFrrz6SlJIqTtRhZszqMsRAcyB7qbNA8mz9jFhESyxa1hnXRMwESFAwL25zk69hBWfzIlZboBL1eAxojFWcXaqqfFKMJAcpcMl1wlqJLrC0WIqFVZYDAmU0hEFoRaaYLK7I9mmy3BoXWEhzECOjYHHGLKfRNRBZCiskr6hSnEiOkAnBb/XKVXLwIQdLXn6BEStjMY8ScFm7foOJU9cbccg2bcoxFnBREFwo9hWVlECci4dQ45UhQwdLLKzrOK9YDGTI0CHSFUJpFa5PSkoK+sYYEZOO8QFXwkW2D9qLjYuHFdlWI84x4QDrF6LPefMXGaEnGnNjmxTCaGHo7D1EUg46Uoq+/RTiDtjgB1eFLR1We/2HiqxbLv48imJGC4P7K7Kt1sAiDaJSkG/wiccpUzngCk3hl4IlBTpeG7bnoFUYLOAccM/OTA4mhSithPgGK7tuFOvwj4kkeIUGIFEHxduNcJv1eAKyDC6vXPbjB3WTJevyEU/RaVyO2aYdVmxxsD6jdRovCwU/s5YhoLLvSqzjlKQ0yXPmmflx3O5YxLvzpxgXX675YGIJuEfjmsekZyBGIuMGwpqwgJZ7GDsyHse4yoJiGg7QWo/is6/2/qqB+7YzCrPEPcR7zgh1ZkYYtOFpdkNMjUJSk2AsO1rWUTin+zfdZzk/jo0WogX526W4oNC41tIijtaGFAfp5rwqexXG68Q21kByuuGKpozYhxFJwF0JsbbKjJ/Xs26prKyUVIjpzS0q1jWXnJ6nBJSAElACSkAJKAEloASUgBJQAh2WQMHiX4ylEj/keyBe1EB0oKthAhIq8EN5NJQ3fq7fWh6Qj+e7Zf9+DhkG6zrIBLJqi1emLqqRfQdAkIFe54Vq8NECl4yH0JeV4YBlGoQ7NNIJbrPwapXMJLgx4jzqLnRXpACRmZGKzJ1wpYR1WuGmgPTolQXLL6/88P13kgYXvIqqKpk7d77sv98+RjzwQkCoQfZNNx5bcrcYi62xY0aY+HGbEIutf7++smjJclgLbZdBA/vJT7PnQrCxY241sm7dBukCq68pP/wkR8JKjEkA4hGnq3evnrIImUpHjR1nhKyExETJXueWLnCZjEOWTJMJFuM2AoeRgoISnQNqDedDcciolbBmMnZORoiEwEJxElwptjCZhhNJCGwBjB0CHTw1jbhD0Y5CChNBwB8Sj1rFA092uPAGW4e4Qmi4NtEp/WSf4f1kG5J30lKqDK6Jg7v1llH9OsmQft2lW7dM6Yp4Y4xF5oyJkx7du0oJBLmD4N7aFXHnNmzYgGsSZSwWKRS6YBV32CETIfBtlx6Ib0drKl7xAf37yaacHCNuUnQ85sjDkGAgSY44/GDZDPG0f98+8ERFYgUIO6NGDJNkCJ2JCYj7B3feTsjYSiGvGnHluK5o9ehBkoySsipYgsHCqyAP53GdwaqO00WdoFg3THxbNmBHcNYUKm1YC6xiGKMet0wBYwp1PqwhKkVcSzzCOIIYEoQ4xvTzCbO89u6aJlWwgPt+7joch9txSaUkI6ur6RsnDe3XVRatyUUcQFi2UUDF4ua6Z3eMddc1Pcl0y6y72bmlRniEDaXh5IRA6POyf7zGtXPgepZXQWjDIHjtaelJ917G4yNX/jP/8eRHRx5Y39mZIhhHfRC2KBomlW6TrJUzfp0q2qFAiuUkHoifGwbuJ1HQ96LIB2eyPf4wdLiNDTpNA7F4sGaqEN+Qa4Xx/NxwK84s2Cxe9Fv8/+y9B6ClV1nv/ex+epk503vJtDRSIYU0QZpiAL0qV1HAT6/eq4Be9YrwYf0EvVJERQGVIk1UEEICJJAKgfQeMr2XM2dO3/Xs8v3+z9p7MuUMJMxJMkPWO7PLu961nrXWs9Y+Z7+/85RMj4M7fd7qxFSUy7DiFQrUuUTk1wHrJSzzNDetl+CnrPJ2DI5bBivSbLXgn0etZ5Jrxx6yLoyw7litxPOogaiBqIGogaiBqIGogaiBqIGogaiBqIGoge+jgYmdW9wqTLf6SgxRExHgkLWO3sEu7OaNxKvCMm4BCSVIbuk3/rIiGiZL7PCkrOcCIdDr8n4C7OcbdsMeYlktT9tCkkroqmLgqY+y+lAMOzpQfVnxKO7cLGKGdZKJ8+FHHscVMW19/f0AvZSNjY4BArNYd+FaCmQSKCgDH2SlNXv2gJ0FCJIbYwnAMEAGyu6eHk8uMDQ8ao9dd4NdfOEFWODtI17boMco6+7ptbVrzrBbbv+OvfSlV9MPCSuw/NEYFeesHSszuZHWElkgCwkuEnnrzDFOw0orpRh3snIKUCKnrJsCMsAsbLscrjWUXAIwUzKyblaHiHunBBWAUGAdAfCw9uokky6ujmRJFahThlNZTI0zr27BFVGg5kExs5xy8EJFFIju0rNtPW6ac/OKKRhcYAXlEljhze9RIoMh68l1MQSCB2Lp1ts9zxYNEHcM6y3FM1t7xmqHUOpCgMuXG2uxJSR/8IP5QGhswZx+WwT4U591YI7is6lh59JFkKCa3YPlYg8Wjeeevc5hTAvTVGtksNXmAVJ1MNcS8CzT1mmjxNPb+sQmy37jM5bZ/ChWYcJJ2hPNp82PW2XHZgITYk2oItrDwXivGpKniuEIbwWPGApPglBVETYm4y7MVFMCBYG3PBv2s9941N27K+hYe+V7u4dZl7Df79u4j2yvZG/lmizkDo4W3dVTFm6SvW7ZgE3kyzant4vxJICjVZuNxd44oDMh4sqR5lVqk2Vhlr2q+IayKHRYJ4jHNSWRkIWl5qVsqjUKq1gNTuFeXEeuItNppv6QbpAvN3TNVZDMLRA5TwKdG1j1yYX8yRZBPVK7Dm+DRMWaY3cyV0Cpxz0E9jKGJQc2WtvwoG3qWWoPVWVlKP2R9RgdhPYClUjRQwNqHgJ3kq1EGPoMC/ZmkCsLRT7W0x4V4PrJHNGy7mS0F9tGDUQNRA1EDUQNRA1EDUQNRA1EDUQNRA2clhoojw5j7cQBEBDMqACeSDIaoAE34HILnALUFYuADODc2vkEx+cmXkY08BAAWrinVwOYg+WLDXt4sGaLyRZbKWFHBLtpHWJ6wgFuA4S1kWfOxDprXJkzSWKwau0G27p5E1ZnPXb+hRe65ds+QNt5F55vO7CKu/SyS60PQFdBjlxC+3m/ZdsuAF23ycVz1eqcdXZ1eqy2FLHoFixYbI8/scU2bFhPDLG8rVmz1i28egB0L1q4yObMnWdtHWTmBGwsJZGC4IYeXVjWCTAVSJRBSgRgRxkYQRIBoJDjGeYpiCRXVcE7DJL83OkRWW4FOaaS3ZavdWH9pIyaVVxqSYjQX7eJfcBLoIsrGF1Ij/vLxJADAq1Nk+FT7sKHDxAPLsmCUM5OWJvsFPHbiH/W2dblFn95LONk+TeFK2Iti+st1nv1KTK1YlHWKOMCiVtvKkeSCvqssWByF23BRogPbWXtiDUV4IUVdItHDU4WYQktsCbHo4xMAawUFoAD8+bbVVf1uXtrB4BVVmxKTJIBUhXyZAHGvdPHi5wiFm0FxpgCXs3F4m8CHcoeMcAgIBYVFa9OcCoBvAq2Zzi2sg515IoKHdaIdO24KDxLTcF6LSA9uSkHQCadKeac5iS4HGIxSlAVGQKsBfTRxubVnh/CNVkuru3QQcmQO21vVxvWdvuYcxjjxj2HfM3amW8biU80bln+KTuw9gzN2cMkJSEuX2dHl0M7uYx78hPGzIhoz/j8ocy1AYi59aAmyLk6EDArsd5DQMZJLD8b6LwAnBPySkDEEkDeEglTetvRIvU0J0G6ID+8SpzwoPaF3NilQV0PbrqYZNKHGrZhGdpNUhcdvg7I1j7Rsis2nvZzGHmzH16kJ2lbgF3/NCe917inA3ayMDyZI8K6k9FebBs1EDUQNRA1EDUQNRA1EDUQNRA1EDUQNXBaakCgxQ3FuEkfARiVOee2W3zIb/D3jFA+UQMOJG3lqoytmKs4WH4fr1t1byuIoxt82IAtGwgB+8fydRvD6i4xXxZQqik84EZbnGM1BUBKA7EKAIlBrK4G8Zichdtpz7xlwLJ2LPYqwAXA2cBCt0aat3ApVnBYARUmsCibdMBz5upVZG4NCQYE0hT4Xu60KcVHQ+44yQlmD2BZBpjLASIU26xATLH168/0ZBBM1XLAukq5BNib75ZVGur4GJlce2dZZTRnPVa2bAILKORLT4ISqiO4IcjXAl9iLW5VJ3hBhXYbs74sLrSArlpVOAzQMQvYJgM7uW9SR9ZUsp26j8QSE8SFsy5kAEd1sBz02Uk9AIrTQHTJa3pqn42MT1qamHKehIDqk4Cd7LxOy3Zg1ZXtJi7ZpN1510O2bNU627Z1s20452xcYSfs4YcewapwNUkmzrbv3nWvCYS+DOtCWTjecuvtHrvuKmLedXcCcBif4tjdcsttuLmuJ0nEHd7fuee9AHfXTvs2STsGZs+yF192id33wMPEB9xil77oIne5XbRwgS1bthjruYS7kRYAf+NjI3aQWHpZ9CfgKQwkl1FZxUkLrlTfIZo9JShUrpUBw4Uyj98nPcs6DXDpceqQkZCbM6RICUHkXi11aa20JxwgoSNO2W/s0xZk4rwoazwdXIczYgkJqBN9Zu7jvv+wDgTc6TORpZ8p1jHNucepo0wgTbHrpD93Ec2QHAQLxNGJUZsgY62u+Rw0ZvpIClzxPkEiErmaKmqglKGxeQXNWZ9DYhsOkSG4yPxnAT41oSkEtDO3LsbXAJjqs5bA/TY0loBwBHCHdrmkz6UqVMgyEfqgT3Qi13QdOTZgJ/7rgo3q39voAm80H0bHg2f+S+W67gCS9XIRnr232Q/XmmIlYcaOCOtmTJVRUNRA1EDUQNRA1EDUQNRA1EDUQNRA1EDUwOmiAd2UV7kLF+hY0NdulSyWQQo2x6Gb70XEm1vfm3YLnRW4uApMfP7OcrCg24kVUDVpH7u56Df0V5+bteWzACcH69bXnbRluMA2b/cdFtCV3/Drxl8ASvHRMoA7uSzevXkHRjpTeIoSgN8TEhB8n0QKAgkbFnSRlCFjYwCMeTvutmxxLFiAYRWWILumrLYSSnzAeT5HJtRZy+zsOT1Yx5UBSyTF2PYQFklESxMBA5jIWE3ZMsczXTac7raexJB1JMdsz0SPNdJdjDFB4gR0MdKGDgA0dSzWFKtLFIhD0EIQQ696OHFxshFAXqYxaXNTuyzFfHbcnbfBLXLtbFiuFxgJ6MpOoU9Ajlwv7xgp200HJ+3qNLHcgEGlCcVMy6BXgvonur0fS8oSCyhJ/w2SV9z/xE4bLI3Z0GjBrcbWLeqx1f0rcLGF9jGvfUOTtmdw2Dac12Obt+50C8Q9ZNa9ith0jzz4kD3+4AP2PZJRzCYpxcHBQfvexi2u5wxAs0IigYRgHRPbtWsXcf62eUy/JzZusitefJnNJWvvI48+BvBcZ/v2kEX0AeQ9Tpbdyy9xgPdjV7+YhCC7bdnSxQ58HJDh2nr3nd+2rY9vtBeNjcIkpThgIMArCVRNsKdaBwzOLcWmcCVWsg5BpKBktdE1KTyAJLmE+nuqCMbKIi5YOoa1UQxG1dSyqwc9XAYvSrwgUbKyE+jTEFRP1nWCWcoSK6s7WaYJdqmsxHjacHVVnDq5oSa5JjjnVoJIL5F9V+vsgpCtz0qAu5RxnhABp5MEchhhgGkUBaameYUxdrLXZLE4jlWi5lPGalEOrYoJqVpSiR/Ik8gnW4Z3fo1KcjGv1oKFXSYV5qDPgD7zapViP+UAx4pHpznoM6lLbjWIqDCv0JXDOy6mcJmmOq3VF5UpU6w76U5jnekjwrqZ1miUFzUQNRA1EDUQNRA1EDUQNRA1EDUQNRA1cMprQNCCu3J/5IBo5AHwU912C011kGjinE4gHa+qJi/NRbNTdvayjF34ovW4euZspT1gB0Zrtm8YV85+znPUxRKvabDjOtB9vNq7NRmADg7BDT7gAtowZ1aPvXT+QlxtSwAEXCHLE7bh7LNtePAALpxtNr+/0x55+GFgTMZWveCFWACWbc++fbZ25XKbs2gx8gEPWNWNj0/Ygd17bd26lfa9h8ZwpczaPKzK5Db4MHBqzuw5tmbtatuOi+wuklEsWT7bxnbtswHk5HJ160qV3CVXroz1sXHCxAGtAC6NKbKEYjEnt0pZg4lTyPVPll4ylgoWTHpDVtt6xdqTJaygijaxe8qeuJVkAyhNVl7d3WRFXU2Q/04spw427I7hCbvhAEkF0EOqG+gBrDuwm7hiK9uthjtrNQvWAkYqrp1hxeSAB1OsvcMle2Jwina0Yfb9bUk7dHCvLSWzaLJrkSdyWDB/wLPprli10mP4dXSQbAJd7d2z1w6RAGL40IhnxP3uPfdZHtdVJfoYIT6gMoNuJLacgM25LzjHVq1axTom3c1YmXW/9vWbbC5JOlZiOTdFko/9+w6g134768y1dtfd97BGWJZJd1p19CTLwxyAa836DTY2NGL1ocedAsN84DxUcOhDkW+Q1imtmXNGYIgZCoC5PF2mnidbUAlWlVm5pALM5G4q2DjFxpoCbsHZWAu1pTVzQYMAuBCnDrVpWa0NS7USQE91pMssMgTlimVAHK96yJVUcfB877M+7ZiVtizrsiTUkIutoHNHdztWeYA8LOE8vh8ya7j26rqmxn8/HOZxTcQLL2sZCPoaupUd5bJ86+Taqh5iDtJQGnId8UZQs05fj7PXHWRKL6GC68UH6T2pF82J+TJmQUf1n0afTMcPzUfZZAUbBcQVPy+APHWni03Bqk1j6UglikApWex2GQVyCNYJDAY9etEMPjWHO4MSo6iogaiBqIGogaiBqIGogaiBqIGogaiBqIGogVNcA34Dzo25rGiyWLIJeMiySzBDd+V14s4JLDTGBC+Ad4C4K9dnrB+O1bfkXOtdfBEWXQl7wbKUXXMWcd0QKKOo2ihtFfsO706J0uG3/3rCtC6NNVyZ4POyJpNLaF9Xzs5ft9hKw7tt6aK5nmnykQfuIqB+3l0oy6WiLVwwz6qZdnto41YbWLTUHtm229p6+y3XjXssbrUPPLbR7rz3ARsdPmSHRkY9kcODJKy4+fZvM78UEGvCrdnufxhghN+jLInSiZpt27Yd47U+YrHN88QWgi9twC1Z2clZNVkF/Cm4PgrQXARUlGFWFkniaK4ft0qSmyMTBOzBQayG7lSvi5h6Alq9HZ02eahsX5ko2rueOGRf2DdpeWARKrAhwIoQy9BjYzZ2EOiUnQeIyVEiKzeAHZZ1ch8WHUwABAULdQhmqI96acgq43sAaCO4e5JZdyTvAEYjbqPffL5ojz32PdtPYojFS5fxWGzzcVct4kK7fOUyW7B4qSfsaKCnhUC9BYuXMDeBMCzNeF28aIEtWbLY595NAo5Nm7baIG6ta3CrHSbb7B3fuou9I5fKNHHQOh1yyW1ULrraAe3oUzECfQ80N5csLOXaGwCWZhOOsEXIkovlXELupt5K86WmQySXgnWk4u8J/Cpj6RRzLDuYFFxTn6GW+hCcw5KvaUEnORJTxGJOwFD11EJwbrxIQg9O5II9SabdfcN5kmRUPfaerAS1v9VWyUi8HXU1jwbrJ2vMXtZa6yHQpo4F+3Ronl6mjhAgwEsJ6UNYUt6EUSgrsLIDAw2po9iQeoUp+jp739RX7cPP6sf/q08vDvNl3yphhkcIpFwWghpooYAVLBVVVfHzZN1ZZ8LaT8oSrCuteHVBWrM3+pF1nSxN1dhdknlVD1X0o7EFi71Wq5l5jZZ1M6PHKCVqIGogaiBqIGogaiBqIGogaiBqIGogauA00kCZm3SM5rCo47aem/sa8KgmP1EOPeveHGZEcHvdjAdo4Hf6qtB0zxRuke2O6jtPIrFBSklBxSloFECEbuw55UzwQXHcZNUjU5+Dw2P20J68veyilbZ753a7gIQSDz3wAK6US0EBatGwHiDI5s2bbWLeXOvt7cUNc63t2rnT8lh7bdm61ZYsXmSXX3Ih2WNHKN9uq1Ysw5Kti9hs99k+AJWuT05O2uT4GNZg+7Dm68WtdtiWLl5oN992J31e6NClp7fHZEHWibvqIaClJbOWa+B2iwIyWOrBThzUaFzKDuo6Yl4ao/QD9cDqiGyfxJrLdGAlBYRMWYfPQ/CkjMwnBis2CSARpJQ88JsdoE0DeFIeK9vu2/bZop9ZbtX2TnSoPqVIwJRrWZ3RiEcrhpvHIJuasOIwUjr6beHsLnugOG67t2y2MxbMtjS66+zCso1YfOvOWMH1Xrvg/PNsYnzcrr32lcwjbdt37LD+vvlY4811F0xBN2Xj3bBurcewqzO2PFlsX/Hyl7o1166du7CmW8caLSGpQrvH+XvJNVfart17PCuv4t0J4ExO5O3mm26yJx573PfQxb4fmENzGoqB1jpxHWpuOuhfFmxhjqFMIMlZkU5Vj/FVZEmnfek6YidSLuimyzXWQkvicnn15BKcaR8KyKmSPL61boKrebIMq4HW9QAuxq1YdEEGl6hbrJCEBbdtbwPokgu3xiWLQjXOCNR5SZApGObtGYuywap3raNgn0Bc+Ew0e0C+gzJeAww73LOP1eP4Id3j8xH3zgEgEnW4hR1PGpdaCQZq/MGlFxdaptZOkDq3CFUbKinbrLsd8yq91QSk0aND6dY6SVjz0ExquHZLn37wM6OBm60+/9L3kW6zrTYn+xph3clqMLaPGogaiBqIGogaiBqIGogaiBqIGogaiBo47TQgiyPdEHMvH27Bnc45Q/MbcFGARoabcx51IEgIZxcAQbUOLOEhQKAS3bALGuhmPtnBc4ELc4AXEAnd3nsd70c391gOIa/BI49V1MMb99t83ERLwA9lhx06dMgOPnbAZmGR9upX/6TN6u+zbdt3WJHkEgXcZRVrLUumU8ExxX+TlZzib8l9c8Wypbi67iDI/4TNwWWzkM/bCuDd/fcTuw7AsGL5UpJOLLCHsLprx+pM7ZThM49VleCLoJ4sohq4ojaIG5eeKmDlhAtstr1pKYUeADrtTnqYF5ZuGkeCmHlWz6ITLOis1zJ9gL05AJkRYusxzz2Fqt1UHrAHR4U9JtGHtB50NgTSk5WVVF3YNmIjjx60jvMXBGgDmCEAnitQrouKG+YHCpXBlKCP3CLrFSwApyatvb3Drr7mCjLE1oCS/dboGbAE0EyWccnSuCVKvF+2xNc9AfBiaHbWhjMRpPhrdCO5WkMWdv58WcMlbHVPr6+f0Kmg41lnbYCVCSAmbBFyJbuKW6xciFesWI4QwV/cUVmbPbt2AV/vt+VLV7JO2gnhcOsxOhfe0p5xq7nm9Zrg8RRmmcgIe0ej4B3XGV6oy0C1j1yOxsKaqLlclaUXB0+0mdUo2PLafjuQnm0HEz1cC4knfP8hK1idIRO1KsGEJ6FAUA55kqHPiKwpy4DsKcU85DyDS7a73wpY0VkFiFeFiGlsrkBeBMscvvFec3MrPtoKxIVYd5q5MKwOzY3/PMKMvZACVkJteei6z52yGjHzdHgx5YyiCc18BD5uJVxJYEiXQzdlX2fmQ2cNxixBaqN5pLDmq5BiWX0zOF83F06llnzeNYt4VSGPBGujQ+7G0veRaxsqn/xzhHUnr8MoIWogaiBqIGogaiBqIGogaiBqIGogaiBq4DTTgECBWyz5uGWVxC08d/S6cfd7d+hRchyLmgo35zI04z5d9cNdPNZXWJypTIdu6BWDLgGoqx0CcGBd54fu7f1mPpzWAR5CLoI9gjLCEweHR+2rdz5m83CX3LV3yF76yldjiVX2+F9tbRnbglVdFqh24Xln226ymG7fsdPOPvtM6+3rsRe98CIGJSunKYdIyv564MAgnKdmF11wnq1ZvYpspdts+fIltmjBQsBU3vbu2+/tNm7eahdedAGgZcoTXJSKBbLDlq0G6Mi2d1uyMs8yU09YR7piFY0XKqH5CvDoIR0pqYPeuc4EUgBv+8cHbP9d++2Rxlz7bqHfUcfWqQ7bVQX4MY8eO8jcsMADZsnlcgqrvSpkBQdkuNuUjdzxiGXmDlh68VygUAdddDv4aWDNmMoQz8yPpr59QEWy1+62cs8cr9/bM9sSfVj0AdDqQLgurAzTWH8lkiStKNNfuWJpEnmob7EXP5Cjt7LwS3qMPObJ+ATMElhBBgs/Lb3cT1ljWE0D0yzFepOMDONct26NdgGuqSQfwc00Qd+r1qyzB++7z7tw+dIaysoS/01yOPFrKmu+c/BUJ44akw7Xms/qR3W8lcPFUCCARiPGQSw4xtzFq/aX9Hn51EZ7eekxYr3NtU93XGZ53IrLsnxk6zFM9rvkBV22CdZhDcd/klYIRAf30EnFsaOedqsaCFjW2G9l4hhW0Y/i3CkxyiwyFj8JrXD/xbVc7VyzGrxoGY8awFCngsvqX4fGrkPwS7rwo3VNNKx5qE2mGeyuVa31GnTI+BAqN+R8qWqTgESNyRNOoJsgH2FN3Yb1RBdib3SjnwF61XhcN5q0irwT7X/pSpCVvcFe8aFRH2PKw8NuDvWkXyKsO2kVRgFRA1EDUQNRA1EDUQNRA1EDUQNRA1EDUQOnmwaysrjRzTmvskjKyD2Pc3cT1GSwLvKbcT2VOO/kBp4XMQRv1gQkOtfNPKzKDMYi11nM0SgMdXXTr3t+XU6lBA6AY9zoC34pY6bijB0aHbfe7nkExAe0ULmzuw9wViVoP8ksLrrIIYEEnrG2z4FDA0hSdiAEQGBEire2cvVqYBlJMc47L0ASBjSbJBWKR6eRFyEKy1etshU8SpUpt+ST1V2+xKAZVx8WfDWoxdAQME1x9abI3oolW9pwixT8gR444GIeOSzrZDnltl4CGT559ZK0oYf22oFbdtkDyPhm51rmLRdEoAlKS3YttfYJMrDWsK4DekhDVbKwGhk7KeCc+GojuOw+tNF65nVTxOzqUn7LUiv0qZoUuQ4rUyXito1aYv/3GGAbFohpS49i6QYlLc5fbbkOsuSOjFl64hDL0rCRatp6sliPdQIksdJqYFlYLgNR6StTGHPBSu6RAp6iFoAf1lcAriEstbRffO3RRwGrSLmr9nWkSaRRcH1MYsmYAAJmcePdB1h9GKu6CvEJnfUgOczQPLadMhG76vTE+9a1OjJTyvbaLJeOZVXoFmaaN0cd8CQwJ5fdEi6sbFX6FQQDJHHST9IHOZqWOC8zrzlk9V1X3WmL6qN2Y8dFJjSaJeZgCailbuQySg9YRoZzwVitr1vT8dpG5Q705HHoaCBrSe1nrUEFaDcyij1l76TvZZUpc2xbrpUtlvEyhgDIAIDMT7OlmvehuWtVJcw/j1KwQ7uwJfT58b5Un32meHMi4GqR4CLNgx459xPNnDF7BZ5kFSi9pAU4WRu51Iq2ak+qXPMXOG3FQgxJU4JsXaQ2L+iCz48+1t7AP9Eat6wo0VUwtNMIZuyIsG7GVBkFRQ1EDUQNRA1EDUQNRA1EDUQNRA1EDUQNnDYa4AZdboS6r1f8MAW3F4TQvbwOleueHA529MH1OhZldayUuOrXdMMvOCCulGynTOehyF8FG+QCqED2Hswe6CAAoBhgqqz2ew6M2uZB4qw9upOA/R3W2Z61ub1tNqszb51je7F0w1LMEw9g6QQI87EiLwlYkoBKW7dVOmdbd2XcsjUSFAhAAAMDFNNI6URzpMdKew+x3Hps955BwNAhYngVbLTYRmwz4sdRQy6iY8A6bNUsQUbYGjBNbrviKGG8ghS8c2UJvWiGgMgxEkc8tlt4zq245E7aRqpdJXNQ9t35WOkl+5dY6cBjDiC7sFA6O1k18U3hlwCmaPvIdus87wxLzg/uvppfHbBWx/IO32TqaT7BJTdJNg9dKxzabfnRA3agsNU6H95q3e0523rBq6yNefZ0tlvnlz9CshDi+p33CjtzfAdJPopWYpE1h12d82yMBAT9W+5DKvuBJ0ElWTQmsALct+FKu6W82LYdLAQQShuNQe6kZ82r25bHv8Yc85qEA7S1q15oB7ZttuEhWTkKg/GPa2qjYzYuznUShiQ3Mo8WiaJc82eXAJNCcooQt44LrU2pxs1D8mQJ51J1nQK3fpReAM/S0FCi1x7KzLcXVPbZtaWHqINLMgk87kmvAgxrVF7EXtdexKUTfWSZvD4X+kzINVt9FwGCWazttP5TWgPaan+1YXU4BQwrkqV4564DZKQlrhtDcejmc6EecC3FGmmPKNacrPEUa09Dzzb3k2zVPN6eqJeTL/SAIK2FZqhXjdXhtrK30Ld043WkCL8eymTRmNUDa9gugKFg3WwyzFaL+2gmvIaGeZX1oJK9qLlgZU0AkBPpQOxZ771frvt73K2p5vPQaNSrAK/2SfUw4fehzMhThHUzosYoJGogaiBqIGogaiBqIGogaiBqIGogaiBq4HTSgGCTDH50uOWXbsC5UXcXR90piyhwXi8CP+Bhhw/aJblx5xbfIYfu6CVHrrJ1TLESALsGoKNBLKwEGSycJSBKEKNOAoukII3kS4QOQQHogDLEfvu+TXbXw9uQ1YbMlJ21uMcuWtxmy+//kuUmR8jOKlBCcPwjrJMavJe759iidXZow1W2bufdNjBxgGHRIbIDVKB/upIbn2DI7nlrbcucdYiq28LGPTYrscPGu19sqf4zsfrqsnKxCLyr2gCukek6cex4FYBxSyTaNCBMEiWLgp7HCAAAQABJREFUrxBTjmsAvvzOYUDcqPepqU0BhzohHCnceZckxuzVbXvsRtxhxzDT25Ct2JoU1n7EpNPY9BAUkeBavmTFjTstt3Cuz0EXdV0ACW35eyGwLFAqgzuyrK8Eg+T+C1aSDysFWJehmyJzaU9iwUiSiUapBJhhrLxOFfPUDUcjS30s/OqFAONYdmCsHvSFbov5go1wbfchLOf459CSOhlMrVb0GFlhh7G8Kvu40rj1NhRHjzHQk49BgNb1pTlSpnm6RaHm25wz73ySDdXFDVrzDTA0zD08ey0UISsx9AQkcndainWeZTz6N68f0NqYtFeUHrT5gNiuxpQpjOJjmbl2fmmzPdS+yIqYgGqe0qg6a7k2a50p8b0t2SHDrKTqwMUUF1hZdnpcOAq1FwXsBIbdos3ruUjmz2tzjnW5F/NBoarrXbrHsO8wqK1yQf+8c8AZ/2ksjBeKdOr7gzqtPeCyKdfR0q9rQJU5FINP8iq+HwKIU3mSz1uOPSjQpodGyydfl5p9+Nsnz5mD5KeAkw0sXhP6HHqii6B/1DTjR4R1M67SKDBqIGogaiBqIGogaiBqIGogaiBqIGogauBU14AsaXR7LtCj2383UhKIoixADG7huQtPdSoovm7o/b7foUUqAdghvlvISqkbfDUC3pBYoToODOBOW9Y5hw/6EGCoKcaboIXTJfASHbnFkY8AKyDaVLBCq08FRDE6SdlEBYu1YUsWJiwFKFFnR7IBAZ061l+V3gkrl4g5hytmY2LC56FeRRk0FEn0+GaUTXVOEuMN90zgyRQDrdeR3TFpJcDW7DnY0wEwEsSHqzayoK88QfoDrBPUEMDyBAUIrVdxYU2WADUlkjyUbfBuXFGBGRphFkCkgRYYE1gT8DdpKyuD9iIysc7tLNicBG6cjEkQJMyWV5+YlAloOTBMDDvASBtAhHLNwQGOz4x1UZlcij09hc9UNeB0QBhgyhRx9zJYTh0aHbWFs3qYD9aQU2mHTAItFYFGOhcwEuyUNVvoOYxHxlLSV5IYabK8EqgM7IdzDYYDBugdK5uwEn2wYTQEoBkwTVqgjf51ENMtUw0mmio/dGiE8eSsmz4E9HS0LMUEsxqKWadNJeXoul5ag6Nc66Y+ZQGnaqBTB84an+q2A0dXEBtwM3BuHNfXF5QPWgbrwyLj2JMeoA36Q4FhPwTRaWTpXFZ07VidCfxJ7ykg7KT2JKLDUMJglNVVEEwWqeJdKg0H+5yxTeFSrfGoXaJpnqp9oZhy0rky1OaCKNeT5tpyRW1Jar1qWjqk3jTr4ee0dVjnr0+qRz1qHvps5ZiDXLblvpsiIYzDauTI8lMJNTQ3t5rT+rIS0qVApE8Gua1+1bd6lc7cDVd7m8pVgXPek1vkiPmr9skf+kzEI2ogaiBqIGogaiBqIGogaiBqIGogaiBqIGrgeaWBAH40ZcAFdE038rpZlyWRbtLlbWftwBR5Yuabt+286Cr2RcC64RDsXiI4GrQjFJslyIJaK1ELSODy1Kb1ACC4FZ8DMm72BYxENDiXVAc2kiVwwrkC39fKJaCQAALyeHhf/syTgMJhqNCEKz56XUNu8/BW6kbnDgqZF4UeqyzRRhGAq17ECi3vFnQdnZ2AGECekZxBIE/WazT17jU2YrjpvEE22Ho1j64KNrZ1hzX2Dwl5EOeubktqI7Z0ap/NJ/vrte27bVet3R4aq9uZ9TGbC6iDo/gYBCWkH43R9dScZ20SmIhrpsMULoqXuoWfKtKHQJisotKMLbRGf5SlcZNVUog6oE5ujopVlsPSrSHLuWzO5yDImkUBgl2yHlO2X3UuiKQxyKpO3ei1qveCTZCi1jjDVT03XU594D4svySZypiKeEYqXKXxcqkpYHwy76ArXOeyanCiPaB1x+yuWRaQjXQtGX5QT6656kgupSoNLTUa2nLIZXpF/ZDtTs7SmcsV4OsDqt6NC6wSTQhmubsrTdRLayySVwFC5YnjV0T/mrR0fxikcS6Y25ZLeRIJJUHpaM8ARrEIpK32nZJPyGXV56tS/6+9LyvKpi6oGvClGnFNcmX1GESokIPRNKctIW6piIZ8vF5O7WYVuVyrCCkuR/ocJ8mE4Gdwcae1dKeHPk/AS9cYwE6y1Vo6UBxAr9PqV10gu0xikqRb09GOcx2C+WjRQX+rul+Ygaew8jMgKIqIGogaiBqIGogaiBqIGogaiBqIGogaiBqIGjhdNCCgoptwB2O86kZdoEEWVXrovDEBsBGxOeLO2e/TgT2p8r5mG7XjARTQTX4dyzpdqOJGqxv4ww8aKn6WSsWGZI0kR0mxMwdBLoSukN2CAbLWyqkWr96ZTIua9XiDJG8cSnjr5yricFan8YTTI2pqrgFa6FLNY+9hZZSQhVAO67qSdQLrSsCJGhlY07UxEi0UHYwpJlpoS18OGdEhAKNRydvoI9uAlEAaZGqUF9YP2u8WbrXfrt1hL88OWhHAt6va5teESY4al49Z4IODJ18XJQHwdQmgTGBErraqE9qiRz857E9MufSZsVQFN1dAnfQqC7Qa8eQSWCUq0UEDApqkzKEYshLMo8oi1OhP43Z0ozHwXk+qV8KCTJZiDnQoDhZpjIcGAlCq6/U1D+QpYQkXgItAUNxalY3Wrbi8AX1BBas83MIS+aEvf3ZAWFdSilDq+0PrGh6hpykHRMJE9EFXWZI/+EH/gnBbDxXtc9lL7Z7MKh/HMIk3vtBxlvXh0ry+upfEGIKMgE5NGNluccae0Hv1IJdYcTqFrCtUqg6jRibKVigAZwW6WBd9flS5xJrrMyGdBA6Mjn3dJJtRE7OOVWDfhBlw1SGhrqp79adD7sl+JrEaCofv4fDWRyZrPkHe1tGC1+E8XKjyeW0liWjjQ6axMB2ESXDYOaqZgcangZ76rPnnkTXzvc0OVr8Uq1HzvWBd2efhF7SPZCFLSSOJDP07YlxqebJHdIM9WQ3G9lEDUQNRA1EDUQNRA1EDUQNRA1EDUQNRA6edBoQOBClk6yMLN9141+oEzJfRDTfqMBbu1YV/ABjEnlOZDt2TVwsHLVsdxnrLi/xJceoSOaAEnqEKmyYSoiate3gHBkhrx2cukyJZBDApQ8IFkYlw08/NPyAEMRwaHc8ApDQwDELi9EDx6YIbnp82pQeQ460EHgASDk3oPICIcL3RJB+SKy6SkVsovdSqPcwtY8kpWdDhBlks2KzZs62rtxe9dGJxV8ZabQJwh5UWMfk8phl9aD6JdBY9kYGVOZd2DWsIzVB80isqoIdDhSn7dGqhDTU6rECcNOlEWEbx7FxDDEjj8DmzHi2d1YFELaWrVPBEtluqqXMBmUwmQMZWo0Yjabn8iE+wQu2JyXESaXQFnQHOqu1dZLhl7mrAq6AhIhgo86dvhzaUqy/1o0OXHbRpDLz3vaELVBAYc3jFFa+vCgiZwo21M1O27t6SJ27ARNBhoOaoo0YH7jp7xHxbPdbQbdbNOqkooWqiAQk0ce77tllUZb5StKCuoJQWXtl9B4mtJxiXo6wT7d6XW2Z3tW2wFY1R66lO4DYtEKdkD2HcbYHaIR4Z9KE5S54nXlD/lCmD8NBE0bLKlIv1meLUMXzeMwRkOZhUgUaoFx0tqMW4vIxzQVfpWlVkvJprVVYB41F34YlX9qPGpM+g9pMSsjRywEEvP6Ieb70R/UiwIKgSZpQ0Rv65G7ME6GBe+lxgW4j1IzvKIWG45HvgiHP/yGhcHFUs8Rw6anDNMasfRCFp5g+tQTyiBqIGogaiBqIGogaiBqIGogaiBqIGogaiBp5XGsh295DsAWzDzXYL1MjdsVoDDAANeAEKYKVT4pwbfYr8oXv+WgHrpPpIKONOXa52gjgwL1xhaQiQEDfwG3meBD5Up0Q8NVnvyI1QlkQwjibEEMxQO8gHcuSmqYdkJqaUsYKKHEo+oIdwivMC7uj1GoAGXrtKrynLp9bBRbVEjB9U5UTPAZboXRV0RQA1S9aKNlXGAg35FSy7enqAddbhbdPEmqshV4CmMkXyBOJ/aXI+znS7Te4neQMgpwKMwVnQlB5BEFTvb08vswfrc6let/3JbsYrwNYgMYSgjo+IWoIymgUjle4YQ5JMrMksfsgcPnvqcsnHE1oJFAFimrHxdEG2Zgr+X6VdCdfmkWFclYGSpUlMJDkabbj1SpeMXZZgDqUoTwFO2wCz7lxKuZx8A2qVfrVeyoQqZKRzPbmI8J66Yezq/0lNi/l0ZOvW1QYQFMh1fek6tQTJJIOnxhFwSHIdHuHG6qJUSYCLVnr1F38OPcllW3HT9HDcjILKWACOYwGnmHO9nVmbZG2ryOlLVayDdMWPpBe7dRrDaUoKXZWRoX4cUHFN0BjPVn/V3i8BT3cPjrseBOYUB06VfWy00/5oyXQrOzXiao11qOsBWHRLOFm76YrmzvXQnvcC5hKgi63jiNNWG+05acJV06rHq8vW3kGiLPC0XoKRsntMM5ksLtCHRQt+s4+T7LPDI2jqWuPww5URhqNxaf9q7z55kTHQX2psykZ2yK24pYlmlZN8iZZ1J6nA2DxqIGogaiBqIGogaiBqIGogaiBqIGogauD000BtAn9VgQPuih22YMGm+GQTxYZ1EzCe+32rD3CzDitTyDKBEd2Oy0qnt7ETY6ySwzSHeuI/wgQdvA40rIJlXVIx6AEmVHeoVyg3bBSQ1+gCEAAG3NpHAnnvMbTkTpoCKHDuUE4ARnG1gHVy1dSh54ZMmTgSgDPFIRPs0cjUvzJqBiikivwX/GAAfjWIaEIOwQce3hfZS3GTJM2lJ4xoxxW2QJKKWbP6bXC0k3oAv+Jeq+bOpi19Sw7j1jB6bDuZRvPWMbDPFr0EGy5cO8voSSOso5j9JMq4kJNzU5u8XYbYcfOrvVhToTD+px3Y8RZdCXwE4XoPKJqdta70FqDKXizECqS5UBus7YA+vAP2taoDJzVPzQWX3iQur5KT6J7lUKytvd3Ku4asHWuwWlsnFlXSlFf39VS3UwQmzFAoiztBKon2ZMCq59IYENfdIox+1J9eWlclsQUeVU/AbaKYtf2TygxrtopMEq3rvj60FUyS8EQHQDKL/llrdy0mfmBGYEj9qrFe6UyQKvSHGmjrFmpKtkAdwTFBNlm4TWF9NjJJNl3itZFdwb7Ye6VdWnrMk5vc170ey84eG8iRkXey7NlSFWuxg3oddNhJAoph2pZJMiHYt4Cssuo1yYIcGJ30MVcUSBGbuDCf4HKqsWreQbPhfbjOuDh1lfFGOxFpPJhDc25q54Pn5TAoC4X+rFYag4QkFU+O5v5xaPan5q4n70j1Um75J/1oDOqtp7vTcmWyMGsgqiLgV+VzxWkNvesQuBNAV1+SqcPn43KDJaQSq/gAVCY4yX7s2zdqtUHWrx7m5Q1n4CnCuhlQYhQRNRA1EDUQNRA1EDUQNRA1EDUQNRA1EDVwemlgGHfBNojcVJIsmcVJYsyV7ZAylI5jQQY8glsYcfL90YGbpwyJ/MGNeiMx5thBvAE+AiTzJKgkDcDtkBSXiluXItmEjjTQQ6BvEgg4JtBAptaJsTGrpRuWHx9zi7aEu5piSQceEFhLNgB6JAOoldtsfGLShnDpk7VXAzgTgBnWQlCLmqyVdAX4MJoH0IyPAohI9lAoW06wgv4FegRGUtR3qAOOGCkUGcOwW8llEiUyhdaon7fJqVFceYdsgj77+/stX0nYQQBjZXLICvVBiEYOEJK0XaNFm9NZta6uQcDOAQc7iZVZeQ0T4y6AI0Gv2YDOlyQGcclkVugK1sKY5HLqqtGJl09BxhQDTfqVYZM4VqVWsfF9j7p+x7m2ezRjBfSVrnBREIZHaTJpjADQJLsyXHgBKPmxSesqTpEggfHNHnBDwwJ+upXxvI31V6yX7LDpYsWTKCjBQoWBjeYLliJWH8rC8g7Yyitn6BcdMrZhMthWCwC9ijKIsDZAR61Tqpa2IokwDptWahQkvCiQQKJYCtBLUy3gWnyQ/ZZjn3i8PtbCVSDyJJykZBQdnVQs+Lzq7MUAUqnHeAKu0npqlihS7VSOonSVt74uDgCRyLSsqz1ry+b32qKBpWTkXWHrAMGVyko7t6/TLf0UP/HQeMk27Rm2i9ctBNThJsz49o7kbf/QhFujnbt6ngNAZZe946FdyEyzD3DVZs+l+OwoRqGs+tSfQJuywOqQxaNclHVBY09QrgQQcuF2CzzKGbJbX/p8fGZh3C6Ma2GuriXeN18ROcnaTdHvSKFO5lpkcgkPXctCbxVnL9WNPejKBJ/DtPWQ+GKCvdDdQSzG0YLrSeOTtBzJUWQxqfayJpUOfbwaswp1esRzis+e5qx6srtUHbnllvhh0YLpXn2GniKsmyFFRjFRA1EDUQNRA1EDUQNRA1EDUQNRA1EDUQOnjwbe+/hevxmvc8PeuG+zwxFBGNEd7u0BbwJHoAbMeASblM1A7rC6p9cNu4BTuHGHtQARFOtORkfwAbf8EayCh/g1IQwZRjUSDwFBHqUuFwEusoTrRL6DCQEcgQAuqROBjfyehH2ZvhN0HKCGnEsD0EoDC4T35HCqwur+zZbdtMcqxSKQiQQYlGUEcxikxiy4oLnoSD62nzrfYpxAFIEJf9WF3XqiDe0BSHqtk5m00diLgI1uWSULpClgkic3YK4Cm3KXlOSaz0vgLegHphIs1TRoKiDSdaNTAR3pryq4xz+NUkNRPbUXBNXYHMPxXuc1+7r1cd1hCfrZtCtpm33sFHLUscCTJaDaJXbf4OPXeD0JBP3UDz1mudQTLHHQpywAK+gk+cRBDZ45AW8ok1VdkCjVApvuuA3DqZT14Trpo6VvP+hn004gKK63aqdjClPMew/d7PBK5yp/GED4qGbicNXsqkrK5rgkehHBxE1UUC6JrpPaBMS8C8oIemmw2RKMP8gLVplZyCar5OOUxZdcq7WfCkBBQSS5qa5aPNtGJkpka223bpQ/b/Es23tw3Lo726wH8DSnv9v2DJF0YtkcgGTB3UbT40W3tFNvne05ywPHFszuReZ2mwvoO8jiZHJZhhhAnXSdg2xLp+RhDXrTvmnuNWlAOmN1KMPyTxaEvq7sXObseuNJcjRmAWXtO2nYs9LWpmySxZ9C/1X0X0POgTGsB4F1eGu7vsQINV4B33ZiBWbYlFOMpwCwlQuy+va9jFwdKsnSTwY3+FQKe0p0LgtDt9A7Yky+BlSmyN+6ey11NSMdpVLBhq1guUqQ64Uz9BRh3QwpMoqJGogaiBqIGogaiBqIGogaiBqIGogaiBo4fTRQxApOR0NucIJ03JTrJl435vCO5tG8KRe98YuhWG+PPJRTonXkmxxH5w7e/A1PhxvR1xFHqzjZBECyTlOvXs4bAQk/mhXDiOA5x/EBYpfhvto6ND0lzmhZCQlWSIS3x80xmRTAEMZQIaCClyRWhsqQqcyoUzKzUoXmtWZN1fZDs4CF+CGwGQ6X/uRUKTxCHYfrq27AUKFVc1StkyNeg7wnCwKsxKbQx1sXDeU4sg/J8lLmEI7WqypijSXqd8xRE3HkCM9PXoQfcTBS10UAcs1l8EoJFlgA6rBevTaaOtx3c2as7ZG9yiIuzcMnMYE14/gIamYNlOiC4hTulSnF7CMZSQLIJjs8Wab5WvCqrLZu0SaIJxhJmWBXFmo6jvurZJ95xlwrl8o2t7cd8Fy3iXzR+rs7sDSr2mPbd1gPRHrJvD4He9v2jWB9hgssoG4OQE7wT1ZyQ6N52mHlh/w2XGVlFSdqVeEDMknikCp0Og2pnsSaU5PxXUTdChtC18IEtYZcYZwJoKSSdTBFL5N+6zxJfyonLa/txir0ECBQln8O87ieAeL1dQLWAIyi6L2dKcYPLkZ0OxZ1gQtSj7FMdXTZIeRJZpZzxZ9M8RnvJEZlCxtqPkrcksPlW2OuC4Ty+ZBruscmFOCTAOr5hxhQLxDKYjv4laWgrtUBiUX2hvaPz50mM3VEWDdTmjxGTgmT163bth1TGk7PWL3aCe60F59GoTbYxo2bwgfmmHaLFi60XrL3zPRxw1e/Cj2WQfDRxzVXX/2M9Hd0L0/vTEFRv3L99cc16uvrs6uvuuqo8mdjvY7qMJ5EDUQNRA08wxrYzpew+x+4/7hezjrzTDvjjDOOK38uCx566GHbsnXLcUO49JJLbN68eUeVP526RzV8Dk5uu+12OzSsr4tHHy+8+IW2cOGCowtPw7N7773Xdu7addzIr7rySnedOu5CLIgaiBqIGjjVNKCbcQ5BDm7JOcKzzp88jrxCaesePrx1EKb7Mh16VmwvQTE3w2mWu7TDT6GuBIWbe11wWy0/d2zhdVv1AjNoyddZC3R4jdDcuwvIg5qaD30L0mksgg+yoFNVD5Cv8XE0h+fvVddjxlHoMbw4F/ARtJM878bbNXuhzA/qt+bhJYeLw5ycPKldszONXvVVTS6IGpcnW5Cw5hh0rvG35uCwsdlPCPDPzN0KkdfD5UjUqcturaeq8V5gxcU3NUefmoXqUoOHdMU1zak5zpbcw9dVT+Nr1mn1kxBg0hicFgWdq6/W2PUq+aHMX/xJYlrJCoI2qENhy+Is19ZhbWTkbZDJNkn2VUzKCKY4TlJZxRWUZVqwTPQ4a4AlgS65WssyTRpuy6ZsC3H6FF9O7rDjuIIK7t23CZdldJIC6iUwe9y8d9hH98SOQ1jbZd1dVODKPwPoRK7Eh7DM235gPMC7kUks6rC0xNrTk43gJ14sao/JajJAQ81W6yqIKTfjoEte0aHWPEt8Pll8dlKkzLyyKJQOkoC1DEs1H4g4nzFrhdRKMRnl+l3HAvEJwOXc9qR1kc5WV/XwLlTPaydsjAzFo4BBxe/T/m3LZqwTmSsXrjF74k6Hph6zDtCWwq07xA4E/irmnC8VkhDqa43cZqHPP1xurT6vxEhsZ0waZ2irNzNzRFg3M3o8TspXvnK9ve23f+e4chXceee3TDDtZI+dO3faS3/8ZdOK+eDffMB+6qdePe21kyl8+9vfYYcOHX/j8bWv3nDKwboi5t9vecvbpp3u1i2b+GHy5PZ/NtZr2oHEwqiBqIGogWdIAwIp0/0eetWrXmkf+vu/e4Z6/eHEXnfddfYP//jh4xr/zu/8tr3lt37zqPKnU/eohs/Byd/93d/bnd/5znE9//M/ffRHAtZ9+jOftc9//t+Pm9+f/emf2Bve8IvHlceCqIGogaiBU00DAmutG3KQkViCbv29LDAb3bQLvrUwgGbg+KD5GmYkWKA7dd3IC57w7G10Lo9GXfZ+eCNZQZ43Cn2ppSqHJ1WmTmgTbMQ0qtDW3zmdCACq1cqvcxJq+ht/7/HtuJgS7BCkEoSQ62RzXGofxh96bwEkSZIboyzAmr0zOsGuMFbJ0ZB9FpqTyw0lku3B63hx6JNUxt0A7DzGGhCnpXf1l8BqySWFSaJDzT/oIMRg03XpjRcOH6MG7QXNtuHS4WcHlIJ0qsfcfdzNNnJFTbAwPj/1qRh03rfqHiFPp2rZ7Fgr7OP1yoe7Cm+Yg68r13yYtGnN0YVzHuRICuwN4FbBGkvZSpWdtpVsQdaQbtEImKse3Ge1HDAJ4JbAMkwJRcBgDIp4eouLlpZFF/HxePFxSde1atKWLxiw17/0LFxWuwBjwTU2A5zTNJTRVUCvkxh0AWRSyCS1PNJRCYtL1dl/aNIe3XbABolfNzZZdNDXQRtd7+7uZr3TVi6ToAJwlyceICKx6iPja57BTNZscPtOK4/R14G8dVNPcEzJUBLljD32aNb2jpOJtRz2k+sYc9LSPfdZjjiNvcOKBxn0pOUI1qmU8NkaLt9t7YmDuLDi7qwhI7O1ZjKGEzMtJndZIX07rrJF4hOiJyDiHV/fbY+2pyyzeXdIQIIyiuPfs81TGRsbGZak8NlFXkFQtAykdjNL9YJgAGZ+bIRKbZYuT/j4DJflqXzCDjWKlkBnPh6XNDNPT9KKmZH3rEm56aZv2O/+3u8/pf6ykNS5c+fabIJLrl61yi67/FK76KKLrKuTAI7xiBqIGogaOE018J6//Cv77Gc/d3j0c+fOsU/96ydtYIC0ZU/j+I3/+b/4I8LxQEHQ//LLLztK0ol+9nby8/SO2289qu5TPXnt637Gtm3b9gOrL1iwwH+Wr127xq688gq78IIL+AJC5Ofn4BgaGuKPJS+ftufPffbTtmYNf7mLR9TAc6yBY39GnGg4s2bNsvnz59myZcv8M3/ZpZeecn+AO9HYY3nUQNRA1MDJaODsCy91gCLLK4EsWeFkMiRQkJkQjyowRdBH0EUASXfjHseNN541UvSDtsIKMgQQ/KlhAaXso2pTx2VQZYrtleGeVO54TkwQJbCia4INAjeyQhITkFWT2gXop3o8ZL3FoXppYmxJRnC95BURLhugI3CS4btRGEuAOrLCCkHxqYulka4LGnkfglg+Nyzv6L/K/OnO56hzuQcrDpqmqfFIbpWyGn2lcNekArWZh1vfYVmVIY4ZOpsq44nFmCUrQ5n6UB3pUzKkrxRWUl4mCCUp1OF/UA86D8BOlmICadJ/WA+q+hykF9eZCtChYKBb5HGqRBoZIFe5XAxzlpGGxuBrFfQomRqr+pReugBQ0q+vCxPWHNNNwKWxCjJqf2ivZLMENASaCV4qG6hb7tHnFGvPboH9qbypf2Q78KR9g/dV6kj/46Njdtv+ndYJGEqJlEnJOtIVG53YbAmSeiSr6I5sus7niJ0YlKOp0NeWHVYfLgd8yqUAnqWKlHX3dOEOmrZ9LZmMVDpCgP+XwsMl9cmJH+GarwPK1esc4sN1kQ5jTjuJTthoGaDX4OMHbGz4IOLStnXTFm+pz47WQ20y9ZydfdblfD4kN2HnrZCFXNPqjlf1Kx0X1l/m5VpnXdceV3mZfg70LvT3TVzH1eZaex9JG6/3aibq0Pexst9KSfo8pZi/JKZQaX9XG66zfBbpowoFHRyHvg3gXcIgvIxmvaxL/5zFtKDfvTts367tlhcoZV2TWhc/qM/r/k2bqLXVOviMtsrzYwn7DyU3YR9X5SI8g8dpC+tEcaez8DqRbvbt2++XvvnNb9qHP/IRf/9/fv/37I1v/GVr54dpPKIGogaiBk43DeQnJ4/6OaifiW9805vtc5/9jHV0dDzl6YyRjWy6n6d79u45TsaJfvZO1/64xicoGMZN8Km0b9XRz/EPfegf+APMbHvnO99h12JFHP7qeoIOnoFifVlrjedY8TK5j0fUwKmggWN/RpxoTNrLm/gCevvtd9i//uunvNrb3voW+7Vf+9Wn9bPkRPJjedRA1EDUwKmqgQWrzz1iaAHmCAAIKAiocB/vN+mgBBUDmkg/AIgRFNDNPbUcUKiubv71T1cEhcRq/BsBN/wOeZr396qrprIW0lt9h5EVGXTHZXR2ABf0D7gSXAkbWCwpjlmQ626OtFGcML3PMqYMWWWzKcAWWV2TjQpySACBm2Ay3Y6MJBZcwATAXIUg+GFexBzDSsvhFYPQmAWuimQs9ayxPnFhJ40vQJiWotLIruA+mESeWgoKtQG1xC+UxEFujwKB0hcDCfNDXxImvckCTyBH8Ec9SIbG5PHbJA9ZdTelQqbLkW7RBR0I5gjKKUNrXZBMYjnXayu2metX41Z/lAsySseuK4CpoFbQK+spUyzGIN0KCgpEat2SciulL/Wrco1Rh9xMtZbh0HhYO52QDCI7ftCqAKxyKmtVrM6KWFopyUcAOOonHAEoSS+skcNBjRMp/HdYStVZOpUO+K85Kw5b6CiAwva2dnQT4JT6p4qq+vhCcgbpNJQHGKa5SHchhpvayIXV22menHv8O15VGPYva0GDDG63XayDvt/6MjLneX1LqBeAqnQonclSUTpeeeaFYb2orHhxXGG9pVPWFRlTlCsenjqV+2uONdF40gBRzV9x7hgZY6Vv133YVxqaxib10zV9ag9N4RJcY3+z55GnPaX1knC5Bfte0AbmUN/SmebqutCHMwzDLQJ1orXau3Orj0FtQku9C0eIaygg++TBEpuSPmtdXcFPXjrpd6ctrDvpmSPg3e/5S1MMts98+lOknO6aCZE/lIwC6Zk/92+fP66tyPQv/9IbjiuPBc+9Bv7zP79gY6TvPvZ45Steflx8pWPr/Kiex318aqzsgw8+ZP/rN3/LPvyP/+hfKE+NUT0zoxBgeOtb3+Zw4Z8++uEYI+uZUXOU+jzVwPve/wH7xCf/1T7+sX+xc845+3mqhTjtqIGogR91DXhAe1CBIIYTg9aNPSe6F3OmoBt6kQBu0VVPAECIKQAWCnSJI8HNut4K7AgkOFTyP+CpUYAPEuMQRrUoDvBJjUQ7zMGFLIMCOAk0QdZMGdwL1UCwUEBE8KM7M26zcsM2kB2xntRBHiOWrE0CJQAryjhKnUSmkzhfXcTw6rdD1fk2nFhoE1PdXAjwUfOSPB2JhLJidgHtKg4rBFd0XTzL50//DoIYe4bsmRQ6dFN7jRFeyBVNJcTI03XNT6BMkEttBRhbTEPzF/VwnVHoIIX6ygyra4lmlg1pNSSRUCGy0KXWRfLDeEK/gn0UMYYAnyRewE1ALQkIymaV2VbtNEbq8KqxCDIFyzfqSm9aC8oF/7QuYfyCj6yhGnAxjE+7AOiF9VlbpWBLd95rucIEGWOxeiNmWgFQWuQx1tFv+7sXkCwByoQ8yak2AEmAQQ1GVnsZ1nxksmyTuF4KUEmnyvTqUItasuZUp7JKDJaJFNJWVo+ahwYiXSDG66muA2UUJQtQVfHrnMsVVQ00Z9XT2mhMDiYpU0ISLYxkaa+3pzsc5E4pvpvq8RAA1NpKtuCrdCTwRi9+Xe30UB2tqy80l70f6Q89qrbGEdY7AFdBwgAhm2vLudaTabIniX/HmxprJ5HSvizqBHQ1J81PsE4glm4d/DECKoZzX1bVlUQq6HPoIJP3U6yN2viYXYk+uCOeWqNVv9Lm8Yf2ka5qTjN1PK9hnZSoG9vfestbTfFjnqtjEuuYd73rj6btPsK6adXynBf+zQc/aFu3bjtuHOeee87zFtbFfXzcdnjOCm666Rv2R3/8x6a4Uc+H45577sFK+s32mc98KlpKPx8WPM7xWdOAgPjP/dzP25ev+5KtWrnyWes3dhQ1EDUQNfCsaUBQgc785l3v+O838LyGG3rd/HN7Tr3xiUEgSoKMmGTKxFWWIn+IeegeXUiEIodJeiOgoHM9HUYTKqehZLslTjPOmYBEDus5QS9ZW0l2Lpd1GCIgojEJLAri5FI1W9H+oJ3R8RAB+vO4a1btwAgZNKc6rJLsJSnBKuvoW0S8sO02svsRa2scwBIqaQu7MpZP99j+9gttZ2kDgwoB+N0ikPELBNbqKQ/GXyAGmaCV4t2lsNhzkAEEZCRAnWCxJIs+wREdAkgad8v6TWXSW7CQ0/wDxGh5H2h+oU4LFhkx1LL84bXXQZx0UyRxgWCPxiXrvQDziLlGufQniRqX1C9xAi0qQFXoKWVld400LMRzViC7aKFIUgTqCE7pkC59LZAkWbK8kiD114nrZI7xyH255GmBZZ0XwFOdrMCyHBRAlSSBKloTP65sWaCdZLVzoUdX6W+oZ57tTnfaXQ/e4pZb3psDM8GilK1fc6HNn7fcNg+V7OHdkz4f9dXG+DIkcchlknbZGf02p6fNXY9bFn+VStEO7NmOy7HWik7pT8sh4OWKoUR9ac66Ll3pSIm+Ui4g7EBPZfQnEbom/eh9q35HR5sNzF1gPX09vtcEtjQuyayzh9SvS3RYJdgp/cgd1dUpSb5P0Dw10Tnjg7uh51BBrsOy1tQ+1tII3rlFJS01EO2hBuOqcD3J/tSapZl7x+gu2lT8ujLjFrrm2FSq48mx07bBmKRjnwv7WX0Hy0rGR//SZZiHrADTtmL1Glswf66P37unjV8/rFLJQ6tMWHJ0tD7Pskz99Oc+a1PE3Jup43kP66RI3dg+/PDDdvbZM/eXY2ViPeuss6ZdJ/2wmYlDvvIn6qOnt2cmunjeyHg21ut5o8w40VNCA5/4xCdtITHefuM3fv2UGM8zPYj77r/f/uDtf2jvf997n+muovyogeeVBibzeXv96/+73X7brc9ZjMjnlcLjZKMGogaeVQ1M4hYqd1PxljR34HhgcveNxZNu9IEEOhy6cdO+acvdhMDYLfYA6EnbOWdebbNmL/Hqigmnm3Y91E43+G7xwxvd2EtG4Fq6zkWBC8EsCgUTcmTu7Ghr83HAmXgVCBB4CiBJEC+XqtqS9u/Zus77rC89auVEvw2lL7Fi7xpLLFlivR1zaaLGJA7gNb0Il8mV41YZ32sjxf02MfGwdZQ329LsNwF3j9mWykW2t7QMCAKAY4walaANGrF2QJWyiGqsKpNFmCLLCaTIKVRgTnCiZX2XLwhQCLIArajvLpMaP+9xxm3CD12XPgQ7hDbNugBBs2cB6Jjv/Hmz8Hbr9PKWFZyAkgCSwIjg4RTnaheAEOe4mjrEFDijb+nfx0A8PYEZ1VN/FaDbrj0HbXBwxK9rsqwSklCX8yasBXMZmzPQbwNz+q2NtZBOJE9umYV80cZGx214ZMzdLpMery/I1vgYmktLDMxnUt2WINupDe23xqFBhChWX9n2HgAuYU2nMUkvvPi8lyxcZYn5K30s0lsJAzxZ9Y1RojpiWi9cOYt5Aiy5TiNEkpyiVLAH77zZ8pPjPlcBRNeL6nAktSd5L2s0TUbWbGFfNfepNiXlHuON8TjIQrZkqK7aqc9XXPsaG5jVZW0d3T7+EnBQkEvj8E3dlFEjfqHWQHCZ5kH/aEV7XNrRXlZ/Gp7WRHPJ0Ics4bTHwr6QXhq+91ArQtiTrK0gniCi7yfa1PaO2Kwn7rBUuWBJ9iErYbvWXW6VBfAXZId4gdKC9o7aAZ1xmZ2T3+v9VPmMTPEZqWMhWgO8F1Lt7G9i3A3Ms57lK7y9j1oLgAzNwd8xVmbkQFeLozE3pwdErtDPv6nTGTtmhhrN2HBmRtAX/jNkJpNSR0dH7cCBA+7uqlgsJzpu+sY3ZxTWveQlP2Z6PJPHggXz7fqvfPmZ7OJ5I/vZWK/njTLjRE8ZDcjVf9GiRc9IZuhnY5KyVF23dp1N5iexZN1qjz/+ve/brdzTFWdLQfLjETUQNXBiDej7wxUvvsKzuCmz/MaNG/mc5U/YQHF/r7vuK/ba177mhHXihaiBqIGogdNRAzc9MeFgRHfiK2bn7IULi7Yk9QhsQYGxBK6ACYCig1Pz/Qa+iiugwINn8sS6J1PG7RRLO3GFkHyAW3kggMCSoITDE13jvWAFTEL3/rwqCL5AjCx80p74MA0A0nWBsGDcIauyYFXXg8vrhq7v2PK2bdbI9tl4z09ZueMcMoUuslwyJNtCfBMqMBkAhYBYtqPPH2brgUyXWDW/z/bu+Lr1jt1tG7pvtJ6u82xj/gLGnPPxy30X5MW/ANQEl8oKEiaAg1gHkowPHMLow5wFdaZqqk8BxR47jolkiN8m6NfRmfOkGIq7lqJMrpuCJ5rrrP4emzWrh/PgSqs+NGcBOImTTBfrAFRgtalHGuu96uuJYWvEyAwWY5Q6RBEclCWesq4unD8bsFW04dFJYKsgizfGci1nPd2deEfNdsu+YGko+chDjqwG20hW0dNL0gZcaXfs2E9GVMVIE+gKcCkF0NMIkhe+2JIrN7B92Ce7iX12438ig7hsWCf2tWvAcm8V5wqD1xp1psm0iqmZW7QxJMXg01yUJVaT1CiD+ycgko3kFoaaH2ujOQzMnw+MrLhlWrVSBgyCnWjX298PoB23+fzxft+evYw1Zdk2EmPQRjILkxNYDxLTkH66e7qxPsyzViTZQIYSlcyeM2CTExO2lO/Vi5Yt5xphwxzICVcBN9mvSpgh67V24KZk8iHB8jJYQ/LW+5IlnsC1u+P6ujM7FCsXVsWoywhCIrfCOikxqD4zmqf0K2iYdgvG5twpF7jOz8nZ5MZbbWoflox0JPSbY1Sy9pTePMEHI9LcJEc6ywLr1o9sIgYfayPQSD/S9Gh7nz049xwrkRijkzJNRG0C7FU16RydSZbPnDGxh1XumZZVqjr6nMzw8SMJ6y4gQ+Cxxy/8wn+3r3zlevv13/ifx17y8x07dkxbHgujBqIGogZOZw385m+9xeaQJfbSSy457abx0z/9OvulN7zh8LgVF/HDH/movfe97ztcduybj2NR+P+SdCIeUQNRAyfWwHkvOM/+6q/ec7iCvpD+15e+ZH/yJ392wsQpf/f3H7LXvOZa/wJ7uGF8EzUQNRA1cJprYGgywDdZixV7iNnWKNhAcocQHbfgftcOX8Eyq4almoOzcJOvaSerRVu0+14rn/9yS2F1lN/+uNnYQTs4ay0xybjhpw739/5zMwOsSSl2FmUB8jgrcCjVgUVXG0BCF1Vfb8QM2nJQHcraEgU7v+dWW5LdafnOMy0/9/VWzy5wUCNZOrxZsy+BnmMPyVOyiWTvSkuf+SYb3X2WTe75D1vac6dlu8r2aB6rJICbQIngipIPCHypnX5HCG4J9si1NMk89N7H6sBCYIuKAmr8U/+CcW2Aut7eTgdyXd0dHiNe4xVscRdSCecQqJMFmE51XWCtjfY68nz3k8Wh3FqlPZ8uT4IwOU9qof6Af4xDlk2y1JM7sQ6XjtDuNiV7yACjCgC3DhsamcByS/OrA5lytnbNcuvrJY4f66z+5Y7pFmgCOhyuY1QqaLdo8XwbAfaN7x3yOlUNiI5yjEImeokOgFZHD2eAm4XLrAHkS/I2k6xaT5usyaRPmtBGoK8zy+iVJKGhPumrMWW5yd3EvcPyC9fZKhZfjQTZe5EYwKC0C2Sivtx11b0gmFxhs224gALFlJE3S7/jY+O2BNAmj7vxceZcKmuUrtNO4vVrXQXk9u/Z43BMAFoDE0CTlV4bugkutkpwgmsw7sTakLJ61OExApmDrNhqskblyOH5F/TFvCByXPYx6prAolvX+XueWnsHmeozIMQAydwdXFCNI0v2Yo1bggTE2CqWZ2+1XfFyG7zus9YYLfu4UyRW6U0OYiGH5Z1hMcerY2XpG6CtfSHr2ZSAI3tcn3npMleTXnjPNd+HvtPCuLXPdOhzwbOjOln8aRwCqAKTNaxzfV6hqtefqacfSVh3IuW86lWvtKuvuspuvuWW46qMT5Ms4LhKJyjQxt68eYubyy5fvuwEtU6t4mKxaHv37XOrw/37D/gPwEWLFroVzpw5c/wXxw8zYplDb9++3bZs3epZi5YtX27Lli71H24/jLznQxutxfbtO2zbtm3+V7o1a9bY6tWrZkxnT2V/6gfOwYMHfU/sx4JCP5A6OzvtjDNW+574UV6Hp6IfzV86kZXuVtZpz+49toC/Uq1fv84zkp7q+vmVN/8/9oUv/KetXbvmVB/q9x2fMty+9S2/ZYsWLrTf+d+/O21dZYr9UYF1snTat3evyappZGTEs3LOHphtZ27YQBwbfWE6uUP7effu3baHv7Yqy29fX5/JmnHuXNxofohDbiKSt3XrFsY7aitWruAL8Fp+ljz1zMQ/RLdPu8kzMc4J/vK8ZctW//nQQRa/M1avPq0sPHVT8pprr7VzCAdy9TUvmVanyhY7NDRk+o7wVA/dCOxlD2/avJkMg0Vb7t8Jls3YnlBMPX3/uuiiC8ON1TQDm+nP0Ux+fzqdf69Mo+pYFDVw2mogyc274IqAD3frNl4gzti4oJRAT9J6u2QJpht7oQrdssuSBqhRLllbeYLvgp3WPjDHCkOPEyNu0CZ7lzmkSAEwMjwq2Q4sssat33YFcAEUQIhLmygM2Nyd+9ySrgzskktefvZSK8/CvRZQ0JUp2Dmdt9r8tgM20fdSK/S/3Ooki/DWkqMRCT4UsfCbHAP8AA66eq3R2eu0QT9nBCEcoHgrngBBPUsvs3LPQju453O2oH6vldrb7Ina+Z74IK0kC8iV9CSWcLK2S6gPZAkoySowxKqTXArQG1eAkUAMXsU3ZBmVBJ7l88qmanbbrTfby0nEp3vuvr5eG5g9G8uqirXz3U5WZiVAEojJAVEDIFjkO1AOWHTdl6+3173m1Q6hBHSUKVcJNIrFkqVwmdXvmVKJdeB70VZ+D69bt4Zx4h6LdVk33z/cqg4rsbb2drvj1ltt4ZIV1t3VDnCbcJ2vXrUYoNglzmjK9OmQjnm7Sy39JAF0R+pO8+2j/q7dQ+6qqbHr4ckV0E+9mLfU5IjZxKjVsaxLMi9urK1QzdqBCazCtFz80/6RnkaKZr1TaZujclcc1mUT2xkBgC/TjZtmziq9q7wPWXMxOR7arwm3eNQ4B/fvwyqtDKSbdEs36Ul6VWbfbZueQI9YvdGsXKIzDq3tyNBB72/ntu1YXOJGSgVBUgE9fceUjnfv3GXd3d2WFiwDREpGhvh5goO8pYz3xK7bs2uf3XvPvW4c0NPTY+ecezbrXiD2YZatlrEiMmv0kcu1EYewxHeALv985AvEnWPfyZW6hlWdLEploXfvfffZ0sWLfP8rM/BiGEWB/SAX6RRxHKfIbJxKdlvjoittamTQRr/2RWuwxpnahK1P34FsYKPvYbIg4zo7WarbRGKFTTTOdP35Z5cJ8GkH2IHp+HwIBitzbWv9vQ5Al2XxetKPHmwGt9xDDV5X1wVRdYQEE/52xp6eV7BOWlu5auW0sE5frI895Bpy+YuvPKr44osvsn//fPBFvv76G+zDH/6IKVaSjpe/7GWc/4O/38wX02t+7KX+/sinpYCrO26/1Yu0iddvYNN8n2PpshWHr87mh9r9991z+Fxvzjv/wmn/Cn7brbfYdOBQN1L//C8fs49+9J+OknPsyTXXXGO/8uY32eWXX3bspWnPh4cP2R//yZ/aP/3TP097/Vd+5c32u//7d07Z4O9PZb00sZ/92Z+3O7/znWnnqMJrr33tUddu/PrXTghIFCvxL979HtMN0HSHbprf9KY3+g3UdNdPZn+25Gnen/7MZ+2zPE7kAqU9e83VV3nss/mYWR97nOw+vvfee+01r/3pY8Xaj//4S+2jH/nwceWf/vRn7P/8wduPK3/b297qLpCtCzOhH8kaHh6x//vXf+0ZR1uyj3zV5/LKK6+wd77jHXxZm3XkpVPmvdb2537+9XbD9dfZdGt4ygz0KQ5EFnef+OQnPUHQsU22bt3mX9xav2yPvX6qn+sL59e+9nX7F35Ot363TDdm7bnXvOY19losnZ7uISvzn/6Z/2Z33XX3tE31e+61yP7Zn/1vT+kPN088sdH+7M//3G699bZp5a0E2v3kT/yEvQXQqr9KP1fHTI9TP/s++Ld/Cwj/ggPV52peM9nvqlWr/Gf932NFN92xmz9UPBVYJ3ecj3/iE/aed//ltL9btH/f8+5328KFC6brxt7+h+847mfuJz7+MbvqqiuJNzRo7//A39gNN3z18Pefr371etuwfv1hWc/E52gmvz/9KPxeOazs+CZq4DTXgOKrpQAeaQBIjl9RggtTxbSNFHDRq+pGPm29WNwp+2knAKybhyyGBERk8dUFYOrtabcMYKiBtVK6M2urq9usG/dYOAZ38Cnb2L7SxtqLtjSxw+okIHDSIcMxCNGeqTOsf+v9lqqR/ECgi9+TB9deYiUSRKSADqvbvmuru7ZZvv/HLT/wsw5aWioXMEkWxqx23y029RgyRobcMqjeP9tS1/D9YO15R4EmQSIBB4EeAai2/pVWTv2CHdr5YVucuNeG2lbaYGG2xxET8PJ4cQIyUDgBEs1Z5AIDPLcsUh0HNwwE1uEgQ5BEldRPXpZa1M1CNvSz+9FHHsHNtM9BzXe/810HOGeffZbDpHvuvhf9ttuLXnSx6b3g3QXnv8BdM/O4a37169/wMf/YNVfwB6Cttmvnbv7AdKaNjo8Ci/byh8x1AKK8lfnD0C23fcsO8secSy6+0Lbv2G2DBw/axRed78AHQoXLcbsNHZoAGHbZgoVzfBwpXDoFvGSRJss6uSbLWupIUNfSuywG29oyJBwpMk/WDJgpOKnghfUHvm2Ne++w+vgwsdSYPwAsAZBqoLtVA2lb2tuwQqVhE2XgGOrsySWtO4e1GFCJ/25ll6wWsATDyrMy7lZgtc4FDkIFBeFJ7EuBPq2HEjKgZ/5gqEOuqwyZMcEKxypeVgOIFnFvVZm2Iy9+qJ6OBLH0VCZwqkP1ioSfyfA5qJTT/ofibgCc9KJ9EL7HyTpSln6ynCOxA1BQ1nxrzlht3/nOXdaHS+3drKFA6mWXvtBuvOkWoF+nA171u37dWodjDz70sM2dM9fOfcFZdv31X0N+mjU/G1byLVu8eIGthtvM4w+EDzz4sH3v8Sds4aIF9pJrrvTEEBkGmm4n0cvAAkuwVg3WTrCdUaMruQdr7TQhoDFzSyeBqCJsFErPFcYmyzrtVp1nsWxNsU6yINTnQ7puAOjLALvv7Z204Txuxtr/TS2uW9hty+cSG1L/EIK4Z+R47r41PyPT+cFCRdynO1ZPA+ucnh5TWTc3gixf+tKX7Yv/9V/HXH3yVJtzukM/RH7Yo8xN3LHHdGWqM93YH3jgQXv1Tz21GztZp+gvH08V1v3863/h2KEddS44KJn/+slP8OFbfNS1U+Hkqa6Xfhg9nWM6ubKie9e7/mhaaHykbGUqfstb3kbyk0fs7X/wB/xw1G/BJ4/p1vip7k9JueGrX7Vf+7UfnHxA0OtjH/+E/fu//4e9931/7VD6yVE8/XfH7tmWefGxkrbxl57pDmUMmu7Yi3XQkcfJ6kdr96lPfdr+4i/ePe3NZqsvWXYoVtqdd97pWaXPPPP7A/hWu2f7VeP8pV9+o/+xQX8lO50PfXG6+OKLp4V1mtdBvpTNmzfvtJziy1/xSizTtv3AsQuM6XHjjTfaX/x/f+5WcT+w0REVTgTqVEXX9PjmzTfbB97//hNaQSkD9Hvf9/4f+McfzecDf/NBu5u/uv7d337wWYfaz8Q49T3gDwH0snr8UTsuOP/8E05JVnLnnfeCE15vXfiTP/2z1ttpX7V3X/KSl9o//MOH7IorXnxcHVl6Hnv89Xvfy5f9LvvFX/yl7/szWe1m+nM0U9+fftR+rxy7RvE8auB01MCCftwzcx3WwV3xivl9/I5qt76pVbZmVg6XzwCacj0dNq9tgV3O96fJyTPdIinHjf2c/gFbnKpYx8LF7v7Yd9Y51lg4z3LtWUsL3mCNJKhyRlu/lYAFXdUFNr7vQdzmcLvDYq2G+93s7ELrXEUGUMGh7j6Xk5y93GokKZhVf8SW5zbZZHq1Ffp+HLTQJCwoWhZViUP7rH7Dp6yxZ6dlgY26LtjyMN/d6zd+2c6Yt8y6+2YffV/IdYnR92R9n8r1LLb6GW/FCuxDtrb4Nat0vM6GJsl0i5WXu/ZRV0BG39cF52T8JQt1xSsrk9xBFliCLJJXVef8l4WRgz3OFStM4G3+/IVYZx8invwYMdTm25bNW2zd+rV2zz33YdnWYy984YU2dHDIHnjgYW/7E698GZZeAKQg0ubPHbDdfNeXd4vcO7u6OphGHVCVpz0JHRjnCLHqh/i+OzC73666gsQbWN+NA7JkVLJ163bqJO3Q8DiukTlcK5P88anfdSBQJ10IROn3j1x89UdfWXzp0NxaD8EfuZp2AOsm89TF2k2WVQkIpuzdGvv2uJ7kFSw96xAQ0snGwao9vp91ki6bZXRja7JVWzOg+G2UekxENaQfxiurT4eA9OtgSGNC54oVp/Wh6yCp+aoT6eLYo1XWutQaXhjH4aE23+AKje6rgMYhLPDGtWYLsXSjsicYoVNZVspVVpmCBSof4X51F/vukkteiGXcA3bppS9yy/f77n/QwdfVV77YHqTOheefa7fc+i1bs2a1zcHIYcuWTcSnXkE8QqEAAEAASURBVGFLAHFLlizmO/yQrVm90i550YVuMCGAOoxV/7U/+TKs8oCpGVxPpRcm1N3B3sIbZGzWgFXEWLT/0JJcuNmauJaHfVshe281zX7HKYUVYh7Mj5qaj/QnBJfDtbfMibIZp/dvtsyBna7/DFaebWTobcvL+hCLzY5uKy092+cvuXKN9/E0szofq/eTPX/ewDp9wAQbpnOB7cLdb7oviydS7pve/CsnunTKluuvuG9805uf1vj0F5CZPLZu3Wbve/8H7K//71/NpNjTSpYsMX7hF99gAmBP9RDo1C+0j3/8X55Sk6e6Px979LGnJK9VSdZZv/qr/8OB1DOdPKXV5zPx+lT18xmsDf/wHe98ykPQTfsrXvkT9vl/+xxfOC5+yu2ezYpK0PA/fv037GP/8s/+F7Nns++Z7mvBNFaerT6mu9FvXTuVXxVLRT8nn84hK7kdO3bal7/0Rb4wHQ30n46c6ep+/es32mtf9zr7Ii7U7biPHHv83u//H086cGz5ic6//e1v2ytf9SoSI13HzdDsE1Wb8fKZHqcsxt75znfN+DhPFYHfD3TP5GdLv1NkQXfLzd9o/qX++2tAf8Cazgr72FYz/Tmaye9PP4q/V47VfzyPGjjdNLBh+VzbsLTPOtsztmRuj80BAOSqC0lYgGsk4CSRw2WPSbX1zLHlWDsJUOi+MovlkZwBFRkrzQ28E5Lu9bhDnuHMQHUUt02QpEu/n9Wuepb1rroGaUImYAMssRaWgAhXYJCRacMFlt+1WOL1A2PmQBu69t1h6WrG8gt+2mpN19eWfhNVLPG+eyNJDLZ7kUCdH7xMAtOue+RRe8ENX8Kz4pcZQ7imMbXet17hFZZsm2WV/susI/8pW97+iE1OXWyTjKEK9BCMymBRpfG6ayDlgk3647nOBTuONE5Q7DK3SpJg4IYSBiguXFdXp7tHfvE/vmCrsJhS/4ODB0nweCaWbDUsse7xcAmKPX/vvffYrbfdDtBZ4/3oj32y2JL75NzBIbcy2wm4q+Bmqz/i7MSyThbVHXxX6cLCcfuOXWR+3Ysr5WK7D2MVXZNbrADf0OB+W7Sc7Ln0r/h2OvRe8KeMPAGZDuLsySVWCykLO+lNLqWFyYKHJ1G8N7Xxdijg/2fvPQDjOqv87TOSRr2611i2Yzt27ASnkpDOsklIoS0J7NKSQCC0pSW03T8EWL6lLLsLLCx1WQJsKClAKKGEQCB2EscJae623G3JKlaXRpr5fs+5c+WxPCPLzsixnfvao7lz71vOe947M/c+cwpxy1RFa+/d0aOODb1gpbVL1pjitwH0ZEzqAo6kVwFNB37s1DkzoPWIYWkpF9iBgjpZW0pO6ZW4gX2ycAT1kYCkD9I3rDAqXSMPxYfxP8Fr/rqsGot5URg2XX2oXXBA1n/SSVtri6wSBay0jr7maodFIa0At4yy5JQltkAWc5tllDJO13gP/PlBwVdZNJ59tgCf3lNyy62U3gqLit2S7SFZ3pEItFOwda8eZeIxhLtx8KX3y4PLVygz7zhZ3in0hgT8/R//rLWtVJIQWdIVBFafMZ2H5dMEpBedas3b5WIuuZCvp0+wTmOS/KFXVox9GDhiDoqvsybqc9WfhOrSRv89y/BgYZC8I7X2MateK8tAILTGvjBsRN9yHd+z4DxLyV2duZfJLZvM0P1y7+X9nO9yXMK6r371v4f0xEVbc0uLcZOwceOmof2ZG1/60hePWSuMzHmMtP3AAw8MuYuMVC/z2KEApcx2I23/+Mc/cRebuXPmjFTtuD32mc985pBAXagIIDPn8LnnnhvuetbPq1avPqw+Pn7rJ9ztE/Po47Vw7n/4Ix89rOl95rOfszvv+PFhtT0SjciKjRvx5z/3WX2JDfv2PhIC5GmMnbtyWzSNG3d0uiMfbOqbNmX/jjpYu6fkVvJTWXsfjkvswfoG8H5fFqaEMsgshIEgO+ihFqD2d2/73n4u64fax6HUz7ecWEYfz6AO3RLLMFepGxfEScp1/FD381mLZfI117z6UJvmrJ/v91G+rp+O5++VnIsRHYg0cAxoYM6MOpsxudom1ZYHUKk0ZS3btwncNFl17USbMHG6AyncEklgUC6o4DHK0pdQjksEURI6hgfXvHlz/QdRjKS8nt/oq7Ju6GOCEAWCgDTVYX+Ol8sFEguyQkEMNXLIoGNVsrYqnnGxIMA8GygTAEzX15OXgb0tZlvWBzAmvY8xKTUCOV39HfabP9xrp552li1cEHh9cN0XAprw2a8F1S5ReYoA5K+ttvcZm1D5AmuXoVJYHysqoF2vXDeBTdANLOoc0glCgWs0OwGnQAAHUoKTgBdizE2bPsmm6kEolte/6fWK+Vat2HLzZCm30+bMrve+Gxom2nhdv01UwoOZM6a7hdXME2bq2uZlPs7cuScqLl2xQ6qq6kqbLeA3Tw8SUMyq3ylrrNkO+whJ87d/c7G1KHbu/HlzFO9sqvQqS0BBw5racbZx8w5lx61UPNU9iqEWoBDmCeSpEFDslRstWVLX6voHi7uZs2YqQUON5pv0BBV4OmF1xxzJbhsugG9LR164vlZ/YWG9i7Umwy+7wyrY5BEzDbfSZHG19Yw/VWC3VyAJ+IM9XdBvkGVVMQQ1HzojZlxYWCPGYT9MKv3C15seWO+hNdfhUDqeGZsxWM/q6gpZDHa7VR3tCtWuWxaK27ft0nldqvNfSUp0DwiMRG9AzmmyuqtT5llcnHEnnaTEdlu3bvPX6A4d4kY7b8FJVqQkGC8671z/EZiYycQaJBPt1GkFHv+/oqran7foh2jOBQBh/ZzZChu1UTHd6xWnT8RTJzrAWKeX/H1brWfNk1BQAc5gjmSD5b3Uq8QPXYpX16u3V1LJPcI5ox50oWqKIQgsBT5Lp7q1ZU7FNXVWvkgWtEqWkRLwk+1cYPHY12MFFeOsRecFdo64bZfqvKJ92a4Nllrxu6Ce+s9XOS5hHXHARlP4Zf+fPvoRe/GLLxlN9bzX4QN8qsyA+/sTOUEax8OSzVU3PHaw52eeyW5FNW/ePLv00r91k18y4m7a1LBfDDXch6Dg+Sx33HGn3XLzB/LZ5RHrC4sD1oQbzlwlXDMsUcZl3NgsV2wG3ElzlZtuepv/erBt+/assf+++t9fyyuse/JJfbAdRuGG4ydaw9e+5lpvfSTP48MQ97Ca3HzzB3O2O+OMM/w9o89yu/vunxmgJLOsWLHCY42dtnRp5u4juv32t9+ki6Ny+9zn/y3ruEBzkjS8733vzXr8aN/JRdeyZcuziomldL4/s7IONAY71+aIXzmaoT4pt8Orr7rqAHf50bQ9WB2y7772ta8dcofF0ugDORJ80NcrX/kKWyx38G5d8BJ7DxfszPINxXq98S1vGeov81g+t/MtJxexH5Q14UiF82/uiXOVaGP7AfMeqd3RdOyhhx7OKQ6fG/kut33ve3mFdfl+H+Xr+ulY/17J97pH/UUaOFo0UFos6xv5uwJrSgVvUsoQuuzRdbren2xPrHlMbn3luhkPMlCWyoKOHzSSihVWIwjBA08k3CXHCVRgJMK9E6CoQvcBxPoiXhoWQyRV2LFjpwfZnzR5oiy0dvn9F3ApLijTqAylxQrAXzNuvJHsrV/JAKZMmmbFdQtEFsAm+5e1jz9sE+XeWaMDhVyUquyWu2m3YEazgqGVal9bb7c9/sSjduKc+Q4QhTIcRlAXWAGYGCrFddZZe4FV777Dxhc22Pbi+UoMoCQOAkJUA7wFwAcugnUXrpDqR/ezABusp7gn4MFxh1mCH4AtQE2NgAxQaKpilWKoBzhZtKja2yLHooULgnno2KSJ422y3F6pVDZlstdHCNowFmtFIgOk5xlIpN0OgNAU92uTp0zy43PnzvZ2wDZg5sknCfD1JKxCECgBrckofdIfHSVlAjdH98i495K1lrZ4L0ySLEXxGdawYZNgkECaxgQKFSl+G7J4kgmeNaJEdJk4wOu4QF6gb9WlsvYFz8E28eAAYCncozWW8J1iKSoGnSz9WF93y5UuS/TA4hN3VPoM9cFMSAJBHDsK9UsEN8vLBKEFTLs6iVsnyzCtKa6lWD1SAH6T5KLcofBXuCeXllfY07pHBHjBIhEScfe2ddiWbbsFVKt1f1srt1FlVhW4TKl9mVzCgWqcK9N0ncA8SZbIOnE+TBa8o5/aWiWqUGfAPGRhzSmuDt8yh7vMaZFiEHIAEdh4gZJWcP6qu8BCUe2TxNsDgktmxvRsuarNuZfSewaruh49gHbyqVZW3sAqFnftQc2fmTGWlCx16PzQ8VKl7i3o6bDk3jZl8pWlqyBrSg/O6ZhiGQ7qfUnimVJZZRYrizPj4gpbnOiygpadacDqQuflz3EJ60armU9/+lN20YUXjrZ63usBcx5avsw/5M848+ys/XM8HwUIl6384Pu3HWBVCIj61a9+Zb/57e/8pM3WLts+EiKcf/75/ovH7T/8YU6gBew5VkuY8OCiiy/Jaql59913Wi5I88tf/jLrtLm5++Uvf2GZCUFepZvdl15x1X71ifGDlQsZSJ9twf0oBI5A61coSP2Jc+e6DMSSIAvPPffcM1Rn+HgrH105BOuO5Hk8XI6xeM1FV64kIjfccL1nGg2+bM2uv+56e8973+sxLDNl+frXvqFYTF/J3HXEt9/1rnca1mff+973s45NgPap+kINoWvWSkfpzu99//sHQNJQ1Mtfenm4ecw9r1u3fkhmXM35LJkzd47/WonbOhDl1/feO1QncwMgtmPHdiMhzMEKnzkf+ciHHapxA4F7CPHpPvD+m7PGAuPz4h65rl57zTXe9XIl2WFftvK1r33VLr/ssqFDb3zD6+2KK6/ez6KYtj+54yf2xje8YajeWGzkW076y/XZwI80X/mvLxvuO2HhB5E3v+XGnJ+jYb2j6fnpp5+2r3/jG1lF4ruCH/hGW9DJFXJ7rlOW4T/+6U85E5oQ5uHZFi6yw5Lv91E+rp+Ol++VUMfRc6SB40kDu5s7bUbdRCvTjXeJwAzuhp1dPUpWIOjWouQFAmyb5VZZWV5sM2adaH+St1L9rFmKtbXBs5uSJZtYbAsWzDMSGWGFBIggi2W3+iHDJVBvkuBRw8bNSha40l73htfJqvhu/Qh/jgLnr3aYR6gcgNjJysq97M9/sVpZKuFSeJ7uVeEJFPrlGhTZnlix3OZKvpPH1XhGS47XaEzgw/JGwQYBhZp4gcdrI/ZbmOAJ4JGtCIOYTbzYBjofsarB1cqYulgQs88hXJBEIWgXygAQCTCLLLIkF6AkiPUGwFIsM4EbssaS8bNfLqgUrPOa5MYK7CGzKVZLWIsxJ/oFnwCmgFs8RHq0XxAwDaWoh44ATaEcyBDsV3UdF68SWKEpffqwHsuuBost6QdRaBsvqvS5dclHMgHFUwGWMS+gV53gKvUoCekBIAvkwv20vaNTrpYCN5pnCDFJ9ODzkMwxCSCtMJDmKD2oj1KBrUBfaaHoWEUiqyRloYVlHbOmH/YLGjKfdHV053NyECULTJ1XuPaie+9CdWfMnGnbZRU6oP21tbIO0zVe8P0ol1/FQCwQEKwcrHSrxT7cNtV3jeIwkmmVe4I6fc8/IvaA66tL5SZ6moZe4BJNvD8AHW7NyArA2rxpk82dd6LvH5IFECboSEMs4KCtWKchP+vra4ee1K9earFURa8YjuMU/jIubdh2K0LtaBUIr1SyChI/9DUrI68M4kqnz7buNc+4zgbk7sq8pC5BTUE5xlcHJIohziDbgMhetSczL5Jp088F1h4deVZYXSsTQ5KELymgoDw1B3k/pJThVrLjYRbMQGOpTZF0PajELgokKWnlQp2n8ryGdWFw/c9+9l/tNdcGVkKHoldueF7z2tco+8wiT5qQCVsOpZ8jUXeKfgnIVv7y4LIDXKe4wL7++uv8ka1Ntn3EoXv1q/dl9Lzxxht1g3ZlVqC1beu2bF0c9/ueWbUq6xy5aR5+7ixevNiwtMt06abxY8o8PFpYN9L5ya+C3Hi9X5ZVrBspujPLSwU83i3Yc821r3FAmHmM7Q0bNw7fdcy9zqWf9br4ylbQ10e1Vnx5hoUvrE9+4tYDYN2fdGN6NJRP3Hqr/4pLcpdsBSuhXJ8N2eo/l/uIlcVN839/7WvuNpdLFkD3sVoI3n/FFS+1f3z3u+UeEvzaGM7lnBe+0G644XrDKvL9Oazatm7dOipYd6Eyar7udf8Qdu3uBi+9/HKbJdBH3MVsZd3afSAxl+XSlVdesR+oox9uUD75yVvtjW+8br9uiU0z1rAu33KuXr1mvzlkvrjrzjsPyGy6RDdc9bPqj3pYR8yV3Y27/dzCijJXeYPAa+bnX6567Of8+vjH/p9iFRV7tXe84+128y0f9DGGtwPe9sgKkx9+Rlt4P5AxHDhN0ip+wQ9Lvt9HuT4jD+X66Xj6Xgn1HD1HGjheNEBg+cryEgd1QKFCuaMWFpdZt4yPlCNWECIuS7lWuf/JHVYAYOKECQoHc34Qb6uzQ5k2u7XdKnCiG3RBHizIcAEk1tnkyZMcuAF1qrW/V1Y5xGkja+cJcvE8W9nXSVhEyCZ+7CHJRKsAXEtriwOJYsXLC4FRpr47ld2ztq/LJmDdIxjUrbErZOnUJUjTokyhrXruFHgCWDQ27RLgaHYLq8w+hm/71W1RhaVqFlr5rvutMt5puwUv3IpOvAPoAQSh8NleI3fJMgEKttGhx+cTpEkoll5nR7eAVrcs2ORS2tXrVl21SgKx6tFn5GYqKCm40dbaLqvFszwxASDslCWLHTTt2rVbVonlduopJ9sjjyrDrWDN7Nkn2GJZWjE87R/48zJ3n6yuqvSkE5u3bLUL5FrZINdJvqdeoLZkEC0RVFp88kkOeEh4cebppwnOBNDIwZEQUWmJrAJlaYeeAVKsFZZoFPoKXE71QkCHNd6may2+N0mcQeINsoeGegHMuXUdyuR+Ia0v+iLrcAh3qO+H08exSgQU6X/QRhUKqMR/71yuxgJPWIC6TF4vgIP0TWGdWnUeTZw4WfpvF1Arddmp73HZ9OxrpPlzbEAxB0kMAdTbrR/3J8rabcO6tUOgDgF9Guq7SOc1gKxcwA9YyfD90sUGeYR0y5K0Q++DBl2jnyLDnd27dxkhQ7iX3dPU6HKRmGrNmnU6NxJycZ5hJy9e6FaWZN19+ulVRoiev9P96IOC1NU6T+brh0EgLwY+WKROkWxbpHcgYn19vT31zGo795wX2sCm9db24H3Wq0zIGsjBps9XgkvdnmRCu2VBqXNWrwGrPIBrhR7DjnrAuUKdcyXWozcMcef6Fdewa0eDLxJzVdOhpUxOL9M5KfAKkNRJEYsJ3lEB69uOvdofgGntyUs5LmHdzR94/5ByuMHjA5aLbNzTspVbbvmQA4lbP/6xbIez7iPY//nnnTf0K0XWSkfRzpMWLswqzXve817j4vwKwZkLL7xAGRbPdjKetfIIO3lDZpYKBfd8t2446X942XwMW9YNn8toX/NBmyuhw+o1a+wrX/nqAV1x4z287Ny5c/iurK8Pdn4SM/CRhx86YK2xsNkuN1ys7gB6UyZPyQrrVucAj1mFOQp3jqSfdTlcEbFc+vrXs1ucAP4yLY0O5+ZzLNQETCT75quvuTanJdpwiDIWchxun5/518+6G+VeZf0a7kqZrU8AQT7jOmYbYyz3ff5znzvgPcl4WOXgOrNz106HGrlk4GL1RS/KdfTg+8lkTNy7O++6+4DKDZsbhvbl+izj4izbZxmfK8PLkfjRJt9y5oJ1b3nLmw8AdcPne7S9/qWs57EQB5KFVtYjyYhF3dv1A9Joy0kLFgyBOtrwK/R7/vHdWWEdx7k5mz27Xlsjl5e/7GVyRb7Zpk+fnrNivt9H+bh+Op6+V3IqPjoQaeAY1cCgAALWR1jAOR/RjTcg7VQlPlj9zNOCXHGbNKHOocm4CeNtogAcVj64r3KP3qLrQxIbcMM+VcdwTUwo22sJEEuWegCJcrkJFujmvlOuhnPmzLIWQYypcoUlcQNB9BmPH7FKFc/rzBee5ZlPewVA5sye7WO4atPwhHuKTh0r7OlS/K8g2yyQDlhXLejVgCusQF2/6sn+x11yN2/e6D+I1MnyB8AUAKBsCyZLpMpT5Qr4gBUP7BRQmRoE4dfc4rqmTGpOuIUuOvlEm6xMqlxnBnAETQSFvoFZJA7Yojhnu3c32+atu/WdEJeV4g7FK3uR7dI1zaaNW2zValkiCsoAx2jzu9/9wf7hdX+v5/uEQVI2fsJE6WCWrVz5mNXPnqPvEsUGVOKNktIyuXP22ZlnnSRLJ7nCKsYYMLFRFo6J/oS+I6bart1N7sqM3dksWUL+9nf3CwDKldJdigPrqwGtO/IiPVCmWG6jHbrmLCqqSs9G+5mPxoQpYE3FvAoKZKGlLK1AHwCvltZj0umAtwvhWKgVjYZxmc6boFst5VBR9+66SqxC/XfoA3gC+sQ8w6/2IYPcW4FrtOWZOgmBRdpTeG4XpCORwzidm2RydStEHXN3VGij5KBekMghZu06H8nUi4svkLI87U7KnHlPpLSfUiggWScLzvE6V9FBaWnwQ1yHxjtdALRHP7qtUyz0BfNPtGpBvS5ZHo4TZHvqiSfcRRaLxM26juS+EvfZUgE/lI61IOc/FqyDgrzbtm2z+sKZnsxi4YJ5er+0+f3oqQKuc2fPtDvuukcWn2U2Sdl+98iqbtLEqVqbXksK4qEG3musZlxuyQxAIgqs9XiFJSeWdUVSYFwLEddasS5AVB0UwCxWXc1LpnoxfSagKFy8dQWjbemOfnSO8d4vFezEIpQ4hcXqE50OCloOat4uiFrlqxyXsA73r2yFC9Ib3/pWI6PY8EJcnWtEdLlZOVjhxvziiy46WLWj6jjWJtxEZXNBZR/x0Hgwt7/7u1d5MPHRuFONNMkF87O7y3DT7R+MmZ9UI3V0HBzj3MuEOZlT+u53b8t8OeI2X3IHK6M9P/mCpaxfv95+rEzJ999/f1Ywl2085sKvS8dikomD6QcXhlzlXz/z2VyHDti/e3ejDbeYPKDSEdgBOP/f73zbrrzq6lHdlB8BkUY9BOdZ58ZNo6rP59VHP/KRUdU9WiuF70ngFplY7/7pT225YvPl+uwYPg+g3rMtxGTMBuuwagxLLith4jcOj+EYthn+fCR+tMm3nE/JRTRbyRX6IFvdo2nfxlG+t5D5y0rENdwC+1DnggVcrtKiuEuzZ9fnOjy0/4wzTh8R1FEx3++jfFw/HW/fK0MLEm1EGjgONNCXIK6V4lTpJhy3wgK5jr7o3BfKeiYlI4YzrUiAav5JCx1eFCmG1aRJk/3m/5IXX+IAa7ESJRQrSyUJBHR77xZRC+bP1U08FjgFist1ksV0rFSw4JQli3wfN/xCCbKkK7DTTnuBW1TNELDrI7aWymWX/a16kvWPxks5oAEawA9w6xu0VWuesiJZAE2T5V1zt2KQCT5QoxSQUpgw5dS0vdTVPuDWlMnT3WqNbJrFxaV05QXQ5qQh/ZrMl8kiQUi5iBZ3bBZMmS6IGQAh5lYm66PFiwXqJgn6aQ65CvAHOFdTo0QQs6ba5i2Cdo3NskLs9Yyu42WdSH8dHR0iILgUFtuatbLqksUhMFCH3HUW60SScmDF9rSsqRoatihEyKmKrTZNVnQNqlYgq8Q2Wd0tsnXr1ykzbLVDJyzQTpynhBSyrHtw2aNKOHGR5iG3SekC67KgBMAOkOVFz8TWA9hl6gSrP/YV6r4JOfp0jVZSVqXvRMEwNfQH0I4NvcK6zu9zBXjSPXt/xL0LalMvswTWi+pBay3YpDGAQ3rl1X2/qmMBltLa02uf7sH8fKMKa6gHLrzoHas5zi8ZhIrn7Zsb4A7rPAeBqk9ihzIl/OA86xdcBrjVjVdCB4HlHgFUzk8K+sGt1l1j0ZGsKLn/w+IQOFapJAtk2Y3rfUJMQty6Fy2Sd4jqYlnKerbI4m/JyYts2tQp9rvf32e1sspcJUOqycr0uljvCSwzO/butZkzp9sEgTisVZETy8kGxdSfoviFT6vfUrmqn6A6zYKyiFc9baZ1LT3X2pqbrH/HVpcpIXrLPD3+n6aL2pl2f2LQzymdzb4+obstq8L7lGuHUsmqaSm2XWgdh27RQqALTcqtX9EZ7r3EDUzpswN4WqT3iQ7nveR+l+V9qOe+Q9w7v/M/384pyA9/+KOcx471A1xk//D2Hxg3YiMVbgpJgnDe+Rfm/AV8pPaZxyaSajlH4UPs+VS4EclH2a6g5fkqWJr+3auvsUte/BJ3tyUe3qEUzK2Px5IP4IFedo2QrfRI64334g9+8H2H8Ud67CMxHgD2S1/8zzFPWDDWc+EilQRJp512hr3zXe9215jRgjpky8fnKkGZsxV+xQ9Lth99wmOjfeZHG3cZGm2Dw6iXbzlzgcgqxXs5nsun/+VTow6/MJIeuKGYM2d21ir5OHfDjvP9PsrH9dPx+L0S6jt6jjRwrGtgzeZGW7d5t23a3hzczOvyNqlYagOySsMNlnhtoleCRvE0BBD00H0MEAmkEi+vgktoWzfw+pcUDCoSqOM1Vl8FAlHEbkvQRgQlSQIBtZP9jnMTYBU3/4AlrHtwhS0qrbC4rOwASyEUAxfwOUqigL8++bh1qg0wbmdPn1UK+uklzMbmyaV3vBJlkOUyIejT09slN9AWxWCr88RPrBf98OCzlzuy8MFEUgWyMNIj1rPdv6dxDWU/VlDz5s3y5A+hTPQ1UgEakXzgxBNnepIBYuA1656I8YBKCxbMF0DrU8w/4tiNs7PPPsut63CFxOhj7dp1fi00Tkk38Ao6VxB1vKwbgUIlytTJfHsVI7Bc7sAkVsNKDIiEey5x8jZsaBAwrJY7rhJlqI3UobGBY7icSuvqgG3koV2P4gZiQUfHgfuvjul+h6QhWLa1t7UJgilWmdalX+CvR1CwuzehjKMkfJBlHIvgI9CjuknrlzND6htaS+3er6RkQUcSE56xpgtWFrnUn8Zins7d1A55kK1P8/N4cIzDQ5WYI1BP3M4BKAAN6MZ+YKNLpz/B6yIr0w/6rVoPYFyHrMKID1hbU+s9BloJxOzXPPc0t9quRmVelS6pz9j03y0ACwgslXUprrGs8cyZMxz6IRM/QGNZirv0M6vWuBs5CSfO11qeLIu5uBJEVArKYZ3KuhIPkAzCj6x4THB2s9dfKZfm2390t4+Jt82WbTs81l6R+EbVkjOsbP7JPn/mrTeQ3F8lvbYBdwA1nhNan4SAnQNXHUxIh8SuYz8FvQWuytI6J0pYfA3T6FK6o19fGZ3bDDcoSDcERcM2eXw+Li3rRtIPcaeAdtncPjY1NIzU9Jg/htvIj354uz344IP2ox//+IA4W8MnSFwk4qMNd3EdXi/XazLoRCXQAKnKcxViVFUpBsBoysJF2d2ZR9M2s87DDz/ioC5zX+Y2VkqnyFScuAJYXD4XhV9hnosyknvVocS2nDEjt5vWczEvLnJuu+1/7RWv3Bdb8rmQI99j/r3iht5yyy37ZV7O9xhHor8B/Tr5zne+O2cCCWQgThcXtk888aRnHB4LubiIzlYmTZo0tBvgsnHjpqHX4Qb7zzrzrPDliM8VlRUjHs/HwXzLmevagYv447FgUfIvn/qUn3P5mt9YXxeM1fvo2V4/Ha/fK/k6L6J+Ig08lxpYJ6uvqsIBt9ohcP6M8WVylxMEUgKBtavXKX7WbGWT7BdQqLWGrTv8bp2s38SdA8TjwgqM2CQL9JTc52bNrpfboIBO+sa+XXAB982KykojfiWx66bI4qi1rV2ugZuVqXWOrPBKdKxBlmEVAh5yc5XxxAxdi1MAAmFhu7Orw90Em+TuievnOFkl7dV2KWBMQKZcj/kCdlsFEboEgPoVHH/nzh02e/Y8yRlkzQz7C4EdrwE5FAdEjngCqMUBsRhBOrnrzpjsbp9BzVH8BYgI4PDjXJ2yiE7XfcXKFSvtAoVeukz3P8T+mj7zBNcVvS1QvF4AIq6lyPNyXUsDlthGn+Wy4uJI+dRSz/ZKm799ySWu31Pktnyq4t45qVKdhbpeYn6UZQ+vkKXdHMElrPZkeSXjOiwWsaRMKKAZYwJfyYhK4oVOgSXWK0zKgeUfPe1parYK/UDX1QNYUxv174k11F9BMrSBY0Rqs1rY/gUyFEKS0vKkn8KXaVAXxK0D1olKOZyjfyzpsHhkH6AJUIfe6B1oCjhim7r8WMX9E9lxzRMtCBm71V8AlryuKhfJggzX1IaNmwSgcSsudfAWF/wiWyxyu+4C0X39AXRdHYpBWNUjl97A/bqivNLdty9QEpTLtZ70e8VVVyiOX5HNEgisn13v/WC5BtzDdVSnks/bZWZbj5vf926fxUmyUuU1YzNlitTsOsCFmYMblKSF2I/z5E5On4NiOz1zF1jXY8sciMp20t3LaQ+HA9wN6EEWXYClFOg6xHZOxodqo/16xhqP9xPzjOl9M1QQwIUBuQbgk1kAFpNaE+ZRKFgO7HPhhxrmZ+N5R1Pwh88G6lBnR/s+y4H8qPfZ9wKNxi86XwUTzwsuON8fX/i3z9uKRx+13yrr67e+9e2sQ3xT+//j37+Q9Vi080AN9Cr+T7YCJM5VyLB4kQK+H6lCtiks6rKVq6++ym5621uH3MGJZZAL1vmHeLZOsuwb6Tyu1JdhtoLlzaEGHc/Wz6HuI8h+tkK2Y5LRHMuF4MVk6wyT6xzLcwEkfPhDH9wv++axPB+SyWTL9IrV4Kc+9UkPph++V7C+W6lkM8PLobwnh7cNXz/55FPh5n7PC+UCFJYTTzwxK6y7XEkqPnjLzWG15/w533LOnj0n6/UDsXRIynO8FCDnu9/1Ls8Sno9z6kjqZSzfR8/m+ul4/l45kusbjRVpYCw0gHvk6k3blB0ycOuLdSZtZvk2W7m61cZNmGT337fOrY7OOPNs275zj7tgNu9psnvv/a0MGk627du22Ox6JRNS7M0uQbYuufARx4tb+53ysvjFL+5VvUWGRZC7DgoEXHT+uer3Dx5bbdOmTUMJEJ5QCJWF6nP9ug0e86tMbp1eMshFjxIscH28R9Z+G7v7BRliViIgs7ajzyaUFNoUuaqeJTfDlYNKVqFrfpEOxW/bKYu89gDiqK/Q4gvgFJYACAkuJZX5clAWarIoxNoLKFElejnrhCmCaGCN0Rd399V4bg0mKHSSjA5279xtbe2dAk1FgiiyXxToKBbcBCS5xV6ajeBaCJgqlQsq+wE9vOazOIA5gbUT2/TvQEW8BAgH4IPyAGeY45Sp0wUqy23XnvY08OIYY1ItgIMtTXsczmFYt1fx7tvllkksPeRkLfc0NUnXg8raGhdo1f0eetSjWG7TAB/rd1UHypEcjI+EenJLrcANdp/u2B+W8Ji6SwMfcJDgnKAYVmv0hPszMeroEEhERdbHB9CrAMSlFIdOSQ5UJupH1kJZgwLQsP5KKCMwUM4TQrR3O5hE/1h01ipr+1xZMm5Tgo69sh4Mi4sjobAwF8dyy7lOZV4BLgOo55003zPJoge36PMJAMmkU20H00EHwWR5JsOtW8BpELdu1LNn/NX6evJZ1QnWd0gV6oeegteT5RL76le9wuVBJ8Sim3j6OWZtTdata+OCmOLNqS/iQZaWIIfkQXapCpnQpfelcwZrUeLXsTewbhTcBMAhb7qunnzgoJ0kUWy9Yk8jyx6tvfoAxgO01U3ey/MO1v3XV76SU4nTpk/LeWwsD4wU92vFikftvPNe9KyG54ON4M3Tpk3drx/MUc895xx/vOXNb7YXnnPufsd5sWHDhgP2RTvMP7Sy6WGZ4ktlC3DPhw5WitlcTb/17W9rjUlWMvIXIKD5YHWyyTR8Xy5XLrJB4kqIrIdTDvc8xlolV7ldrunXvemNQ4f5ktysL5KxLLliNRLr8qGHHnYT/ZHGz9c6jTTGszl2+WWXeZbGj9/6iWfTzRFpi1XvZZdd6mNxoTCurk7xLybbC15wqn6ZTl/AHhFJxn6QPysDVrbykzt+rHg3+0BZtjr52kdg39tu+17W7rDoCwsZTrOV22//oV1/3ZuUiSx3CATaHan3SL7lBGJhmT68fP0b37DrrnvjQWOpDW/3XL4GAr/tpre5CGR2q9V7a7xckHjPDb9WeC7lPNSx8/0+ytf10/H+vXKo6xTVjzRwNGmAGGN9sqLbtYcg9wqyL3c8hZ33eGrnnfdCGzdphj36+CrrE9QjGcKaNWtsgmKulcty6PTTl9rvZfSwRz8wY2FXpWuTP97/Jzv11MWyPoq5y+jFF58v0NMil871inc3weHGbllorZLVHlbmfCeSxfqll/+tXP9W2o5tW93Crr1lh5WHsC6tMK7RK5QE4ISZs2zP9q22VlDt4uKkbRRhmi0rp8ZewbvSlFXI5fVVL/4be1zXzN3KHLt4yakCFnKvVPvMq3ygRHjdz363ExoU4BuQS2ThBEEIuU8C62TxR1yyzPrhGjrYCF947/v6BHi49ZfGAb5VyTJudXuvbdq2xq2ioBvAFEAT+gLIxTQmgBCw0i/dcDSQGasm4AjwB5aiZ0Eh9vFZTSw1rLc55tZS6qtI+6iDHAAxPXkMPiotWFCvtS5RG91/6dEpsFmjpAiD7Und5yk5iMAWBjO4vRJDrUjWdRPkCUUs6OTuvS4j03bp6B9eqKGc7EhitsOXwFGvwGEVXlKQh23mX6JxioCStKK6QFBYOB6PlziYwhowJddhX7ewvTqhy3B1kwKjnYoHSAZc4txhLcY6TJ461ToElHHnpT46Js7foiVLBOo2206dh+yn+LP+8Ew/JcVyq5Ybqbsa06f0WSzgWVVdI50OuB6TOk4pUiPmRv/MZOgcG9oXHCeOHJaJADd8unFJ1fJ63wxMrEDOD/qhCrqKK+Yi/fXr/QjIxPoxKYvRyjMvtDKdW/3Jp7XWgVWoj+4ZJnSeaP7MhZPJ++G1dqA59gN2B1xer6U94XnnmxIiePa11KbHMlQbYjNybiXVH33nuxyXsC4TiAzIHLm1tc2z6N15x122bPnynDo8/bTTch4bywOhtUS2MT4pF5Q3velN+jVjptKC77XLL79s6ITPVj/bvqcVFPuKK6+2Sy65xF7/un9Q1tcLD4A+mEdnK5jTRuVADeSKUfStb33bsy0tPW2pxyx7yUteMhQn7OyzzsoK6/74xz/ZLR/8oFukDI8Xhdk4geb/5zvf8Rv2T3zi1gOFOcQ9TygzT7ZC5qDwwzQ8vv8XcLg3+/Phnsf8mpOrfOxjH/csuotl2r5Hv3j9/J57slr05Gp/OPsXLVqUs9l1111vX/7yF+2iiy7yL73MisRV+L/bb7fblDDkvvt+ZyO5Pme2ey62r7/+Os/I9Y1vfDOvw482Acc73/mOoffFSAJce+2r7Y1veMNIVY7KY9/81rcOCqwQ/GVXX+0Qn4vMXN9N06dl+RGJq4tnUVYpmzPQPjPEwZNPPmnvevc/5uw10wV/6dIXZK2HNewb33S9fU4WqMOTNfFZwo9PwMCnn3nGfv+732TtI5878y0nGVFzlSuvepn953/8u51zzgs98DJWDz/+8U8MvR6N5YILLpD1XPZkXEejvKORaSzeR/m6fno+fK+MZo2iOpEGjkYNBIADS5wCgZhSq1LG1Li+ZgvK5L5aMk5QTm5/RaU2Q+6ak6fNtLWCde3yxiII/+5djYJLyjKpGGm4UHYonhyx0+6//wHFYWuxiy48T5ZYgiyyHuMHdyzs/vSnv+hYs8dwO1MWeMuWP+xAaIcMK/aq3+kyrmhXFsyULOcABrrgdLrgoEx7Jimj5itedq1nlJ2ckvvrquW2oE2hYwRwxgsYddQJsp39N7Z4wRJb/KICxanrlovuBgFGZbEFRuj7mKsI78/hRLAqfs0vsDHY22YxAbvu5DjxJcBbypobd9jOKgX3nzMnqJz+S5suQaGGDRvcdbVOseVq9cMP8csosIvQuo6Yb+APEhLs3N3i7AoQg0WT0IoDGeTDxRODEkAMlldYI2YCOkQOEgiob9qnxxlIKAabxpUKBGwEAaW3QrkHh3PwxAMQNTUgmynWUFiWAeuw7JqgWHh4AiEDbSvl7gqwYw6tci3lhy0suRxSCdAoLYlDGniiWI1VSk6sxpwNAQjTxS0WtQ3kCWEaclO0ywuWcsRBDF4K/Plx1ZYO2EdLjgLzkpI7qUyxxZI7IZkAWenuvA6uqQtPOdUTNmwgaYcs6liJGt1vleuHugo9sBxEecQJPKG+3rZv3eqZWIk550UdhtZvCBlYK8oKTfATWNinGH1xgbqYEj4wdp9i2hXFWUOdq8joQnPu8BKQyQzUp7b1ny1/MO9+rQmwjjo047sc/VOSKZk5Bg00d9yhVcOVF+iyQHrgHExpHftlrRlTQpb+hPShBSHyX3gO0VeBJsR6M07CH4J96q9AdBB3WM4pwlMW6z1VRDZYlxGJXGA9p/fo3CxVBtikwHBSi+8x6zQPtseiHJew7tLLDs8dBTe356JgkYSbJDc6wwvg8YMf/NDQ7o0b1h8A2oYO5tgIYch9990niHCf1+JXXmJYYdW0VdYUj8mNJ1tZunRptt3P+32z62cbcd+GF2JMZAKLu+78yZCb3o03vsWTdwxvw+uf/OQOf5AAZMqUyf5rHrEvMgOkv/jFL87W9JD3YaGUrdx919129VVXudUSwVUflYv05//t37NV9X3+pZ5x9Nmcx7msDun+hz/6kR4ZA43xJlYlrxPU/t73vn/ASKzvm667wd83Cxcu8qC5WCNtWL9hv4ydE5Rq/mgvH/nwh+TSt9PuuecXeROVjNOjKTdcf92oYN1o+joa6wBpRlOIC8m57xeFunjKlkziP7/4JcO6dKoyn23VxdTtP/xhTtf04e/JXDJs3LjJXnrFVbICOEE3BUFGtVzhIejj/PPP83h5YX+XXnqpJwqgn+EFCHj5S6/0ec06YZYutJIud+aPaBcqVs2RKPmW8xUvf5nxA0K2wvf3617/Bj+E1Vq2tczWLtqXPw2MxfsoX9dPz5fvlfytZtRTpIEjqAF9TwGLSBjQ1dOv54RVx3t1nVJuG+UeO1n3SjNOmOEQZvXqNW5ldM655+rH4436QeYpW6jMl5MUg27Fw486GDn3nLMFfiY6Y+A2n+QOE/X66isvtyeefFrJFubaC2R5h9XQnx98SIkUTpR1U5U9rID6tbKIq589yx78y3arKRVkGezVuEqkkKEOLNQGZExRP2euWzZ1T5luBX1yyxSIKFef8doJCu5WqXZBHC3cIqcI8IXxscEPXtQpeCQAeDAQ7dCjsG+LnpLWMjjNoUtS4OL+e++yU+XVMFthMIibFhaslf74+9/ZL++6Q/MtsDpZ1i9ecopdLC+O8RMFB1XRH+qXf7htYqGH5dyAIJ2epM8C6+zFSgpZsICSlZMAE4ATmAIICyy0AllJAkCnQKACkTHmAIDpl5zJmCCK4A1jAl9xsXVYpEkD2ahHKRFkwjKKa5RexagrGoy71xSWhN0CrtwrcV+DTnCx5fVkxR+nzV6Bu3lKmFGytdGz3NIj49E30ohI6QGADPb7tRlAyeUKrLl0SH0HD7aBgMTKQzySmzAnVadTr0QqE3YwBvMpIrmGdB9TPEIfXPuAa+gYqFxTU2PrV692t13mgL6xBiV7a3gfiE5LBDexGty2ZbPHu0MmH9eFR0DJgEySg7HRLe+TpqZWuXV3OpPgu7e3r9/n4+BTdZENOEbB8o1zFgtICi6yQLSwDucNcwKk0UlSFnOsPecvIMxhpDIzszZYCdIf9a2/12q3PmGx7g7rbdpl3du2KOmKEn+cqHqK+4i+gbxMgm3mDlR0AKxJ9QuulkgmzjJAXZcStWgaVqd6xKwDug4pAEWoD/339RmQT21K8/P1Yj6aL3pK/2Ejb+W4hHWHo51XvvIVQ1DlcNo/2zbcvNx5510jdgPQOxw3SDLoDC9AoEwQNPx4+Bp3s6gcqIEzzzzDIdKBR/bfwwdjWGbMmGFveuMbcgI76pGhNVchK1I+Cjfo2Qo3l9dc+5psh0a973DP41e96pWKy/XpUY8z1hXf8Y63Z4V14biAjVxwA2ulw3mfhn0fqWe+UIlbiYv8SOfdkZLn+T4OwapxtR5evvnNbxmPsSij/R7Aotcv4tNCcH7f/IEP2E1vf0dOsYBzmYAus+KRcuvNt5yAm/e97732hS/k/hGDeUagLnO1j+x2vt9H+bx+ej58rxzZ1Y5GizSQJw34fXjKYcnOxhZr25OyidNitmT+BHtq/Va3PFq6ZL4GSxoxpokbViiQ8MIXnu3fjYADrKcuuuRiMZqEgI5iscmKDLgA/KiuHWdVgnBAhyn6gYx7euJiLdU91qmncp8FhEnaFVdc6nCioWGTTawrFzT4qw3ubbT+mhepf1EtiqBAXzqe+foN66y2utatvwqKK6x7sNN6O7pthqKEVGksxl7xyMM2VWNOmpY95AxwJxAoABpCKVae3GJdKVlfDYx3sNLZ3mKtexqtTvehgI7MggfWow8tV7INJZEQ5CiTm+hDyx70Kldfc61kK3Ho4fHmgKJqXijYkhCEcSsnEZGGln57pEGYRfDDrc8ECnnmOjXImQvDkYurrj08Syp6VTt3mZX4PgH1i76Li2UVqLbFqjtvWrUtnF7jYwKYcLcsKS50cATrAUK26Ie2IOaYMpLKJZkssnFZzWHZF8bnAzSx34GMRiMb6jjF2549e5o1yXW6s6tHY8tyUp2CoxzY+SKjWwAeT9qh88YXhToutx/WKz0DuLw6mI4eqACoCgAZc/V6+sN5lNBcB6WDAEzqmLO8QM5xEyfY0/Ki6lMSBs4rukI3uPMi1oDWKizduvdbJLjaqXiGu3bs9OzF4TGefRoam7WgH+bB2uEOWyiyFQDKmLLi9vpksIokYYXHoGNCeoTAjBMBLA58DaAjoEzWggJzDtCQVXV6h+TTe5J109isHfNGIqzw2Ex27rWpj/3GijtbrKi32wok1+DEadJLncVVX1xOcSjJmuvO3YJzKU8aw/kx/DxGZtx7+xR/UCeQ1oMVCMZDD6yIr4l28f5OSU7lrHC5XDE6GshHm/yWCNZJn8QY+9xnP6OFz7+CR7tc75I7ysFg3eFml8S3/nAKFh9XXnnl4TQ97tu87GVX2xe/9OWDAs/hFlbvf//7lLZ6VVarvIMpjWDp+SgvetG5OS05n23/h3sev/51r7OvfvVrWa1Ln61Mh9Mea6Mvf+mL9s53vfuQm588ghvtIXc2xg2IxfHtb33DXv6KV465e/EYT+WY7/61r31tVlj3XE/sw7LAxAp7eCEkww03XJ8zOdHw+pmvFyxYkPlyTLfzLSdWjj//+T22bt26MZU76vzwNJDv91E+r5+eL98rh7dyUatIA8+hBgApAkl4lXR0dCnsyoDNKOu06vHz7UVnz9CNepclZJ0Wk0tsV7fwkaACroS4DAIOSgQbACHCLYIQssrR7WQM6yhuK/XH3SB18y8HPHEAPXSzj0VXUlAilRRRKJLLqEAObnuEv6mVG2s81W3x7t+adW81q1hqsXiV44KU6nHtlkpV266/rhAsarLLXnK5jtFFUvJ1ypKvWe647e662NHRZpNSUyQPFl2CIekCehhe2FOYaLGSvk22fUBWWDElV9BkutqaZQVY4lZ1uKRSL7xnbt6zxxMSlEofJdJjnyz8gCsOt1QP1boa9AwwAmrRAQAHHWHxdaqg6JKFpbKJwnpKEEbghEeFQB+wqqOzW/CsyB99islHLLd2ud7GCot9zbrlkgm4SsjKjMyfxEGLybKtpGBAsdr66VUJAeg9DWE0p24lSWhpVcINuYFWVlW67siOSnZ3LM/KNB91IvnVHyAqXagDzMGiEN1MnFCj41pD9R1YArIFtNNfJq9nNMBr1m44aVAXXoB1riutE7tcZ/qb1Gs11JwpJJmgd+rqmbqShTGCf9SIuYtrj+YBSGW//1eHZOWNC2J2dEp3glkAKxIjtrU02+y585RQo8MSSqrhYJHhEIjzV8+MEvwJnhGLuHCBlZyOSy5/DwmO8cz5HZ4jhUl0leHmSlX6VNUB/ekX5OU1rA7Ly14BOs7lAKgB+wK9AR4Bpnq7eSlk3TWnmM4VZE0xJ+mYxCgBONP7oReIplh4vM00LnIjF2tDN8G46pd/7NdjUGscUz9B4QhzQrfewAaBxnrfA9FYA85lXGnTHQbN8vg3Pd089ngMdYWlGjci3/zm193U9bkUnZshfnUdqUyfNn2kwyMey2VNlasRuvn2t755XLuq5Zr7aPbzQf7JT9560KrDL/QxS/7B979nWHIeSsGtCsu8fBTMulnbkRI7hONwHrz3ve8JXx70+XDPY2JMfPrTnzpo/1SYM2e2u++NqvKzqERm3Dt+8uNDfg8sWbL4WYx65JtiLXTbd//XAe6RHz0aMdTAq//uVUpS8Kbw5YjPuGmPddgG3vv/+7//49mhswnDBffH/t8/j+pzcHj7k/RD0JEq+ZaTz3DCG2BFHJWjTwNj8T7K5/XT8+V75eg7MyKJIg2MpIF9AASLuJ6OFuva9ZR17XjIenc/aj167tn1qHXsfFLugpvsN7/9tT322EolPGtQnK+ttrdB2WKb9zhU6hLw6Nuz2/oat1miebf1t+yyhGBX195W625vtb6OndbXvsN6m9dbT+sm62p8xtoUD27vqr9a17onNcYOa9253bZu2mF7WgSOerdYrL8pgBsCBn0CME+vetL+65v/Ybff+QO742e321NPP+kWecCMGlnanTCz3q3CHn3sYfvtH++1n/3iDlv+yF+UgVVx8CAiFPUVwheHKoIX7CjuXW3Jnr22uetEIYrA3bBLwI94Z7V142ynQr/8XNfGvXKdTAqyYIHGPVEAmwTrZPWH6+LM+noHH0AU5HJLK1ETrBABJoAtQCcujWVKGDC5rsym1ioraVmhHnGbOq7SJlSXKumCrBG1Pa5S2wJw5cVyta0otOnjyqy6qM/KY/1yF07apOq41SqxxoTqIqufUmWTqoq0Vg3WrLXAdVLCOJDxBBWSAXlRRWAxVyhrumKrkCtyVU211QjgFUguCvCHBB3E/WMOwFSgI3PEXXbc+Bq3+KPfwPJOfev6iIJG+RPwNIEtWV068GG39u/3kDDqViUN4gToghIAJEhQXMCxRNCyTBATF1/hr7RlV7qqnnqkfxJLABsz+ycTrscBVGbbfnw9VaQSnU99tnnjRiU6qbKZM2f6erDfD3qt4E8Av5AZSCh8JTjXL6AGrAvBGhBbq+2Qjf0hbBsQ1CNxBDH5yLzMNudEr0Bqn6wbsbCkXwqJLHx89TTAAqFADjkUE9z1c0ewTDrG2i6wN3WBXWaQbBHgTEVL5NCOzK0FhbzHVR9grMPxdHvmlZB87MSS0s9PrZNOEO8j+AMUDfpEuAAdBoCSxIfA4d4+wXbNayxKcCaORc9j3GeZ0gUfSgF21M+e7VnOpikTyrmyLvobZckZK3e1uDLGZCv8EpOr3HLzB4wb/U9/+l+zWmxNHZbNlX4IfJnN5Wa4fu5WLIE777rLkxVs2LAxpwUTIOStb32rvVyWYwCU0ZZsdcmk81wW//VmlAIcznpdfNFF9ot7fmb/ovV6MEuGwFzByPmw/Pcv/Ju94Q2vd2vKO++4M+saIjo3zDfd9Fa79ppr9AESfPiPckojVlu69AX2m3t/bf/8zx+zu3/60wPqMu4ll1xs//TRjyjNe509/tjj9of779+vHhmXspXDOY/phyylf7z/D3bzLbdktTzkPfz2t99kxP7bIVPtCy68KNvwed2Hu/OyZX+xX/zyV/Z///d/I1o+XaY4Xjfe+GYj7uCRKlxkZCsENz6Uwhf0bd/9jscxO1g7YG++S64s89SuAABAAElEQVRziYuLo7UUKbBuPgt6vfXjH7MLzj/fPnDzLVk/owF0NymDJ5mbVyo9/ctf/sr9RCDA9UjlP/79C5744Utf/rL97Gc/z1qV74CLL77Y3vuefxxVxl0SgPBZeNfdP7Uf/OAHOd3DGeyGG673UACzZs06YGzcYkZbDqVu2Ge+5KQ/MhH/z7e/ZWS/vVOxPnO5kWOd/qEPfdCwtr3ookv2+5wf/h0dypnvZ6w9shWyGD4XpUquQ2NZxuJ9lO/rp6P9e2Us1yfqO9LA0aiBQm7MYQK6Ee/sSVhje6e1p7ZZd8tW3ZsHYIDg9r2xClvdfZo98PAf7c/L/yBXSwEegZOrdUtaunCpFZ10piWfWmbjWrZZtT7rCjDnAUJUVNnmyunWWdFnM+0xgQa5gfZ2OhBKCQ5ubz/Bqh97xsoHeq1JsbY29gkgTJplg+ecbFNK/2yx3b+3trqX2/KVD9uDyx+whs2bBAfk4ii5Bwf67Bvf+Yp9+P0fU6bZyQI17XbPr35my1c8KHfNToGQfmsUNHx45TJZgU2y+XMX2jlnnmPz5i3yH6OBJOGjKNlh1Xvvs209E6zN6gPrN+GQCZMmKlTUEs90++Cf7rdf/vRumz5jui1Zerp/H77iNa+1X959l3UqwUaxMoPWz51rs2bPUXuhE8mI1ZU/pGSQR0pwBDfiQpEXoMuKtTsFvWodsCXc7TEm3QqsyIKJTLlYf2GRiPslIKZcySGK1ZYEHJVVxQ7UgCyVxVUCLupX33t/2tFp8YopiiU41e+fAtgSgi9Z9gn6lStJAPHagCyl4goOsySXW2cJICVkYdWmeIMsIbAS2IMsJGkA2jEZZKksL5YLZb8VDvjs3GorsKpjPACWOuCvwzrqOFfyfofgl69lAHvgQoGmGJH6QZuSuECdYu1hvekJGQBHOi+DOt6tjg1a0+5dNmvOXIdljbt2udUn7tdV+rGRQXkmTl+w7jLeFIxcueJhm7/gJLkCV3oyDaAUhSd0V8Ba6ZkHoLOlq98eWNXoMKyqUJanVmo1cVkmJssF8GBfIdRTe0CY2gHwmApZf5GDfyTMYE31P71OQDaApQaXTooKkwGYRI5kv58XRYK71SVgOaqkAZkfV49qmBjUMSwsBeuKBOmI+Agw1amlY0GCCZ+b/mhWVsp5pn6IVZlICf9p7cMSWMcyUlg0L609bsAxnd9kpEV2t/jLrBZWz8OzziVXRx66irrIlwb4YGpqavIMtk2NTR4ksr5+lj6EJ+UN2JDthphbjMOvSGQhJfjocEuwfM0pVz/t+mD/wAducVPyXHUOZf9VV15hxD870oXg4rv0gbh7926tUaHV19fLEm66/0JxMFn4wKddo9aiWdmhuNlgPXjU1enLgQ+1MSycbyRJaGhocHkXLJg/qkyWBxPp2ZzHLS2tuhhpkEybZe5foky4i2RNNzNv5//BZM91HLl4z/DoUpwHMkfxvuQRBmwd3vZjH79Vv75uGb77sF7PnTvH/vmfPnpYbZ+PjR5//K/2H//5xbxN/QPvf+9+GVTz1nGWjvbKFYEkM3w2YNlDQOp8glJ+5Nmxfbu/97u6ut1idc6cOYf0I81wsfmlNHx/NMk1hl+eeW9MVuDt8eMnjNmPY8PlONjrfMu5fccOW/XMKrketfrnAJ//s2YFAZ4PJgvHSaLzq1/dO5qqo6rztf/+Ss7Po1F1cBxVGov3Ub6vnw7ne+U4WqJoKpEGnnMN1J59ncUT7dxx26zpk+0Fk9rsvNplVuTAAfG4G9fNvpXbX7vPst8u+4MgT5eMoFKCNSX296UFVr3kbEuecp7Fn/yzVTU8Y1MEPeJYdKkhGTufqptvHbW9NrdghYOMMGYWV/g7u+dazYp1VtbZas2DMVs/IAufuUtsykVX2Dm1v7FxhTvttsen2p1/Xi3I0ucWRdxrDMgqidv48vIKe987PmRLTn6Bbdu+1T7/xf9PVn64M+KKCLCIC0IGlmEl8RL/frj4gpfYK656tSzXih16CHtYecefrHzH/9kDjWfZ7uSpsnwKAvSfOEcJNqbrHlSd/fC737UH7r/PrlVCpXP1oznXJbgC7mlslPvwbn3Px3XfWmvV+qG/RMYJyNcv661exXmjlFdW2JbNO23Vui2CYgInknFHm9yPe2VdpWuIhNKghsxjQPoFhvQr+yhMBiwDCMKqLCadAn2AVtQLsnwG4IZkAd39KaufVGUXLJzk+grvpaAewKGyshKbP3+W5uRiBRCK/mUp1StddbZ3SY6kwytAXal+DAXicd00Q9dkLbrGqayu8qyoq1Zv8ph9pb3tVr/2ASvtbLMiEj9o/bF+w+FyUGBn5eST7bsr/2xtHa0+KGsTUpjqqlq78tI32l/WtdtTW2QBmT7g0E7bzPXGSxfYhKoSB3K4bLNm/Yqz9uu7b7dGATrOqVB3dZJ5khKTNenetEJuvpO1DTzF6o5zt1X3M5wf/PhJFlPWaIISgnB9tG3rVu8LIT3On9b472+40SqqdR0XL/MxtjR32z0rtipBQ8rOrltn67pP0Hmq69beyXL3BuixVljXISUALpQseO0x6zQnTyqi+mJ2+iuF6D9tWEMtre/ndWVhn1UVyMVa78lk6SQ7fVal4tR12Il//bnctjs8eyuAtLuyzrpOq3cL0T0dAMPgnNm1d1CJV+ZZ9cQz7IWbl8ldvMvlw525UhC0p2q8PT71dEsUl9n0vRtt0oN3O+AD4NOvuhkqiZNPs8TFrwvi++m4xJTciof41z9Y/3132nvXdViX3jsUrqt/+9vf+rPvOIw/o/8p+zA6j5ocngaw9sNFcTRuioc3gn4BkkXe7Nn1/jjcPvLRrlMmxL++N383KUsWn5wPsQ65DyzReJx88qGPzxcdLq75cnM9VOE534DBPPJZns15PG5cndKJ19lpS4+ubMShXADN0Zbf//6+rJayo22fWa+NVOtRGbUGSKAQZsAedaMRKr75hutHOJrfQ7hbjmWCHyxV58+f7498SY71b/hDQ776HIt+8i0nsch4HG4hsUg+z1MutqMSaGAs3kf5vn46nO+VaH0jDUQayJ8GiFgVlroKuWKWxwUFuAXns1Q33ZjleMHtkNdYCQnE6TCft4AFLNiSclEtEvQgcYF2qplADf0ISsWITae+ACo40jmV8D6JqRXAgHCYUokTA3QVlNrW5Gmyrvu1XV6/0R5Y2W/b+oI4Ye5yp3rqTmPjgqf4bHpgYTYgC66ELO6AeUC9frmKQk/cCkmD4Ab5yKPL7MJzL9K9pkLsyOWyqHerlbX8ztY2y9V1YBGhytyyDrBVK9fQ4uISn/cll15mdUqeR1IC4Ar/+E4l9ltFVYXmLndOASAAx079kFUjaEfcOKyrPMaa6nfLCg241t7WaA8/eq/L6apAK9KtqqQLeuc1Mcj8oLYLLeFrI12K4lAjKcDHOigVgVwtUbcqFxTbnt5q66m/XDBTnmJaK7rGBTOlmGZxVcQFNy5Qg/zBuMgYcwvCiZN95KBRWhoAGW36ZV3HOgIm98hFuLubRAtaU5lyOYSVrjlzHOLoGRlZp1j6uxk5eB0WXlMLF1eAKOeBz0yViM/nh7WfpAnUdXdb6YD9WISFYI9eVMMTZJRj2anKE5XBdlDnAZlQ45KXuHUIVKM1LZX3CnMnyQTiACqrtb+ua5zm1C0AGZw36CRwH9WzgB+FZA2lStZRWTRodSV9Fu/RuRfTOejzArj6ht5HUr1OJs5x3E05P8OC3N63KrmuvK70proympROaYseBWXlAl1RpGy5in/Xof2V5aXar/cba6cOY1pXdFNAnxq7WH3q9lbJJQI56J+kI8hPffTvetT2gLcJzmPOtZTeT2nxdZSyDyA7fJVlrLTu+4lFyPGguCTp7fw9RbAuf7qMeoo0EGkg0kCkgUgDkQYiDUQaiDQQaSDSQKSBY0QDAagJ0Ir4gyCM/gAMuBFP34fzigJICW/yacdNO5ZE/AfYAE9kbOTQgPrcyhcAKwTNCgQc9t32p3ukgtr6K0EDnqlTJohULLDQEZtrGxKn2bwJy+1tF5fbF3/fLUCkPgUVHPw51BgQgCOZwoBiq5EBVBZdGk8Ew6Eidasqqm2vrO1AG8i8q2mnQNlyu/qlr1RWzy1Wuet/rKmt39Ym/kZJDRQ+QXIBU7AKw6gAyyuSTExXGAsegwJwDqYES6AkhFwAyKWKBWUkR7vccdtalKVT+xOCg8WyQCyToQg6w5rf3WMlSU9f4KpbVyYXU3EkdEksNCANQIUChAndaF1ZwW79TStPWyTxFOty7Sl8mHSRsp69xG1LCDQFIajoB+gEsInLrRM4xT4AEuFYAFfs8OeM3l0PAnA90i1hZrDYrqiqludDi23d1qQ2ANcApHld9RNAIzoJ9iMqlnkU5hVKDrtifCzMXA4/DbV+YR0dpwF6A+YVo0/BNxJz4PJbkggsGzleIxdk3HlLBFaJv0b8QFx7gXLMtUNJUoLwOSSWwFox7WKsMUpLFdNO4asAq+MFY8drWFyAO9p1snEWaCx3MdYzsen6tMZSicVjCesngYQDaMAhtfVvSH6dE3qBflAv86WQkIFN7VZRZSCZ6mGNF9exsB9q6ajaCQ4WyAJQ9Xldovh9RSVaM8FTd6tVGw7Qf7xIyUoEcLHC4zV9+UDaZlBUTMw6zSCtZyqg48CSELhOXySs8AbqZ591nSQqLJGcHCHZSqG/D5APeOwN9TefJYJ1+dRm1FekgUgDkQYiDUQaiDQQaSDSQKSBSAORBiINHBsa8MytwC3diOsmHmBG4Zmb9PB1gLkAPEJeVNHNObfnCbWJE8dZ4ACCUSiYQju6ATWkdCOPOyF9FxTIak/Ag4bEMCNDqIM1HacvMQD1vW/83oTcYhNnK15ev51/0kqrltndp3/Za81dqkN7QQkXRrHR6L+nh2QIXW6tFpc8nhCBeQHdZFnVL9kAVmRV3bZ9sxX0Nlhdy/fVrsme6LzcumPjZcUkIVRkJOeAqERx0h5Z/qCdsvQ0xYirsj0KzwHQKVR/uLIiN2MXCvINyBoLKEXsvApZd/V297gVXQCbFF9OgKi7u9dlACghe5Hmvmhigcmz0roTSdvZCbALphVYqjEAc5Bgrlee/T9iuhXVSeMLrL6OGGIpe2THoLXI6zYli0G0ynSQEXCG2yw7enr6FH6oxaorBHa0zyFXCVl2BXA0F+ZDu7A0EeZIa5yQ/CWCX5u3EEqqTX0SV002XmkQBwjScvu4fv4EL/w1IHhydYFNULy16jKthyqj43IlQMAYsGn3DsGyIokZnAuBzIHsWGgSy61PlnFJPRO/r1gyog5qIHO1PDKIpweMTAi6lZXLFVvQF2tALA+JycbrXvUFnMMluaxcMeEE94B4fb091q15xBXPD2g3TV5fG1avFujDenTQIWxK5yFQqq2jz0FYoWAd4KqwIMg8O4iVo+QB5CGa5w7WhsSTy6zmxU7NlXnz7kHLcDbcoYMMu9SNKfGEKmi/Nv309thzcc1Z9Zq1xvTnkHOoF+1gvaW7Qrl2Ez+wUB2ToRgIrN06/wsddqIxHx24pgNYY/IcvO/0Qu+RQHr16f3rcHqPnvQ+F8zWjpQmHlOfbt2n9nQT1PSNvP2JYF3eVBl1FGkg0kCkgUgDkQYiDUQaiDQQaSDSQKSBSAPHigZScmsTiRFkETDQLTdue417k7JEExjRHTjAoFhkpaaS2+bAMREY4UUQJCZwghtev9wky0vKBXoAFmqnBzf53MXzXFhYbOU1M624vFowQ21UL9HZZEXNgnjc/FNXxV3roAv6DyhJCq6sS5ypl0k7+YQn7bOvjtldcolduanAdigWF1lbyaqJi35za7N3VCILrEKBQdwfAV5dPR1pN9kCBz2zJ8XtrHHPWN2WtbZ3oNoe67xKSTUmC9RpFNUHNOEC6xZckqO9LcgkC2zbsmmj4rXJjVLEZMXyh6x+zhzFRJvq2WEdrqn1gKL5lyuDq89H9XyugkVkzuyRpR3WWfovWQVe1P/ESmadsvFyUe3sF5ABtqF8/us4BeDkyE6vqQtYA7DUlMTsxPECYAKZe4PQeKjO2/ZKjiJZHQLUUCnjUrDg2rKl0cFWVaWsz2SlVVdX45ZoRbLawtKO+gOSmfhmvYoNx3gtrV2yGuyXK2+f3EDlRitY427I6s/lYV31YC1pn5LwauYnUYmA1uzalDW3FxjWf0lRIk3V2ntltSdLtSknxgXTAjdNFp/+KPA+wCzgtV8kFb1gvQg8DOtgPQmkq1N8YFyi2SYenbeVgnGBLi4to1e3kCzWuTKo/oBwWMwFCcqkT9VlPoUFSgYF1FM8xK7ODm/PWIjEsnSIgCXUZ0ru3YOyrCvB6m1QVn+aE/OmhM+A6vA15wfx69hDP4BsAB+VyRaLvGSMTXfhfWA5J76pRBAaS+dHv/SlBm4BSz2s9ryB5C2Q7gGXuKu7ZZ3AIwBY3fq5XFocdxiKjaPDOTXlfcrrABbqDJOu6ZfzziVFTu+BXvSeZa0lAnV4AA0BqfQzFiWCdWOh1ajPUWuAjHhkTQ0CZY66Wc6KtQqoGZVIA0eTBk46aUHexJk2/fDjYuVNiGOoIxKAkN2UC498FJKdRCXSQL41MFO/XpNEJF8l+HU4X71F/UQaiDQQaeD41gC34FguAeuEEBwK9Yii7OkUsOsSXJBLZXFxzGZOFvzQbQZWV06YVB0rqIQsssAzDk6UZZP7+jZihKk3Mk0CigAWPBI9bTbQq+D+Ah3c5GOZphzjaqLbfu781TbhGWhlDQW80A6ek8ppubb3bGsfnGQnlf7Rbjy/07YujNsf1vTbH9bJ0koJDZBrrxL3EbNuUIkqMPQDuGC5BtAAxFWVJe2CeXG7dHGxzaxL2KaO2ba+/2zrSo53+QEmJHAIn+Utqi4ASJJBYAdrIuL1YXmVlIslmUTZDyAC/ADU9uxuVF9CiKFln/pjP/NrbGpVkgzmrLmzjy3tL5F1WWlRSsH+yQ6adqeULoAkblHn9VDQvsJ3HQ9kFONKu0+ymkFBhj7BtnLNyUETkAtdalhcLYmvhoUa8NBdKQU9q6uAYrIS0zHcoXEBLpMlXWVFpSwW+23D5hbr7OyRVJJNfwBOyICcjIH7q0+ISbHtRce1LfVYg4zxOroEo0SlpEZv73HVJH+hLNxUCzU5PKK1W2h67wXWK4FLAGnSJ1APyzHkp28gW5ms6kp0nZroB0wyvtrrnMBqrl8Wj7jEcpx4gbgie2xBrW1cAIvK7sqsdhXKsIuSqEcbGTzSlcMs4KROAOsWbXQwq7F7B7UA0nXPYHCNHKwS1qTar8K55/NHWenXnF/B4UB3ktgHoUb4CNZEx3UICCjOqzWTHgTfevX+jKsPziCs8ny+0gHvK1xTOe/jOp9oQwGM9vIiEMHP7wACoitZEvL+R1wdL9C8hypy9qn/oAQzo51nttXuJNl+AbLesRpLpnyXCNblW6NRf4ekgToFHv39735zSG2iypEGjiUNfPMbXz+WxD2uZD333HPt/j/cd1zNKZrM8aeBm256m/GISqSBSAORBiINHHkNAIOEDvQI4paJhdgJEwrthPEAJUABQEDASy6EWwTSHEJgApSGEIX9PTK9kzulwA7QZFBucm2CGXvk7llbKihWrdhpGmNASR/6+lp8NGbJqJSkTVV8LI0vWkC9Qay6BFGAXw4hvBbjldiugZOsc7DOZsYesul1W+0tFxfZVafLqq90uZW0Vdvkwk22dIbaSvCYQEKtEmbUlQ7a1HExm1pbZPMFHCfVFFlrb4XcXhfYloEzbDBW6kAR6AFsAMIwR4eF0gVzKpEllkQLiuYNyAGMdMndlRhqxMvjNa6WuxubbKES/iUU5w5XV0ANx7AS3N0oWuWzDOYa6FD9aegeeR/iGuoDSZYAgARD0gfFrah8C1AXsBGasEbAn3JxpkqB1TYl4uBfkUieuz8KMgEHi9SPuI3Pl25w6UTHVZUlVl4mSzXtGyfrNKyzsLArVvbcmOZAKasctPnzBm3Dxu0Cdr1eB2gTqCX9jNzSF3oMJNZ6qv+k+utPFtrurgJrbQsIkssPwNLcS+SOGoBbZuNK8DGxPPNTTa+wliNmHWAUmXGHDePgEU8QOEm216TWBkg5iJu05AC4ob4S1WFevi9tWYeue0XjAHZBwg5ZYXZ0up6TcivtxKpOY7N+WI/pj/rWQwumXZJ00FoHKjwBRPdgsYNTFALAUqO0i6vOdHWC1Sp9sbK+QxVZE9QVE3jkPcZ+ICRDoR9gJZCzIC5QKYg7KGCJnGQJHpT1nKohXfBXDRihXzCPKIUAXEB5Zy/HOWcB5NpWv77uGpikHX6uA0D1vk3KGrXIk8HQFwJ4Uw3BBkKRYoJ+1Z+6GlSfMZ20yOpi+Ia281giWJdHZUZdRRqINBBpINJApIFIA5EGIg1EGog0EGkg0sCxoQGs47jbltGO36DjUghAwBIupZtyDI+4V8eqp1AbuEhyFw9ggKQAYgYFdQAS9EDbGizqykushqQA9M9BTHf0iCnxAwVICIxwbKU+RBKcB3DMY4SJBhTJOgiYoB7UjvGU4bJgmm0pulqxu7bauM71NrFkq02wBive8k278oRBe/HkMlnABWAE992CmGLFaZS+VIkyaU60R2VN15Q4QfHpxml+jBm4JqIDkhgAZtyaT89YZjF+dU2tgE6xy5AUsGE+QDwAEhZ0DuTUvmlPm7V1DtradVttyqQ6ZVYtd6iEFeGOXS3W3tkleQQ+aasH/8gs+sROQZ8e3JDlyuqgDS2k5+x8BQ1kFFdI8HqPYMwzTQKSelbeBO+PuaDDYsG6MsXcwxoNWAjQKhBtYXxV0UMx5MZXynKuVOssWKv50I566Ls/RSw2rOyUyECPE2ZOsfF11fbUM5vkEtuhuUg/6pu+4iklffC1om/tkI44bxwwUk/9BCupDQ67+FSgaso65UadTMo6TW1jAmU8u9WWqgCIumWRWKZOsEoD2KVSSirS3+vr1avsrRvXrg16VH0GCCwXNQr6o8+0bJ4sQtscCHSClRtCcCoEAJC6tOdcYO7019sn99AkLsCBO7NbuwlW9ctEsKhIekr0WJHO2YSgJCKgw0HNY7CoLIB2SeIbpvUeTE/ja/ooBjrHMf6mFGeP9toXWOApFqFALhaImpX60pg6Vqj3GOtFKywaA13LdVdv2OJEgVUqCTC6R86mdsnIwksC9mEdx9xKlDUYC8o+5qt+kFm0U/XQGe8hV6a3kwL9OennCHrlPcD5Illcn7TKf4lgXf51GvUYaSDSQKSBSAORBiINRBqINBBpINJApIFIA0e5BqpanhAgkLWSyMGe9TttVXmf7YkR/Iybe4ojBL3qt7222nqb2y3WDQER7NBN/2NyeF0nOJXauNsqFYOuuL3PqhSfzFsBBeRI2Lx3jXXJcmuNspMWCQDtK3IfTG23wj3dVtgj2KRW7WCDhi1W3HOfrLuCW3VxAUEG8YE0QAM2hWCowKZZqdwc44PNqqNndY5FFvTCA/7LWqi/cLy1C9RZYbnkbhGUkYVfmkNgHQaGYAeWSO5aqW0Ol5eX2tb1T9mOrVsEg9Y4sOrulAtuw0aHP027dtne1tYAeMidtLFRfdNSAmN9V1NTpVh6JQ60yJ6KdVYI+TraW21AugI8rSZhBpOkpJ+CFxl/qYJQ/odqQUXSAayVy/I6eFPAY3wu9PfMymWeCZeaQBogJGAMXapSANok8d69rbIo6xKALVLW2hJ3CQXAoGOsFAmzVFVd6a8BRO3tndas8wApAtAlsDqgbLrN261oUGuvc8lFpYY2koI6zY0J61PMu5jWeXhJikZt+OtKa+tX/Lz2AMCFoIjawLanH9piFcpS4VPUmgGWkgJk3V1yRdY2S07hCVWqyVBxmCrd+/6Ate53XLv2awMoo9AH8HL5A/crsUalHhVyB+6zAQUVLJQ5Y1Oq17picqmVVD0DsgjVVoGgpZx11Zrx0CF94yjOHr0Q9IrJeo0zrFCWqkicFCBTtDkHuL6uGnhQimPe6KGrcNDW6T3JseRgoz3ZV2M7ywutfLfei7hVe+eaRVGvJR/bYOVJsiJrNJ3PvbJyberQfFp2Kwvyw9bQ1OTZjTnnS4u0HhKwJ96tBB+SSetUk2j1cYkVCchHAvyS3SVZJw6AmmzCchjXGJqxoD3wj7HQY75LBOvyrdGov0gDkQYiDUQaiDQQaSDSQKSBSAORBiINRBo46jVQ2vz0kIw795rtzIAcQwfCjdRa5wLc6AclZeu7BQyaHg93hLt1d5+5q8XbsdNv+vc7tsuPATrYEOYy69pisS1bMjsYcTsEO3TLw4HHkACAx049GvQICyCE7QCIABrYBjyRRMLlgOxkFLe08lo6nHHMgUrGa+9YTYEcbrWoY0PTzdgANg01C4TOGC2YxwE7QpHC+nr2PnhWZR4htKLtMytX8KQyvCH76GRfYR4Ur5kps+8L23uVnH+QJd3N/nVoHtvjsu47d/ZVYc0b1gTnoTx59ytIRfPNrfvt9hfhePvPJJDB9XJgE5cBGYcfzyp3MIqtW/2MA6ywu7AtoFRvmRFLgP32rxLOKZSb+QXYzrnYUGX28+AM5hGWhkbpI2wc7vRnnbvNgYXhfrvVScp2aQ67gt10GhbvR4lZbKsy7BbaaTMrVTeoAKrzovcH71vOZ9yPOSpeqveL3jOqUkyqXx0LkGTQJF9/I1iXL01G/UQaiDQQaSDSQKSBSAORBiINRBqINBBpINLAMakBv0UP7tNdfqBUCKNCmHPAxML6umkHYjj0SG9n1vX93Oan7//3Oxa+0LEsh51YDA2T7jvoL90wTU/COsFz+pXqB66YQc9keA2C4gujqApzHJRrK0cHfL7BvqG5aP9+26GsQ0OHow7t8A3fS0OVoRrDNsI5BP0L72kj3OcNh/8JphDsDbfDZ+31zYzXjJwpe4YkHFH9YEw63A9A8nq/fqhxYElPb0jm4bKHx2kZdje8zoG97ttD+1BlYV/7zsPwyL76mVsHG+dgx/fvK5ReezWsv8rYlVk32zayh+P5PPyF9M8UMvrJ2MzWzZAyMmee2TeNhr/2jtTxUN9q7MP6vsDaMpSNI7w/SidPUTKZcRarrJTVqGJRyrowJUvRpOIw9pYHWXVJ3IL1JTH2GHNzIqY4kFgEZhf9cPdGsO5wNRe1izQQaSDSQKSBSAORBiINRBqINBBpINJApIFjVgMXXXzxYcve0NBgW7ds9pt1aADx68N7daxufB/udLqbd8s07uopogM66sX37PuT3jvsSfXpLgRKAJsQMIRwInxNx4XpMbGUw23TBWSfXAOxnEvx4F8orIYLN4N9+/pHkqG+qacKma857m20M5gVPTG7sEdqjFzC/vaBqJHr7380HCuQORydOsilaQ/pOrMdYzosko6Cuuhj9DLTJpTbO8jyJ911oJ9R1A+7CPXglltYPUosZAulc6tEsdaDjR/2l9dn1H2IJVPOcNvPlUPtK10/s1nYXyjS8Nfh/qFnNQ7bo89Q10PHtUFcxkEl14h1dVpfr7L/9squz7MEKyZfxWR3jS5JZ9Glj5TM7HYJ1q3sUWbZcJEyO3wW2xGsexbKi5pGGog0EGkg0kCkgUgDkQYiDUQaiDQQaSDSwLGpgS7FvOrpxk1UN+n4tmUAm8ybeu7w3ULN7/CDm/yaCdOsduocb4uFjWq4Kyn4hwD4ZCJ1GKBDCTJ0qn+gG9Y7FPALcdwY0kGRNrDWYQjikCUSZPQM4pGRlRTgR3GLnhAy6TUQzttoGxmJPUd8Ni96YlzaYg1Ef1AejgZx3NLV2CHZGALgEcJBtnEBJNh/654m27J+tfeB7DrkhTp1EyfbtPr5++1zfepgAPGC/knq4KKrvxCUOIbS+D7zNGgMBNjXPwASGdAa/QGyXDZtB5ANQdFbMBGHW9pmjqGVHIcCmWmb7kPCoA0HNOjG2yBjIDUa94QbMpni9OBBogPkYAz0hCBYK9Kn96t9SMEx6od90SOyMCKxz1Q9PQ8aSMdSvmct1bnk55rcMuNxJQiRZVeQgVcQSdsuA02QTW0CPWoHRf2goUBL/GWXIK22CkQnqevZWlUjmAv9oItAN2rusfwKNLbHYnM902bfOPSO8Izvf1z8oG/kIenCgGetBTRmnN+qHmQdDsZAFuWo8PM3zKzr66Z69O7rKoECmRkTffE+CLZ9eATmP8/MQ+c+27wfqYce0X/4Hhlw0zf6BGIH6+gd6/wqkiNrZ/Nq26yMxoPSuzqyQlnUueu6tnGD7d7bYQPbt+k95pPWeEEW6fZ2Mh17T/6crz8RrMuXJqN+Ig1EGog0EGkg0kCkgUgDkQYiDUQaiDQQaeCY0cDkuUt1h62bee7/ARQOJ0Igxg2/4Ahx3HRzr2r+AJ7oNt6D03umUJEOIAIHi7QN3CmJkylV+7WPzJIJqISKW7txn69tYALjAjdIvMDOQQEEIIkHsdd2b2+fsmEmBD9oEcAK4IO6duDjfWg/BlhJkSCgBB0BP3g4nKOpuqeOzwN5vZbjowASaYoOpRxwwCkU8l9yMC/gBzrYtmmNHmvdbVbNVYL2wJ6auvF20imnaxcWfEFbttWdxkV3oLhgDgFcCrYDcARKUlP94Zl5+AsfgXmyl4LrIX+Dtp4tVHUTmjMyOtRRLVclA7vug7bBHAK9c5wtMsAGXQGumCNQUs2knzJlxq0sL5b+lXVV+/v6teYCUEUdTZ4wYqC4TAlGlJGUvjQ/MsMCVMlAi3SBdWOQKZS1TQ70aWex9Flk8cJg3Zkv5wOyMSsHcZoLovscfG8A9gYGEr4fK64B5suw6sAzumqb9syX46yxtKh+IWGMFYBAB3DI4vsCLSIDBBEdA4GZe4Haxz2TcLAf8eiD90awLmyT/Va6Twz4eYgiORsSem/wTOIQxh7kvaNnIB7JS3w4pEM0XuhM7NP5zabr3+fP7HRcbdnPsJwhgb6E1DRH9OxgMH2uATmRHT0ET6qvbhyUagO90CtzYf6cj3rFIJ4gBbXhDr5qtbLPVnSoG97T6SqqQ/24zpdYothSTz3pB5gDCSboFAvb9t5+zz6rg3krEazLmyqjjiINRBqINBBpINJApIFIA5EGIg1EGog0EGngWNFAIZY4DgLAAgGwcMM37uOBDLpR5zg39YE1jqx1BFwgB4WKZ1USjzsEABQBT7jpp2AlRXpILHCSIkD9gglYvKW0rSSSNKdLkIq3pyF9AHmAe3QDXCkrK9M21EDh/GmjAwAItgE9RUUaV8Ai1debhm6ARHEh/UnJ6icp8EJvgBYHSmqDaHQJaAF8uNUWbXSsUG2QTfzQxwlkCSyUHO8ggAYPUE9adrpTG/TB8+AgxwP5qDuQTIMPDRy0lmzpXhgMPQSZN9kpUOlEDqCoWnqNTh086bWSkPIi/Zo5sR3oDtHYTkkIZzHIkG6vTc1Px/XPoZ5IEXAIIOOAi7aStaGpy7bvTdilZ8yyqVPq1E+hrViz057YtMfmVA7aGU/+zIq62qVbZT0tKrbB8iprXXSuVVZtUSZYZSMdqLKBmDLgFpUJ6skqLlmqLL9TbGrqUStPNGo9KpUBuMI6ejVg5RyrSJRZaacSHEhgz5YqIJSQbAMl5dZZOcnXdFDZUlEoYE5C+jPAycEv68l+lx7YCKTidQjGWCk15vzlWfqQ1oK1RSkqgLrQQgydeB3Vo7oDKekoBKHonnEp6JvzhbVBr+ygd2RjPoUCajGdC/3KVjwgiEcBsHotrRHnOsOVas68X5LyI4+pGhBOu133iIEggDeHidpRoHrI4GBd7yemCxj3etpfJJn8/aex/L2i3mTv5+M6vFNfnCde1B+bDj4lzwknn5luE1ioBtKSRKJYcJcMsNpDU1dlMFf2dSTut9bHVgZ95vFvBOvyqMyoq0gDkQYiDUQaiDQQaSDSQKSBSAORBiINRBo4NjQQuM0BfSASglpp+MMNeXA/D37QC93UA64C4IXVXNyte4BTgAwAg1roAdQTPFB/DkUERriZj3tAO7kHahvoIA/ZoC7jqC19CBk4hHC4otYOZNRPVWW59fT0WY+AHMCpVFZ7QAfkw8qvvKvZTtj8mBUOym02kNZl2Dp+lm2vrXexCmK468WsQy6/rc07rbxynEBgFYPDVVxWt0ySGABMHmnME+hEcruIkhJJmakXduoFbbEIBJIAPqiERRkcSTORDgIgwrEAlATyxwA0GgswiS7RH88azvqxYAQE+WIwTDCq96EOwU8AG3SPrtBr2LdDWO0fZD2RQNt0H6wTz/QFzEE+AKnijalOU0fCGvUoLi2xktK4dFRh7X07bENjt5UoINmCvj4b6O5Tv1rjVJcVdwjcndBipRV7rGJwDxNQt5IZHbD2sbjtqX25Fcf6rTTVaYXJVquS5DWad5esM8uay2ziltUO2LyN5ECy9ppJtmrhJbZHa5USrCsoKrGieInWW92rTlxWelQM58O8NRvXHeepVlG6YG7AJc1dcJH+NUXNmfmiO3NXbZRA3YIBydjYoNiLcv2U+Jz5rIXrmL60jZ7VnVuUAVWBvQhCe/Qcw21XcibGTXfZgHmlpbKe6+22Pp2/WMsNmOZSBPAGPDIhLPAA2lpvncP9ig9HuzgPxYbztUMOzQGZnVmqDSDdwVxMAuk1xquJBK7EwE0XSDIH6458Dt4RV/pDL4HFrKCcRAHYYlW5sy3h861QhtcJ1aX+HscV2XXm8wT8oWnahPoPz2ntzHOJYF2eFRp1F2kg0kCkgUgDkQYiDUQaiDQQaSDSQKSBSANHvwaANsCfwAIHeQPwAElw0MEuHXeQpTt+AFSpOMm0si02pXizVRXuEQQANMnl0frlngpcUn0HGwIkAiEAIXcNVdvBFLf5An2xPtUj/hjjaAhRiMa2YmvpLreu2BTrKl8aIAEdlESCRoJHJUVupQS8wFoPGV3ORJ9VdrdasVwlB0QQ+nUMOJgQUXpy82abOm22nXrKGV5777qd9vTqB23ylHm2eP4Sm1n0hGQqtG6rs/5YnakndVmufgNrPAc9tJQFH0CEgjzBs6pqH6/c/bavy8Ztf0Y7ZU1VMc4GKuo01XIbKFRGzbSsyAtwAZiwHUIU3CaBINSLiWQ2Nm2x1eseEcwZCIdlSC+AKWAT6+MuphIA8QBLWN6JZaqgawCNj6JtyekvAkmowdhYf9VU1tnE8TNs6tQTHfj8/+ydB2BcZ5W2z0gazahLVnGTe3fs2Om9JxACoQVSYGEpSyhLDx2WhQ116bAsu/QaAoSWkJAQUkhCenFiO+69SbJ6rzP/856rq4wVyx47Mov572ePNHPvd79y7ndHc595zzlSQMZRUTEgb1SqSOnUOnGJ7ZHqjc3qop9tHbSpLKFaR3kFpRYvKJMxbLCv3Yb6gVOAI51n2TEwG4PkuDwBIACqj0nqzNJyKBSQjLZyuroAZwO4jfbbk6sfsi071vt8c1F0St2Vn5+05csusJ1dpYxpyKqK86y0IO6PBO6r+XLNpA/9V5+BvbQIZYxAkSY1XQELWfBuAPqleIZ53a1WdP8NlgdY0/x0uI+ZJ5iVNRvYU2eunrUFg7ME27QChMTyEgnLP+v5NtDSZS2lVQ70EqkuK0g3WiJnJ+e9znpiRbYpfZ5atq7ONquv3+5gbsrUeZy3XGttR8W46j4rK622M6bPs+nd9TaAOjTF3DsKym1HosJaWuuBl3FAnR55QNVi2gBkMj89dOI0xmDww1NgvQSgmHPJpHuBeqwQjgdUovzUNTvA4nl8azvX4JAlWFAXHVNp8ydzPqmp9sJYf6sfudd2bdsUmsZ/1xPnLgDF6nf8SgTrxs+WUUuRBSILRBaILBBZILJAZIHIApEFIgtEFogscJRYQMkedH+fUowt3dAPq46GuYbDFFe9CXowp2QiaeXJbjup+A4rifcAk9K2q2nIJlWgkkoGChuJevoCr1VgD/8BIWv3DFhFcY5NLgtUdWEctgGOl6usHiVUbh841uLAs0Appe1OnrwNgT2Nrx91l7sNAoj0TxlfY7jppQEPconsy5FaSYDJbG9znRUUJayyothBn7DLAMqlwQGUYrlDVpFTb0nrcGCXAiK2xFDjxU7iyMAujimkTsMgadqWDQQvAgDkL3gFsZHtUE0VNe2wZGud1xFg6Z48xxoXn4sSLcd6iPsWqL7YDTDxttQ285B6y4GRJIeqC/irq9uCeg1DUrOTbJsJdglE9WGzfOoXQDIQwTlIKQKgyqaK7ddNwzTp4E74ryAvbT0DAntp6x2kHc6J7N3RnwKCltqpx51m7Z29KKxyiX8XxBdUPLs8KRjpXYlCpGYsLolbdRUQEtVVN+0KmiZoJ2/yFCuuSFnV1FlWULWEPbTR3WjdzRusq2mTlZVUoLqrsgT2YdicAkAtLrL9uRMsznrILT/GYrWzgzUouPfUw2bd/QFcYjyKpSYTS5M2QOy7XhRqfYDAPa1J29rY43aLM44koK4kmWsVGGP5tFIrywe6of4bNFxy03GOB0DSrzipsplqjUtNqDl6B/QhpWYf/QlKauVpX6/WHfsSXi1tpYDpOICrh+M72VfGOZRXb25+jlWWVWLcuJUMrrHCQdZWqoH13AnUBVi6ujNuRQBSjaUNqLdl+2orKEzaeeec42t3x85eW/HUECq7XitL9doMYJ2UhILeTagTt8Tybc26B3zsiq2nMnsW0HnaMcBEMreiQEyz3V3W2ac5SmUnG8oVV+tWQPeBze2uICzEZkWFCZtakXRX9U7WhNZAHvMSCNS11c8BHkeRYznr1t7a5OtH8fh6e7ptEDffjvYWDWXcSwTrxt2kUYORBSILRBaILBBZILJAZIHIApEFIgtEFogs8PdvAdGTABz5MyCXXF2lhHKVDjfogkncuwPjClA1SSWG8iYHVz0gwOaGIbbn2I7GtFWXpq2pM1ApbW8YtGpAzM6mlJ21LAEc4/g46h1cKbt65OKp9mO2G9BXUZJj82qJFcdI2nqLoCIJABGvgV0+DvoXNhEUSySALVTs7up28ODxxhhXbMYcSzO23ESRFTP2dBuumf15VtLW45BOkEIgRgpAD/pPi3IVzWEMAht5NIojortqiqIJiDmgY7uSG/SQNbcVgMRGjoR/aLBe9EQQI9igVuBGxB5DJdYDpGnZY228bu5J2f0bWxgL4IMjpHLSP1lebc2sLLCltaj6KErSgWmtAtlWIWNshApJKZhE7SRT6Hc38A6sZeUFOhZ1HKDUh0fjfYC5Bojd3q7AtbG9X3DRrITjlOSzcJiApIaDB5ahahsYaHGlWQFQrqIEBRsJJpIFSVRbCVs8eyKAJ2215XlWMfdC5ofrMTbPAfTkFRVZwYxFFk/0W2l5NcegJgSApYBTQwPnAHOaOZ/VZBo9k+OksuM8CMjxL54oY21JcYcVOAfdbe3W3gH86WiznPVraEa1KKyVmMZKkTAznS/ABqSFoIUJLfqp24vKrqV70Pa099uCyUU2K77GJvY/6nELB9JJa85bYG3xE62YOIgC0DTrtlY7GpdKKYbPk/H1oAjSdbBGQGDM4ZlSgIJUpToYlnXrfHKOVD+FkQuHdlqR7WR9oRTkLMsdOFE+1ZLE6Zser6HhAqsoZb3m9LAOc62mutJBNCjNzjr1XCstnWC1bMtPzQJCAxm5Jivzi+z0RLlNn1rN+Rjw+oJwFRXVNnniBCse2ooqs9T6iQk4QGxAHFpxv+13V9t169bb1rWrrGJiLZC0xOqx0QDAU+t1iGtZ7ukCsn3EcdRqdnswJ3f7xTaC8nqfCGMkSh7aB6grKC71a2fPXuIOHoGSafMj0HzUZGSByAKRBSILRBaILBBZILJAZIHIApEFIgtEFvj7s0BT3TbikxHMv7fVOkgc4EHsuV3XTfrE6hkorwAqDFsud1KZiWmkienlgIXnhUCifgCc7uX3dqAAQ2LU1TNkZUUonYBN02vIrAnAKCkCWXDww+sHbWK5Yt6ZtQKT9HxShYCY2gBSAXBixPwSLBgUOOC3x1/jt0CBOgqyxQLyyKIpoOPZaVHbqaQG21EQAXeo2tHZgWKsxeJJ3Ge1Hyik+FtBUgDgC1AsJ6/YiqecZHlkN+1pfNr21PfbyvoOq2sfsi6BNdrq6R/EbRAtFEqoHMYR8BlhjvA57IW2pHrT/qIFSyy/tNR6V60AnCiGGOAKt0kltBhAhaQkCLkK1i9Q6KOWkAz4I8mX5sAxUuAxNdRvek0uBnwwuwGeqibQNwXvxIqCmDV2pu3pOsbaF8QsU3uEmrNC6k8uVXZSYy4oyOirA4gnUNfHNkElnbMYsKyvF6A5nGxDMLSyutjKi4GegLh8Xp+wYIotmF5ppWSHrS44VpxGE/ax53Iic+JJB45xYE+QZZR2Ba9wKS4qq/J9oZv1M/EJNV2RN60nzr2mD4zqSwBhjz/HcsuqLdbGNhmEkurDJsBGJWCQ5E3HSkk3qbLIinBnlVKwF6Dax4T7OF8aYy6qRGnYYlL0CcSmmo0mWR8cr/nLsBQlrpCbcFyDoAi2ZpYSzsWoTZm7Hb4GaVZkUK4RlJsDRcXy6rWu3pR1ceL62T6heLJNrjnZppdOw35x3I4rbemShQ6giwoL/NqrnVxtxx17DO0zP4BpLMUCUJuMQLadzGPenJmYX+7oJPjg/On6EPCL2SIeGoNgm+ZH35BxZaHNzxm0um3rrbOjwwYLCv26CRJxcF3RxxBj7gOIFnTvtnytz6JKmpGiMMjMrGuHhn3e2jaIurGzvY3NbKezRDJJoMHOfewyHi8iWDceVozaiCwQWSCyQGSByAKRBSILRBaILBBZILJAZIGjygLrnnzQaqbOsL2du20X4E43+vznJh3V1LEJ6yAWVjfwY0JxAQAuZRO5N08UCggwTR7Tq3MdfvT3A5eG4UcqRYwtqkitkwP56OzCTbZMKqiYnbogHwAIOgHO9QCfygoFBNATAZKk9Eopkyj/eumTo4F6inknZdOgFa6612K4B6aBQ6V5SRtAedcPRMwh5lqqG5fHvm7awYXRE1HErKh0qs2cOseKSgpweyRD5lAOfRfajKmzrbJykpWVlwM8Zlhy4nGME1fJ/laLEa+reZtUaznARJRHgIgeFEQCW/kOLMSXeBEWGWv4pSc7QIWXnDnXiuYuJn5bkXWvIEOmwzeBKY4cUqQ3kjkMKessthY1U4vah70EpAQbBWh6AXwyJCbwLggz5vWmAuoI0Ward+PaqG3hWLwl9yDlnKWtpQeoB7CbMSHHtjQJhmJfanMI4A+b03ahYBt96dHbOwBc6uf8AiblqjkMYqRem1hRhK04M4CyPGUvRaVYX19vM6ZP97FqFnLLlDnCNeSglflpnkzPi8Dlnrp6j4lXWlpspSWlTFFnGmUXysgC4GB/eZUVLTnZpmzdiRmCybNENHkxrJEi12EpAQsYlxKlFALt2jlnnh3W6+OmW1RuuYVV1l6/mcOpRyIP9SeXYz91wzYVbPUEHSOtP/NEUzpYcZxHn1K6pQFxbf0F2KcHBWivFeM/m5ffby3126xqWrslyoZQgBZaYQHXAvPVPPTQWsvhdUECMM5rTTeG+25whumBOeoaESxz0MzApPrUVLsA01WVqBr9IHb45Fgn2HSQ2H+lJYsZQ9zue2il7QLeak3mpIKELDKxAGWM9ZHX22D5fUA3XKdzc+YCQV0XSBvEVKQjXeOC6Hvr6niOSyzAXOfZYfjBjHQY+yNYdxhGiw6JLBBZILJAZIHIApEFIgtEFogsEFkgskBkgaPbAkNSr3HTLYBRXFxC/KoigEYOQeybyV7ZbxuBDbvb+nDD7HZodsLMcrtkMSBBxEcwgZt8uAI39rqRl5rHbOWuAbtrbb89tRPFF+oi7Z9bnWNnzs2346bl2aJSJTBAd4UyTOBLLrIqMUBKGndBxZTLZb8UcAUADSm2ClBJlad7eM4RJKfILUfxB8FJlZRZ/9T5wLHJ/jo3n0QUzCkGfahi3OcvTuBSWGaVE6tRDw2iFEvgNjjBQV11dZWVJmag6Crm2FxLTDnd5tQk7ZU1KdvT1GkrNzWgFBywvXtxK21uB7IJi+xbBCpUAtgmA6D2Qz2XwzjiEyYAVeSyKaUclAujTaosRbEGqAFStXQwH2BZU2unx0kbAp4kgJWOrmgXnskhAVQS+BT0moEKsRAbrK1HrUd3Dvz2HdLIK3ia7WxBvViaIlZgzHa1BoA0DQFx9ZgAEW3KJqk0KimOlIpw865msub2WVVZgbsQX3fd9T6H8rISe/mLL2GuKWtpabO16zcAPatcgdfU0mqVEypQbpHxFbjX2trOPkAZMLWtrdVKSkqAgb0ArL226uk1NnfOLF88Uht2d/daVVUVSshOa6hvxBZki8V2NZyzQuK5qcj9lWUUFJ4oYUk3EsHdrd0knRBoA+jSby/tKflIKi2XYtx1pyyz5JQzravta5wXIB0LVXUFnTR3uURLVSdYyGYvssNIX8GmA/5UfT+G9vw6kHsp67K8mDiKJMxoaEXpB4RdWIaraMuD1o/raDIx36Ftiky3gqQrV66y5qZmq62dascuOQZ1IIo6XIlLS4i1CBDr6Owi9h+urcxNoFQoW+dByrlB9j/0yOP2sksvAYx34Ipc4DC0t4eYklyUpdg+F/g2c+ZMa+sk2++jApeCdYHEUIo9V8thhxjjiQ3hpz7IQ3WYkyaVy6IZoh8d56pP2tUuATvZyhOFHNBKh7czgnWHZ7foqMgCkQUiC0QWiCwQWSCyQGSByAKRBSILRBY4ii0gSOdogjvuIlRnJQC7blRqrpJjm/IdJATLUFP1AxD6gTk5OQlX/ghASDmnpAZyKZR74d3r++0nDwFl2gU/gCICAPTw2LZBe3LHkJ0wI9e+cCVxrgIpj1tOUEnDkIJO8fCk/hJIKSlOAhALCMBfYMlcVGCnne/Ks2QZCqKiMutoJh4aQG/K5FqP45ZWf4xDFCHG9tzWDkNABvADXshlkI4EGwZ3DAKHqq0cZZ3cJNMAijQqvVjhVJNocL7cdydXWO3EcmsDVm7dWWp/uGclYxNaDMaqgdONz01PpEzzfqnRt32D9RYX2tDObWQnCJReghnKsJoHnGvBXTAOIFMfzcAmj7tHS4JMykwaQiPyFVgnsFNMRVasKVbcOrM1uL1qmhqLbBsCQ40pGIM/8/HpWUNHymZU5lppMm3tfSRGoM0K1F5NwKsC7CTYo3bkTqkzEBTmxMkXFCsgbt1LAUETKjhvDO7mW2+38tISawIuPfTwY3bqKSfYL3/1G7v8lS+zP91+J0koKjl3RbZuwwabWFNj69dvtOOOW2p33nmPzZwxzRrIHLpg3hzmNWRPrlhlAn3avnHzNivGfbiF1yedeJxPXDAozVqJ4W7tQ/Nzy2vsrXkraYcAI/7PuCArZy12Rv6XVsxAxc3r72GNKpkEijompofWqVSeWrMCdQ6rZHSdUFrwJaRnvNS69N++hx+UcJtq6xx40fnQQ9gvvxD350LUoMQSLMq1aVXETiwiYUdhoavbhriOOto7AONJ6+notToUiq3M+UTmrLnv2LXb7r2XjLBlZXbaScts85btqDt7gdgDVsKa3bJlqx2zaKFt3rrNO502rdZjSa4hLl3D3r0ez3H+/Ll28y232cyZ00k+Mc3tWV5aCCSdRgKSuD25vRV1XDv2ANTxT3OUW3YKVWAMNS0nH/tgQ7azEtyVVnby1/oxXPRU8z5SJYJ1R8qyUbuRBSILRBaILBBZILJAZIHIApEFIgtEFogs8HdrAcEN3ZSrNKOmU+ypbtw++1AECWzJ3a5GN/m1FbanockGesmuOUhmzWHFlxhHHPDRSuy0Gx7rtV8/RnwuIBB5HAA9gfrG7+WpJ3C2CtfNXS1DNpVYdTpWAEYITE85gLh5BKs/fAAAQABJREFUBK1nDAngYElJkVVVk0m0qMCD2DehJ9q5q85OWbbQHgUS5QKTisj8ORUwNACwyQcqrkG11c/4jz/xRI6txD2vnzqAM8YyhOotxlxqp060qVOqgFQkykiQoYFxdfUyXzJ0FpLtFmbp6kKp4BpbOqyxqY3xaYxSMz0DcXzIvl1NsFcTZQ496xjDuqc9pt4goEgx0QSA+oiptrur00qBkKs211tsayPqq4S75vb3dNGp3DSJfQfQS2DTBICyF8NgTiAJWUiBiNuxXTVZdSuJCSi13eZG4CP79VrdNxMH0ImKBjdc1PeetpQtnJhn6xqUYEOwS3NEewYwa21rQTwl+CWUBW7ixAjSap/gnVRdt93+Z1uyeJEVA5hKiottCeqvNoCTgNmNN9+OerHUbvjtH2zKpBqUdsVWB5DrID5acVGJzQDESWknxdfy5UuJC4hikfOsYwboY8fO3cNun2k7/eQT7f4HH8KddMCqK8vcTdZdQpm/xuJuw1oseu0LyE8fe4LzYx5PEfAEZAQ9Wduup6y9Yav1dHdYKreGduUGTJw3jpVKTVBYLejcuTqSV8rwWs9jFqpIPUcfN5IdtogkEttxp55BJuE4x8rmre6aCtT2cbENFeVQbiEJJAotGRMIlfqM62ygz8GrbJuHW7biA/YCE5uAzspOu337Dlu3bgPrpA941+aqy42btmK7NrvwwnPt+l/+1ur2NtvSYxY5yOvs6LJKsvMKADc3tdiypYtRgTYA97YAosvYHrdzzj7Tfvv7m+2E45e5K3glwHX5gri97oWD9u1f/oXrFhUg85DCU8lfhvIrbCBOm/FSTEyMR9SKci0XeJdiMiXX7FHFTeg/Ru0Yh5cs0ahEFogsEFkgskBkgcgCkQUiC0QWiCwQWSCyQGSB/78s4MolQBbkgwD9PbZl62aUTo0YAYBBNH8pqTqJY7ZlT7M1NTYjYCJ+G9ALljaiAEN4Y3/dNGC/fKTfukkwkYdyqYzjSri5hzk5BFE8rHx3BY1ZCxljVQQ6BEmkLNOLftxh4wAGgSmBGMX0ShC/S+6wMdRSE6pqgHW7bNfOPbZ9x06HEXKtfAQXwFtvu90eBOA98cRTdtc999umjZvtpj/cYrf96c92/wMP2T33/dVu+PXvrbMbKEZnmzZstJv/cLM9xL6d27fbr67/pf35j7dZ3a4dNqEkSYy+hFWXF1l1RTHB+cmEWlPBUcG4NfZ9CmMPgYWUVUoQkVJCC+J85aDwykXh5a6XtKBEFfWNbYAR6gBEW5qabOeeRt+uNgL8I4CKSyoMNYhJl0ZVFwPSxez46blWTpy/3cC3yWTbreC5itRitbzWvqCNfUZI+2mOGfLssYJ0ac6HQIjiz+UBCQUUdWQBECk8L4ohV5jIs9opk2zhgnkoA/NsEjCuA1fXx7FzAnXg4kULbO3adXbc8mMdKp14wnLbtHmrnzMlPUigaCwiUYWUc4JQDz70GHAy6dsEaXcC6gqBqZ0AwVLcbOPEn5PrZz6JQIpQolVIRTlcVF9jUxE0kopS/7R8tSNQGGr22iY5Ygq43Gs9bQ1EQQzAnPbJzlKDDrNJPzfu7hk04/vXDuQ5oJN1dygGI7/r8MVtBsxtGnQtGluCspftyquqIsAVrN8CsqxCfelPxcdGvMLBXsBcfNBj1cVRMpaiUFwwfx5JPnqZs9Z6LraebzU1VTYJN+BF2LcA+61avcYh6cSaSgBdpdupsanRBrCp4KlsumPHLsDaoCs4B4CdOldJ4viVArMF5BTLTxA8CSRctqDWTjpmBv0FajkpXUGY1pussYHEBMAmaYMpUh/mAcHzOS+aoaCuYK5mJVish6BnoNDVEeNbImXd+Nozai2yQGSByAKRBSILRBaILBBZILJAZIHIApEFjgILCCII0ig5gO7ABdUUC05lSK6E3KG3d/XhGttFAodOGwIK9EOGpAADKYkuOfQ5fkbczpg7YFu2pe0SAMR0IIFAXB2ue1uJyfVYDwH2AR3xvEGUehwbsI3AQiIhvIYbeEwxuZQqg6U2OmQAvOQDfZSxdVptrT344IOo7oj7RR9yH9Q4X3DxhQjTcj3bam3tFJINEJsOddHJJx1v3/v+j23xMceQeXOxlQI+9uzeA0dDUdbaaoO4JFZXTwCQzLU5c2a5y+Exi+b5OAQyiwsTNrmq1E5cWGt/rVtjrcPwRePV/GQfWQtmwTgAQIzdJ8MOueUq22oeai8lShD40LwUoH8A4CmAVKhA/rlS/ek3yTK8waBhmUh9xFHYLZqUZ+vrcd8F2G1rHrI5VUqUgKqL0GJBSdsxk1FH0W57D+PQgRQ1V4USr4/sFI1AUikatasHFZX6ygOEdgOK+oB5Smyh41gJKNG6vXPF13vJpRe7q6zATjlquBe98HkOfvKBeTovH3rfO129OGfOTABbgV15xcsAr/0OjRxAMfc4crLXvfZKn7uOE5TSeZ46eZLDzTTzVwIFZZc9BuUYLzxZhMYfFq3TwPzYVpNg5/AvqmifcKpceYO1lIO8U8fLEgHYo76e6yBqKXmJtiuOnY5RUY1i1n8ZjyYg3ATUdVq3UzmtJezbC7hjqIw9qK+fWqnqRcdqs64MddyVO8mKBnb5msgpqLKCCbVWOGEGCU+m4hKLqyl18mL5wNDJvla7uroAdyREYY0uIyNsinVdU1NtZ51xiscIXLZ0KfNLOchUvMBlxy7xeIE7cZu9lHOSh41bWNMnnbjcbZ8LhC0kBuUll1wUrGegs/osK0q4S7tiKQbWCcCnlHWCzViISShjc54DWp13uRl3A+19njKqCr8KyCTdhZI1gnWBSY76n/Jtn0DwSb3x/j0VfSvzNN8KdEH1lx271Cn3eI3vUOYsX3TFiZCP+tFQspmb3kxVr4pvAf6W5Wiz5d/SNv/IfWm9reMPWB0S+3lzZtvUqVP+kacbzS2yQGSByAKRBSILRBaILHDYFtBNth5+a8YPnnrR5ymprWAq3J8HMdJyUQ0p26WUTAJPisOmBAgqUyty7UOXFFnD6lzr30ByBQBNLu1NAcwcX2R2EYqyzQCc/Cn9Vgk80lHeJ/35GCAeAie9vd24SxZ6Ntg23PxKSotcQacDtH/a9Gn2FMH4L774edbY2ITLaqErthQ7rVBKrIpyW40KaS6fAdtww3z0sSds+XHLgA75HkdNAEJqr7q6HbjDTrF26uQChsq590oC+IqBTYJYIQySum/ejEkkmOiyufxesYUYb8qIMWwnn7wgDeNTVtvAGsFWrwPniJPB1hNmQHikqBviQRoKd29VP8V5uLLKpriEpgEjA9hUUE9QKA5gqcDFVUk7mrvTNrMyz5YA5Vq6U7Zyt1xacb9Evjh/Yi4ZX4dIPEFCARJ3IIjzsSyvjXtm2O7+mD2+M4BXebSpkeYyXgFJKeT6UsQjpM9+GlSbAqCDuG3mxAocxElRJXWgQFQ8XuD38rqfl8qqvLzUJywIJ8PIbbnIAjtqR3jfX4QbbFr5ItxIQm/MHTClohFpvbW3tVnbk49YL/eOmwsm2m4+z/u5GK4TthW04Yf6jwDSYWzNiVE6nMO2LBmfj/fGa3UtHOUnkH1SlGkbu3yc/GIkZgviQ7YVBV2NKrNB2/RU6T80AbWLmTxRBxHxLFSASXWaZn1Iudhhk6yGumo/WTbRyqadbsnymWTbnUACEsXRYwfXlhKoVGDDqgnlAFPOO+dB61iAU2tR6js9ZIdwnNNYu3sbGplbClXjUtgB54CdxdheI1Vd2UAjnwC0VhZcV8SxPZnPyLmWa3Dzlpv7AA/tU7xELWQdpR+6vpUFVlmU+wDMgrnaq/PkFdhfyPnToxtgeCRKaNcj0fYRbXMXBvnRT6+zjRs3E1egx6YTWPD8c8+2i59/0RHt91Ab/+jH/8PmzJ5lb3jda+yJFU/ZZz7/Rfedfvtbrz7Upo5YfRHoa97/Ec9Ao04++fGP2OLShePS3+g5P/zoY/b9H/zErv3Ex/gWp8pGv37/hz5mu/i253+++VUy6kwYlzGM1Yj6ufbTn99nt94IJL299EUvIDho1T77Rr8YPbfR+8PXP/7Zz+0PN99q73r7W+3MM04LN4/5O7TJpz75b4cE+MLjQtv+LW055mSOwh2hHQ/V/n8vU/33//iMrQG8q7z8pS+2q654xbgOLbxuTjrpBHsj72ujy+NPrLBvf/eH9oH3vdtmz5rp17Ous9f+01V2+mmnjK7ur8M2M3dWE2dlMbFBLjr/vANeBz/52fW2ctVq+8/PXpt5+AGf/+93vu/BbP/9Yx8+YL1sdo7uP/M9P5vjD1Tnu9//EXFMdvl78v7qjbabXGZm8CFeX7gs5zGZb2ujElkgskBkgcgCkQUiC4xtAambBAAE31RivAie+X27wwg5AWqbXPxUBNd0Iy95nNwJBaoEBjzOGplKn+7ps0m4202AGG1HVVcEECknNtw8oNS0BQGUUjuCGMGx3pQ8cYFaJK9AYSYw0NrWjSsf6GWYpmhkEyfW2FVXvdLFH6W4/wVx1lAxdRKwH2ggYDRzxnQSUxS7G6Bi1glkKFGCEjwIOi1btsSOWbzQs5NK4VUIoBMEEsSbREIEqc3kyio4I1gyuaYcBVG+TZ400dYBnNo7gHWMaXhYfqyOR6jlx8iGKr5fv3EvThVIWSdXRGXfVUKEwJaDUDplP40BaHqJuxcHqjhsYbyat1pSook9XSkryo9Ze2/KVhP3b25Nrh07JddagXar6lK2t502qKcxHDcVVRTNrNwT9PHIdpR9tKMTDQsyPHxJyhC4MAo89vf1iXH5XPtR4DWT1aIXu7W3dzrg7Ghv9zUyaWJl4NZMa73E+PNYgpyrfqDeAFDHM7eyJpTNVwBQxeEabUtpJ5VdL30J9kiBp4QF/bgCS00na3UhWOlivax/5BFL7N5uu+afhWqrl32BPQOLqs3hTWzWmnD0q408AtsLIqqOEor4tH3NykAaj1ShDh6pEwAs6lK0LeyjFFWeYtLlY5hKHj3Mq53zV4XSLg+428949/B6Gq8DhOWDob/g+tH10BsDvoH3kkliK1ZMsvyiakAdEE5rnBOkOH6yg47ROhQ4VdE61br2lhizQ3HqaNwar64/cYLzzzvLr1vFOJRIRW3IpVkuwFQZVi8qkYYUssSVpD9dFzoP5SUF9rILT7CnNu+11Vsa3MQCxm4/HcxD49H6jAnusknW8cs+fM7rlpYWQGM5rrnV1sx6Ge9yVMK6tQQe/MS1n/ETduopJ7lE8fHHV9j3fvgT27Z9h735TW8Ybzsddnt79tT5txxqYCoST928Hrt0yWG3dyQO/Ov9Dzqoe/WVl9spBLWcxBvxeJXRc1Y6awWR1BuVyujXp516sj29Zh1UXOmmj2xRRieNRTe0s2bM8M7Wb9xof7ztdvvLvX+1L//nZ0i5PTYwHD03NfDuaz7obzBf+NynRgZ/DMBB33ApU002JbRJD2rHQynhcaFtR9vy8RVP2mc//yX7+Ec/iAz+mENp+jnV/b/q93AHHdrxUO1/uP2N53GKXyJQd+IJx9trX32lB1cdz/bVVnjdKDaK5OcnHk+2qoyigLm6rhSXQyWsry8FxiphHV1TM6ZP9z+O23bssN/89kZisPzZvvT5T48J7PStsuTvh1KUdUpxLcajjO4/8z3/ubZfT3DiHZzTsUpot/A9TMGwlXHsMf4eqnzswx/wczTW8fvbrm8Qr3rNG+zFZD17zauu3F+VI77tBz/6qd1y65/sVz//8RHvK+ogskBkgcgCkQX+/7YA9/AOBjybqe7IuSUXuNGduVQ0gVpMd/HQHyprl6rppl11BBJyUHapHf6E4qqKa1w8x5qAB8UAu0pioBUAGJRsIj3UaTkAvCEFqadJcSlnU2pTvoQ0DIoIAvH7INSFXDWJl0UH6kPPC5IVDpYKiL2lMQiyCD6oqE5hstrrM5LhbWolOF5gJFCA6dBAEaY2+E8hucOwOgy+SGHczFNxvvqAko3ADsV4C/b4L++PgftvAcaU5gpgUUn7c6ZKUg5lPhV+EdgJspbqFZ0AVgRFZM8+gF1JTK6wHMxE1LeKYqDpaW15ju0lkQfcyKZXCNyYrUNJp7EWkN2gEVaSRKVVChh8avegTSyNocZDxcfYlelTbfTg7ipX2nZUekJDigeoRAT9GgOv23oBdagge3B57O7uAdh12H33PWAnoE788U/vsPPPPcO2bt1hT5PIQwKPk086zq77xW8Ya8qef+F5Du3+eNud9v73/qufI/UpdnHLbX+yKy+/zG677Q5rx5PtgnPPYmJpu+vu++yfX3MFtYwvu39ql770UttmhTaxq4f4bv2+vnzn8BnSJHQOHS5r0WA/nXO3l2O7AO5qk0BrWDQON9xwO3rtIJHXsq9cYoNzHhwh1DgP92SWqE0nmURTKscmA+YS1J0XJxEK9lQdYdAKtrn7uB+Kqo8LQWshBwVif6wY5STgNVGEUrHT3YkTyWJPqrFy5dPuen33PffZS198id331wdY2wV2xumnkDG30TZs2oxNz7U//flud0u+4IJzraqykh7TDj/v/stfLVFAbEXu1xVDUPcQcoG9+977PUHFiy55nn85L9XpjOlkjAXSaa2deeZpnHfiHZYU2hQA7NqtDW4D7fNszJhN9klhX8E6vQf0EVBS17qvVZ+nrqhh5R2v1bas7Xb2/ePz46iEdTfdfIvP/r+++kX/VkEvtGjf+d4P2J/vvNsVHEpRnVm0P1iQmVuf/Xx/9fa3bfSR2dSRz/XnP/Mfow8deZ1NG1ogosqHWg7U9t69CqJq+N9f7OAzm7bHam/09oPNeXRfV7zystGbRl6Pbntkx6gn2dYLD3v+RRfYC1/w/PAlgT8fsS999RsAu/tcmTSyY/iJbma1lrKdm2DGaKARtpnNWLOpE7aX+ftAtsysl/k8274EYsJvjMLjsz02rH84v8ez32zHm009XZf6lkyBZzNLNscerI72q2Tz/tVIkF6Vi/iwMJaq6mD96fix5qN9meXLX/0v+19UsCUlJZmbD/v5RReev8+1+ORTq+xTn/1P+8Wvfm3/ehhq5GzmqsFmUy+bOgebeDZtZFNndD+j38PqcZn48Mc+YZ/9zy+ZFKJyhRldDqefsI1sjj1YHe1XyWZdh/1GvyMLRBaILBBZILLAeFtAf47cRU5/lobZxshTdipclbRL/mdLah995tMDWOFQSUCKA/T3TAocPFFtHvG4FANNbrBJ7tsUA28QeFdQPkisLiWQoL7a5ThYC4CHJ3rOQ1lAcwhmL9CiDJmCClINtbd3u6vqEABB6rjOzk4PlK/MsQpnxNHurqn7lB7UWHKvVAwvqe6lvBLckYpMMda6iQ0mKJeP26sywnYRjy+oT1+IGbr44rWPPicS5F/ujGpzEFjRhnJI+4bNNHIqHFswdk8uIHiEnZ4pxOkj46eKQCOSKhviEaixhDsEejiYQrLYADBhL8WzY4dvh+Hx2RQIibJOwAS0QlZY3BiBblOIQdeNreOQpukTYrZhb9q2NqesuijH6gF7hSgdHdTRh85Rn8eqw/i0zc9gbthF7avLQkArH+kDQIqdd+1pIPEDykKyuhbzeVcQr4XspM+76Hy7/le/tWZiBkrReO7Zp9tKxBnz5swCwKplqTWZEGON06ZUi62tLVY7bYonRPjTn++0iy44x1WNPUDB+x54xOFjknuJ2tmzrWnt49hCQDOwgdrzz0wY39ebtmNnqT71VLAseKL1CHj0CQnkBevUkz7wXJ+/BHd56s/Vrsdkow25gfrnN7ZRBXAa9K0sr1MBd3qlXmYPP+epb5P6Tko7L5ozjUtZlyK+HauetUMiiE6SXCQRBLG/p7vd7v7LvbZ82XLWdTvgc61Nr52KcnMy66vLXbfz8xP+hfVDDz3qIp/aaVNtxZMr7Twgp+bWg7KxYe9ef75x4xbutY+1J5962hYo9uKsGfbnLffYbrzoHn388YAXMe8lS4+x22+/0+NPxlG6btjRYI8+tZ71EWR9xgGXsXO1cN79enbbBedA7rlSQura1/uFG5AJK6NtGetiDzwlsFZghvH6ue+d5Xi1eoTbkXpEiifFfguLDPoJXJq0L1hGwR6pP37zu5s82KC2LF600N79zre5XFGv5Q4lJcolwJrrf3GDK8ykOvrANe+y3990Mxl07nA3W7lvXXX5K9x1M/O4y1/xcvs+ir42Ftr0adPshZc83+SOu78itck73v1+e9Mb/pmFdrbT4//+3+/a+977Tvv59b+yrdu2+8X74hddYi99yYtGmtCClKuVFHBSp0j59vp//if74pe/bm9/29V2+qmnjNQd/UQufcoEJKKvTCknHL8cev9qJKCBf/y/vPntPnYd99o3vNlVYT/63v+MbsZfv+M977djsY3esO+FfKtceP659uqrrrCvf/Nb7uYr2epFF5xnr7zsZb54R8/ZDzrAD52PFU+ttG994ysjtQ42B1H4bOw40uBBnpx04vFeQ+5nKuEcXn3V5fYXyP+WrduY8+V21pmnj5zPEwByb3n7u/2PqY551WvfaOecdYarPMPxfeULn3Xpuvb/7sY/2C1//NPI+TznzDPsFZe9VLtGihQ13/jm/3h/ikEhW78GtVS2JdOWUp3qWlD5D1wSdZ6+8dUvjLga//b3N/nc5Fanvi594QvsZaxByYlVwuvk/PPOsV/9+nc+z+t/+gP/cHAda/cu3nD1QUHtat7/whrXsQfqV+tp/ry59o63vdn70I/QVl9EmTgFldVY/aruI48+bjeSxUprW/2efFLgljkWOArPo1zSH3r4UXed1HHHL1/m15NSfGeWg9lf419yzGI+8HTbQ488aosWzje5VcoOB7KJ+hB0/Pb3fmgPP/KY1xdMeemLX+TK1nAMWn96T3riyaf8D9HsWTPtLVe/wd9nwjqZv7/ytW96qndtk4JScxOo0XH60PbDn/zMHiNuid6r5s2dYy+65OJ93FLHmk9mH5nP9V4iBddXv/Hf9m8f+WDmrnF7LuWeoPgqvr3MtmRj/7Atfblz3c9/6e/7stNLLn3hPjZRvUNdZ2Hbmb8Pdn2pruIMXv/LG/h7tN6/kLn4eRf6h63MdrJ9LheZazn313zgI6Srv4lvd9/lhx7MNvqiQudT5cabbrE/3nq7ve3N/+Lu+wc7VseMx7p+7/s/7K6/ak/vo/pb/42vfEEvoxJZILJAZIHIApEFxt0CulEPvkDiM+/w3fYwo6AvAZ6RzUA30Aj1Bx34BAovgZOwOIBL0B7url19HMuOsjwyuQJS8pLEUluSD4h75k5V9dWn+lDlXP1LlNAHsdO431Lpwx3z8Ucf9i9Gt23dAoxY4MBt1aqVVlZaZpdcfJHdBoDo6+u1U08+wbZv32H1qJJmzZxuZ55+MsCQTJ0AuNtuv8s/Xyxbuthuv+Nudwe8+Hnn8Vn0CaDGbqutnequsb+78RY+j54AMFnBvcmLuVeosJaOniBmF59fB4B24Zx93D7K4R/yMRUk0g49RL0wZmyA5Bwu22KyOhg7Cny46XhNLdwXAYrecKBYEiySeZKiFbSluq0kjqgmfl2sKe2x6dbX0zZgRYClviMNuAPG4Zq5hu2CK3KFVTZeHV0M6OvEe1culK6WHD7JQ0p2MTBAfaAkY9dZE8xKoIAsJplEC7HjlPEzF9hWXV1tfSQTmIat7n/oMXdfbeVz9QRcMqXQk22qqmvITFpoe8kc/CCgqbS02I477lhAXxleItV8ztuER0g928ts1qxZxIzfaCtQmK3jfqajo8PWrnna4mRvHSJ2YYpxafR6OKgLX7k9AptoAQUrza1JTf2WbfnNWg2WWLBP58DdSB04BQBa5hMAdQjFb++OFlTUc2YJXwetBXvCbeFo5IIaZIRlP/eCA6li5rHT2neuZj0IROOSHa8hZmKd1V5aywkZcnfiBQvm2QMPEquP+6ia6io7nvuMndwLNTbuJSNuOTBvCuDtKVu5crV7x5xw/DKUjfOc/SjpysrVa02ihTgKQSVWGcTtWElhtm3bydqe4mF5lhPbTspQqSWrqhKcd/AcqkvZUGtw5LmraNnKdSuorGQsWppiMjoPAvaar54rzuIAD2WaPRJF5++oK4JBDQ177afX/cJPaDgBfahX2mSl7lW5lVTVggVxvjm47GUvsbPPOgMXy7X2qc8888Ff8lYBCsGwC84/149X/KO3veO9wLpb7AxijJ2ES9m9991vX/7af3m7+hEe95Wvf5M3zXn28pe9GOrba98Cvt3/4EMj9TKf6ELQm4Fi7KnIhUmvdWOtIPCCdLpQfkbqbMGEsAhY/OGWW10pI6BTiGpQx+jYXvdjD2vu+1uqlC986Wu2d2+T34TKHVMyU8W0UlpjlSsuv8yhip4LQB0ovpWST+hbAN04a6xKmCCX0bcCqTZt2uKKmIncWAty6gZRZfScfeMBfsiubW3tIzWymUO2dhxp9CBPZGuVRQsX+O9wDj/88c8cVCoO2EL+UIbbdT615v4J+4VFz8P4XOH4+jlfKlqXPwMQCLoKHM2eOdN+ccNvXBUaHq/fWlu66X7ZSy7ljScPMMXNM/bOtmTa8rRTTgYsLfJDly871seqdOAqUi0JLimph9R4inmlbT/9+S98v36E61315F57OTBWRTf2GtOsmTMcZksOLgCi+akcqF+tJ71ZZpbQVroOVMbqd9Xqp+0/v/RV/zZL157GJJj9iWs/x5tp5p+QZ1oPz5figG0DjAtIHo+kXdfrx//j0349PVP74PbX+P98x10O/QRWzj/3HD/8YDZRJZ3be+79K6D9ZF8DAuBf/MrX/Y+S9gvKf+zfr7WneC8SpFX7gvkf+PDHuT7aVOVZ5Zyzz3jWOdZ7ov6IXPuZz9udd/3F5s2b6+tJ7WsMAlFhGWs+4f7Rv/WlxiUEN36KP5p33HX36N3j9lpBZvNY/9mWbOyvtgQt9d6qeQiU6n1HNtF7TlgOZ52Fx4a/s7m+6urq/X15I++jz0NdeM7ZZ/r7ROZYwvay/S2XYl2XGzZsGjnkYLZRfbloqAj26n1s1qyZvDr4ta4647Gu9X4Xfkmgv0n62x2VyAKRBSILRBaILHDELDB8860b9tFlSMDMP5Pqcyn7qSueIdgjtVrKb/R1v8ODz58SFcXLUFJNJw4ZdQY4tgfVlo4tnEr0rkrBPqAAD0EjEQK1oePVjVxF+7v5nJcKgJg+w4XhNqZMmWITUR71cN+xdctmK+Z+sLm5Cag3YAoLJY+XuvpGlFvTuKc9x7bv3IliTm6cna5Cmjix2oHD2vUb/f5C99Jywdzb2Mj932XEbUNR191tpSUlxBhL8lnkdNu8eauPrbQw34P9yxVQcxHFwRTPFJ5r/uxhBxBIyiO9UB0q5smOTDJQ3uGhRHZYf6360CLp7DS4rh62x4A9bIaHuq0E3LwZtm1qHLJHtgNHqK6ibLOzJ+TadGzeiIpu9R7ZkPNAWxqfYuSpXLI4YfOq8mwKWXhdVca2QfZpf24ccMjrPHhBn9xf+wEvwRQdvuVj1+bWDjKBMnfNjZAjjU2N2LDa5s6eZaeQbXcboVUefPB+lI9KgkAGXTLIKknIqXzOX0oGU60Wqe/a2rvctlV8Pp/O/Zb6SXI/tmjRInv1q66g7hKbNXOmpcqrgLt4CTIPnH0ZHbaVfXlobvonxWTAG4XqhuGRZiK7qwDBcrSw2CRAF54vz/wqEsp/d33luVxWBSSDtp9pImgou580R5NATakK6UzJIQRg+2PAZ63tPmzYsMnattxlXbsfsvx0J5C4zuuVIiJS3MDZs6YjKJhl8xEV5HN8AQrVZdy36r5lNeo7ubLOmzub9X4i4LTSP6vqHkHxAGcDpxcjnJD6c8OGzQ6fdT8pMcVEIKuAqu63UtxXBAlchmzDtnpUmVLTAdQZcwBrubJlY16nuA615gXpZEMHzj5RnYvALrpG9+zaCd8he/ARKNnfAR2Bzg+3yYsuON90EyUopIdUIrpZP5cbnExVzSRAx4UXnGeve82rXeWl/mRQ3dTrWwrJFsPy0Q+9z/3O9VrutIo79OEPXuOqG2275gMftY34TY8uAgVS3Km8/CUvRmn1Pm4Af3BAtdvoNqRw+efXvMo3X3DeOfauaz5ojxGkXfHjdBN35933eHvvede/eh2BEgUx37DxmZuw0W3q9dcAKVLTfeWLnxsBmAIpukH985132Quef5Gr4EStFR8o0xV0f+1pm27gpHqSm7HG/fo3vdVVKT/+/v/6tsuwx2tef7UDjPCmb6y2stmezRzCdg5kx7DO/n7//sab7f4HAsCq896BrDy0TWb92bNm2uc+/Um/mLVdfzzDIrtInSmYGT4P943+/ehjASD59499yG9K1ddc3ngmTZy4T1VtF8xTUcKLN7zpbSiZnvCx7VMxixeLFy2gjUu4bgRaXzASs665ucVu+M3vXekpBY3KK17+EtznvuxJMbTWMl3KP/bhQE2mevqDIfA3F6l2qArU9aBxKsmAEgqM1a+OP5SS2a+O++rX/9th5xc/9+mR61jqNKlcH3/iSVeQjtW+3Mi/8PlP8W1kEKdjKeq4//3uDxxk64uAsGRjf0GFr3358yPvO9nYRO0LcGk9vXXY5lLjSgEcQoof//TnrlKSGjN0Zz3/vLP9fejXxHEL10U4Vv0+/rjl/sdx9DkWoNd7hd5jdI2oCIDovUpw5boff8+36cfo+YzsGOOJzrGUr9/53o9Q3S4ZUR6PUf2QN+u6lCJSwDKbkq39w7YybfLSF7/Q3vbOa+x/vvO9EWXvc1ln6iPb6+sn113vf5sU61Lf1qqccdqp9slPfdafH+6Pufxt1N8tfUupD/EHu1715YDWiGD7C/imXu9pKtnadTzWtRTLGnO2f5MO1zbRcZEFIgtEFogsEFkgsECgCQqUS7oTD2CFQIh0VnoVbNVP4nG52oaPXMMZRUVcHJeIi8ApcqmWrGXbBkEoXnOPkJoxx/pnNVthzjY+awFJqCS3RG5LHdypF4GANO6cg/1d7nKZQwZKJRdIDSIKANxMqKoCSgwABnbxGXHAaonP1Te4HZDUDtTAYwpAJgg4ZcpU7h3vtsn8XrN+k61dG8Qyrp0+g89UrX4PIPCRR3ZYfSmueG1J7uviUo4hxJAKSaWkpMiaUJWJCJUWFwKgktZJfS/0ozHLMLKKwAUzwmBADRJIeBFjCliR5aKoUhGA08bA4hyHweQaq6QQSoDh4AT7DgGZBEhkV2WDFdQKivYxVbqaW50LXEMYMD3PNpIFdptCI3PcFOLU6VzubFUvSnpB4gYUeRNLcq2phwGFhXYCrgTA40kfwArvTj8vchzW/YLsncf56wFiriWm+hzuNYpwqy2v7rPOri63ZWFBHI+yl1pvN2qtmmrgU76dq3h09C6BjbvE0teZxGErwo5J+EMfgp0aXIzj2P50wJPu16UQvOD8c33MW+qbbTbnq002cCokK2cU2pO6yw3MfpkaswWv/bfW5PB+PeOphF+pNMpN5pojm2uh6r/smUOGXxajAJufRzV1CIUmvKhrV5/SmZKFYH3rkbKO36TdsL6uVuvrfsJi8XW2oGairXjiUZsy6WLs9xKHzAV7yKKMvWtqSHLCojj7jNPdw0YJUATklAE2kUi6F5hcwefOmcV6nezx4qQmnTdvjrtu5+fjSjxtsicgXbpkIVCwwTPGygOzlGQrcvnu6hnA7gVWVV5sDa09rKlgbWki/l7A2szJDbL7an6+HmVI6nn8Sc2VfzKi+FJfbz/Px78clbBOKqaPfPB9rjSR2kjqkA3c3OoG41/f8iZ3T5SpdGOih9Q7ulmV3HIrLowqytwRJlLQDaoUQWFZxHNBG2XTC8vyZUuRWe5wIpup8njR8M2M6gn+6QZH6iOpNkIYELYx1m9BubDI9U/HCaCprGfcKi/hRjIsWkC6odKN9lhFwEkPAbNQaai6uukV0FiLq5VgxKEWAZEQ3siVVplYSkqKR7bpmxi5A8vf/LmWQ53Dgex4oLHozVi0XKWANwP1K6gpl8+ZM6aPHKpvrYI/5CObDuuJMjVKMfP5L36F8/gCJ/5SeY0uoTJP2/UmLrtKBTqeRa53KlLUSFEaFqVyF3CTK6ZcVVV0ncjtMyyyhRRfKop7uINv8DQ+ZUNqAgKOVxndbyeKNl1fs2fPtPUbgvGrL6WcV9myZesBYZ0y8mZemwL63/3Bj90NMRPWZWP/BfPnjYA69Z2tTfQtj8CGrsVzzznL7Z+palVCEq1LybnDOHRqXy7KmzZv0dOsyxrUxLJhJozXe5Xg1A9Qi+qDmBR4KqPnc7BO1O6HP/Beh4hSOh5KRtb9tS31qmC24lzs4A+qrkVlWLrqilfur/qztmVr//DAcP3qtb7xFBBV5maplvWFznNZZ2oz2+tL6jeFaAhBnY6VElbvr1KbHm5RrBoVyfeTycO/XrO1699yXR+uTaLjIgtEFogsEFkgskCmBQKkoy3cC/Bf0IOPuMFz4I+7WQ7v8ywQabkPKv4bAATS4XUFRLhv56ObbQccrWydawtecJ4VNDdY30zc+3Zst9tvWW3JoQ6bjrpuamWOLZ6SZ0um5gEnUB+RmVSKsIGhPFxck2SVBRzRXj/AQ9ktW1qag3sroEAeUC0BvOsjZlcusKcV1dfDDz/qnxv12fEPf7zNtnG/e/4F59qMmbNtGo8E8EIeFDGgzC7Udw1NLQTmR9G1ZKknwbvltruAT52+nx/Mj0yfdY0OK3oYQyeqsvo2FGUtHa46cmvJVnriRdgCaKRtMoh2iGvwy2FTfy9PAHnsc3WS20rPUU8x0VxNlsLHFYcisqPgkhJD5Ob7Ln4EiE9gajY2vHRx0pq6hmxXW4rYdEN2zKQcEkvgBgvAKyLImoDfbgAe+QGwKfNpH7Idrbhcss8hHvHgxKs0hjgAyLoG3PPMY60xeCkYuzpyXPk2fcFSa2jpsWRDK8kWOoCqvZbE7bW3DkjDgPoLyjlnxP7bu5XxJoFnQ9be2MaImRDAJ5VbSkZbvOvwjkky10QB2VQ76w0Mazmso25snxdnHKi4urD3CTNrLdW8lQy5KCyHp6/PYnohm+qHtsvmgVV8a1iTNUmikLw8h5HpQe1TPX6yXQfrHPg8Wcf89zUsDiVgh8PncDvZ/xrpffhJjHWppwJcUtYNpRkLsE6A2kcNkJ5cSLISFIgdHd3uXixQOJt7u8BNV2uC62TqJB/E9OlTfU6ygZSLcWyllsrLJbwIxBdKPKF96lj371p3qi9uM3desboFqg2aRBqCeVLRzayttuMWzrC7H1lLEhVgN4e7MfglIJfLtafkKoK2iiWZP0TCj2SJz80NR5t+DujHY7l3jr+67qiEddjPi07EO//1LX4yVj+9xtU2XyfGl9w9Fc9OcO2LX/mGg7fwGNHa0UVvbPsr+2wfWYX71sxU8mnP5EnBohJsK1scLJ59j3j2K90kZpYEwT4Dim4j0E7upZlFcZwOVBSvQGXK5MnPqibF4ZZt2561PZsNo5MK6JhMeKnXusi41p9zOdQ5HMiOBxqMVGuZIEPr5kMf/YR94ctfs29+7Usjhyog63gUd+MGbt162+0e509tXgw4vYL4h2EsQW0bPR+lAx8PCKq2wyLXShVBo/0VSeRDWLfP9TBc+b77H7Dv/+AnDlW0SW+s+nZB0Ha8yuh+dX5Unljx1Ij9Mvuqa2jIfPms56OvJVWoqCj3GB+ZlbOx//7WRDY2ufqNr7fvfP+H7kIsN2LZS2BdAF1/WCT3VlF8wdElTAgzevtYrxVjUfPzP/IZlfTFgIrWQAjr9jefjEP2+1QQ+VVXvtK/pPgt6sAq4kw8lyIYq7IINajgsBRmpaXZJ7DIxv5qXzYf/d4Vvl/u5sua8Fo73HWmPrK5vqQM1/lWDMDRRe/z4Rc3o/dl81rhCQT6w/eVbG2zv7azOfZvua73N8ZoW2SByAKRBSILRBY4VAsIY8j9T26tKv5z+L5PCQLkzqqXAeJBDSdKQNG9jlBKXJlguZXc25myR7cO2C0r+m1762o7+fhiu/TMM+yOv95mdz74GG5yfcAXs1W7cPPMS1sZGUsvIYbdVacmATnc9NNuHiAnng/AyeNzNCo7hXBJkYVzau1027Vls80qK7Bq3ARt7nTcMvu5551PxtkcPsed4p/zSosKUCpV4xkWhIVy9RTAQfBG4orlxGlWzK44qjrdb1ZXVuAiWMHneLm/lhJKLs8WEgaonUykDxLL7uLnn88801bX1G7bdu3154IHfFT1MvwreK6NsqPbZ9hI2sYcYtgxDSiRyi0uOIbNFOMtF/VUXC6IQh7UVewvuSo6gAKWJHLNerFZ0m/fyWILZDoewHn6LO6V+deFjR7bOWjTKoIkCm0I/9bUpW0RzkrOhdQ9rTWR+bUL31mdySR9KyGF+utlbgn6k7vzIONTN4VAm0FilukzsYBdD94Jtz9WZw9tarGlRb32qpY7cOvli1TalgotxXy2Lr3QJpevsyJr9vPwTBZWsohasTXnL7cZeWtoH2DqI8fxFyC6c4Dzt7vPqtr2sIbkjhrcQMvVNsWXtTnT+DJdNqSE8Emf5/VPIClI2DG8eLzWcF2ee2ZebC9YqbWlMzKEelGxEMn96qNQPEOtfYFN1RFglQ2CVniSZRk+217bFX80Ftx3MCeywXJnSH+9w3OnGh2ke5psMGcvLsQ7rYl1K6FIGWrOPLiMFJz5rFMlQYkpoQo2lkJR/aRZL4N8oa6zKTvrC2nde8pdOS8H118RY+9J8I35o8jTGtDWykoSptB+e2evtXb0cn77XOUYzHc4KYc6YYPGr/iU2ifXaYWkitN+ypWJvFuwPwSLumcsLKuwepSrIcPhsHEpRx2s0wUstY/UFmFAeBlLN3VXv+n1HqNNcemknpErXwsZWt70xtfZcSjsFGNN8cLGAhOHY1Hd0GXe1NcPg4JQtXc4bWYeM31arb/cgztsZkY/ucceqITQMFOVE9aX6kkKiL/38n81B8EHuWIpxpfcx8a7CBK8EffWV13xCmIorkOq/hcHd/LVD90ix7vPsdoTuFX5+Ec/iKonWGuZdfWHfayiIKhf+8a3XP3zgWvebfPnz3XF2mc+/0UPkj/WcZnbFZA+s7SSXelgRa56Ki++9BK7FGXi6JLkw8eBSgOgdHTR+0QIJUfvO5TX2dpEc/jYhz/gbpJSNN74hz+aVGV6X5OiT4BFAO2jH3r/s7ofDZieVWHUBkE5JQ4YXUI37snETnyuRTHfHnjwYfs5CRJCV9vDafN1r331PuD8UNvI1v5qV9e2/rjrA0BYlEVVRUC3qzv4EuVw15nayeb60t8vne96wPjoojgyh1sU23D9ho127NJjvIlDsc3oPrM99m+5rkePMXodWSCyQGSByAKRBQ7HAoILHqvLSQAthL+5SxfEyWG/lFKgtOEbeN2oB8oe/oQ7qHti+4B97Y4e29aEw5/gUi5hlx6+3wTPNvDFWRcUyXEB9QPlWcxI7mrXP9Jni6fm2qkz83ERpWPcRVNDuOTllgOogBIAHcXMqqmptcRQpw09/agDhLwJVVZC0P00srMOgujbdKDPEPcsQ0kr7kL5xYhTSL7aeeZgis87EypK+cyDEq+tw3pQcsm1M91Phtlkn5WiCssBQHWj4BtK5VlLJ0kZl51gdY3dtr2+wx5ds9t2NdEP4GSsojhfSi6ANS1PcxHlkFKJkoMd2enKO6m65GZKwlvaE5hTJV4Ay/ohSwP8dojEHinfOuFiiK4AMWYXLci3MwF1TV2oq9iZAJy096Zt1R4+SyXSNrkMd1e0MoQ68yQTAlo6navrh1zBp2Gp32amAsfxfTmChhLu8FofCXuAP/kJMuUi8EmjCFQst17imjW391hvDq9bm1zxJrqltlOoyHo7O6wvv8XyY62MWlsDwKv+emJ9AD/AVHwPcAdlFhv12Q90yfaJFqfdgeZGrKAkD8PHsj+FClJwU6Aos2itBrOif+oHcEjHqefA4OpX54Kf9CXwxFO2KV4dC9DXu5pVTDe5xQ6RXENgSvBJsI5ah1TUH937D1/fgtzYEhEqa5jMyGncfw2Q5ZVUWePmPOzdYr+8awV2aLbzTr/QasoqcSWusrvuvxuFZL9dOH+eze5uJOlKAmhHXL1Eoe2umm/3Pv4A7edxnpPu0ZXA9XjOvPk2s6yZWI4MhHU+EKuwPc0AV78eYN+srZpJNZyHUntsQ4Pdds8T1tjcaS29Q7QjQY7ERoqnqDXMCmV8vqZ9uFL6kcWYNSe1oGypItvLfjNnzQE8MuEjUI5KWPeBD/+byW1vtMuVVAQqivEk4+lmVHGcFLA7LE+seDJ8Oi6//3LPfSNxfXTy7gDwSL0n96XxKHJLU/kZwf4//tEP+cWtG8wbfvO7AzYvZaGgkGKoKQh8eEMq98tu3pwXzv/7h3X/l3NQhmDZTErCUOlzQINn7AwTiGRs2ueplFSi83K/lJpGj6vf+k53537rm/epOq4vgu8U+KORASDnD68vrQsF2g+LXu8iJoZcgcO1E+4Lf+/ctdufykU7zKArmL6OwLWZZX/9an81CizZWdBEa1XXzwMPPZx56H6f69rSNbZq1dP26isv5w9L8CdFYEOAVYke1N5Y5ZFHHrPXA4XCOoq5pmtqPGBdNjYR+FCWaSnHpAJWMoHlfAOqzMwai2DdvHlz3S1Zf1yV+ENF9lEiEmWvDd8Xxppj5na5+CtOp5LWhK7ien+87fY7/NyGMfEyjznU5/rQ8f5r3uXZkcMELYfaxnjUz8b+mf38lZh4ZwPmVeT6qqQfcpHW2tDjuawztZnt9TVnzmw/35kuyVLl6W+YQN6hFl1TH/vEp3xdh66+2dpG51IlM3lRNseO57oeGcPwe8Ohzj+qH1kgskBkgcgCkQWytYDHnxq++R45xm/QdTMumMENOnDOIQyvfRsfPfnoaISV43Ns2q57sN/2diVRtVVaUbKQHAmDHk6jkS+D29u6UaxxNCBkpBuewEyAUTHbvHfITp1Nz2qPmGJpXAb7AXQCV47G+MzW3NppvdufstwHfuvgJY/PBjnEqesQWilEEXdMk83qqfPspEoi2MdnRqnGWiom28MNnaj62u3EE072kDo78b7avn0LYaLa7KQlU21GRbMNoNKLAR0SBQlr7y+xe3fV2kAfAA+3P8Xcq2/v82QVDipGjLTvE/3tzknj6kjfTjMYN5NhkoQbAoBIF4W5eC4r8ADoyMU4uE8IlF2CVa64w1b5onO0qWQSAnNS1clWG+qxJy3ko5DrwUb6TJvGpTXB62nlxMAjT+Gq3bgL00ZNcRq3V1yTW7Bhd9CH1Fj92EZqRqZIF/TJfVlenOQDnBTMh7oRaAioS3IvKHijtp4BTRq+5kChLc1FCkbNTVufOcvhqzgmYP70o7FqvjrcW0DZpjkH6jYlJJFajDaG5ySAGdhnuC22675Hr9TWMyVoMxiPhqVxBWPB/PThvRKTb9CKm7ZB0IDQ6mi4wDlV2eK9HTaAe/QQYMpdSof3q72ghQCyDY+GcasvTiW/MSmx6Mh2XE9MxbxCACdwjX85nJuOdKmVxnYF9qG+3KzVRjIGYOaa2t1QZ+s2bbTumn5r6eq2x1etIKZct81FFFXbpy+ugc/87I8nbPWkQfvz/XfxuR2lqiSt2otNFm9ZZs+b02GVeQ2MNcdaY1Pt3o0TrLm+zm0lZd6seQtJ3jHb7npyh4dH09lIkZ5Zv/tYS3INDtYx86RdzUvnRpOUKlH1PEGJ1oPOEQ8p+soQWyiMz77nxIf2nH8cdbBON1Cnn3qKZ3D8yL990mOwKUjiEwSVV1bHKtRzs2fNdENLIaW4Wzfju19DFhCBALk0jWdRzKc2br6nTZ1KGuy73OVWGezGqwhoSNlx4023kHX1PQS2nOWpnQ8GhNS/gr9/+7s/IEj55xy6NO5ttN/8/ia/Gb3ggnPHa4hHtJ2/xRy0RnSjrrJnTx1JHFZ4rKozTj/V19GhTHD27FmeOVgKo2Vk/1GChdFF8QK1VlvJPinoLIAsN7jMGGmjjxmP1zNnTPNmrv/FDaa18PznXWjKGHnySSd4ohZB3OMAQVKHKtOygqJelAG6R49h9qxZvkmuj4pjqPhYN6EQUzshCFOF/fUrAHjs0iW2ectWe8/7P+yZmh/H7lLNZlOkwPrO937oa/uiC8/zv3gas5IRnMb7w4GK4qB9/JOfdgWXXEp1TQiIKFv0cy3Z2CRJnBFB9JvIOvyaV13hylwpflWWYROVK175cuIarrQPfuTf7WUvvdRVdrf88U8OdCqAd4cC685hXr/7/R88xqUUcFLa3f2Xe91FU9dX+AfdO34OP6qrquzqf3m9Z8TeXzO6rsLrLNwvMHYeyTXGq2Rj/8y+/vt/vmMNqOlqUDr+8dY/+XX4lqvfMFLluawzNZLt9aWkLiuefArAdq1n7lY2OCV+ybaE72EKFK2QEIprKAAtpa4nHqGhbG2ja1Pn5R4yoEvdLBCfzbHjua71vqjyTc7PqSefZHovjkpkgcgCkQUiC0QWOCIW4EZcyQ10Y+5Fr931NdggdZYDE0CHMmymAR8CGUmAjgDRtvpBoFm1XfmKl9qkqknEvy7EU6LCw2nU1++hboF1rV3hMWgVl0zgoR/QIFdUWrKuoXx3Q8wjdp0Ru85S3cAf4m8RaywtAkKdAYJpDfWh6sI1Uq9TAwM2yH1EPwqiocIOy6ttsaEelEveRAC4kOdZb14HooN2gGIP/fc5cBDfkLtlDzHvBom9NtDXTfy7QZJMyOVQ8EP6LLkXsg0IleK3PlP0ozhzcEENFTiFGIYX2Uf79PklxgPqoWb4rx/8xG6eWdcPoHWybDpoiaFeY5ti6QmaDlFX8EqjkOpL0Ioh0HoA1tbu5Rz4q/Cnd+8/ylBUbUbZuLstbZWFgUruxNpcFHaDZIKN2QpuMaTQE6TyzKfDYx+Ezsm7SRDPXVHpX8MfwuYxzq/cLHW+HeplAC51qvFpJAI4gnE6n77dfw6PkX0jyRzCsXs1DQC78RAGkv2kruQs+IEa46CArfcRNOif2TlW9tY/GBU/9QjgEkPghbbIhmpZiCuoo4qx3m6bsOIWS7S3+B5V93CBQZd+zqSeDM6bH+rtBz+C1xqOWvWVwnNpRjmL6ARpi/UUe/Qe65mx2FITlwNeGQVruJe4coqX52OiL/WrtZ0A1kljqDYVo1kei2UVZbxmBDx0DgR3pdbUrFgUnBudD2zDOksrqzBFdlHCjwEg9wDKVJ2JnlQHMdXTtpecBVrLAnqDOSjxJhRY/d5mv5Z1XIz2hD85zbSHxRwAaoacV6Clw1HGl4MPu8Ytm0rRKDuH42hra2WswVg0nvEsRx2s0+Tf9Y63ojYp9Rveb337e24P3WAchzrlPe98u58wbXzvu99un7z2s+5eptcKzq4bcqknRm5Q/cxr7zNFJyWbItWFsr8ooYSKXitRgG6I91f0BpBZRsaQuXH4eea+17zqStyyanAze8ikHpQaR4BCEO5ARbHRBE6U7fSb3/q2VxXIfO+73n5Yao399TV6TqPrjN6fOS/VHf06uBKfaSWbOTyrjWcOf3b7GfvCpwr0r4eK1tEUlJlSvQmYqIyeg28cY/uVr7zMg8r/hoydT3PTfO0n/u1ZY7j6X17nUEDqSP3xU9EN9Vve9EZ/fsD5jFpDfsDwj2cdt+9yI25ZhV3+ipfZL2/4rScWkOpHrtVaD7opVtZQAWcVBbp/D9u1pr2MakvblKTgfe95p0OgcH0JkEuhpmw7YRmrX8VoUz2BBtlr4YJ5HvvsJz+73v9g+vH76VfbpZaVekgQW664Krq+pe4KXcd9435+KD7hQ488av81fE0IqFzDPEIF07PsmNHGWGshrJKNTSmpejUAAEAASURBVOK4Nbzvve80gSJloVXRulOGViWbUNF1qiQ63/3Bj+y73/+Rb1MdZd0VZB2r6IOGSvhNk54LpH762o/bl4jf+evfBgBIttJa2F9iEx1zuEVZbe9/4EFPoJI5BrUnd9/MJCbapi9XnjOsy1gj2dhf/aooVIFAtdSKKgLMV3D9XnDeuf5aP7JaZxn9jxyY8SSb60vw9d3veJv94Ec/te+R7ERF7wmKRSL16cFK5nuY5iWbCnItOzaAvzr+UGzzr2+92mN2/uin1+F+0+dr82DX+niu61NPOdn+yjqS+7YSSOmLjANdlwezT7Q/skBkgcgCkQUiC4xpAf/spBvz4A96gD2ozfaUK5sAUAIYAkzc2IN8/CZdhyG4s50dubZsyZkEql9im7Zss7aWNtuzYxcKdWVazbPFJCc4fvlJJCvA5Q4300IS9DXt3Utm0GIHVNOmV1lH8SYr734EWEO8NCKf9QGQ4EMOcOIAD9iEQ4o+MQIeCXamARf9/QA0oMdAR7t1N9c74FLC0z4eA9wzNJcOWR1J2Tq62mzW3tnEsC31jLC79+4h0USdLZyastLeBkAFuGUwYUP9CWslQ8O2XcV8zu63CuLqDdL+1uYeayUBAyK1kTL8kXPkte6f9dnP7aLBa9Aqgm+CLgIuTpOERgBU7M5VHT10LL/leihQJjWe6uhzN5tcAVdeYLi/+mlx+3tHap9SSIZWKeg2N6bseQuJDIehpJrb1qL5p2zBJLm6DqEiJMMu+gy1rdMtEJbDOdLn4o5WGsfdVQAm/Lwf3KcFbrAaiECi9qtovA4a1ZobQ/gsLEGd4KdAjx/hO1XVt/ND42DmwXFsVzWvq+c88jCIgJfqa5+K1mfwTzYOtz6zT3BL5lfCP3fx1ph1NI10dOMOzP1TN3CylWPLOB8lPPZtJWwr+L2/fSx7L2LLuwdzrZI0unBN0mUIwDFWrhPNygEuv5VkQviQs8tDeziQenF3CwYGA8IFRBU3UMDNFZya9LCt4eO+7nVcHuPVPVFm0TkZQAUqowUrJjh0EDdvteUKTl+fjEUKOnWui5f6aUCx1puUd7J52ILOqZJeFCblIpuy7hSx77BloPwMWBHVGW+fbd20kUQkBX788JAzh/ecnrPOxrvJ5zSeQz5YbkNSayhWzlgf5rOpc6gdf+Vr37RHkDte9+PvIXMmOw7jEOQZawyH2n5m/S6Am3zpM9VKcmHTTfwH3/8eO/H44zKr7/e5u1OVlPgN234rHAUbj6Y5SL2Vr+Ct7gO/f+PqD0Do9jb6TWf/R4zPVvXbyfhC98rMVhULUdszMwhn7t/fc72FKCC/0mor5tpYZax+df3qze9AthqrTW1vJgajPiCEMSzHqqv189Z3vMfCuGhKnqHsvyGkG+u4w9merU16eviDyfUdJnjYX18KbquM1ko28FzfX2RrxQWUYvcfuWRrf9lA50AunAdL2pPtOjuQXbO5vqQOlao1zLp9oPYOZ9+h2EZrRXErw/enbI8dr3UdxhXMjAt7OHOOjoksEFkgskBkgcgCY1nghGMWWuXEWhRqMduw4QmqcQsOJNFnrupKgt5POdue3E4cOABE7gCxygvy7cqzp9nltXhmJAbthw/02aq6Wrvq3PMtZ9Jc3FNLHBAI9Flrg23Fe0aaG8WJU8w4Aat2wF0JKnbxiNnVuXbi5J0Wb37Qmjvj9kD7xWQnLbSmPj5TA79UJ4Xsp3jzQ1b26K0Oi4qBB2qzU5ogXAMHjj3LpjWhqgfQyJWyh0c/j46qWrupsdmaWvfYeaddZPPITFuH0uixNY8A5LbZZSdPt3klzdbRM0R8vXxcePNsR0+l/WjtIpRKfZZEEyVFVOdAjvWk2d+80pJtmwJgJVJB0S8BjkXLTrSTSH4x7Yk/Wl5fj6RpAdzEjr1lE+zp419pd28FEjUT8w34OaQ0r7SdAyyJYZcUMfNKC+N29qIa4o4lbceutXyh/ydgJPcJ3Gssm5KDOg4X3wwBk86RSMaxU3F7JInETrK9njQjjtusYtPFrK0nbesahqwWSNdCApAp5bnErwuUcyXoEXoH01ZcVm1nnXgO7peo6wpq7a517VZeWmhvfv4cYtANAb2G7KbHG+zuVQ12+oReu2rXjZbg87QQmIpi1m077VKbVPIkmLXFt0l9pSKlVnfuBOtPzLfanJXASdxaOf8CV4PpuG0fWm5FW9ussnGbg0Op6eLQOn35nkYZuXn68XYnLqKr1jyk1nhgafbFAYynnfwiW9tcYut2kXVWMJntwZkIRAAvWpxnZ5bdx5ptczAq0Ng+ONMqn9hi6Xbcsx3WpYxl7+eQgw+56FSsHMizycA69V4ud2SeNM9eantOeDnZkhXnEYiXbrQFsVuBvawL1eSkCcp2pIrsl0/F7amN623ZwhPIkjzVJiGiuPnOG0ly0m6vmrvQzu5rCuAaR/axZh6rPd5+/sAtuGV3sEVNBQBw5pRZdtlxSauM7fDtTalJ9vsHUtbE+pfl9KXypBnzrDF/lq3fhbKOdaWSIplLSXGhLZ9ebveva/TzoBYLSdxy2WmzbPYkrlNgoj6Taq3pM/Ffbr3R1q1Z6RllvRHm1Mc62duKD3ZGmT17tt1+++1kuZ2dsfXQnh6VyrrMKR7oJjesl02dsO7h/FZcM6lzjkTRTc/b3vFe3Hir7Jp3v8NvKNeu22C/HnaRWoLKLpsiBcvRXo6mOWQDgHSxHwwQHIlzpn73B+rU1+EkRtEfjWzW/1j9jqj3DnOyim14OOVI2j5bmwiKHgyMCtqMF7iRrf/RQZ3WQrb2V91szoHqHe4607Fhyeb6Gq94p2Gfo38fim1GA/Bsj83Gptms68wvqEbPI3odWSCyQGSByAKRBcbDAq4IAwfkSmnDzbjggiCLilwxdVMvpZAAi5RjKVxFlZFSEihEOtbYPgQw2Ww3PBC3WfM7+PK6mEZwdQVYbVr5mD20bjUwKlAZieG4eszVQcHxlx4bt5PPKyRuGhAGaDUAFNAgBofUDmOiX7luChRIjSYwFhQNNHiu4PuCBXqlv9VSOXWzTS59Uo5JsRTj838uYCkP1z659g4xr0HF/dIxqsscFa+tt6ffAVVqcAB1WpAQIWXEIgOqSR0nI8lG+xRex2hToEnQKMWX6Dm0CbuhNoNm8BqToJtG6bPS2ILONWivk6I/uSzqy0Ft0kPewZ2Ma2MjSTIgS3UwGu1X8Xr8LsmP2Q5UdKqvOtotqLe1eci6kX+tJ8HE7Kpc24BbpOLSaUwCeq0o8IoYZzdx0mKpwN0ZzWLgJosaUJ3nMM5AMag4eoyd+i5dY45hkTYtGJG26FnQh78im68rx7SV8en8S58JO/PzqbWmcyabaFxU8fHrNWIvHtqiEtTTnDU/j53GcWrTVWts1HMHoDzJBzbl0pncc1O81uwSBOpT8g5HwPTbzVouyGE+YRfeT/Y/NMaZJCfppa0i+pFFfPbqj8FrNkpqQe5jQLLiiWttU0MTYBxSyRUn1YqPyF21C4iZV1xUAqzrcJt4ddoLbaM+9vWC1BUhPKr5q62gSLOoEE2amseb4zwoE/Eg17TGpRa1npl9YBPWr0qwtqjBes/HR3iQ6yA8BepF17/Pgbqh2XRMkNDDmxjXH0c9rBtXa/wdNqabHsUz+vFPf27veM/79xnhW69+4z5qu312Ri8iC0QWiCwQWSCyQGSByAKRBSILRBaILBBZYEwLCJToIRDmd98OPXQbLiiiW/lgR4BjdJvPTT43/B1tOUCtPJvQV2LLi3ADbKy3hra7RtpSYP0YvpjH8aXyoMCOgANti1PksS8HOAAGIPB+zPbUxR2G9QwV2JR84sl1oSYi0QQIkeyVBaizyIaJukeQx11HnRLQHr8dMTgQCZ4L8Ci5hEoOFeRm6TG2dCywohD3W4GFAHHIBVFzFygMxhgXVRPMA0i66o1RxBiLK7dQcO230J27MQLavLj5mCtzk/k0GvUpF0IJGiZOKEQ5lg/cwyyCh2Tz3LEbN14ygAqhuJUxfYLJEU5PprPWnpjNnBCzYmIFdvRpmzpRv2a7cHWdX5Nnq/cM2V82SPUmGCaXRyEesymlcudF3ThAyxwmF9gBbKTTIpuUlJZYayfgUlSG45IMLE6CC8G5zr4gTqD6EjjkEB8QTXk7eqlz6UBHnVH0i6rBbzqMC2TRj4CpBizb5zAvgbRct6/aAtDy0F4VnULPRKwBDzeo9RPOWwDXIa7X5oe3K5treLnugi3IWEiGVWVCHSRhRj/uzl3YegDg1MtMSKlhDZ58IuhCxgl6V3NBp+4eSvPPJBcJrhdZVnUdETOWLupLNxcvwoW6chqDAJYNA81BNHV96A4LDBUglNKb5ni5lueiMPQpsrYSZHdVLDp34WV/P881H60IrSVZR26+OYLlwyW0xwDKTI/vNzwBnf8QUstlWeMnVQgu5oEKUTBZM0S66SdLfQVXO1vpS+dT4Wjy80lAwdhig5x57Cab+gG0qbWTn59wHtNG3Oimdlypx7k8M9NxbvgfvTnFqvPA9n+DiSqu1JkE2F799FprbmnxoN/z5s45qNvf32BoUReRBY4aC1RUlHscuIPFtDtqJhQNNLJAZIHIApEFIgtEFogsEFngOVlAKp0QHqghB0zcqAsCSAnmiMBv0LmJV0X+lxAjbmhn0roHYnYuXgunTSSpA+q1FCBAvxVbLg7AUSZV4Su5NzpD4Hjd6g/wO06/gi3xdqDSk2RipY9krN+m2OMBmEivAZgB8ibMsPVTTxQtcbggoKCiV1JlhSDDlVYCXLQpxZL6y8GNMx81neCCQqG0cR/JUYCcfObG5jRKNn/iE0aJFYzJ6YnmzCOteekot5MO2rfIJAyTwlyo4x17taBNqZEERnKBIhpVN4ktmltQzyVwLxwgKR1hg4oIwSPwMYC7rYCZFFE5wLJOOJmEVyUQiw6y7tZ1pFHI5dgaoJzblI7V9zYSS+xsUTIGDcQHMzLIGRNyrQDKpuQTSeCb6hfyuwWRFwNyICMAIyilNvVwyMS+QdR1GvMQ5Ez/lOhDsMkbUV/8D4CkJqxHZgnGoYQktGA58ULLITyS1lUMUDnQxrkgiYjWlGrqoRYUGkgvgthzUnIN7+SXF177aFSNcat1H6WaooJcYgWV8jj3goFDfV20gT2BokrqkASQFbO9nP1qR+sxLDpeD4EqjUvtan2pKG5cUILxhq+UYCKPKkoyoZr9xEXsmHOyQzy5b2uNax11xSZZeWoPNQTROJetA7Z1b6/1dgcx6hQuSXXzcFf1UbBmXK3GOGRjV6/xW9eksvOGJYCKXFOA3pTUkBqM/g/XDV4wD+YvYKo1JmWsQLhwJcPhN26sZK91W6vhoAnWJOuCdgROBbzzGZvWqatx2V5GPPiysnLf1r1bcxv/EsG6w7Rpbe1U0+NvVRSk/8wzTvtbdRf1E1ngH84CenNVEpqoRBaILBBZILJAZIHIApEFIgtEFpAF/LafH9I4Ba8D6OB7AB98fAyeyv2N4iobXFVjHdz0k5gg/8xzLTFzAUlcO6zhT7+zwd27lIICMMJNvoAJACvBa6mC8rjBl4BtUAAHYCIgEgdk5MIMcqk7Mhjq6r+UXIW97VQTohM8EaQDdvCQokmvXV1FSKZ4xQRPDJcAKBSi8ulF5TMYT1p+IgBgUhaJL/X3KhOrgJFAxJDHP+vFZ1SusAJLcqdNo5DDeZO5K5kGz4chGEPab9F2pkHdYJ4aq2vEBFp4lgvwy0dNmE972tfeSfwv4uTFcMXtZFsLWTEEyfIZl7sZM1bZplhx5XBjFTBRJle5tO4AygnY1QPuFJPOlVXsF1AJC4cCKc2mlqF8AsxtJPGESuAWig2oXEZwNSWbUCw3hbQa7Ogmjp5GR8FOct+UyrAvB/UXcEht+oN9ojo6N6r4/9p7z2Dbr/M+7z1nn95v7w23oRcCJECwF5GiJFKSqyx7lA+OJ4mT2JPxl0xm8sUznvhbPiQTOaNxGVv2xHEsybJFWqZJgkQhOtGIcgFc3ILb6+ln73POPnmed+19LwqlkciLEWCt/8U++1/Wetdav7U2Z/4P33e9zBqXxb5187aPcuSMh7553gaS8R+wj29CLL3uorJs01K2YVm+047f1PejtgUsU4L7znvep6RlXQ2iW6p37BTMJphyL8PVlUXsssp5rqffJcJCDYNdTxisSSbK0f1Og+++d31gnfuuxYgjzZ7YRYIPpgLYzBrn3qqgmr7I3eRnAsjZtU0xs9SOyzPNOHtpmX0S27FhcoCwZRV0PaIl876MJ2M/gDnHmNq9u2FHpSfjew/bKLDWJ3rGFX3Muuxh6Lf71q2wdyELned++8S2y2/ENeuhTnag1WKvOnITOB9NEq+I9frQzCy1Hn30cxxYZ98HyF/wQRzqWY+qQFWgKlAVqApUBaoCVYGqQFWgKlAVqAr8+VIAypRgoLC4BFoJgDoq6OVlAZGIyRaEJjMLSzHDBm89JJMY2b4r+sYnc5+3ed7qpwFfvLvna79l9dIa4MYQH4M8BwBfK9zXm2dUTy/Ol/E6g+2JWjg6oIEzkcQAUGeEE20IiIRSLcqIOBItACXGiB4ZnyD0cWgUG2sxwp7ny31n2UsMEAhttB+rQDfhm+zCBAVmCiWrA5ZKEgDL5H5ucgr6rPeSHnpl/zkxRhlUtpm9LO3LU/gvYYieXNIZx+SnW9YSekmt4eGVSlKpgKMCTmSBgighlsAlUQj1R4F1BElmIohhqAXJbwF0gBNiULeMA5qG1wB9gCI4irBGYDhEjOvEMJoAKWfwnjs1bT9Uu43nn0AIYEV7fuyfiUPMfG9/1N+PHoYZEotBoV0XjAl55uncAlBzjo/ZUDeThTbLUk8d/JRxF/Szig0h2kqbwdg2Ic16K9qa3nx6e1nJNVH+Wb+sCwGq+6x1LWq4uzat62FbgigBsTBKkOWatd+u21VsNEhCUjIbu4pLHRwVAWxe/fSHa5HA1tiidsxpdwTLeJg6FyTgTV2dm0sI1542e7Gzuwaoa8QWEn4sTpf17vqzv4auuse2eysWBUv/7KnehnpvllDUzn3b5X4bsN6FptrHMTPHKmhddT2z5tWsZTx0WgYiU8cr57uAPpVXY0YiOMTbb8WNKTnsnmskQR72nXMzOpsF1n0Wh9hjvAtVs8IN+lNh3Q0SspqpClQFqgJVgapAVaAqUBWoClQFqgJVgY+OAr6EJ2TSW0f+wbUfwUP3PAEHL/YZYgikWVhqxTk81EZ5kR8C2gkj9H6bX2zGIjBCKCRYE2Qt89KvJ90qdKifG0KZAqP07mEfM8FAQg2hAd46lMm9t2h+jCwIAwC1qSFhQwf+0D1Da4Uzw5TVb2h1YSGWF65GY4w+GkI6y95ZZJ/tGRpKWGcorLUFYkIFwYVHizBMesEzYZKedgVOeS22EII4BoEHJC3rcHbt6J4rmRpkmCiwRbJhcgthk/QjmZD72fUMJfToMSsqYM5QReGSfTMs0cL6hwmfpD1rtDtCUgS1bWEqYRvn8pOTV9Ee/rVptBcPOve3oyG66D51lxcijuJNp85mhTV0dYVOzEHXxkhGMYyWSBG9XCe8AwwJhzIRA20OSHoYQwuIp9EEm/TRscxiX8ilt+R6ZBymq1ewL6f0ULdydG6kjxl9JkyzYcIOvBkdY86cwgAL3a8OEwm8bKbgJI15dv3orknnROg1Tmbim/duiQ0Tw6nTMNl8Tc7VxCNs69RMNPD+XMbLcrW9yHhV2U+BkobCunei4/hpD9c4fpo5Hm0M5XVZL641D7VrMAcDo5PR3xqPxZlLsW/bUGyaQHMSYFzE2851P0Riie279pD4DeBsdmDm2Z7Z47TjeuIkQ7xdj+85DKMtHm8+Y4zOO9/WZipZToBr1r3JJlzUZtt1YQoZhXiGlLsGe9YckeuR3yprPvWizNCgeys2WBOG7Zbf0gAemSP0W8Do/nYfxFFh3QeharVZFagKVAWqAlWBqkBVoCpQFagKVAWqAh9qBQQJIgEBUXot+WbPx/PclB7YkNlSy+3Oyz/wAWDQZA+4i088HL3j69KDyRf2wXzxL/UxQWin6MAW/NYIcIBzsFo0eekXzgnwfI5DEkCqADt5RIIEAE/vMrCFDfRBGHlPe9YTJcCdok3ygNUzp5Kn6bPlJvptiFZjaGOBYYCKyYn1sXP3HvYEG4gfv/F8egYJvQYG8HbD62uEsNAe4ImOhO7VlZQOz7zsN6GUttYFJzT/viP7xDgcW/GswziV9UbsUUOgY9kTT08/vJwYiwXWMoMnjVJWcOYhNvE4T8jimnuZKSRHhrGiH0wqE08ITQyHdcr6ie+07SU0tPv9AiLMshUZcBKYxzM980xYUWBLeZYeffRP2BOEc9oHE10sA2EHgKUJ7ABHekiOcr1dQtUFPoxNj0h7tyZ0pR+lp47Diy4AEu64JrxvGcbNaV7xJ721eGbdXAtMvkMWkhZPLi7eUVc9sp8YWQAaLwiJ5wl7Bhr14kUneNxyG4k1yGLRkS5ta6/8K2DNvRUZ9c903Ny/yh54Is1y2MaIFJV5dc+//pxfGiIb7PqpyVi/nrXsQNHUzg3rPcmELRFmOji6MRYIO22hfTdrsWW63oR+a79kedWIGqaK6AlgK6dp13P3mXO8WY72WqvMl4ueo/wKnQexXGcO8gFXTg4H00tfqcP6cJ8996PsaevXSh3uXzx3Ni7wsY2LV6ezD1nxBv6psO4GillNVQWqAlWBqkBVoCpQFagKVAWqAlWBqsBHQwE9lIRyAgNhACzo2pGeZQmOBHbd22YL7YsxvK/Oz07H2Wefyc339YbzHd9vfWwsLjhzHzYPQwa9bxuCDZGBwM/yggWvfS6IMZTTMNR+vHjcz+7c28eid3omhiBDZiEVL+hZl7bw9Gpcnck9tXyxN1Rw0dBOGrwyN0uG0eHYOL45Zsio8MrLr6eH0eXzVwitHcJGf1yZoZfUcYN9Icn5hbnoXbwYDa4FE46jweD7V+bZY05Ps3ccPFQvR7i0MB8XrlwGEjI+92azInbXgFT6uF2+cimW50GUi2YExTsJEKhKjdUhhALgcKUOc5dbcbU1EAvTV8mGKigxGYDG0lx+z6PJOw8l1vPOYpZkSvPQme+dB93Blt5gncP+QfBa7EG4ODuLp92F2NK/FFOri3Hi2Fps3Lg+Tp86izvdbBweW46pxkKcRhftID5wVNgDqLlylcy/zRjEK0s1uNtpoCeme5YI66TNPvY5BI013CuNcZEOIc6tXcXTbDYWFriiSot1aE3XgF5+JgRZnCfLBuMo6080xT88NWcvX47pueU4ex4vSj0VmXMhUruXEFLo5PmzPXGqj/kCMAmBtdlsLMYw4+3Hnnb8e7HT0z/pVxldd3zFzpV3VF4hDHz64lm80miBYv6uzPC6skxMMn1cQCOd7oRkwuaLhMHCcWNpbiHePnEsPRDnpqdjGQB5cXYu3lxpssYKcmv3tuLC5YuxAqBck8Jy+BuwIe9duLwYAwvix7WYZ66a7H9nllhDgJdJBjM9MxM9ePIlehZstpvRT+Nr88BC1llfczZWyb6MWgnors4sxGgD8M1Y9MgTkA628WIF5q5kwpbr+9QtLLznt2HnbsAB+M7ldgNMVRNVgapAVaAqUBWoClQFqgJVgapAVaAqUBX4aChw20278S7DG2l4MC5ePpuAwZd9oYt7Z41PbI8Ls8X/KMM3gQOHxtgzbWU2Ti+24qwbpllaYkW1UjPvpPdaCaEs9737kw8AFwRDgCFEEcxoLvfm4mRV7ySe4fL1fkOCDPf30kOI80HDYDlfwoNoRa+gxGDawpBG+aMXmYky9Dy7DpaKaeFTq+3ecuWZ391Sesd1BMq77/zjfnh6tPUCQa4dYoYUhq4T2mgoqvULKLJUgTBd+97RIy5hFWNYzfbsYfE6K32x1B99OMRuuTJcgVr3zvvr2QP3emtLU+mrbelDmHI5Jx2ApglBaA/wyP7m0flqM7beHsdtO+/sgaVSZO4yf+98TLE2Hobpdejcvu+gBu3DYpmvoqnVPWzB5AbuMWi30/A7H3LHuSWdwvWxZ1/BuXoQMqY/0ZF1OiU79tWl29T7bPhAzfDue+dR5FdXgKLh5MI6C/Cn7d5/DMK9FRuGRlN4hXXu9wC2GqVymsvlgwds0/XbmRe7qC2/DV/OxBFZGq/IIk4+df338DsSdl9rvJxcm29hXIbHYs1xDvFbck27RlwX3XEsEx7tPnWW6R4zwLqLhp+/47jpppvi29/+dvj90x7Vs+6nVa7WqwpUBaoCVYGqQFWgKlAVqApUBaoCVYGPrAJLhA8aQhi4B+Eo9Y4DjzA8c67OHcP/rMAAH/qu/+ZsxFEvOLz2KC/uBQyVc54AIq6XyGL5p8sfLOe538I2AYX//K/YEKpwcS1Y8V0dzEdZH6jlnlzeWNIDCJhxvX42+RP/NH8is7E9fffK8d7vaw/eY7FNH97PgKitOY+Va/5s7zPR1SOLvaNP3fupUxr54/9keZvstNlt2lpFj/fXt0yrWWCsT7t131+ya6OriIU7pd4xNm/m7e6za3PXrf9Oy9c1eefdco6drotg5+E71+dqp01n/V2H7fLR8SzB1LseFuiX4PZd93/yxU9kiJ1x/VF6Jj1s40XH8cdq2W2yuAyWjLW5G2P3gWHLQuXr1+Xs+gLp6tGdkeVOiGuW6+z3J+BL2Oa68HfyHnPdcdhMaikQ7xyZALZ78Wf0XWHdn5HwtdmqQFWgKlAVqApUBaoCVYGqQFWgKlAV+DNUIF/m/4j2f8Kzd7/su4dWCZ/VQhe0/RHW3nP7uqWy+T+4wP/eTyfeU+8nXGqqAzWsr5fSTzzeSSa6zXfqlfLvuuBW13D3+ydavSE3bVn4og9d+jG9tyt/klY6RtSgO7w/SbX3lbEf2LI/AsiubO8r98fcsI5eiq6Jn6Yvwle9xwRrP82aUIrsQ6f/qcmfciAdOVOLHKqi/CltZL3sSIGYf1otrvW703aO64/R/Sc+cj2gp+HYmblXI3/EYUh8t83uULtw0/vl2R9R+QO4XWHdByBqNVkVqApUBaoCVYGqQFWgKlAVqApUBaoCH24Ftm7fSQevI4TrwO06Figv7dfLOCLvbdyyPTZv24FHjvveufdc1+tHSMPR+WM4a77k47rjHnmZKfOdsYCJpzqeddRJONABDJIS62o/+5ZtlzC9tN8BIcIIw0ezUb6okqPKb+4b6inEs0vaM2FCBt3S5dxknzKCChMaaKVADUHRe4FRaSM33WczNHekS7xGvYSE+TgHfs1W9pz+d3Ww/SxRimVHs+/W9ehArhIaTPgkfaNKGW4pkVprxZDV7iH0NJRRGYqGZR4ShmrAo9N2F8JZzrFkgomOrW59LatRr/3hwqyttmmd7A9/LGsiBct67mCci6EB944zmQY1slzpixXpYpkrypsEwT3dPPSW04YhxTk21kgvc+aasXYX6tqM68HC2vbbuTMZQlfbTmv2NoUTPLrkMmGC/cFG0cXqrAXsqYPfPvOwD9eO0kxeOv4cm73CVkJWnpf6ZR1b0GfCbLua/eJai9rXhr+Wblucph2/PbxfkmvkZf6xTtFe3V112NAmn2sHnnqZWAIDud58QAccFVWybLbZ+ZNrjCLa0Lv12BuvFi0IPXZvugy3VZdsw7autfSuk+baDHsbvjsM9l0FfsqLCut+SuFqtapAVaAqUBWoClQFqgJVgapAVaAqUBX46Crwq3/9b+aLvC/lHr6Ly9yuQwXvFxDly35CMx6aMbWHPbYa7GvnvmNrbPKfe14Jdnzxz/C+AkEKF+jAMMCBdQUlxZ423cS+wBZBj1Ql69CusKy0qU328GJPN+3b3W4fLSMo06bApNTVfm/uuzcwQCoJkg5Yt0AZYZ2gAxsdCCEeWclxFACWiTIEIhjrQrMEFtRZpT29xlbZt2sFwOSeagyJNgYkJDxzM373FUMn26GnCZzYM0xskkk9rrWt6tfBkcPXdveeeqQNx2sdHmR9rDKc64ea8MnhcDc1pj1nT7BjX63tvmUF+GivAKrWihlnecY/vwuY6aioALbLfQFntq9wlrYOj50LtbVGP9l2+wcGYhjNcy65l3OLDh6WVWcv7UcL4LkCFNLwIokuHH/uoZdtAP2Gh9HR0GaSjWiCT/bPuRJVek1Z5730yXGVNm3PNaBxMxX7rS5G19qnvlyHBQfZp9TV79SxA//smMe1r6Kx9nJdaJ86qxhFuVLOfnq4AOiwfcs55b7wLgv5O0nFqJ6lSGLCALMZ2vfMflwHimUtai8BMnXMOJtaOGAO73uoR8Jf2ioA2zVodyxXbFqm+3uyuz4xGcah2+9Jm/6e1Mjf5ip735XflXoDV7XDfwJt7Xjx9FM/jNN/+B/og9c37qiw7sZpWS1VBaoCVYGqQFWgKlAVqApUBaoCVYGqwEdEgYHBwYQUCZF4oxd++HLuS3i5J+gQkukhxDneUvkc2NBIUNHxjPIlnbrWF0x0X+IFGt7ra8/yuRSrvSO87JMBtXcYewAdHnahgS/6Qgpf92UaBRLQF0CI0ML2zblgHQtl/wAU6b0EWNBrquuh1gBkODYzg/YBQewPTCrPrZ794p7gxqN0/zoQEe30CnMszOEX3ALoIbRqJHASKg0O9pHNdDH7tEYfyV6Z/Qd7RV9/qbuG55jJOhyX/eh6W+UN/wBA+tF1hT3His4FyNgnQaMMpkAbQCRjXCXDLBu60b8yru6Y27STgIXHjk+vtB7aS+jDWDzUiD/oTGZd06RyqLsykJ+A3vAEkXubC9yx/zaOHZIm9DQG6DvAUVM+sut89zDOfhI+2N4QoK7oW+yWtVIK6oHnIdgisW9qm3OJVisAz1486oRDy2SVSJ0aaEnfGsyh41GIFbKbCo60y+1r9hyjZdVCiJRNcd1j9lk62t/PjCYELeW85x5vDbKd0rtsz3vZeb5yDdNeGQtt09+EYWkT+zRQ6nW/y9pNvdyrMccnmGSNIbPwth+BiwbdVW5fHIKQlLHx7TSlpc79fOqYsn2hqF1kDWAzJdE2ZbXoQXMcjI2bOfSsq8dh0UGderI/tMk66tUOZdIrlvXc73rz9582XYcNfjOYxJgw3nkQmqq1ejaYI7V2vX8QR4V1H4Sq1WZVoCpQFagKVAWqAlWBqkBVoCpQFagKfLgVKO/4pY+8gPtCnlAMINK5mRggoQmgJqFId0SUXV3DK4pXdWGC357ASniPL5CuQKa1GFl9OzY1HyPnBFk8YxBoMRFLMR4LPVui1TMRrRjJ+xKINuCmByLQDa/URjm6cKN7VfbM86oBCBF4lTDQ3hgdGYnR8RF7loUFG4KhLtjzfofd8ECgUoRwnNbwr15meca4u88dv4L4rSeUUKnbP2FZa3mZenqgrQI5gFdDAwmhBgcHgHfFzgDgLutgRy+9fsoJQYRQ1kkvJgGKtpOM0KRd8R5kpNVaTkgotNEjTEBop83QOTc7F7Ozi4CoFWxhk550EzWk5yOkxtwDAhbBnvcEhNpQH0rH6Jkjse6lH+Q4BZCIG6vDo7E2NhEL2w7F4tZDlCp60sMYAuQJLoeGhmJstGRCLZZsI0tmO2prV/04H5q2H47XcfnA0nomOj/CUrO+6lmoXobJzpEMZWF+ib7q9aUXZanjc+cs5w4j1ilrgXsdLS2RSEkvQ+7lPKGFnTl5eTHeODPLvAqguMW8CC+dl53rh2PzBF6T3Ms27Dd9NVurR4YQZ98dX+kFvcv1kzzU/tBeWUNFg/LrsrdOHT3rLZ5+9qsNVXZUZSz+zbO8IxBNmJbzV6Bm+b0CavndpDXHRt/oSla1T2by9Z//2YbwsA/PWE5T/4ScXNhSG22vrX3mT+C4LOnmWIPUlnVCn7sN5BNr3vijwrobr2m1WBWoClQFqgJVgapAVaAqUBWoClQFqgIfcgUEP40+wZAAKskFL+q8iPvhn6/vecZLvgBgZblklPSdXy8owYZv+KVUAUxdJuC7vEBFptHbg+cUSK7RbvI9TarLc6A6ngdwqqcv5nq2xcnG58iAORzNbENo0hsD/UIH+iFVsCGMJ3TCinaLV14J4eNhetPp3TUIJNu+fTPfePF1jr72Vdq9FK3GdgDZMmMcxBo4IMfqCARf9BeM2L9yAU9APmuzcbVxN95s6xIeGUqYHmyCG/q1CsQ4e9ZQwZ5oLjWLVxghmzIqPbwmJidi/frJmBgfi0FgnVDJPdn89t+qXmy0b3iqAEWNBVxFXz27FBdwiReY7WlXDVRCSCM0snB6q6F1kwy+Z89eiDNnLsQ8UGsV+JQeVGkDCET5hC3a4V56VdFuohzGIDzsu3wqBi+fizZ9ScXtAuU97710NpY27om1PjwyuTeCzoODADUWws4dm5jhvjhx7moM4qG12FqJ85fnga54lTGXQsmhATwIAXMDwL1lDCwumXG4GU101NNvaKA3pkaHYnaxFevGhgBFSzGM/XsObo2Lp45Fa2keb0PuLy2kTiUUu+ipd5h4MtAfv0HGxlgEsXpwDq2PocUrMXj0pVhrtTJEtwcI66psHvw4A+uPSwtkE2btlUGvxfAQeZCxuX6qjzmc4BS4yTysoKHAzPrOo+WdS0/tg+DR+RCsOTnLANxWa4E62KauoI5ilAe89eCtKCzt/LOeR1kbeo0KxfxdOo+sUJ47hzTuHb4Am/RlpbUULz7zWALbgcHhhJwDQ8MxtXFLbNq66xqYto/Ou2Hhubfg5ZMxePq1WGsAkIfHYmHHwXj5+Gvx9pm3mMMRAOwI0Fevyf7YuGFHrPWvS4/EEeZxgH7bdz/+Fj+Io8K6D0LVarMqUBWoClQFqgJVgapAVaAqUBWoClQFPtQK6LmVwEZ6ANhZaK3GfHO5eLXxYi8X6CfUbfPUCOMAbfFinjyBB0I8IR/cgPJ47yRoEjZIBKwL1OCjt5L7ummMM59kCUzLDcR1MbA2z712LAJLnnjjakwvLMeejSNx7/51MVDi8LIvwpBL0614/dx8ej7dsWsyRgcLLBgC4hhuKuwS/CwDZdzzrMCpVbz73ojjbz4Xzx8bja/ePxRTk0OxvAbMS28/POCiCaCbjgaArgdAMtsciZMXWvGjow/FrYd3xNZdB4BR67CvRxpQhjJt4M0SYbDCDMc9PDQYS03gCdBMP66J8VEgx1RCLff2c+C97vWH7o4/PZVShwLsnIbukQAN7Tza/VjjFAn5CIoEQz5zDgrA1PtpifEP7u6PIUKAXz/6NiG69sO94VpZbnwIsEW19EnLMWSXMCOo05xzDMzZuDHWsMHAGAW39UbDRv/oaM6zMFdINzIylP1xPzt1fuyFE/Fvv/9yfPLW7XHuykK8ePRifOqOnXH+ylxsmhote9TRz2Eg3wtHL7C2aNf54t7MfDMevGNXvB0zcXlmMfZtXx8Xry7ED18+FV//5IG4cwMwtNWMDRvHCdMlAQLAcHR0LMYnxgjfFKwBD3tnWUtz0ds3gUZAJsosA+uaPeMxuLY9Gru3MB5GRF972V9PILk2viG2Lq7Gp+5bybmdnm8xxp4YQyvDvkeAduPDhDFjX+8+9cx1LZCjnPDVxoV5Arr0dOOZsLYPj7k2dVpXXo/FM0/EyvQJ6nIvQeFgvLV6X6w0NvMbYPU7r1oCMLoOtO3vw3b9Vt/0VExQ57UrjAeUs+z87AyelTNcCrhLX3Yszsa+jYwHD9g2Ia1COQH1GoB8eWUkeq+cifUvPxa9zO/qwHC0pjbG1auX4ijAThDuYeizv+1Dhz4el3oOx/FLAFSg6mTq0hcbxvrjyry63Pijwrobr2m1WBWoClQFqgJVgapAVaAqUBWoClQFqgIfcgXSiy5hAGCAd/PXCAX8wauXM7xSAAFHiU1jA/Ebn9uNl1mBFIIKj/Rw8zShhV5EHoIDDFHG8LkEEPC5hcVmvH25CchaSUAzBGAbzr3OCCfEe67dqe5eXGemm3FhphV7tk7F7l3bYnJyPCFhwiiSEBx99u04dvFCerXt3zwCVBHSDcTI8FC2pxeasZ4mf+ge7sPWv3I+3r66MX77n/92PPbo/vjG1+6MfVsjRodIErF0KZbw5ppbHotLc6Nx6up4PPej5+K1H78UExOjceffvSuGYjSWe9aX8WF4DSAoFBGk6F2kp6FAxX4IbvQeGx0d4RvPM8RtuB8Y/0QglsuD7+5pXqODz1Ji/viPEvm3VFDwAlHKM8GMM4XWeDsNDazhmdgAhm2PR145Fz947mRcxHNtZmkly/36J3fGnhHAJR5VQUKMVfaha/HJc+a3SdipHlmDO/Ci4toxJRBiLGvNZgyNMn73kKPcyDCwR6BEiT5iRg1bPXLyYswv6i3Ym8B099aJOLBrQxw9fYV+L8RpPO3uv2VXvHz0DN5dPbFz4xienY04e3E2hGTTc4vUb8WuzZPxxokLsWn9OP1ox+lLc3FwDK3beoKCtkYnAaIlqYn70Qns7E9/7wb2YVtCIsbEOhTWubAFTqnS2ibmBhuOmfs5fzybWg/A1FtO9iXK5JkegfLVfqBk99CzLeeHte1zzw2tdobS4xJbJsRYIVzUa8NJ1XF49N6YXL89lk58K5pvP8GzZXz/hgDDS7EIqOwCt67tbM+ptj/aT3CH0vTLPtqm3oyG4ArKsw88GGa9jY6MMoI1vBCbGFiNDc3HY3D5YmcIGNUAfZodvCWWeqcoKbz1oK+MKxODeLNzqFGuMX5Tywgy22wD9NtxcRaA68h5vnJmzuo3/Kiw7oZLWg1WBaoCVYGqQFWgKlAVqApUBaoCVYGqwIddAV/Cc480Ouo7vN5VM4QmLgslAFz8jVFgWhOPO7hDwhkBhh5uesQJNQp+KiMt3kAFeugtZCaB9EIiMcBSC8+5FqGGWJ3Bkym9qrCpt97gGN5HU8Wrb2mZfdnsCDCieDYBlPCSM5RyATixQP/0vBtMr0C96qivF5hj4JOheQIOB+SBV9Hgylux3JyPRx59Gci3Eq/++OU4cfw4YaqTCdWaPNMbD+yRob6zM9MJQtICA//xWxF797wYU0OzMTNwPyCyD0gCrKDAivvU6cVFm/ZXqGj4rfu42QdtlH3N0IsW5gk9/vZ/fig++5kHAVb98fSzz8Yn7/84IYeE5aYegCVO3Hfue99/NG6/7ebYvm1L2iiARniiVxdAiG8hiaBMrCcAa602AHbNOLh7U5w4PxN952Zi6fxshqVm4oH56Th06sXsS5tQzC5lafUPxZG990XPwkys4l0V7FHXQ0ixXnSr83PRA/xpLgnv2jFCqCpN4jnG6PjP/QKVW0DpeprBo+/lE5filz99mMXSJpQV2OfgPCh3Bmjn1ccIbxXovnrsIt5xjXj52KW4de+meInvIdbdeuoy5YDdRrRIepEZUynfD1DsGxSE+REOp2Vsg3cGxukL8IxED4bcjuIVJzC1f+ofa46JdeMNDqvmLLnAy3/5neCMG6I4D4tb1j8rALkltBDMFs9Ubvo8ATV91k4bL0/mR81XmJN23+4YvOlXYnn6ZKzhYach520w91t07vIXQ53ym1Eu/svWPU/71smQ6RJqy+hz3QrGx5ivm++4LdZv3AysHYq3T56MM28fpy/Fa8/fsiNxmDkWjKoP/2VDqaXPLeS9JuuV+aV6enYKZQfo66aJoZxP9WkS6twCjs9eJuyZKjf6qLDuRita7VUFqgJVgapAVaAqUBWoClQFqgJVgarAh16BRx7/NnAADyI+d93+gBQuBhfPx1CTUFA8kFb6SNIwsYf7QJomG/sDgfpbZD8FbvXPX4nmnjsJnxstIISXd2GdVEGYVFCDJkuY4wDP3ZPMLJx9QCUPYY8QbnS4L2Y5FwDB4BLKCAa0Y9ipyRPM7Nq1qzdR7tMGVRByWFbYswJwE654nh5J7VZMLj8RPeyR960nZuKF51/J8Fhb1+bO3XtiYmod/ccjbmwsTp04DoAZjh8+/INEG6t4QC3hFfjP//WT8erRm+MXfuWW2HYTCAG9uocgxcQS7u3lIbAR4CwDHWfxFJsg0YWJGrreT2aP/cNvfy/WrVsHYBmNh773SBzYf1P88PEnGMtAfOmLn43zFy7Ec8+9GEfePBZ7du+IP/jR8zFD8ohPf+qT7El3Lk6eOgXEuyWef/4l+rcYX/zS52Lrls1oItVZQ+eBuG3f5pgAqs2wd91/evLN+M6zx4t+SX5AexRtmExA6IjGa8C/PAilbF7GE256NsmNnmJrAMgevle37ERXvMeoyyy7XLDRgUFIsmfLJHPn/nv2QUDWG99/7gT7zBE+zbwPMLlDmSWXihgxHBhsFhsIs3b/O/dBw1zMLTTj0OHt8cbbF5jhtRgncUVv7zzjW2HeBJXZZTrRG4uLS4DO/gyFJWKbeaBPrIfHnnomZmfm8MyciJ/70hcS4uY6prLeY8JN23rr2EkHE/v37UaGMqYyLtVwlHZVAF3Ku0/gAnPx8suvxmeYD4EcvoYJtbIcwNc6zoPrzKMFEZvHu3GhBdwb3RTtmZO5Th17eqCSAVddHZfwS89M6wrj9Mxz7bh3nT8v+2i/XWe25+8LRfAAHIyNm7bG1LqpDAffDOC+cO5MevmZYdd+O4Y+RMp+Ya/F9TL3+S9DcQeEs5znOPwJZ0Guc7mXerbt/otDeByuorvesi1+bx/EUWHdB6FqtVkVqApUBaoCVYGqQFWgKlAVqApUBaoCH2oFnn3psXwxF7Lt3nEIEMBG+nrLNQYBGsXTR0gzcuSp2PDG4ySIIMQRYNIDfFiZ3BQre+/Emck3ej685QsSuoCt7O3GNfemRhqxbRjg4ls/gMjywqJV2+J8UVDBOe/9AA32gQMOCXxM4CCZ0BuOBvBmIqRzfjE9ggaBPkKD8THCNgEHGR6JLYGV3nr2HxPx2olGPPzoBaDYY+zpBYBKBEI59sdbXFyIN4+8FoduvS2OvnkUKLEci4QRWsYQUPsp9DPL6hNPvhKf/+JnGD/ZVlf7MsxRGCXQGxwYTEDk2IUZ6qCH3yJhu4sMamzEcEz0BMYIQ27FW25+bi5Ovn2KPdjWx/d/8Gjs2bMr1gGWHn/8aca5CJh7IE68fTqOHj0WDz/2RHzpC5+J555/IevfcuhAzALTlvHSO3TwQDz77Avxta9+ObXUf6qbHXcT+/KNDTUI9WVPvpwmxmMHKdODV2HvvsPsWwYQe4skA3pg4Y22hgdbm6yrWcGywhtq+MfQzj681DhL8GMIampNOUHr+MhAAtmJkf64be/GePPUFbKsXom79uEZ2IP3JNAIFhXbN4xlUokrs0uAznaGwZot94v37I3/+MQbgLu+3BdtltBYj9y3EOFa7Kdol1awU+amrIn5efcBFCKSRGLMuVgXZ98+Gb/wC1+Lp559Hp1PxKWLV4C5zdR5ZnYhZqZnYvPmzfH9Rx5Nb8reL38h3njjrRgeRqtOptT9+/fF/MJCnDp1Jsd9iOsjR97IrLRXrlyNS0DNI0eOsP6GSLCxPY6+9VZs2rQhpqfngFhLMTkxEbfdcgjPQLws+be6MhHtfb8U83rW4eE4Tcjv//vC6dTFfeDG8EB0+70E2ANlfTv2/ZuGYwygbcKJcuiVVxKPlIQW6ECY8muvvJQ6+HsRuC0szLFWmUrhtj+7PATkrkMhvaCv2FxF2B07tsTI2292i/F74NcJ+Mw1k0uhwHXhuJB2EFgnYPQ8zeRC6TRzA74qrLsBIlYTVYGqQFWgKlAVqApUBaoCVYGqQFWgKvDRUmBsBGjCpv2GdOb7Nn/ajWFe4vH4aQwBWIBh7PvVSzbLQUBB38Q6PJjMBEo4KhvNCZ76V5aiAeABH+TLv5DN8D6BlbljTQTQ38AryBd/3unBaFkvwZUAIF/wgUjUgQGkl5x7vLkn2DJJDVb4LLuxP6BQz6BeNvTPsD/gzCgAMPdLE2IIHvToo8wKkE+wNNC+GDPs2fb9h8iUyRgbHe88AaJljx55PYHGC888TVuAyA4M6XMPvDH2ysvyQA/g1eRYIw5sPIt5qUfxRtIDSkphxk9wVYa+NnqxDUhxrN5fAtjpNeY+ZSCOvD8GEHR8jmnL5k3cI3yVcvOAGUNpLTQHzMNMgiq91Aboy7a9m+P8+UuxYcN6QoPPxK6d22Pr5o1xnj387DuRo3hxKQXad4CnoandcdlvbUpYeiaZy/23xtprzwFsCmvRj6yns9ef0NZ+FN8yhyyoG2D+3e9NiKknmGMX+gDQGI/eY7NL7AGIwU3rRuM7zxzjeTuuzOGVid7OwRH2ojNE9/jZK3H6wkxqY+tDjHuB+uOAzW3APNfFXvYtfOOM2WWBunqbQXhNgCH4FCAZppnJOiis1kNkQrVP9nmOOfuDb/6n3M9ucWEpjrz+Ztx88KZ4+pnnyZS7CCBbiaGR4QRqjmd6ZhY4+nZs3rQRgLgSm4Cor1PnldeOxCc+cW88+cSzcR6vxg0bN+TnMqDu9/7dH5CBl/BgvNjuu/fu9HLcf9PeePKpH8X9n7gvXn7l1Ti4fx+JTvytsGZa07F8/tlot/Bctf98DJN137pFdJxhvz9u5di7YG4AGL6JJA7jQFf31TMsOcsgunX1qmvgLWfyi9deeiEh9xpzIVRdT6IQf4fOh9CugX7qmgYyjF3s6tz6h/UjVNQ+GpooOe+zDEirm9B9hTk8c2UxzpH4oxdD7sknlG8BP4sN7dy4o8K6G6dltVQVqApUBaoCVYGqQFWgKlAVqApUBaoCHxEFRkfH8UybBPaczXdtX9KX+8ej1Yt3mVAnjw4c4CV+FSjhu3sPYKWdGU/bse7MG7Hj6DNZXC+dbjile121hsbizcOfxiMICNR5uU9YkHYhBPwneBAm+NLPNllsXg/8EYJ53VxknzQ3yheuGfK4CDMCugEJhDJjhHkW8JAGE0SURA+G5QGA2qdicpg6tHP7XXcDwvrTo2366hXsrCYQ0xtu285dsWfv3jj6xhtx7OjR+PxXvhL79h+IF597jlDZ3fGdb/4B3mns1TbMvnlkF/XIUErqmgHUUFH3alvB8ythEs+FSH2ARTOm6h1l0lC99Ax9ve9jd8b4+BigaDwuXrrMnnRb44knniZsdiE+/eD9cenKlXjphR/Hx+/7WNxzz+2EN26Mc4Ci7Vu3xMb16wmhnUhI2WT/vvHx8bjt5kOph0DI+TFU9NyV+fj9R8jqyfUbpy7zV0WEM+rO5/gbsXwCLyrHwLWhutl34I5z0vZPp073jFp4EhrGjGchE5ygLsuzNvhuArncc/B3Hj1SpoUymnn1xMUEsWxZGFdmm3GU/giFVtBM2yN4lAkX5wk5PrCjZIFdGeuJzSSYOE9m2A3jJA+5ZEZbeo+NAVzDZInuRdcHYNKLUYjc20+4LrqboVWvtr/0F36ZfQkn4szZC4xaaMUCo+JBoN0cHnMvv/JarJuaJAGKGX17AZ+EDpOsotE/mJl8LxCOrC0dQmeApzt3biO0diYG8ORcAnJr2z38hslKO0F7U8yn9c0CvHPX9ngTb80EyIwxISIAvH9yb6xtuiWWLwAy8RB0ztaPDaU+jmPdxDBQcy0uTwPAGW/CNID1lrPHogHwzZ0PAaVrrDsTWSwTfn26QcIN6pT5cD87x2kWYMoL9DCCvJLyBKvdEFrnwzm1DVd1P7TcEOpMMuFPy39OUK4NAKnlhX/cE9j3Eiqv5y3/w0ChG39UWHfjNa0WqwJVgapAVaAqUBWoClQFqgJVgapAVeBDrsCFLqTjjVxPpcw2yes7KAa4RqZJPMGkKb7sN/FU0ptKqqCX1NrIugQ2QpA8gA4N7uP+c+263UM6CTyY2n16ngkm3imIFKBz6CkFfBAbwCuCSNgsb388VoBAQ4RGCrMuzDQTOOh9R4/5AIoAEr1JEqQJ9hfg1F6M9uK5eOHHb6f3k56tw5H5AAAxhUlEQVRqD37ms3HyxAn29VqXkEcAduXSRbK2kk0U6LVu46bYf+hw7NqzJ65evpzebisAyhbeU4vLQzG70I6NY9+PK2t34nk4WSAd49OLSQ+/9Eqyw5JK+jU6Osxm/IQKChdzLGtk6xyOu+68zVJAR7ym8NQS0nz1K1/Me8IRQd7e3TvzvoBv0wMbElRpX7jjMQ70c168npoifJnbAkOhkIkDvC9Ye/q103H+agGWapN75/GsB41610oSEburJ52QRwAjiBOuelCSf+Xc9u1z3uG5UND+2kfXzwJedQK1QcaTYczUp5ks45y6J537t7l/mnM0RdhsC4q0hDvg1FgfiTzOA/zwCqPckbcvpZ5NgNbI4AB6k7CBOu53OADcsy/qO8Bebf14HgoQ3QOxl6y7fSTruPfe+wjTHKHxRmxhP79DB/fHlSvT8eCDDyT4PHPmXDyA99sUwO3Jp57Fw2+QffIO4J0nrGrgzYc3G9lVbwaEPv30j+Kzn/5k3Hz4YDz19LNxEe/Ge++5O3YzR48++nisA6DuAuSpdz+g7/Dhw/RFKLg/94+zr4aOrl+3PhOULEwdjp5Lr8f4j2do52LcTaKNdQBJgeGGiZEYJxT30sw8n6V48Y2zCak3X3k9JppznZlA185vY5m+ntn4MX45zp97+gm7mUfaL56fZQ6s6Cw6rTm/rMmErjnHzlEP4HI8trDvnSHl7umYNfydUcm1VdZJ57YT2+mNa+SDOCqs+yBUrTarAlWBqkBVoCpQFagKVAWqAlWBqkBV4EOtwPrJDcCjMTxwmgmbepfLS7egTo+ZElLIKzlAoI2Xzlq7GasAhURowyZ+IAQOuHIRD695vlu80M/xbfir0K4xgrcV+6pNNnzxF18JGYA7wppEPgUelJBKMn6m+08WBQ6wpxzeT0KCFl58ejgtG7JLXwU4DaCN3mtaFTLlfmvwA0FVH9CwB1D3+nTED598jZBR9kbDe+oPfvd3MuxXwDM4MMT9ZsKet08eB+Idp715QN76ePrJJ9LzTuCxtDgP3GjHhUuL8a++eTm+8NkdsfMm4VRBFXovjZKcwhBbiie0sg9Cn6kJgBrn8+xBN0p4px6BMTCciEPoVTb9RxMZJ3oJUiRbZY8wnqPHWiYEMHzWPeUokOBEjaiUMyGgK2HHqqHdEfbzu2XPxlj/i3fH5OhA/OuHXs26zmeGj2ZD1le9AlFt2tBhIZ4TdQ3Sdc9pQ9CnJ1sv4EmvsOI9SAHa9BA6aochZ7hmCcu9hnMT1An6DN8cB7gtkE1UwKannKDLdgeEbdgbImkBSwl7q2Q3bcS08Bhoa7hyX5+htwU2CXkzSy7hyf3Y6u9l3VLn1ltuyrHq9Wi/7ieUtQhMiO76qbjt1kN0u8BgQWlnCDkO/yjD1NRU3v/qz30JW6jNevsM0C5hMDcEcl/5OSArfRGO6gdnuQP792KhJ27atyfre8+TNebfvvSQuGVo0+1x2+2zcfvpH7O/36bUVOjs3nTr2IdRL8dJvl8nq+48YeZ6IdqOpjxYDYoDWO+JCSKTB3MvQaE1c0QbJl4xZJmA6m6Fa30RHveh1yBaF1tpinp9sX79ulI+H9CaE4pMtqwmdsPxuB7zmePi2QdxVFj3QahabVYFqgJVgapAVaAqUBWoClQFqgJVgarAh1qByzOXCe+b5rW/wAbZRXnt5vU7gR3v47yhGyqq4xqPi8eV7+nCCe6fZf+vY5dnYgHQsA6Qs2pZXuD7+UwADNb49AmpOPTMef9rfecZX12QkzCA8gN4NwkoitcdgAfvt4nROaBCM8u6h1dmYgWUCbaEKGabZTs99kabjm/+3kPx5htvxgrA8CqhpePAF7O+Chpmrl6NbTt2JAjsA/hcJORx5+69sWP3LqAQgJEEDN//7nfZ92tTnDl9mvDH6XjoOz+IT94xFsOro7HUc1v2YWhoKPURkMBJgFl4CdIXk16Irr773Yfipr0748hrr8c9d94SF6fn2XfuIjDpEOGvW+LxJ56K22+9Be+vTWSEfTq2bi1eYIIQYd5bZIR9As+vX/j5L+VeaMKe++67B5A0GS+++HJ6Xd126+H4znd/QJuDQKjD8QwJJz5x/ydi+6aJ+Ozde+PFoxcyFHUZILbSA0pljjpTUr6ZFPcnZLJzTp0rJOLaMw4unO8eMwGzLtpreJ4NMk4gbhbzGYNPry7qWJb/EsxaHb6T60F99K5rEirrOhHajQDlBLKD7Ie3zHeTMOhFARu23VdO+5N40F0GJDZJ2iCMEhK6daCZetN7jMZyf0EA4hAJQFpLeKmxiAaG9D6kb/0jwFQSR9CTZUKrBY72MT0yAVSDzGHutcgPwLXnM7XK8XOuLfu7sgLs9DyhJo/Rxflo49GWXqnU9TcBjuOZ+9ShJ2PU19R1aqhuPz+k3jUyLS/TT2Cx7ajPBPsaTs832ctvJnq3Bgk2yLYqHeMYJ2FH36Kep92DfuQpOvM9AhUVcvY6h71icKeMEp2+W4hTp7d85/PiZel4bd+HFy5cjnMXLnJa2s05T0HK/DtGLz1MDtPgB11Kdm6WRzfsbxnjDTNXDVUFqgJVgapAVaAqUBWoClQFqgJVgapAVeDDr4Ahi8uAhvzWi6vzkp7YTGCCdxu0IV/wu6/l11/Oywv8GLBiI15km4AL6ejGsPWMGuH+EDcEF+KABHVWTgNiufKCr12hgN5owik31Mdxi3rCFAEcHnuEoQo23FtsDjioh5pt6bW3SFKCxcVlzg2nxPOKcQg5JvAabAgPsSvgMfTVrJ3j7C22gY33123YwPlkDBOW2iLU1QyaJm64eP58XCEE9gpwb/vOXXH2zOnc506Ntm1ZH3ftX4mBNRI6EEIqKFoFwgipltivTr6jB+AA7ejVdPT4CSDfLOBvKl58+bV46/jpeOmlV+L+j99LooMfxanTZ+Ott06SVfRyZhx98aUfA/LOA55KognB0HngySOPPcn+akcYG22j8/PPvxiXqfMoWWLfOnacvffm4zLZSQ3pXLduKnbv2kmZF9hnrz9u3rMpfu1Lt8e+beuyfzmZOQllJp2G9JKiLXXPEGiXbudx9ztnC+Bl+3oNCqkG8Y7rAxRl/ZxlV46zDcTC3iAGhX7lXvH6WwKoado91rI97AjNFsiam6G31PO5pYR3zCDeZv3pVWeCC6hgDmGYvQAnCdscZ8wjJooYHwFsHiVb8HJ856FH4uy5i2TP/XF8+zsPky33+VxjV69cjn/zb38fvRbjlVdej//0n7/H92u0Vg7XjYkynE8z7doRgduyezWyhjLMFM8+D5NKtCzD4dpYxHuyTZIH11HT/Rypt7iwSBbhp+Pc+Qvx+JPPZh0BZwNYt3juufjRc8/HMbLlXiUBh2t5CVfCBdaRSRzmCCnWc1UdewgB7noB5jzwJ6cHcQWQA/we+vWsU2sF51A/lez3NwjDU2sfuUYLuGNcnPs7tL5elUdffyvOnDtPmU4oe1riT9otNrPdtO91x2i33A3+rp51N1jQaq4qUBWoClQFqgJVgapAVaAqUBWoClQFPvwK+KKuF5wv4EKt1Q5Ised5FyDlK7n7Y7nrnOGlxb8uC2S43RTAZvc6vNUkAB66T3HeA8Bo6i2Ul4RX5nMQAu1pu/vSbxXhjo8X2djM8Eof9nX2oEsvJoEFBYR28IsMd1w3NpjtpGcTzzJ0FFv9wB9h165Nq/GZB++M40ePJmw7+sbr6X2n8ewK369KL+wIdUZHRuKZJ5+EBdEX+j7MtRBmfnY2KYe9Xo3+ONO6LTazX12sAUdQZQlIY+ZYy3qYYdREFsKdlx57Nfee27RpU4ZEjuEZaIKJHzz6WJw9ez524Fl386H9Cdv+8NvfIxPphoRz5wFNbx0/zh5i6/CUuzmzdJpc4siRN+L48ZNkkN0Qv/d73yQ8dAioeJW9/OYS0rwOrHI4etd99/uPxOc/95nsx/ZNY/GFe/fEDCBQHfWqY1qyrH32RMjTWMFjEfjoHJWnjtr5Keshw6G97oBdIZtHDj3tagjbNLAKnc2QWp5rw0+TydOWoa8CWveFMxQ2Q3MpMAd0nQXa5ZrkuSG99kVoaair8Mp6Uie9LYeYo1Gg3capMZJ7LOV6bK0NkqiEvfBiKF5585X47KceiH/0W/+M/egOsd/c8/H60RMZuv36WydI2LE19uzZTd8SO2F3LV768atkgT1KuG0rPve5T+d+dmaaveuuO/B8fJIkIyPxwAP3xcOP/DDXyec/++l46pln4+r0LCHSD8YLL71K0pCL7Hc3GjfdtCf+5f/zO/HFL3wmYe5rr74Zh29hv7qhqRjafG9s3HwCnY5kZtxLMwvAv3bu+3f64mzs2jIZ07NkCAbe9UwAPVlPzpGKp56cCMC90cDbUX3UxcQpHj4SPjpFhgevMjZ/mmVe/QJI8ptXTorlJM7PzqdnaimjhevHml50ujPyvwE005kzTjSQvbpe9kadVVh3o5SsdqoCVYGqQFWgKlAVqApUBaoCVYGqQFXgo6PAO97H13h5F1b46u0LeR5AOl/MffMX2xng19/BBQIVQz/dt6sLyrIOL+9pQ3BQsMK1MFgN0UTe12wpV+waCtlPCJ97kQkYBEGCOpM3GJY6CvzoJ9x1AI+1JaDSqcvuZ5ctZj8yZA+j6Z1nX8mcece+VvzFv/ZX4qnHn4pLeDcJPHoBeTZsUoINGzZmMokZvN9MJKEX3VXCY4u3HB6HNDDJHnbu1TZAAoLb7rqHDf9b8eVNJDdok011zeQQQiQwXu4ZliMsnnHc371zOyBO2CdsEabg8UfG0MnJcUAbUI86emCZ3OGT99+bnnbuyyaIMsx1lAQHHrkfGXoK8wQ2hsqqw1uAu7femsk+3HTT3pwLPRTPnrtE2c3pvbaEx9YY++XdvHtjHCVBQWMmiU1q/8450P3K+ewCNkdSZsg5c9K4znBjvM96gK/0w/EUkIau1LUtDWdN59H54dpDhOQ6YTs9DsFnpDedj92fbYkssXp2rlDPIprPdYg2MwvNtC86FNgtkSG431BWPD/1PBNC6fXm55bD+4GJrQSmtxw6kICzHz2fx4vNzLt6ap6/cB4vyc1Z99/9+2/G137+y/EUocYb8LZcWFyI7Tu2xihQ7jVCly/g2fi5z34qHvr+wxm+rOec83cZWxMkAnnpx6+kh+OO7dvj1SOvp2fkg5/8BB58/y5uAZreecdt8eUvfoFQ5mfSC3Lfwf0AseXoHRwFFO4gxPdEvESYsmtNUCxg4yuOnb4C4GMtMLb2xrFrQDvFUZrUR6FQUI8+iVtq3X3AJVquuUmk3z7uPDfBhDq4u5/2BKI4tJa9JDvQGcs8KnVLfdYp/zI8XkPU0ZxM/YM6Kqz7oJStdqsCVYGqQFWgKlAVqApUBaoCVYGqQFXgQ6uAcKTN+3rut5UUAPBBb913q4CSsidZJjbIUVCecmCnzou/N3lbv04C8sVf3FIYgXvIgWV63XssX/XTin/a0hhf9PmsruG5hw0TEpg101BEQyh9aHheljEUEegi1PPTPfrdIw5b9lFvNgGF0KlBAomxwfl44MEvxee/+nX2Kmuyb91l9p87FbfecSegjM33qSdsS6hhawC+BUIXzQR75dKlmJuZiTHCZqfI9rkR+OV+dy+/8KN4+9hLsWUDCSP6p9KOHTQcVMjiuXqO4fH18fvujt/53d+Phfm5+AweXlOTYxnGe+yt42QivZdw0sG45ZabE7xN4R02PW0yAPb+WzcZk0A9921bAUD9tV/7i7FzxzaeX1WK9LYbIOvonj274jY8tbZv2woUXAih4+HDB+N73304PkGmU0GOWWqH2c9sfHgwpsYBhPOJYHK2k4g5d9kqoAgQlfPeuWNf1KY8xxy6OkhXiXb1avR5SfRR4I7TanKS21dOxuW+ybjYMxFN9rgTwoICE5A1AVNa9aMnpHvXyZzkqMM5h4YTC/9Eeu73Vvawc9+4jsR4vpVw5/Q2o65hos5leY49TmZn51gXbeDmlrj7bkKB9+6Ok2+fTI/E6avTcQWvyQWSmGzdvCm+8uUvsL564gcPPxYvv/wKUHUCr8jdCe02kHThwP492X8z9e7etSO1vsA+hyuAsu3bt6YX3b69+4B4V3P/wTFAq9K5V92zz71EqDNhyus3xhzea2ut6ViaPhlHXm/FmYtz6eFW1g6/C6EbF4uAOg/10ZDjTDzG43I4Ui4Ab32sW9tqC9y9R1mLlbkjfDefYZZ7PQrtPPhLxkRCV24ldDPsPQ9te9iutTylUOrv75h6/m9EUdunH8hRYd0HIms1WhWoClQFqgJVgapAVaAqUBWoClQFqgIfZgWEG+5PZXCiiRmEZOVVXLDCXcCBL/WDhLMKxHyFz3d9X+I5lytc52a+zDtaQAHv96Wczw21K9DFp90jcUAHKugdNWxf+GeIpNBNLyNhgozA/d8S9XEjQyi5b98EDW7gn+iH8wIE6TuQa6AXENNaix987/tx+PZ7Y8++ffGv/sk/jhkAzf7DN6d31r/4rf87Dt18c3z1G78SLz77bDz2/Yfir/7GfxV7DxyIXftuildeeD5efO5H8ZVf/HomIXj+6SczEcXZnuEYPdmO2z8+gX6nEijmeBhci7DFWFskEcZwjAP3fgGvLcXaT0ikZTZu7Il9hF4WnSM2k1jCAo5lPVAwoQscRC9AvadMWPGxu+/i+Vrce+/dWS7hIrpMsl+bUEmN7wFGqcASUPL2Ow4Dl3ZTFu0gYFf5nDw/DbTBe9HN/spE0VaqmnNlW2zOFj3CUQ4v82854RRPOcJ7dfUS3yRUQnmhnedCVUNSzfR7z+pb8esLT8UyZf+P0S/H6d5JPObY346KK5ZNy8wztgW0emcKYIekdc47/Ztb0nuv9NQ1JuxrAxPNGNzks0AiigblJ8ZGct32sUZ6e/tzj0DBZi97B27etDHeBIzqGbcOT0W96X7jr/8V4Oa22IXX46t4zt3/8Y/hpTeQnnhC6iH2G7ybkFfDom8+fCC2bd+S4PSLn/ssYbNH2B9vNMGpsqytHY6DB/czP3fEqTNnY8+ubcC9QTzuRuOXfunnKb8lvvaVL8UVQmT7rw7GTQcO5rybFXZl7nRcPr+cMFs9/H358ReoJ6Nhp06CMySi9Kflt56M+cOzA1z7JTx3L0FhqFljMwEH53oUOsfOl/XVs9Tx94s1beWd4jnLRGJfK97kr/3onKZnKH1KL8tSLct1Tq1xw48K6264pNVgVaAqUBWoClQFqgJVgapAVaAqUBWoCnzYFdi4YVOcv3iudJO3br3UfJn3U17xeTnnTd9X+86bfj5ObxxuGeaYe7XxUl8e8M39XimeVbgroGkQNplv/Vx7aF3wIAzwagU3vBagZNZEEUBDedIKYMaQ0GUSS+i9JKxyHzxhk+jOJgx5FV6UPsCapDochpb2LZ+JmcXBeOShh8kIezx+5S//lTj21tGEF3PT0+lB9+aRIxleaxvf/Y/fjJdffCFuvv22+NLXfjGm8a77l//0H8fs9Ezc/6lP4zF1Mf7pP/rNTCrwt//bXyXRRMTMWklMMTAxmB6FenvNk+yh2d/Ei26U/c368bLanFDqnRIJFxPO0Pfi/aQKBcQkhHQQHf3ylLGrv2AyhfRZkpcCvAzt5VbWMfnDnbffmtfaylBlvLMO7tyA19pqXLl63JKpfbGhTebRidZDywts596CdDrteo+jzXyYdbcHELYMnJP1mCE1wSIVRxlvzgdlLzZGY8fqbBxYPRMPLL8e3xq6F3iHNyJ1Mm+Ja0fjtJUZfGmrxYLqJ6NpizUgnBuwAZ4PDbgIaQCQ5JiEUXoBXmWft7Grs7n33RBA+RBehW3qj44Opj69hO3ee8+deS4MdLx79+5hTCS/IKz53o/d7bCuzwHPb9q/L9YBQc087NzoRWd5dXf/QLuhnVvxaCywM2LHju2Ezm5PWzuzfMThgzdlWfcwnJhhX0MSnozobZcNMnjWqOs0RWRM2lIPx91gLlzv2RaozTp6ovJflsvuZGv2iv4YVmv2Wc8p41h7mcsMjRW+cU8p/c1kOzYLFhSSW8dfPbey7cLVr69LO2E3s6+eUANTnaPU716999v/M+BnOSqs+1nUq3WrAlWBqkBVoCpQFagKVAWqAlWBqkBV4COpwMEDh6/BOvcAGwNudF+/hXXp3JPggBBD3tAz+QIjTc8fvk0kkKGRhSIUcuDrv9d8p7cWUCDf9gVO5Ubndb/zyp9lCyjIWhRbWhYy4R03ANyhT3rWeS0lGAQoCpaEGmYULbCugIgsoHXaWlqbiLMz85l8YfX4sbh08QJeb63M/qon1fmzR8kiu5DwwiyrZvxcJNvs6ZMn6edaHHnl5bhw7hxJADYTCjsZz+FVNwvk20rI486JMzE48XFI1RBdKnv3jQwPJMhy7zaHZDZSjw1kLJWUwNPKwTPHmfooCWde+y2IEtB4owvtijzCvaJRPreI2nNPcKQGngsA3f+u2MZQR3O968ZHScSwcX0MAg/ToypJWTaVbVuvh5Db7vyXJ5jKA+M07PTZfoY220/adR66dYbx7jJT7zzJHV7t2xy7Vmbi5xYJKQVqzjWG46Heu2KRSEv7nEuBuk1SkgpdBUdDA8wtGmhTyNhkfseHDONtEPa6DKwUFrEGGM8K5VtLy4S1no9l9rAbwZPRDLH98xdYQHiVDY0nVDThgtr09I/wzZp2nzvXD989vax39xJkbdkHE6wYqjpI2LBj5Fb2JSeIdpdJhkEpgLEehoJSdLcQR3qC8lQYlqGjPHMchpo7V+Njw4RZkyW2DUS7+lq0zj9N/duzrn8ylBhT2rS9BGTY04Z949a1g8vuT4l7PGGPPlKiZJlcD4yvwX6IDUPE6aeHX/6GPfTayzlzHLTnqBIJ4mVLj9Nk+epUyFqM16EmsLO+fXBNdGxlmXf/cV/Fn+WosO5nUa/WrQpUBaoCVYGqQFWgKlAVqApUBaoCVYGPpAIPfPxT8ejjP8i+DwDFVoQZXPnxry/0Zkb1WqcuwYNOTr6p+7IuGGgUtxuu8kZ+iVR6k+zoeYW3Vh+VhRAcxWMrXXW4yld+gAJADmiiZ1/uN4cH2BheWoKDJiBmYX4+Jglj1DOpp2cm9zhL7yssJODi2xDe4q1Wer40cGsMsA/c9h27Yp494zZt2Rb7Dx2K3fv2xgaysz77xOMAkkbcdPAg7dOuIZ4c7mGmZ5JttvC4u+e+T8TUunWxjhDV2+++Ow5sW42d29cDn/DiAirqcSTsM8mEnm+eJ1TqISkCdvX4EmIlNIKyNNwrz7BPzsFj9B+YxHUDEmIAqpoKaNQm9edcECSnyts8cczqqUeheglkVrEhPE02w7OO3PltUobsH+WbZK8d5juNdQth03mh44pXzrMH/MnD/tCkCTHKlNFmdoG79r3M7brxodjc14y/sPR0rGs3o48Rja0tx6sDm+Le5ol4rrEnlhvrcv5cXdkkg9K6c6cnmGGyCfMcN/cHAHM4LOY6mpudBpShGp59xQlUL8yeuHxlJs6ev4JOEet6jseWsYUYntobvf0ALLz5or0U7dF9WGtEY4F9/wj31Xovc2GG26XBqbg8R3+pPz3XivERIBN2XVNTI33Rmp+NJtlmF4C5/h4MFXXI23bsiJG5S9E7Px09rJ815j4FBIK1t9F+6+1Ya56PuUunork4S4t4DLbIuDpzPFaXlhI2X4Oy1PR3k4PuTLQrQF0ajDeheOcxt1Izi6vdIDXNrKtu3uiByrEUyjkedy4XL33uvLnWLJpgmft6uZbsvfSABzy6Zt8r61meqea5q5Y5yxv5lHMfvP8YHh5+/80/xZ0K6/4UYtWiVYGqQFWgKlAVqApUBaoCVYGqQFWgKvBfhgK/8JVfiv/9//yHDKbzei4k4NPA+6cXyNLu0dPOcL0OrIPU+NLvq7z3DFMVXpRb3MgX+GJNx61iTixSahUEwAPK6aWjZ05PevkAJDp1RTfChZYhsACSxtRUAqZ+gM/w8FBMjhSoZlKChSXAGIWFPAkisDHAJmgCLFzyYt/+/fE3/4f/kdDUudjCPmX//f/096KfpA566h285Za47/5Pxic+/en0tvvqL38jTr19kiQSJHYA4t182+3xV//Gb8SDn/t8tq9n34MP3hWf2XckeiduRhXCJNvzCXSKHgWA6J0l5BFgzZLw4dixldi4YV30t4A1V89G/7b9sca+aMskTxhA49bZY7E2sSlGh/DumrkMQBmKFcDpWj82CB9ebc4wFgAfIvfwbLFnY5w5e5691ciKC0zcSAZT4d7Y2CjtEpq7QOZcYNPoUD9AqxGLeIPNLTbjwmXCcxfnYoVst5Od6UhwyvwZYimsMatoHjaWLfrdnTvnCwhFWzmflBesCa284yFY2xcXYr53KE421sfnm2/FIB5ss72j8fLQ7mj1DKALzbBk3NvO9SFo1BvN8GetDDN/be71AdEuzjdzrXThZYY3Q9Ss53LpQkKvWy3WLClNZ2fPx+DFF2Jh/PUM62WSXFHRWv/FaF1iT7pnv82WgnhUol0vnpur6zbH8Y/9avzuD0/EPPvgLWJH0JV762H4l+6cipMvPhrzszOZQVjvyzXIqZlnf/7rvxI7Xnk0Bo++FA3WlW2pW2NyXcx95ddjavmh6Fs4lh51CcM6SpWRMs9MmGMu6vntP9X0L53oHNf2+XPQHOp17eBWH+0K24XD7QZz4qRQ1tLueVh6VSCwv+iE2j3UMaMuhURt7QS91LFS9yhm8iqhYcL8RI7ZRx+o7fURZNFrf8zg/LMcFdb9LOrVulWBqkBVoCpQFagKVAWqAlWBqkBVoCrwkVRg39798Utf+9X4D9/63ey/kMR3dSGOoM79v/T/WgKMsQtYQgI97LIQBbOcUCHpiRXLs/K+X970+6ByevLkhvk+7gANTileSnYBnZ5pAwCXlX6hG/uwAR/cm2xQDx3a0OttsbOfWQk3NIECXk6QQa/1zMvssECqnpVmNJZPxvlTzXj8safi2JtvZEbYEaDWxOQU8G57bCYBwAvPPJvZWA3Z+8Zf+svRBOJ86/d+J0NeL5w/H0/98IclMyyw5osPbo2/8Imb4wqgrofQTo/MUEu/hYYJQSAf7rtWvJh6Y5pQ3Pn5pRh489noe/Lb0f75X4+ldduAS60YmrkYq7/7W7F8x4OxdQ1vsAtnUKQ35jZsjJlteHq1jhc4ljI5JwNxYvDr8UPGIzxSbgFWP15ddz/w2bjSHo9vvXAh2x4e7CNkuC/mF1vpwbUKQPzaXZviY33GoVJPmENdbXgIkNaWgWMeEpt3zinnjqcB3JLuGEqKi2BCoeJ1xT2rEea5a/VqvNrYHJNtQjO5qbfmjtVL8e/7Ph5X24Q1U1845B/nTE8veCKts3edECzBa+BZ2YhBPMQEnz6zBSFqPzDPdVH2V4THUceQ1n5cPlMmwGbz8uloTZ9O+zZl5xaWd0EySXTx4vNcM9ocOPO2ZTZmDi7EqUuzQE0SPuQCzyoFuM4vkMF1LpaAdGqop6fJNOz7Ci5/Kwvz0cO67AUIp2401iaj8DxQdLh3nkTIzeyXI7h2pFhCL5WgL51HwsfVDE/OzqWm1jEzrt58OSdcd9TuzCHrHhtCOZuwX/yXfRGjuR9gF3o5H67TFRocsBw2+zlfpZ4QzzBZAa92UnHLeMa1wDS9Qd3Urtth2rUx23zv8Y1vfIM5KmD9vc/+pNfdfv9Jy9dyVYGqQFWgKlAVqApUBaoCVYGqQFWgKlAV+C9Cgb/73/29+OYf/j5hfnjS9blnlaACOOAbOy/hvtx7yit6Hpzm4ft5F0jlPa59tc/C+cxzmQyv++96mae0FSxjDV78044AgP+WWoSVwgB6IQfuo5eb5QMVDBUVhmmrbLZPbc6FOwIcmxhm3zizYiawwAtt/dByjDRm4uUXnosL59nLDNAg6Glga23tGc4BFLSRYY32NO0BYABphpgmhKDNQSEVYGLblqkYarRjcvXpWFz7FABjnJwMhj6WvhRPM73U6Ayfrh7ut7Z08WIMnj4Tc6dPQ0bGypgJhVwD8qwQprvcuxIjQB91WSUT6TJZXdea85hWrHK0e7DTXgAYLaXXnnot0746CTJn2v1xYXoxC6utuur4KJLTc7EJFcMX0SayHbX3RGSU80BSAg8BzfWD0lxap5Wz6WUJP20ASleFW6VInKPtb8XhmB1YjW80nwMKNeLbw4fj1pWz8UDzSHy3n8QXZGwVCgnF7F/30H7CJIxlnxeAYtxcwtvt4vR8zkeBoawB5s1kHkIs16dy9wIFDSnGXQ5Ldrj4r9k5bfesLrGGpyRfgFzBqvWwhYdcn15pakVBbQm5eKIVru0PIc50SliXHwBy0Zb2MnS4s8ZzPFkr1+Ua3Etdbd9+lMNv7/nL6N5lHTIm5yEP6nT3hbR9PRFxq+w840t3OI5umR48YT23x65l63ith2m3DWGbYb6GUw8Yls4T94P00MvVgbuWl1eFgl56k6M0lV9as+kcIfoyEejg/1J0CpUaCVX/zt/5O52rn/7rmh4/vYlasypQFagKVAWqAlWBqkBVoCpQFagKVAWqAh89BfSu+/v/6z8s0CMxBS/hvKhnAgOGsybg4r09P1z7Wu6Lvy/SwhL3sUsg0Xlfzxf5rEdZLhqERmqreyQgEgb4sAMdzAbrvldyH28LGkAINJSUgsydQ0AIIBseZLY5rDedQAPA4ce9twbxJLPtZcIYMzusDfaPx+5tw+w3t5H63qCdDnQR4QhcWkCxJp5QC3hILS4aKkqYo82rQf7TO0kgFzGy8baY690bV+OOaMZ6igCtAB5L7j+mlxVhjUIk22gS5rq4YEIB9otjYARpapT/3GdOSCIcwZNNzzH6sYIno48VusjlhT3uHEKRTNXJ/e7Y+Wb42d+ESrAjQaHQCR5VzKkn/1TSeUsISV860ndaQBf61ZvjtF1qZMMa6RiyG/TByxUo1ErqWLK2qqVtvnV2luQSw8CvQVJMtOOZwW3x0OAdcaZ/fWxZJuEGbbjX4EJ6R7I26Hyf84fpTFbSGYv3umtBaHv6Ih5qzH0fe8y5/559Sy80yJPgVdgm/vJeTx9emF2wZZ95kgewbo3nWdlB5EHPgXU5KDXitnPRLZbnLhz6bZkVoKvh0I7XNecaFNbpoShAVl8Kdi1zWtoWcuWZ9v1YKstb1HWYVbKmtb3u3svSXtCeN/33jodZsUEf+niml6f9TE88zv3NpEde2qR/LoLOYXBsP4k7HGPetg2ObkIKr3xmpxyv//lby2//2I936Gjd7vGbv/mbsW/fvu7lT/3tuqhHVaAqUBWoClQFqgJVgapAVaAqUBWoClQF/lwq8Gt/8W/Er3zj6wlNhGSCjxKu6pUQRJhSpEnIxkt8F+Z1y10DTIALi2Zx6IeAo0eg0XnBLyBOW77wCwGAVp5BDFq41OmdJiSwfi8QZhgvM0MdF/A+E3wJV3Ckyz5lVk+oTpOsoGlOOwKEBBbsx0WA4FAvXmuEtna5gvxB+11op6tRogfuGbY3MjoWA+yN5952QorsC4MTxJyf7osfHNkeR88QntsFH9xPGIldwaXltOcA/BYA2Za9UYM19oUTYJrQYo49+QRI2WcBnoP2j+MHtHikrc6ZfR8ZYs89POmuef7lMwAaOiwCCG3FI2Fm55l3nFW90HIeHD/grXtk+153POs0kWDLxm20mEwPrBwf41lBANvs7hdokYtXFwjJ7YlxkoMsEyYL2oqxnhYhsQvx6ODhWOWe5fzYU//lXnXeoC21ErgZ/qr3nbZXgXN61jl//XhNOvYESt7QDgsnk2cIzLi30nYftutj07Dmg4QXK8CzNYFWp728z3wsN4s3omW1qsed5n3eFuahgVDWZ3oy6l3n05wDnpe1zy2PYoB6hue6tijHvdJd7Ps877JWeJYzkvfKbyy71rm2pGX1GnQ9ZH8xULzoSiHXp/v/9aNbKccv1gapZ2PcvQbgbDttdOz61Py//uca6GMfO8Gn400L3POfv0aZpW11gW3pA5cZFpsG888/+Af/IP7W3/pb12/8DGci7XpUBaoCVYGqQFWgKlAVqApUBaoCVYGqQFXgz60CX/vqz8foxJb4t8/+01ghVFHAJvQwW+YatE4nIV/gBSK+zAsaMgRRxfKl3hMKldf8PLdOp2Q+yld/bibow0yCvyypd5S+Pu7ZpYWeGALMXPOaEkgAIyYmxmN8lGQLXA9C7ARDmU3V/mCPy7SWrCK7shpXZppx6ZJeXfa+wJIMl7Qk9wZI9nDTgQNx4PDh2LlrNwCKxA948l08cyyeefyH8ebRU2gheFmLf/Pb/yIefOBg/N3/5ksx3bMt25ZiChMFJb0ZXmhfvAY8AZb6oBxN0dTEFGHGegYCsMbHY5G90EzY0AAQin5wG7N39Kl4m/UJtrDRZYJdjdMbz/JqrYb0a60XjzWgqMkk8gmP+K8M2W8uxFdqmGGSPgdKsnkfYbjTBe4wz/qM5YEuCaDsgLf85ljVmwwbJlho413XKY0O9JIil2bZqw1wuozn43fwqPvLKw+j3XI8MngwlsjKqhbLwh36rCeYGYANzZwaH4xLM0uxiFeicHgEL8mxxiBJMgbi5IWZnFs1dr+40pUCuYrHpmtGoIxtvRqDDK/v8ayzdC/96B9EU9q044nRHIBALbPDAs9y7XWG2xmc0K2AXZOZlMQSCuo/k4SY5de93wRmedBB27OOIaKdm8pTPggruvZfwjWveOia1puwezjvjktquYzHpqcFqlLY+eGfh+34o8mrIk4OwPBkNfM3zE+royEVKOjadK3ppdgFYtYXkOrVmFBOkSzMl2vfeQeT5jPDZkuLnDhGPu4n+Ju/+X/dMFBH49f65nk9qgJVgapAVaAqUBWoClQFqgJVgapAVaAq8OdSgc9+8p546rd3xP/2W78f/9+3Hi4a8CKeYIEroY8v9QIVX9gNneyCmuJhVyBKlrIgdQ0XlA5kggnq+JovX/Blv8sWetkc3xA+QYGH+6tNjo/Ar/RmEnoUu62lRfaTW44FIIlwQEBTgB77sQGJcKBL6DcA7CGolr3gzsYPnz0fN920IyZHd8b8CnvMASgED0Kb7Tt2xIFDh2Pz9m2xceMm9rU7l5lj+/EuOrxnNPZu7YuZ5cl4+KFHyBR7Kj30vvH5jTE63BdzJDVIGAM4MYTTDf7ti6GCi2Rf1fvKdloAk2U8BhvANBqPNmBI2LIKDG0JmUhssUYobpsstOrsfxk2Sxyr2/MXry3QSoolBGI/PUNBsaGcCU8lOVTkNuNOE/zNZlCPa2ym9P7hkzDG+oS99m7YEm2yo+bkXssGi95U6qHvnZr5JZQqcJCwU5479445Qy2xK9QZBYjdftNmhxFPzm+O2zdvzHVyYGwwRoYJj+X5Y88fi7cvzsXn794LmGvE2MhQvPjWhbg0vZDZfG/ZU+oPkmjkDx5/MzPlsllfeiSqqXMowCojJemDWYO5n8MjnBhVeXb9cBSIjBffagw6R1z6yUOg1XROOjqpC+cJxlDTMeq5Z42c7848OM8ZbmphD+6XOuXS/eKyaD7Tnk3kDGfb9kkwbO1U2bUALbOO9yx/7Zwa7YRiPPTHkw9KAcfRy1rsBYK211hf2NQ7zr4Ji/vJDtuHXddUQlt/jvQ96/EbEdA5OsN4uZ2/q3f11IIc5TdYznMt0kHXoIb+6te/FP/z3/7HcejQoVLgBv3tgsQbZK6aqQpUBaoCVYGqQFWgKlAVqApUBaoCVYGqwEdTgYO7Nsc/+fv/dfwvf/MX4/e+83S8dORojLZe4w2ffcrW2A+uQxJ8wfeAffDCDsRJdsAf/jOhpZCpvOe34+zlJWDCcpydZoN+WINll5pkmB0CssGwxrevxuiuEj45MtDHvmYreNb1ZSIFgZ2gwBDVhYUlvOkEEAW4aMe909jwrYAQyq0C8wQpq5CJxZGPxf7bN8XAyGT0rU3Hpj330+5ynDj2FuG1o3Hs6NF4+8TxeOzRh2PDpk3x8fsfSPB06crl2LAZT7tbd8fGxotx4MCvxezSYBw/+nqs39EbI2vHYh2DnO+9h9BMYBsjNTySlhFjDS+31bh8+TIJL4ZjdGSYPe1aMQCsG0I8PRaFNIN49LnPXQIeIF5LGJMH39Ib7FzzpOoomYgFHU224RjTq0qtGbeeiL1NIRX1KJ//hIg80056M3Ke/nDoRuXoARz2XL4QvezT1zO1I6EPBTV4/aMlygt6tG6W3tW2uBZPK0hPP25bemgtM6Y5kkJ4b/PUCNvG9cXAlvE4d2ku7jm0A885EmDMNanfH3cd3B7nrhyN/TvXxwLecotLatImxLdkmF3CQ1Bw1It34QIQdtPkaCzPsw56h9N7Lj3pgLUmE0HQGAH25Z6DJuzI/Q/fCescLJKutKKJB6L9tve5kB0n66dvZSn2jlyJgwOXYmkFj00A1/hgK+aXR2KgZ0cC0WtQmjrCsKGhYRKP6IFa7Pu36ynqumwBlFf6nEjaUP/OrHCRZyBenvFxHihfQJ3AjLWEFtS6drjE1zohxP7gskX7zuE892JjICeJa4RzfTiHzs3wIC0tCRbzVvbF/ll7gFBvfRlzuWlVcNnxDrWXxX756xpr8L8BgtlN6ybi1n1b49Mfuzl++Yv3xYHdW7Psjf4DDLSr9agKVAWqAlWBqkBVoCpQFagKVAWqAlWBqkBVoCpQFagKVAX+rBUQZ9ajKlAVqApUBaoCVYGqQFWgKlAVqApUBaoCVYGqQFWgKlAV+BAoUGHdh2ASaheqAlWBqkBVoCpQFagKVAWqAlWBqkBVoCpQFagKVAWqAipQYV1dB1WBqkBVoCpQFagKVAWqAlWBqkBVoCpQFagKVAWqAlWBD4kCFdZ9SCaidqMqUBWoClQFqgJVgapAVaAqUBWoClQFqgJVgapAVaAq8P8DCsBeyX6w3HcAAAAASUVORK5CYII=)"
      ],
      "metadata": {
        "id": "YeXpb3HT-Ir0"
      }
    },
    {
      "cell_type": "code",
      "metadata": {
        "id": "8lkWeohye94_",
        "colab": {
          "base_uri": "https://localhost:8080/",
          "height": 73
        },
        "outputId": "716772af-51a7-4c8f-b653-1daf8fa11c39"
      },
      "source": [
        "#upload files to your colab environment\n",
        "from google.colab import files\n",
        "uploaded = files.upload()"
      ],
      "execution_count": null,
      "outputs": [
        {
          "output_type": "display_data",
          "data": {
            "text/plain": [
              "<IPython.core.display.HTML object>"
            ],
            "text/html": [
              "\n",
              "     <input type=\"file\" id=\"files-f462f12c-ad69-46ad-bc11-36cad4fc29fd\" name=\"files[]\" multiple disabled\n",
              "        style=\"border:none\" />\n",
              "     <output id=\"result-f462f12c-ad69-46ad-bc11-36cad4fc29fd\">\n",
              "      Upload widget is only available when the cell has been executed in the\n",
              "      current browser session. Please rerun this cell to enable.\n",
              "      </output>\n",
              "      <script>// Copyright 2017 Google LLC\n",
              "//\n",
              "// Licensed under the Apache License, Version 2.0 (the \"License\");\n",
              "// you may not use this file except in compliance with the License.\n",
              "// You may obtain a copy of the License at\n",
              "//\n",
              "//      http://www.apache.org/licenses/LICENSE-2.0\n",
              "//\n",
              "// Unless required by applicable law or agreed to in writing, software\n",
              "// distributed under the License is distributed on an \"AS IS\" BASIS,\n",
              "// WITHOUT WARRANTIES OR CONDITIONS OF ANY KIND, either express or implied.\n",
              "// See the License for the specific language governing permissions and\n",
              "// limitations under the License.\n",
              "\n",
              "/**\n",
              " * @fileoverview Helpers for google.colab Python module.\n",
              " */\n",
              "(function(scope) {\n",
              "function span(text, styleAttributes = {}) {\n",
              "  const element = document.createElement('span');\n",
              "  element.textContent = text;\n",
              "  for (const key of Object.keys(styleAttributes)) {\n",
              "    element.style[key] = styleAttributes[key];\n",
              "  }\n",
              "  return element;\n",
              "}\n",
              "\n",
              "// Max number of bytes which will be uploaded at a time.\n",
              "const MAX_PAYLOAD_SIZE = 100 * 1024;\n",
              "\n",
              "function _uploadFiles(inputId, outputId) {\n",
              "  const steps = uploadFilesStep(inputId, outputId);\n",
              "  const outputElement = document.getElementById(outputId);\n",
              "  // Cache steps on the outputElement to make it available for the next call\n",
              "  // to uploadFilesContinue from Python.\n",
              "  outputElement.steps = steps;\n",
              "\n",
              "  return _uploadFilesContinue(outputId);\n",
              "}\n",
              "\n",
              "// This is roughly an async generator (not supported in the browser yet),\n",
              "// where there are multiple asynchronous steps and the Python side is going\n",
              "// to poll for completion of each step.\n",
              "// This uses a Promise to block the python side on completion of each step,\n",
              "// then passes the result of the previous step as the input to the next step.\n",
              "function _uploadFilesContinue(outputId) {\n",
              "  const outputElement = document.getElementById(outputId);\n",
              "  const steps = outputElement.steps;\n",
              "\n",
              "  const next = steps.next(outputElement.lastPromiseValue);\n",
              "  return Promise.resolve(next.value.promise).then((value) => {\n",
              "    // Cache the last promise value to make it available to the next\n",
              "    // step of the generator.\n",
              "    outputElement.lastPromiseValue = value;\n",
              "    return next.value.response;\n",
              "  });\n",
              "}\n",
              "\n",
              "/**\n",
              " * Generator function which is called between each async step of the upload\n",
              " * process.\n",
              " * @param {string} inputId Element ID of the input file picker element.\n",
              " * @param {string} outputId Element ID of the output display.\n",
              " * @return {!Iterable<!Object>} Iterable of next steps.\n",
              " */\n",
              "function* uploadFilesStep(inputId, outputId) {\n",
              "  const inputElement = document.getElementById(inputId);\n",
              "  inputElement.disabled = false;\n",
              "\n",
              "  const outputElement = document.getElementById(outputId);\n",
              "  outputElement.innerHTML = '';\n",
              "\n",
              "  const pickedPromise = new Promise((resolve) => {\n",
              "    inputElement.addEventListener('change', (e) => {\n",
              "      resolve(e.target.files);\n",
              "    });\n",
              "  });\n",
              "\n",
              "  const cancel = document.createElement('button');\n",
              "  inputElement.parentElement.appendChild(cancel);\n",
              "  cancel.textContent = 'Cancel upload';\n",
              "  const cancelPromise = new Promise((resolve) => {\n",
              "    cancel.onclick = () => {\n",
              "      resolve(null);\n",
              "    };\n",
              "  });\n",
              "\n",
              "  // Wait for the user to pick the files.\n",
              "  const files = yield {\n",
              "    promise: Promise.race([pickedPromise, cancelPromise]),\n",
              "    response: {\n",
              "      action: 'starting',\n",
              "    }\n",
              "  };\n",
              "\n",
              "  cancel.remove();\n",
              "\n",
              "  // Disable the input element since further picks are not allowed.\n",
              "  inputElement.disabled = true;\n",
              "\n",
              "  if (!files) {\n",
              "    return {\n",
              "      response: {\n",
              "        action: 'complete',\n",
              "      }\n",
              "    };\n",
              "  }\n",
              "\n",
              "  for (const file of files) {\n",
              "    const li = document.createElement('li');\n",
              "    li.append(span(file.name, {fontWeight: 'bold'}));\n",
              "    li.append(span(\n",
              "        `(${file.type || 'n/a'}) - ${file.size} bytes, ` +\n",
              "        `last modified: ${\n",
              "            file.lastModifiedDate ? file.lastModifiedDate.toLocaleDateString() :\n",
              "                                    'n/a'} - `));\n",
              "    const percent = span('0% done');\n",
              "    li.appendChild(percent);\n",
              "\n",
              "    outputElement.appendChild(li);\n",
              "\n",
              "    const fileDataPromise = new Promise((resolve) => {\n",
              "      const reader = new FileReader();\n",
              "      reader.onload = (e) => {\n",
              "        resolve(e.target.result);\n",
              "      };\n",
              "      reader.readAsArrayBuffer(file);\n",
              "    });\n",
              "    // Wait for the data to be ready.\n",
              "    let fileData = yield {\n",
              "      promise: fileDataPromise,\n",
              "      response: {\n",
              "        action: 'continue',\n",
              "      }\n",
              "    };\n",
              "\n",
              "    // Use a chunked sending to avoid message size limits. See b/62115660.\n",
              "    let position = 0;\n",
              "    do {\n",
              "      const length = Math.min(fileData.byteLength - position, MAX_PAYLOAD_SIZE);\n",
              "      const chunk = new Uint8Array(fileData, position, length);\n",
              "      position += length;\n",
              "\n",
              "      const base64 = btoa(String.fromCharCode.apply(null, chunk));\n",
              "      yield {\n",
              "        response: {\n",
              "          action: 'append',\n",
              "          file: file.name,\n",
              "          data: base64,\n",
              "        },\n",
              "      };\n",
              "\n",
              "      let percentDone = fileData.byteLength === 0 ?\n",
              "          100 :\n",
              "          Math.round((position / fileData.byteLength) * 100);\n",
              "      percent.textContent = `${percentDone}% done`;\n",
              "\n",
              "    } while (position < fileData.byteLength);\n",
              "  }\n",
              "\n",
              "  // All done.\n",
              "  yield {\n",
              "    response: {\n",
              "      action: 'complete',\n",
              "    }\n",
              "  };\n",
              "}\n",
              "\n",
              "scope.google = scope.google || {};\n",
              "scope.google.colab = scope.google.colab || {};\n",
              "scope.google.colab._files = {\n",
              "  _uploadFiles,\n",
              "  _uploadFilesContinue,\n",
              "};\n",
              "})(self);\n",
              "</script> "
            ]
          },
          "metadata": {}
        },
        {
          "output_type": "stream",
          "name": "stdout",
          "text": [
            "Saving archive.zip to archive.zip\n"
          ]
        }
      ]
    },
    {
      "cell_type": "markdown",
      "metadata": {
        "id": "Rqr30ptZgDbX"
      },
      "source": [
        "After we uploaded the file with use `unzip` to extract the British sentences."
      ]
    },
    {
      "cell_type": "code",
      "metadata": {
        "id": "acdgnDUAgB1U",
        "colab": {
          "base_uri": "https://localhost:8080/"
        },
        "outputId": "44aae0b0-f0c0-4808-e825-3df697abba76"
      },
      "source": [
        "!unzip 'archive.zip'"
      ],
      "execution_count": null,
      "outputs": [
        {
          "output_type": "stream",
          "name": "stdout",
          "text": [
            "Archive:  archive.zip\n",
            "  inflating: British-literature.csv  \n"
          ]
        }
      ]
    },
    {
      "cell_type": "markdown",
      "metadata": {
        "id": "bH1W6YrdjNSp"
      },
      "source": [
        "# Prepare the dataset and build a ``TextDataset``\n",
        "\n",
        "The next step is to extract the instructions from all recipes and build a `TextDataset`. The `TextDataset` is a custom implementation of the [Pytroch `Dataset` class](https://pytorch.org/tutorials/beginner/data_loading_tutorial.html#dataset-class) implemented by the transformers library. If you want to know more about Dataset in Pytroch you can check out this [youtube video](https://www.youtube.com/watch?v=PXOzkkB5eH0&ab_channel=PythonEngineer).\n",
        "\n",
        "First, we are going to split the `recipes.json` into a `train` and `test` section and extract `Instructions` from the recipes and write them into a `train_dataset.txt` and `test_dataset.txt`"
      ]
    },
    {
      "cell_type": "code",
      "metadata": {
        "id": "V36gOIOfLHvB",
        "colab": {
          "base_uri": "https://localhost:8080/"
        },
        "outputId": "ddd08d38-5fce-4712-c9c6-4292fdd7ad9b"
      },
      "source": [
        "import re\n",
        "import json\n",
        "from sklearn.model_selection import train_test_split\n",
        "import pandas as pd\n",
        "\n",
        "max_sequence_length = 1024\n",
        "\n",
        "sentences = pd.read_csv(\"British-literature.csv\", header=None)\n",
        "\n",
        "def clean_sentence(sentence):\n",
        "  sentence = sentence.replace(\"]\", \"\").replace(\"[\", \"\")\n",
        "  sentence = sentence.replace(\"-8\", \"'\")\n",
        "  sentence = sentence.replace(\"-99\", \"'\")\n",
        "  sentence = sentence.replace(\"-9\", \"'\")\n",
        "  sentence = sentence.replace(\"-\\\\-o\", \"Do\")\n",
        "  sentence = sentence.replace(\"-\\\\-\", '\"')\n",
        "  sentence = sentence.replace(\"\\\\'\", \"'\")\n",
        "  sentence = sentence.replace(\"-'\", \"'\")\n",
        "  sentence = sentence.replace(\"'4\", \"-\")\n",
        "  sentence = sentence.replace(\"-'8\", '\"')\n",
        "  sentence = sentence.strip()\n",
        "  sentence = re.sub(r\"\\s\", \" \", sentence)\n",
        "  return sentence\n",
        "\n",
        "def get_sentence(row):\n",
        "  \"\"\"\n",
        "  Finds start and end of sentence and returns the sentence\n",
        "  Cleans sentence\n",
        "  \"\"\"\n",
        "  s = row.values[0]\n",
        "  tokens = s.split(\",\")\n",
        "  if len(tokens) > max_sequence_length:\n",
        "    tokens = tokens[:max_sequence_length]\n",
        "  start, end = 0, len(tokens) - 1\n",
        "  state = 0\n",
        "  for i, token in enumerate(tokens):\n",
        "    if state == 0 and \"[\" in token and \"]\" in token:\n",
        "      start = i \n",
        "      end = min(i + 1, len(tokens))\n",
        "    if state == 0 and \"[\" in token:\n",
        "      start = i\n",
        "      state = 1\n",
        "    elif state == 1 and \"]\" in token:\n",
        "      end = min(i + 1, len(tokens))\n",
        "      break \n",
        "\n",
        "  sentence = \",\".join(tokens[start:end])\n",
        "  sentence = clean_sentence(sentence)\n",
        "  return sentence\n",
        "\n",
        "def build_text_files(df, dest_path):\n",
        "    with open(dest_path, 'w') as f:\n",
        "      data = ''\n",
        "      for i, row in sentences.iterrows():\n",
        "        try:\n",
        "          sentence = get_sentence(row)\n",
        "        except:\n",
        "          continue\n",
        "        else:\n",
        "          if not sentence:\n",
        "            continue\n",
        "          data += sentence + \"\\n\"\n",
        "      # print(\"Data \", data)\n",
        "      f.write(data)\n",
        "\n",
        "train, test = train_test_split(sentences, test_size=0.15) \n",
        "\n",
        "build_text_files(train,'train_dataset.txt')\n",
        "build_text_files(test,'test_dataset.txt')\n",
        "\n",
        "print(\"Train dataset length: \"+str(len(train)))\n",
        "print(\"Test dataset length: \"+ str(len(test)))\n"
      ],
      "execution_count": null,
      "outputs": [
        {
          "output_type": "stream",
          "name": "stdout",
          "text": [
            "Train dataset length: 20820\n",
            "Test dataset length: 3675\n"
          ]
        }
      ]
    },
    {
      "cell_type": "code",
      "source": [
        "\"\"\"\n",
        "with open(\"train_dataset.txt\", \"r\") as f:\n",
        "  lines = f.readlines()\n",
        "  for line in lines:\n",
        "    print(line, end=\"\\n\")\n",
        "\"\"\""
      ],
      "metadata": {
        "colab": {
          "base_uri": "https://localhost:8080/",
          "height": 35
        },
        "id": "TRfz-374-n6K",
        "outputId": "f3158a04-db2d-4da1-99ba-872ffa48559e"
      },
      "execution_count": null,
      "outputs": [
        {
          "output_type": "execute_result",
          "data": {
            "text/plain": [
              "'\\nwith open(\"train_dataset.txt\", \"r\") as f:\\n  lines = f.readlines()\\n  for line in lines:\\n    print(line, end=\"\\n\")\\n'"
            ],
            "application/vnd.google.colaboratory.intrinsic+json": {
              "type": "string"
            }
          },
          "metadata": {},
          "execution_count": 26
        }
      ]
    },
    {
      "cell_type": "markdown",
      "metadata": {
        "id": "Jg78wNnTl305"
      },
      "source": [
        "the next step is to download the tokenizer, which we use. We use the tokenizer from the `gpt2` model on [huggingface](https://huggingface.co/anonymous-german-nlp/german-gpt2)."
      ]
    },
    {
      "cell_type": "code",
      "metadata": {
        "id": "VCaunLMtlPfw",
        "colab": {
          "base_uri": "https://localhost:8080/",
          "height": 145,
          "referenced_widgets": [
            "98a6ea393511401d92ff90f99b21f58a",
            "8c830e774cd84dd380fece29ea186ee2",
            "65a14559905747f69d80eeb6da11f1bf",
            "88d22b1462ef4401b93caaf42583ad11",
            "ece310bb35e14a12af86777aaab0414e",
            "33f1fcef84d54fa88a06d5afc838d449",
            "314673ad8edc4831acbd9e801275ea0b",
            "daaba27961fa4a95813bd5d773223c9e",
            "23dc7a27a19341a28bf2399c8f2458d5",
            "5f910315d7524654a00327ab7dc7f65f",
            "349d1c1b146d482c872eb33eb5565600",
            "9f329be186c0469fa423ceac3467e33a",
            "6eff01bb8bd440a9b90324799fdc5b6e",
            "546697b80185462898f37fe93695cc07",
            "9f2fd631a780427c945d72217b6a185a",
            "0d1ca4389d7b444ab128a9a165c82245",
            "d004c4bad9ea4926a4a19da28ce20fa1",
            "5695db58c223434f91bc251ab08f2940",
            "18d4f32746944ba8ae22d4611dcc8ba6",
            "9d3102978a88465cab9c330910de25b0",
            "436f140ec45c4a1a9a6e545eca6ef4c4",
            "45e1c1ddb8cd47ecae2ab75684d06c67",
            "9872bacb9ac944cb8cbe8a4b4e1d2ba7",
            "822f7d9003a64979bad221d680bf5deb",
            "b832f636b7934ce49d38bb6073495d98",
            "1ce3639a00c84619a20ea34ff2808d51",
            "a801f5aa250042ae99a53d5236ecfc11",
            "d271874db3b54fed8806573405fbf9f3",
            "6039a65b25a449368fd7f49726054d0f",
            "d7f1f82d546c43bc8be7f4921b5cf581",
            "0596b39826104ef7a4ab7e1f54760992",
            "4771d5d70ca94a8ea1d50e814c1d8c0c",
            "9f3c0b88f20c4208b9bafde1de903f30",
            "54bb329d3a2149f2838af98a1d708a31",
            "88c15c9aa449403a987b5251b5771be5",
            "b9af8a2cec8d47ff98989bf2b65143f7",
            "84a4a7ae4d754afc8230d8626fec289e",
            "991b6f47fc304f0390a03f72ca2e7592",
            "5542323d7ef04fd3aa6cf5cf4d18199d",
            "dea8e393977448ad962e3a9306f88f2b",
            "e6760d768ba441618729ade02d6f5bd2",
            "3df67b8b742b4824a6966f3cb4a04a83",
            "ed2f8e919fc143e58030c94747437baf",
            "f0104a5180304902b402ea3c92d1db34"
          ]
        },
        "outputId": "086893c6-e9c7-4e55-af38-4b1442901f7a"
      },
      "source": [
        "from transformers import AutoTokenizer\n",
        "\n",
        "tokenizer = AutoTokenizer.from_pretrained(\"gpt2\")\n",
        "\n",
        "train_path = 'train_dataset.txt'\n",
        "test_path = 'test_dataset.txt'"
      ],
      "execution_count": null,
      "outputs": [
        {
          "output_type": "display_data",
          "data": {
            "text/plain": [
              "Downloading:   0%|          | 0.00/665 [00:00<?, ?B/s]"
            ],
            "application/vnd.jupyter.widget-view+json": {
              "version_major": 2,
              "version_minor": 0,
              "model_id": "98a6ea393511401d92ff90f99b21f58a"
            }
          },
          "metadata": {}
        },
        {
          "output_type": "display_data",
          "data": {
            "text/plain": [
              "Downloading:   0%|          | 0.00/1.04M [00:00<?, ?B/s]"
            ],
            "application/vnd.jupyter.widget-view+json": {
              "version_major": 2,
              "version_minor": 0,
              "model_id": "9f329be186c0469fa423ceac3467e33a"
            }
          },
          "metadata": {}
        },
        {
          "output_type": "display_data",
          "data": {
            "text/plain": [
              "Downloading:   0%|          | 0.00/456k [00:00<?, ?B/s]"
            ],
            "application/vnd.jupyter.widget-view+json": {
              "version_major": 2,
              "version_minor": 0,
              "model_id": "9872bacb9ac944cb8cbe8a4b4e1d2ba7"
            }
          },
          "metadata": {}
        },
        {
          "output_type": "display_data",
          "data": {
            "text/plain": [
              "Downloading:   0%|          | 0.00/1.36M [00:00<?, ?B/s]"
            ],
            "application/vnd.jupyter.widget-view+json": {
              "version_major": 2,
              "version_minor": 0,
              "model_id": "54bb329d3a2149f2838af98a1d708a31"
            }
          },
          "metadata": {}
        }
      ]
    },
    {
      "cell_type": "code",
      "metadata": {
        "id": "m9lHS0mIMak4",
        "colab": {
          "base_uri": "https://localhost:8080/"
        },
        "outputId": "f699162e-37d8-4c45-f4d2-575df129e867"
      },
      "source": [
        "from transformers import TextDataset, DataCollatorForLanguageModeling\n",
        "\n",
        "def load_dataset(train_path,test_path,tokenizer):\n",
        "    train_dataset = TextDataset(\n",
        "          tokenizer=tokenizer,\n",
        "          file_path=train_path,\n",
        "          block_size=128)\n",
        "     \n",
        "    test_dataset = TextDataset(\n",
        "          tokenizer=tokenizer,\n",
        "          file_path=test_path,\n",
        "          block_size=128)   \n",
        "    \n",
        "    data_collator = DataCollatorForLanguageModeling(\n",
        "        tokenizer=tokenizer, mlm=False,\n",
        "    )\n",
        "    return train_dataset, test_dataset, data_collator\n",
        "\n",
        "train_dataset, test_dataset, data_collator = load_dataset(train_path, test_path, tokenizer)"
      ],
      "execution_count": null,
      "outputs": [
        {
          "output_type": "stream",
          "name": "stderr",
          "text": [
            "/usr/local/lib/python3.9/dist-packages/transformers/data/datasets/language_modeling.py:54: FutureWarning: This dataset will be removed from the library soon, preprocessing should be handled with the 🤗 Datasets library. You can have a look at this example script for pointers: https://github.com/huggingface/transformers/blob/master/examples/language-modeling/run_mlm.py\n",
            "  warnings.warn(\n"
          ]
        }
      ]
    },
    {
      "cell_type": "markdown",
      "metadata": {
        "id": "ThG6jwL7qET8"
      },
      "source": [
        "# Initialize `Trainer` with `TrainingArguments` and GPT-2 model\n",
        "\n",
        "The [Trainer](https://huggingface.co/transformers/main_classes/trainer.html#transformers.Trainer) class provides an API for feature-complete training. It is used in most of the [example scripts](https://huggingface.co/transformers/examples.html) from Huggingface. Before we can instantiate our `Trainer` we need to download our GPT-2 model and create a [TrainingArguments](https://huggingface.co/transformers/main_classes/trainer.html#transformers.TrainingArguments) to access all the points of customization during training. In the `TrainingArguments`, we can define the Hyperparameters we are going to use in the training process like our `learning_rate`, `num_train_epochs`, or  `per_device_train_batch_size`. A complete list can you find [here](https://huggingface.co/transformers/main_classes/trainer.html#trainingarguments)."
      ]
    },
    {
      "cell_type": "code",
      "metadata": {
        "id": "H7hhmbT2ModI",
        "colab": {
          "base_uri": "https://localhost:8080/"
        },
        "outputId": "6aa7c0b1-8d8f-43d4-b521-3809110ba21d"
      },
      "source": [
        "from transformers import Trainer, TrainingArguments,AutoModelWithLMHead\n",
        "\n",
        "model = AutoModelWithLMHead.from_pretrained(\"gpt2\")\n",
        "\n",
        "\n",
        "training_args = TrainingArguments(\n",
        "    output_dir=\"./gpt2-british\",\n",
        "    overwrite_output_dir=True,\n",
        "    num_train_epochs=3, \n",
        "    per_device_train_batch_size=32,\n",
        "    per_device_eval_batch_size=64,\n",
        "    eval_steps = 50, # Number of update steps between two evaluations.\n",
        "    save_steps=100, # after # steps model is saved \n",
        "    warmup_steps=100, # number of warmup steps for learning rate scheduler\n",
        "    prediction_loss_only=True,\n",
        "    )\n",
        "\n",
        "\n",
        "trainer = Trainer(\n",
        "    model=model,\n",
        "    args=training_args,\n",
        "    data_collator=data_collator,\n",
        "    train_dataset=train_dataset,\n",
        "    eval_dataset=test_dataset,\n",
        ")"
      ],
      "execution_count": null,
      "outputs": [
        {
          "output_type": "stream",
          "name": "stderr",
          "text": [
            "/usr/local/lib/python3.9/dist-packages/transformers/models/auto/modeling_auto.py:921: FutureWarning: The class `AutoModelWithLMHead` is deprecated and will be removed in a future version. Please use `AutoModelForCausalLM` for causal language models, `AutoModelForMaskedLM` for masked language models and `AutoModelForSeq2SeqLM` for encoder-decoder models.\n",
            "  warnings.warn(\n"
          ]
        }
      ]
    },
    {
      "cell_type": "markdown",
      "metadata": {
        "id": "ZyQh0jlTqR6-"
      },
      "source": [
        "# Train and save the model\n",
        "\n",
        "To train the model we can simply run `Trainer.train()`."
      ]
    },
    {
      "cell_type": "code",
      "metadata": {
        "id": "wjIzSWPTKzBf",
        "colab": {
          "base_uri": "https://localhost:8080/",
          "height": 93
        },
        "outputId": "3e28ab46-8326-4b27-fb81-0d279f9d6581"
      },
      "source": [
        "trainer.train()"
      ],
      "execution_count": null,
      "outputs": [
        {
          "output_type": "display_data",
          "data": {
            "text/plain": [
              "<IPython.core.display.HTML object>"
            ],
            "text/html": [
              "\n",
              "    <div>\n",
              "        <style>\n",
              "            /* Turns off some styling */\n",
              "            progress {\n",
              "                /* gets rid of default border in Firefox and Opera. */\n",
              "                border: none;\n",
              "                /* Needs to be in here for Safari polyfill so background images work as expected. */\n",
              "                background-size: auto;\n",
              "            }\n",
              "        </style>\n",
              "      \n",
              "      <progress value='435' max='435' style='width:300px; height:20px; vertical-align: middle;'></progress>\n",
              "      [435/435 08:09, Epoch 3/3]\n",
              "    </div>\n",
              "    <table border=\"1\" class=\"dataframe\">\n",
              "  <thead>\n",
              "    <tr style=\"text-align: left;\">\n",
              "      <th>Step</th>\n",
              "      <th>Training Loss</th>\n",
              "    </tr>\n",
              "  </thead>\n",
              "  <tbody>\n",
              "  </tbody>\n",
              "</table><p>"
            ]
          },
          "metadata": {}
        },
        {
          "output_type": "execute_result",
          "data": {
            "text/plain": [
              "TrainOutput(global_step=435, training_loss=3.46495431483477, metrics={'train_runtime': 493.1398, 'train_samples_per_second': 0.882, 'total_flos': 1327464140636160, 'epoch': 3.0})"
            ]
          },
          "metadata": {},
          "execution_count": 12
        }
      ]
    },
    {
      "cell_type": "markdown",
      "metadata": {
        "id": "lHXqTv8kqxpJ"
      },
      "source": [
        "After training is done you can save the model by calling `save_model()`. This will save the trained model to our `output_dir` from our `TrainingArguments`."
      ]
    },
    {
      "cell_type": "code",
      "metadata": {
        "id": "Q5quyGeMNdjE"
      },
      "source": [
        "trainer.save_model()"
      ],
      "execution_count": null,
      "outputs": []
    },
    {
      "cell_type": "markdown",
      "metadata": {
        "id": "PGEiQ1mhOyNv"
      },
      "source": [
        "# Test the model\n",
        "\n",
        "To test the model we are going to use another [highlight of the transformers library](https://huggingface.co/transformers/main_classes/pipelines.html?highlight=pipelines) called `pipeline`. [Pipelines](https://huggingface.co/transformers/main_classes/pipelines.html?highlight=pipelines) are objects that offer a simple API dedicated to several tasks, among others also `text-generation`"
      ]
    },
    {
      "cell_type": "code",
      "metadata": {
        "id": "Fh4Q1BR0OtDo",
        "colab": {
          "base_uri": "https://localhost:8080/"
        },
        "outputId": "f9141824-dc75-4f7e-c8a5-404743733bb3"
      },
      "source": [
        "from transformers import pipeline\n",
        "\n",
        "text_generator = pipeline('text-generation', model='./gpt2-british', tokenizer='gpt2', config={'max_length':max_sequence_length})\n",
        "\n",
        "print(text_generator('The cat')[0]['generated_text'])\n"
      ],
      "execution_count": null,
      "outputs": [
        {
          "output_type": "stream",
          "name": "stderr",
          "text": [
            "Setting `pad_token_id` to `eos_token_id`:50256 for open-end generation.\n"
          ]
        },
        {
          "output_type": "stream",
          "name": "stdout",
          "text": [
            "The cat in the corner shook, and he was about to call out.\"\"\"   \"' She sat down at the counter, and I laid my hand on her shoulder, and she kissed my cheek.'\"   ' No word.'   \"\"\"\n"
          ]
        }
      ]
    },
    {
      "cell_type": "code",
      "metadata": {
        "id": "laDp891gO25V",
        "colab": {
          "base_uri": "https://localhost:8080/"
        },
        "outputId": "1fa29ca6-ede0-4b56-f535-c7dac397cab3"
      },
      "source": [
        "print(text_generator(\"A tale\")[0][\"generated_text\"])"
      ],
      "execution_count": null,
      "outputs": [
        {
          "output_type": "stream",
          "name": "stderr",
          "text": [
            "Setting `pad_token_id` to `eos_token_id`:50256 for open-end generation.\n"
          ]
        },
        {
          "output_type": "stream",
          "name": "stdout",
          "text": [
            "A tale of intrigue\" I told, with the utmost pleasure.\"\"\"   \"\"\" For instance, a young gentleman had come up to us with some documents in Paris from a very early period.\"\"\"   \"\"\"ives-in-law, and\n"
          ]
        }
      ]
    },
    {
      "cell_type": "code",
      "metadata": {
        "id": "BKXhAiBuvga9",
        "colab": {
          "base_uri": "https://localhost:8080/"
        },
        "outputId": "68640ca1-52f9-4407-f597-a5542ca59ece"
      },
      "source": [
        "print(text_generator(\"Mr. George\")[0][\"generated_text\"])"
      ],
      "execution_count": null,
      "outputs": [
        {
          "output_type": "stream",
          "name": "stderr",
          "text": [
            "Setting `pad_token_id` to `eos_token_id`:50256 for open-end generation.\n"
          ]
        },
        {
          "output_type": "stream",
          "name": "stdout",
          "text": [
            "Mr. George.'\"   \"' \"\"I heard it, Miss Adams.'\"   \"'\"\" \"\"Yes, Mr.'\"   \"' Tulliver.\"\"\"   \"' \"\"And you have made it clear to me that your father and I have\n"
          ]
        }
      ]
    }
  ]
}